{
  "cells": [
    {
      "cell_type": "markdown",
      "id": "c9ebeb10",
      "metadata": {
        "id": "c9ebeb10"
      },
      "source": [
        "The following additional libraries are needed to run this\n",
        "notebook. Note that running on Colab is experimental, please report a Github\n",
        "issue if you have any problem."
      ]
    },
    {
      "cell_type": "code",
      "execution_count": 2,
      "id": "66ea6bf6",
      "metadata": {
        "id": "66ea6bf6",
        "outputId": "5a1d59e2-3e6d-41fc-d17b-e1c4d46c2748",
        "colab": {
          "base_uri": "https://localhost:8080/",
          "height": 1000
        }
      },
      "outputs": [
        {
          "output_type": "stream",
          "name": "stdout",
          "text": [
            "Collecting git+https://github.com/d2l-ai/d2l-zh@release\n",
            "  Cloning https://github.com/d2l-ai/d2l-zh (to revision release) to /tmp/pip-req-build-ciujm5aq\n",
            "  Running command git clone --filter=blob:none --quiet https://github.com/d2l-ai/d2l-zh /tmp/pip-req-build-ciujm5aq\n",
            "  Running command git checkout -b release --track origin/release\n",
            "  Switched to a new branch 'release'\n",
            "  Branch 'release' set up to track remote branch 'release' from 'origin'.\n",
            "  Resolved https://github.com/d2l-ai/d2l-zh to commit 843d3d41dca48d8df65f4b324dd171d8bfe9c067\n",
            "  Running command git submodule update --init --recursive -q\n",
            "  Preparing metadata (setup.py) ... \u001b[?25l\u001b[?25hdone\n",
            "Building wheels for collected packages: d2l\n",
            "  Building wheel for d2l (setup.py) ... \u001b[?25l\u001b[?25hdone\n",
            "  Created wheel for d2l: filename=d2l-2.0.0-py3-none-any.whl size=110800 sha256=81c469c4e0a6bb9bd7d9d97b355e798ed117598c6434d044ec827bcb8360d087\n",
            "  Stored in directory: /tmp/pip-ephem-wheel-cache-83nag68n/wheels/53/15/45/14b38ed62d9bc53ab3de439d4c2a79f70a00112eeeadcf6c34\n",
            "Successfully built d2l\n",
            "Installing collected packages: d2l\n",
            "Successfully installed d2l-2.0.0\n",
            "Requirement already satisfied: matplotlib in /usr/local/lib/python3.11/dist-packages (3.10.0)\n",
            "Collecting matplotlib\n",
            "  Downloading matplotlib-3.10.3-cp311-cp311-manylinux_2_17_x86_64.manylinux2014_x86_64.whl.metadata (11 kB)\n",
            "Requirement already satisfied: pandas in /usr/local/lib/python3.11/dist-packages (2.2.2)\n",
            "Collecting pandas\n",
            "  Downloading pandas-2.3.1-cp311-cp311-manylinux_2_17_x86_64.manylinux2014_x86_64.whl.metadata (91 kB)\n",
            "\u001b[2K     \u001b[90m━━━━━━━━━━━━━━━━━━━━━━━━━━━━━━━━━━━━━━━━\u001b[0m \u001b[32m91.2/91.2 kB\u001b[0m \u001b[31m2.7 MB/s\u001b[0m eta \u001b[36m0:00:00\u001b[0m\n",
            "\u001b[?25hRequirement already satisfied: numpy in /usr/local/lib/python3.11/dist-packages (2.0.2)\n",
            "Collecting numpy\n",
            "  Downloading numpy-2.3.1-cp311-cp311-manylinux_2_28_x86_64.whl.metadata (62 kB)\n",
            "\u001b[2K     \u001b[90m━━━━━━━━━━━━━━━━━━━━━━━━━━━━━━━━━━━━━━━━\u001b[0m \u001b[32m62.1/62.1 kB\u001b[0m \u001b[31m3.0 MB/s\u001b[0m eta \u001b[36m0:00:00\u001b[0m\n",
            "\u001b[?25hRequirement already satisfied: contourpy>=1.0.1 in /usr/local/lib/python3.11/dist-packages (from matplotlib) (1.3.2)\n",
            "Requirement already satisfied: cycler>=0.10 in /usr/local/lib/python3.11/dist-packages (from matplotlib) (0.12.1)\n",
            "Requirement already satisfied: fonttools>=4.22.0 in /usr/local/lib/python3.11/dist-packages (from matplotlib) (4.58.5)\n",
            "Requirement already satisfied: kiwisolver>=1.3.1 in /usr/local/lib/python3.11/dist-packages (from matplotlib) (1.4.8)\n",
            "Requirement already satisfied: packaging>=20.0 in /usr/local/lib/python3.11/dist-packages (from matplotlib) (25.0)\n",
            "Requirement already satisfied: pillow>=8 in /usr/local/lib/python3.11/dist-packages (from matplotlib) (11.2.1)\n",
            "Requirement already satisfied: pyparsing>=2.3.1 in /usr/local/lib/python3.11/dist-packages (from matplotlib) (3.2.3)\n",
            "Requirement already satisfied: python-dateutil>=2.7 in /usr/local/lib/python3.11/dist-packages (from matplotlib) (2.9.0.post0)\n",
            "Requirement already satisfied: pytz>=2020.1 in /usr/local/lib/python3.11/dist-packages (from pandas) (2025.2)\n",
            "Requirement already satisfied: tzdata>=2022.7 in /usr/local/lib/python3.11/dist-packages (from pandas) (2025.2)\n",
            "Requirement already satisfied: six>=1.5 in /usr/local/lib/python3.11/dist-packages (from python-dateutil>=2.7->matplotlib) (1.17.0)\n",
            "Downloading matplotlib-3.10.3-cp311-cp311-manylinux_2_17_x86_64.manylinux2014_x86_64.whl (8.6 MB)\n",
            "\u001b[2K   \u001b[90m━━━━━━━━━━━━━━━━━━━━━━━━━━━━━━━━━━━━━━━━\u001b[0m \u001b[32m8.6/8.6 MB\u001b[0m \u001b[31m41.9 MB/s\u001b[0m eta \u001b[36m0:00:00\u001b[0m\n",
            "\u001b[?25hDownloading pandas-2.3.1-cp311-cp311-manylinux_2_17_x86_64.manylinux2014_x86_64.whl (12.4 MB)\n",
            "\u001b[2K   \u001b[90m━━━━━━━━━━━━━━━━━━━━━━━━━━━━━━━━━━━━━━━━\u001b[0m \u001b[32m12.4/12.4 MB\u001b[0m \u001b[31m92.7 MB/s\u001b[0m eta \u001b[36m0:00:00\u001b[0m\n",
            "\u001b[?25hDownloading numpy-2.3.1-cp311-cp311-manylinux_2_28_x86_64.whl (16.9 MB)\n",
            "\u001b[2K   \u001b[90m━━━━━━━━━━━━━━━━━━━━━━━━━━━━━━━━━━━━━━━━\u001b[0m \u001b[32m16.9/16.9 MB\u001b[0m \u001b[31m88.4 MB/s\u001b[0m eta \u001b[36m0:00:00\u001b[0m\n",
            "\u001b[?25hInstalling collected packages: numpy, pandas, matplotlib\n",
            "  Attempting uninstall: numpy\n",
            "    Found existing installation: numpy 2.0.2\n",
            "    Uninstalling numpy-2.0.2:\n",
            "      Successfully uninstalled numpy-2.0.2\n",
            "  Attempting uninstall: pandas\n",
            "    Found existing installation: pandas 2.2.2\n",
            "    Uninstalling pandas-2.2.2:\n",
            "      Successfully uninstalled pandas-2.2.2\n",
            "  Attempting uninstall: matplotlib\n",
            "    Found existing installation: matplotlib 3.10.0\n",
            "    Uninstalling matplotlib-3.10.0:\n",
            "      Successfully uninstalled matplotlib-3.10.0\n",
            "\u001b[31mERROR: pip's dependency resolver does not currently take into account all the packages that are installed. This behaviour is the source of the following dependency conflicts.\n",
            "d2l 2.0.0 requires jupyter==1.0.0, which is not installed.\n",
            "d2l 2.0.0 requires matplotlib==3.5.1, but you have matplotlib 3.10.3 which is incompatible.\n",
            "d2l 2.0.0 requires numpy==1.21.5, but you have numpy 2.3.1 which is incompatible.\n",
            "d2l 2.0.0 requires pandas==1.2.4, but you have pandas 2.3.1 which is incompatible.\n",
            "d2l 2.0.0 requires requests==2.25.1, but you have requests 2.32.3 which is incompatible.\n",
            "google-colab 1.0.0 requires pandas==2.2.2, but you have pandas 2.3.1 which is incompatible.\n",
            "cudf-cu12 25.6.0 requires pandas<2.2.4dev0,>=2.0, but you have pandas 2.3.1 which is incompatible.\n",
            "opencv-python-headless 4.12.0.88 requires numpy<2.3.0,>=2; python_version >= \"3.9\", but you have numpy 2.3.1 which is incompatible.\n",
            "cupy-cuda12x 13.3.0 requires numpy<2.3,>=1.22, but you have numpy 2.3.1 which is incompatible.\n",
            "dask-cudf-cu12 25.6.0 requires pandas<2.2.4dev0,>=2.0, but you have pandas 2.3.1 which is incompatible.\n",
            "numba 0.60.0 requires numpy<2.1,>=1.22, but you have numpy 2.3.1 which is incompatible.\n",
            "tensorflow 2.18.0 requires numpy<2.1.0,>=1.26.0, but you have numpy 2.3.1 which is incompatible.\u001b[0m\u001b[31m\n",
            "\u001b[0mSuccessfully installed matplotlib-3.10.3 numpy-2.3.1 pandas-2.3.1\n"
          ]
        },
        {
          "output_type": "display_data",
          "data": {
            "application/vnd.colab-display-data+json": {
              "pip_warning": {
                "packages": [
                  "matplotlib",
                  "mpl_toolkits",
                  "numpy"
                ]
              },
              "id": "968aa00dcf7f474abc39162889053ffe"
            }
          },
          "metadata": {}
        }
      ],
      "source": [
        "!pip install --no-deps git+https://github.com/d2l-ai/d2l-zh@release  # installing d2l\n",
        "!pip install matplotlib pandas numpy --upgrade"
      ]
    },
    {
      "cell_type": "markdown",
      "id": "7d2e90ba",
      "metadata": {
        "origin_pos": 0,
        "id": "7d2e90ba"
      },
      "source": [
        "# 图像卷积\n",
        ":label:`sec_conv_layer`\n",
        "\n",
        "上节我们解析了卷积层的原理，现在我们看看它的实际应用。由于卷积神经网络的设计是用于探索图像数据，本节我们将以图像为例。\n",
        "\n",
        "## 互相关运算\n",
        "\n",
        "严格来说，卷积层是个错误的叫法，因为它所表达的运算其实是*互相关运算*（cross-correlation），而不是卷积运算。\n",
        "根据 :numref:`sec_why-conv`中的描述，在卷积层中，输入张量和核张量通过(**互相关运算**)产生输出张量。\n",
        "\n",
        "首先，我们暂时忽略通道（第三维）这一情况，看看如何处理二维图像数据和隐藏表示。在 :numref:`fig_correlation`中，输入是高度为$3$、宽度为$3$的二维张量（即形状为$3 \\times 3$）。卷积核的高度和宽度都是$2$，而卷积核窗口（或卷积窗口）的形状由内核的高度和宽度决定（即$2 \\times 2$）。\n",
        "\n",
        "![二维互相关运算。阴影部分是第一个输出元素，以及用于计算输出的输入张量元素和核张量元素：$0\\times0+1\\times1+3\\times2+4\\times3=19$.](http://d2l.ai/_images/correlation.svg)\n",
        ":label:`fig_correlation`\n",
        "\n",
        "在二维互相关运算中，卷积窗口从输入张量的左上角开始，从左到右、从上到下滑动。\n",
        "当卷积窗口滑动到新一个位置时，包含在该窗口中的部分张量与卷积核张量进行按元素相乘，得到的张量再求和得到一个单一的标量值，由此我们得出了这一位置的输出张量值。\n",
        "在如上例子中，输出张量的四个元素由二维互相关运算得到，这个输出高度为$2$、宽度为$2$，如下所示：\n",
        "\n",
        "$$\n",
        "0\\times0+1\\times1+3\\times2+4\\times3=19,\\\\\n",
        "1\\times0+2\\times1+4\\times2+5\\times3=25,\\\\\n",
        "3\\times0+4\\times1+6\\times2+7\\times3=37,\\\\\n",
        "4\\times0+5\\times1+7\\times2+8\\times3=43.\n",
        "$$\n",
        "\n",
        "注意，输出大小略小于输入大小。这是因为卷积核的宽度和高度大于1，\n",
        "而卷积核只与图像中每个大小完全适合的位置进行互相关运算。\n",
        "所以，输出大小等于输入大小$n_h \\times n_w$减去卷积核大小$k_h \\times k_w$，即：\n",
        "\n",
        "$$(n_h-k_h+1) \\times (n_w-k_w+1).$$\n",
        "\n",
        "这是因为我们需要足够的空间在图像上“移动”卷积核。稍后，我们将看到如何通过在图像边界周围填充零来保证有足够的空间移动卷积核，从而保持输出大小不变。\n",
        "接下来，我们在`corr2d`函数中实现如上过程，该函数接受输入张量`X`和卷积核张量`K`，并返回输出张量`Y`。\n"
      ]
    },
    {
      "cell_type": "code",
      "execution_count": 3,
      "id": "1bd2b0f5",
      "metadata": {
        "execution": {
          "iopub.execute_input": "2023-08-18T07:07:26.587988Z",
          "iopub.status.busy": "2023-08-18T07:07:26.587419Z",
          "iopub.status.idle": "2023-08-18T07:07:28.559553Z",
          "shell.execute_reply": "2023-08-18T07:07:28.558681Z"
        },
        "origin_pos": 2,
        "tab": [
          "pytorch"
        ],
        "id": "1bd2b0f5"
      },
      "outputs": [],
      "source": [
        "import torch\n",
        "from torch import nn\n",
        "from d2l import torch as d2l"
      ]
    },
    {
      "cell_type": "code",
      "execution_count": null,
      "id": "16abe7ca",
      "metadata": {
        "execution": {
          "iopub.execute_input": "2023-08-18T07:07:28.563668Z",
          "iopub.status.busy": "2023-08-18T07:07:28.562986Z",
          "iopub.status.idle": "2023-08-18T07:07:28.569424Z",
          "shell.execute_reply": "2023-08-18T07:07:28.568319Z"
        },
        "origin_pos": 4,
        "tab": [
          "pytorch"
        ],
        "id": "16abe7ca"
      },
      "outputs": [],
      "source": [
        "def corr2d(X, K):\n",
        "    \"\"\"计算二维互相关运算\"\"\"\n",
        "    h, w = K.shape\n",
        "    Y = torch.zeros((X.shape[0] - h + 1, X.shape[1] - w + 1))\n",
        "    for i in range(Y.shape[0]):  # y[i,j]是以(i,j)为左上角的h,w区域内的各元素乘积和\n",
        "        for j in range(Y.shape[1]):\n",
        "            Y[i, j] = (X[i:i + h, j:j + w] * K).sum()\n",
        "    return Y"
      ]
    },
    {
      "cell_type": "markdown",
      "id": "e2adaedd",
      "metadata": {
        "origin_pos": 6,
        "id": "e2adaedd"
      },
      "source": [
        "通过 :numref:`fig_correlation`的输入张量`X`和卷积核张量`K`，我们来[**验证上述二维互相关运算的输出**]。\n"
      ]
    },
    {
      "cell_type": "code",
      "execution_count": null,
      "id": "6f84e512",
      "metadata": {
        "execution": {
          "iopub.execute_input": "2023-08-18T07:07:28.572958Z",
          "iopub.status.busy": "2023-08-18T07:07:28.572449Z",
          "iopub.status.idle": "2023-08-18T07:07:28.604854Z",
          "shell.execute_reply": "2023-08-18T07:07:28.603813Z"
        },
        "origin_pos": 7,
        "tab": [
          "pytorch"
        ],
        "id": "6f84e512",
        "outputId": "85ecb400-745b-4215-d8d6-a233c87d2cd8"
      },
      "outputs": [
        {
          "data": {
            "text/plain": [
              "tensor([[19., 25.],\n",
              "        [37., 43.]])"
            ]
          },
          "execution_count": 3,
          "metadata": {},
          "output_type": "execute_result"
        }
      ],
      "source": [
        "X = torch.tensor([[0.0, 1.0, 2.0], [3.0, 4.0, 5.0], [6.0, 7.0, 8.0]])\n",
        "K = torch.tensor([[0.0, 1.0], [2.0, 3.0]])\n",
        "corr2d(X, K)"
      ]
    },
    {
      "cell_type": "markdown",
      "id": "e93ccf40",
      "metadata": {
        "origin_pos": 8,
        "id": "e93ccf40"
      },
      "source": [
        "## 卷积层\n",
        "\n",
        "卷积层对输入和卷积核权重进行互相关运算，并在添加标量偏置之后产生输出。\n",
        "所以，卷积层中的两个被训练的参数是卷积核权重和标量偏置。\n",
        "就像我们之前随机初始化全连接层一样，在训练基于卷积层的模型时，我们也随机初始化卷积核权重。\n",
        "\n",
        "基于上面定义的`corr2d`函数[**实现二维卷积层**]。在`__init__`构造函数中，将`weight`和`bias`声明为两个模型参数。前向传播函数调用`corr2d`函数并添加偏置。\n"
      ]
    },
    {
      "cell_type": "code",
      "execution_count": null,
      "id": "450def67",
      "metadata": {
        "execution": {
          "iopub.execute_input": "2023-08-18T07:07:28.610672Z",
          "iopub.status.busy": "2023-08-18T07:07:28.609819Z",
          "iopub.status.idle": "2023-08-18T07:07:28.615602Z",
          "shell.execute_reply": "2023-08-18T07:07:28.614632Z"
        },
        "origin_pos": 10,
        "tab": [
          "pytorch"
        ],
        "id": "450def67"
      },
      "outputs": [],
      "source": [
        "class Conv2D(nn.Module):\n",
        "    def __init__(self, kernel_size):\n",
        "        super().__init__()\n",
        "        self.weight = nn.Parameter(torch.rand(kernel_size))\n",
        "        self.bias = nn.Parameter(torch.zeros(1))\n",
        "\n",
        "    def forward(self, x):\n",
        "        return corr2d(x, self.weight) + self.bias"
      ]
    },
    {
      "cell_type": "markdown",
      "id": "d361e4c7",
      "metadata": {
        "origin_pos": 13,
        "id": "d361e4c7"
      },
      "source": [
        "高度和宽度分别为$h$和$w$的卷积核可以被称为$h \\times w$卷积或$h \\times w$卷积核。\n",
        "我们也将带有$h \\times w$卷积核的卷积层称为$h \\times w$卷积层。\n",
        "\n",
        "## 图像中目标的边缘检测\n",
        "\n",
        "如下是[**卷积层的一个简单应用：**]通过找到像素变化的位置，来(**检测图像中不同颜色的边缘**)。\n",
        "首先，我们构造一个$6\\times 8$像素的黑白图像。中间四列为黑色（$0$），其余像素为白色（$1$）。\n"
      ]
    },
    {
      "cell_type": "code",
      "execution_count": null,
      "id": "dee1bc79",
      "metadata": {
        "execution": {
          "iopub.execute_input": "2023-08-18T07:07:28.620077Z",
          "iopub.status.busy": "2023-08-18T07:07:28.619277Z",
          "iopub.status.idle": "2023-08-18T07:07:28.626719Z",
          "shell.execute_reply": "2023-08-18T07:07:28.625746Z"
        },
        "origin_pos": 14,
        "tab": [
          "pytorch"
        ],
        "id": "dee1bc79",
        "outputId": "9e892354-0e53-4bb8-93c3-897ad6867e06"
      },
      "outputs": [
        {
          "data": {
            "text/plain": [
              "tensor([[1., 1., 0., 0., 0., 0., 1., 1.],\n",
              "        [1., 1., 0., 0., 0., 0., 1., 1.],\n",
              "        [1., 1., 0., 0., 0., 0., 1., 1.],\n",
              "        [1., 1., 0., 0., 0., 0., 1., 1.],\n",
              "        [1., 1., 0., 0., 0., 0., 1., 1.],\n",
              "        [1., 1., 0., 0., 0., 0., 1., 1.]])"
            ]
          },
          "execution_count": 5,
          "metadata": {},
          "output_type": "execute_result"
        }
      ],
      "source": [
        "X = torch.ones((6, 8))\n",
        "X[:, 2:6] = 0\n",
        "X"
      ]
    },
    {
      "cell_type": "markdown",
      "id": "ea455932",
      "metadata": {
        "origin_pos": 16,
        "id": "ea455932"
      },
      "source": [
        "接下来，我们构造一个高度为$1$、宽度为$2$的卷积核`K`。当进行互相关运算时，如果水平相邻的两元素相同，则输出为零，否则输出为非零。\n"
      ]
    },
    {
      "cell_type": "code",
      "execution_count": null,
      "id": "d042bda0",
      "metadata": {
        "execution": {
          "iopub.execute_input": "2023-08-18T07:07:28.630101Z",
          "iopub.status.busy": "2023-08-18T07:07:28.629606Z",
          "iopub.status.idle": "2023-08-18T07:07:28.634133Z",
          "shell.execute_reply": "2023-08-18T07:07:28.633165Z"
        },
        "origin_pos": 17,
        "tab": [
          "pytorch"
        ],
        "id": "d042bda0"
      },
      "outputs": [],
      "source": [
        "K = torch.tensor([[1.0, -1.0]])"
      ]
    },
    {
      "cell_type": "markdown",
      "id": "19635ba4",
      "metadata": {
        "origin_pos": 18,
        "id": "19635ba4"
      },
      "source": [
        "现在，我们对参数`X`（输入）和`K`（卷积核）执行互相关运算。\n",
        "如下所示，[**输出`Y`中的1代表从白色到黑色的边缘，-1代表从黑色到白色的边缘**]，其他情况的输出为$0$。\n"
      ]
    },
    {
      "cell_type": "code",
      "execution_count": null,
      "id": "36de9e2a",
      "metadata": {
        "execution": {
          "iopub.execute_input": "2023-08-18T07:07:28.639056Z",
          "iopub.status.busy": "2023-08-18T07:07:28.638505Z",
          "iopub.status.idle": "2023-08-18T07:07:28.646532Z",
          "shell.execute_reply": "2023-08-18T07:07:28.645509Z"
        },
        "origin_pos": 19,
        "tab": [
          "pytorch"
        ],
        "id": "36de9e2a",
        "outputId": "0730c15f-9b07-4e2a-e46b-6d8a80aa3609"
      },
      "outputs": [
        {
          "data": {
            "text/plain": [
              "tensor([[ 0.,  1.,  0.,  0.,  0., -1.,  0.],\n",
              "        [ 0.,  1.,  0.,  0.,  0., -1.,  0.],\n",
              "        [ 0.,  1.,  0.,  0.,  0., -1.,  0.],\n",
              "        [ 0.,  1.,  0.,  0.,  0., -1.,  0.],\n",
              "        [ 0.,  1.,  0.,  0.,  0., -1.,  0.],\n",
              "        [ 0.,  1.,  0.,  0.,  0., -1.,  0.]])"
            ]
          },
          "execution_count": 7,
          "metadata": {},
          "output_type": "execute_result"
        }
      ],
      "source": [
        "Y = corr2d(X, K)\n",
        "Y"
      ]
    },
    {
      "cell_type": "markdown",
      "id": "9f3991ae",
      "metadata": {
        "origin_pos": 20,
        "id": "9f3991ae"
      },
      "source": [
        "现在我们将输入的二维图像转置，再进行如上的互相关运算。\n",
        "其输出如下，之前检测到的垂直边缘消失了。\n",
        "不出所料，这个[**卷积核`K`只可以检测垂直边缘**]，无法检测水平边缘。\n"
      ]
    },
    {
      "cell_type": "code",
      "execution_count": null,
      "id": "0a754b2d",
      "metadata": {
        "execution": {
          "iopub.execute_input": "2023-08-18T07:07:28.651371Z",
          "iopub.status.busy": "2023-08-18T07:07:28.650819Z",
          "iopub.status.idle": "2023-08-18T07:07:28.658419Z",
          "shell.execute_reply": "2023-08-18T07:07:28.657436Z"
        },
        "origin_pos": 21,
        "tab": [
          "pytorch"
        ],
        "id": "0a754b2d",
        "outputId": "2df9f352-99ab-41d2-db74-b986aadae971"
      },
      "outputs": [
        {
          "data": {
            "text/plain": [
              "tensor([[0., 0., 0., 0., 0.],\n",
              "        [0., 0., 0., 0., 0.],\n",
              "        [0., 0., 0., 0., 0.],\n",
              "        [0., 0., 0., 0., 0.],\n",
              "        [0., 0., 0., 0., 0.],\n",
              "        [0., 0., 0., 0., 0.],\n",
              "        [0., 0., 0., 0., 0.],\n",
              "        [0., 0., 0., 0., 0.]])"
            ]
          },
          "execution_count": 8,
          "metadata": {},
          "output_type": "execute_result"
        }
      ],
      "source": [
        "corr2d(X.t(), K)"
      ]
    },
    {
      "cell_type": "markdown",
      "id": "18ceafe9",
      "metadata": {
        "origin_pos": 22,
        "id": "18ceafe9"
      },
      "source": [
        "## 学习卷积核\n",
        "\n",
        "如果我们只需寻找黑白边缘，那么以上`[1, -1]`的边缘检测器足以。然而，当有了更复杂数值的卷积核，或者连续的卷积层时，我们不可能手动设计滤波器。那么我们是否可以[**学习由`X`生成`Y`的卷积核**]呢？\n",
        "\n",
        "现在让我们看看是否可以通过仅查看“输入-输出”对来学习由`X`生成`Y`的卷积核。\n",
        "我们先构造一个卷积层，并将其卷积核初始化为随机张量。接下来，在每次迭代中，我们比较`Y`与卷积层输出的平方误差，然后计算梯度来更新卷积核。为了简单起见，我们在此使用内置的二维卷积层，并忽略偏置。\n"
      ]
    },
    {
      "cell_type": "code",
      "execution_count": null,
      "id": "2b423578",
      "metadata": {
        "execution": {
          "iopub.execute_input": "2023-08-18T07:07:28.662260Z",
          "iopub.status.busy": "2023-08-18T07:07:28.661527Z",
          "iopub.status.idle": "2023-08-18T07:07:28.681412Z",
          "shell.execute_reply": "2023-08-18T07:07:28.680192Z"
        },
        "origin_pos": 24,
        "tab": [
          "pytorch"
        ],
        "id": "2b423578",
        "outputId": "5e37cccb-2e8d-4f3b-f8af-bfb18cd9ea53"
      },
      "outputs": [
        {
          "name": "stdout",
          "output_type": "stream",
          "text": [
            "epoch 2, loss 6.422\n",
            "epoch 4, loss 1.225\n",
            "epoch 6, loss 0.266\n",
            "epoch 8, loss 0.070\n",
            "epoch 10, loss 0.022\n"
          ]
        }
      ],
      "source": [
        "# 构造一个二维卷积层，它具有1个输出通道和形状为（1，2）的卷积核\n",
        "conv2d = nn.Conv2d(1,1, kernel_size=(1, 2), bias=False) #参数1:输入通道,参数2：输出通道\n",
        "\n",
        "# 这个二维卷积层使用四维输入和输出格式（批量大小、通道、高度、宽度），\n",
        "# 其中批量大小和通道数都为1\n",
        "X = X.reshape((1, 1, 6, 8))\n",
        "Y = Y.reshape((1, 1, 6, 7))\n",
        "lr = 3e-2  # 学习率\n",
        "\n",
        "for i in range(10):\n",
        "    Y_hat = conv2d(X)\n",
        "    l = (Y_hat - Y) ** 2\n",
        "    conv2d.zero_grad()\n",
        "    l.sum().backward()\n",
        "    # 迭代卷积核\n",
        "    conv2d.weight.data[:] -= lr * conv2d.weight.grad\n",
        "    if (i + 1) % 2 == 0:\n",
        "        print(f'epoch {i+1}, loss {l.sum():.3f}')"
      ]
    },
    {
      "cell_type": "markdown",
      "id": "37744bcf",
      "metadata": {
        "origin_pos": 27,
        "id": "37744bcf"
      },
      "source": [
        "在$10$次迭代之后，误差已经降到足够低。现在我们来看看我们[**所学的卷积核的权重张量**]。\n"
      ]
    },
    {
      "cell_type": "code",
      "execution_count": null,
      "id": "b40515e8",
      "metadata": {
        "execution": {
          "iopub.execute_input": "2023-08-18T07:07:28.684721Z",
          "iopub.status.busy": "2023-08-18T07:07:28.684428Z",
          "iopub.status.idle": "2023-08-18T07:07:28.691507Z",
          "shell.execute_reply": "2023-08-18T07:07:28.690512Z"
        },
        "origin_pos": 29,
        "tab": [
          "pytorch"
        ],
        "id": "b40515e8",
        "outputId": "c9aaea85-56ba-40be-cf09-62651ccf6f6e"
      },
      "outputs": [
        {
          "data": {
            "text/plain": [
              "tensor([[ 1.0010, -0.9739]])"
            ]
          },
          "execution_count": 10,
          "metadata": {},
          "output_type": "execute_result"
        }
      ],
      "source": [
        "conv2d.weight.data.reshape((1, 2))"
      ]
    },
    {
      "cell_type": "markdown",
      "id": "366d2c4f",
      "metadata": {
        "origin_pos": 32,
        "id": "366d2c4f"
      },
      "source": [
        "细心的读者一定会发现，我们学习到的卷积核权重非常接近我们之前定义的卷积核`K`。\n",
        "\n",
        "## 互相关和卷积\n",
        "\n",
        "回想一下我们在 :numref:`sec_why-conv`中观察到的互相关和卷积运算之间的对应关系。\n",
        "为了得到正式的*卷积*运算输出，我们需要执行 :eqref:`eq_2d-conv-discrete`中定义的严格卷积运算，而不是互相关运算。\n",
        "幸运的是，它们差别不大，我们只需水平和垂直翻转二维卷积核张量，然后对输入张量执行*互相关*运算。\n",
        "\n",
        "值得注意的是，由于卷积核是从数据中学习到的，因此无论这些层执行严格的卷积运算还是互相关运算，卷积层的输出都不会受到影响。\n",
        "为了说明这一点，假设卷积层执行*互相关*运算并学习 :numref:`fig_correlation`中的卷积核，该卷积核在这里由矩阵$\\mathbf{K}$表示。\n",
        "假设其他条件不变，当这个层执行严格的*卷积*时，学习的卷积核$\\mathbf{K}'$在水平和垂直翻转之后将与$\\mathbf{K}$相同。\n",
        "也就是说，当卷积层对 :numref:`fig_correlation`中的输入和$\\mathbf{K}'$执行严格*卷积*运算时，将得到与互相关运算 :numref:`fig_correlation`中相同的输出。\n",
        "\n",
        "为了与深度学习文献中的标准术语保持一致，我们将继续把“互相关运算”称为卷积运算，尽管严格地说，它们略有不同。\n",
        "此外，对于卷积核张量上的权重，我们称其为*元素*。\n",
        "\n",
        "## 特征映射和感受野\n",
        "\n",
        "如在 :numref:`subsec_why-conv-channels`中所述， :numref:`fig_correlation`中输出的卷积层有时被称为*特征映射*（feature map），因为它可以被视为一个输入映射到下一层的空间维度的转换器。\n",
        "在卷积神经网络中，对于某一层的任意元素$x$，其*感受野*（receptive field）是指在前向传播期间可能影响$x$计算的所有元素（来自所有先前层）。\n",
        "\n",
        "请注意，感受野可能大于输入的实际大小。让我们用 :numref:`fig_correlation`为例来解释感受野：\n",
        "给定$2 \\times 2$卷积核，阴影输出元素值$19$的感受野是输入阴影部分的四个元素。\n",
        "假设之前输出为$\\mathbf{Y}$，其大小为$2 \\times 2$，现在我们在其后附加一个卷积层，该卷积层以$\\mathbf{Y}$为输入，输出单个元素$z$。\n",
        "在这种情况下，$\\mathbf{Y}$上的$z$的感受野包括$\\mathbf{Y}$的所有四个元素，而输入的感受野包括最初所有九个输入元素。\n",
        "因此，当一个特征图中的任意元素需要检测更广区域的输入特征时，我们可以构建一个更深的网络。\n",
        "\n",
        "## 小结\n",
        "\n",
        "* 二维卷积层的核心计算是二维互相关运算。最简单的形式是，对二维输入数据和卷积核执行互相关操作，然后添加一个偏置。\n",
        "* 我们可以设计一个卷积核来检测图像的边缘。\n",
        "* 我们可以从数据中学习卷积核的参数。\n",
        "* 学习卷积核时，无论用严格卷积运算或互相关运算，卷积层的输出不会受太大影响。\n",
        "* 当需要检测输入特征中更广区域时，我们可以构建一个更深的卷积网络。\n",
        "\n",
        "## 练习\n",
        "\n",
        "1. 构建一个具有对角线边缘的图像`X`。\n",
        "    1. 如果将本节中举例的卷积核`K`应用于`X`，会发生什么情况？\n",
        "    1. 如果转置`X`会发生什么？\n",
        "    1. 如果转置`K`会发生什么？\n",
        "1. 在我们创建的`Conv2D`自动求导时，有什么错误消息？\n",
        "1. 如何通过改变输入张量和卷积核张量，将互相关运算表示为矩阵乘法？\n",
        "1. 手工设计一些卷积核。\n",
        "    1. 二阶导数的核的形式是什么？\n",
        "    1. 积分的核的形式是什么？\n",
        "    1. 得到$d$次导数的最小核的大小是多少？\n"
      ]
    },
    {
      "cell_type": "code",
      "source": [
        "import torch\n",
        "from torch import nn\n",
        "from d2l import torch as d2l\n",
        "\n",
        "def corr2d(X,kernel):\n",
        "  h,w=kernel.shape\n",
        "  Y=torch.zeros((X.shape[0]-h+1,X.shape[1]-w+1))  #stride=1的时候\n",
        "\n",
        "  for i in range(Y.shape[0]):\n",
        "    for j in range(Y.shape[1]):\n",
        "      Y[i,j]=(X[i:i+h,j:j+w]*kernel).sum()\n",
        "\n",
        "  return Y\n",
        "\n",
        "X=torch.eye(8)   # 8*8的单位矩阵\n",
        "Kernel=torch.tensor([[1.0,-1.0]])  # 1*2\n",
        "Y=corr2d(X,Kernel)\n",
        "Y"
      ],
      "metadata": {
        "id": "fomBUgAKAOEh",
        "outputId": "7356730e-0f4f-408b-dfdf-27e5d3b6602e",
        "colab": {
          "base_uri": "https://localhost:8080/"
        }
      },
      "id": "fomBUgAKAOEh",
      "execution_count": 50,
      "outputs": [
        {
          "output_type": "execute_result",
          "data": {
            "text/plain": [
              "tensor([[ 1.,  0.,  0.,  0.,  0.,  0.,  0.],\n",
              "        [-1.,  1.,  0.,  0.,  0.,  0.,  0.],\n",
              "        [ 0., -1.,  1.,  0.,  0.,  0.,  0.],\n",
              "        [ 0.,  0., -1.,  1.,  0.,  0.,  0.],\n",
              "        [ 0.,  0.,  0., -1.,  1.,  0.,  0.],\n",
              "        [ 0.,  0.,  0.,  0., -1.,  1.,  0.],\n",
              "        [ 0.,  0.,  0.,  0.,  0., -1.,  1.],\n",
              "        [ 0.,  0.,  0.,  0.,  0.,  0., -1.]])"
            ]
          },
          "metadata": {},
          "execution_count": 50
        }
      ]
    },
    {
      "cell_type": "code",
      "source": [
        "Y=corr2d(X.t(),Kernel)\n",
        "Y"
      ],
      "metadata": {
        "id": "pDtpHrlZBXKz",
        "outputId": "5d57f2bb-800e-4964-b7aa-ed153c6c9a38",
        "colab": {
          "base_uri": "https://localhost:8080/"
        }
      },
      "id": "pDtpHrlZBXKz",
      "execution_count": 51,
      "outputs": [
        {
          "output_type": "execute_result",
          "data": {
            "text/plain": [
              "tensor([[ 1.,  0.,  0.,  0.,  0.,  0.,  0.],\n",
              "        [-1.,  1.,  0.,  0.,  0.,  0.,  0.],\n",
              "        [ 0., -1.,  1.,  0.,  0.,  0.,  0.],\n",
              "        [ 0.,  0., -1.,  1.,  0.,  0.,  0.],\n",
              "        [ 0.,  0.,  0., -1.,  1.,  0.,  0.],\n",
              "        [ 0.,  0.,  0.,  0., -1.,  1.,  0.],\n",
              "        [ 0.,  0.,  0.,  0.,  0., -1.,  1.],\n",
              "        [ 0.,  0.,  0.,  0.,  0.,  0., -1.]])"
            ]
          },
          "metadata": {},
          "execution_count": 51
        }
      ]
    },
    {
      "cell_type": "code",
      "source": [
        "Kernel.t(),X"
      ],
      "metadata": {
        "id": "aWNsaFtCD4Qy",
        "outputId": "f85f0ad7-7428-4b21-cfcd-d4c01efb0810",
        "colab": {
          "base_uri": "https://localhost:8080/"
        }
      },
      "id": "aWNsaFtCD4Qy",
      "execution_count": 52,
      "outputs": [
        {
          "output_type": "execute_result",
          "data": {
            "text/plain": [
              "(tensor([[ 1.],\n",
              "         [-1.]]),\n",
              " tensor([[1., 0., 0., 0., 0., 0., 0., 0.],\n",
              "         [0., 1., 0., 0., 0., 0., 0., 0.],\n",
              "         [0., 0., 1., 0., 0., 0., 0., 0.],\n",
              "         [0., 0., 0., 1., 0., 0., 0., 0.],\n",
              "         [0., 0., 0., 0., 1., 0., 0., 0.],\n",
              "         [0., 0., 0., 0., 0., 1., 0., 0.],\n",
              "         [0., 0., 0., 0., 0., 0., 1., 0.],\n",
              "         [0., 0., 0., 0., 0., 0., 0., 1.]]))"
            ]
          },
          "metadata": {},
          "execution_count": 52
        }
      ]
    },
    {
      "cell_type": "code",
      "source": [
        "Y=corr2d(X,Kernel.t())\n",
        "Y"
      ],
      "metadata": {
        "id": "W2II58EJDyqc",
        "outputId": "12b59693-497d-4cdb-93dd-f81f7f1712aa",
        "colab": {
          "base_uri": "https://localhost:8080/"
        }
      },
      "id": "W2II58EJDyqc",
      "execution_count": 53,
      "outputs": [
        {
          "output_type": "execute_result",
          "data": {
            "text/plain": [
              "tensor([[ 1., -1.,  0.,  0.,  0.,  0.,  0.,  0.],\n",
              "        [ 0.,  1., -1.,  0.,  0.,  0.,  0.,  0.],\n",
              "        [ 0.,  0.,  1., -1.,  0.,  0.,  0.,  0.],\n",
              "        [ 0.,  0.,  0.,  1., -1.,  0.,  0.,  0.],\n",
              "        [ 0.,  0.,  0.,  0.,  1., -1.,  0.,  0.],\n",
              "        [ 0.,  0.,  0.,  0.,  0.,  1., -1.,  0.],\n",
              "        [ 0.,  0.,  0.,  0.,  0.,  0.,  1., -1.]])"
            ]
          },
          "metadata": {},
          "execution_count": 53
        }
      ]
    },
    {
      "cell_type": "code",
      "source": [
        "class Conv2D_test(nn.Module):\n",
        "  def __init__(self,kernel_size):\n",
        "    super().__init__()\n",
        "    self.weight=nn.Parameter(torch.rand(kernel_size))  #权重也就是意味着kernelsize\n",
        "    self.bais=nn.Parameter(torch.zeros(1))\n",
        "\n",
        "  def forward(self,X):  #输入是一个二维表示的图像X\n",
        "    return corr2d(X,self.weight)+self.bais"
      ],
      "metadata": {
        "id": "Gt-jSymvEWHr"
      },
      "id": "Gt-jSymvEWHr",
      "execution_count": 54,
      "outputs": []
    },
    {
      "cell_type": "code",
      "source": [
        "X=torch.ones((6,8))\n",
        "print(X)\n",
        "X[:,2:6]=0\n",
        "print(X)"
      ],
      "metadata": {
        "id": "xW52zjbHI5AU",
        "outputId": "acc86ef1-de6f-4fbd-e551-581734a1fbdf",
        "colab": {
          "base_uri": "https://localhost:8080/"
        }
      },
      "id": "xW52zjbHI5AU",
      "execution_count": 55,
      "outputs": [
        {
          "output_type": "stream",
          "name": "stdout",
          "text": [
            "tensor([[1., 1., 1., 1., 1., 1., 1., 1.],\n",
            "        [1., 1., 1., 1., 1., 1., 1., 1.],\n",
            "        [1., 1., 1., 1., 1., 1., 1., 1.],\n",
            "        [1., 1., 1., 1., 1., 1., 1., 1.],\n",
            "        [1., 1., 1., 1., 1., 1., 1., 1.],\n",
            "        [1., 1., 1., 1., 1., 1., 1., 1.]])\n",
            "tensor([[1., 1., 0., 0., 0., 0., 1., 1.],\n",
            "        [1., 1., 0., 0., 0., 0., 1., 1.],\n",
            "        [1., 1., 0., 0., 0., 0., 1., 1.],\n",
            "        [1., 1., 0., 0., 0., 0., 1., 1.],\n",
            "        [1., 1., 0., 0., 0., 0., 1., 1.],\n",
            "        [1., 1., 0., 0., 0., 0., 1., 1.]])\n"
          ]
        }
      ]
    },
    {
      "cell_type": "code",
      "source": [
        "K=torch.tensor([[1.0,-1.0]])  # 1*2的kernel_size\n",
        "Y=corr2d(X,K)\n",
        "Y"
      ],
      "metadata": {
        "id": "nJXJeBP_JD2B",
        "outputId": "5ec38556-1399-4a18-9294-7bc8a57f81bb",
        "colab": {
          "base_uri": "https://localhost:8080/"
        }
      },
      "id": "nJXJeBP_JD2B",
      "execution_count": 56,
      "outputs": [
        {
          "output_type": "execute_result",
          "data": {
            "text/plain": [
              "tensor([[ 0.,  1.,  0.,  0.,  0., -1.,  0.],\n",
              "        [ 0.,  1.,  0.,  0.,  0., -1.,  0.],\n",
              "        [ 0.,  1.,  0.,  0.,  0., -1.,  0.],\n",
              "        [ 0.,  1.,  0.,  0.,  0., -1.,  0.],\n",
              "        [ 0.,  1.,  0.,  0.,  0., -1.,  0.],\n",
              "        [ 0.,  1.,  0.,  0.,  0., -1.,  0.]])"
            ]
          },
          "metadata": {},
          "execution_count": 56
        }
      ]
    },
    {
      "cell_type": "code",
      "source": [
        "conv2d=nn.Conv2d(1,1,kernel_size=(1,2),bias=False)  #二维卷积层使用四维输入和输出格式\n",
        "X=X.reshape(1,1,6,8)\n",
        "Y=Y.reshape(1,1,6,7)\n",
        "\n",
        "lr=3e-2  #学习率大小\n",
        "\n",
        "for i in range(10):  #epochs=10\n",
        "  Y_hat=conv2d(X)\n",
        "  l=(Y_hat-Y)**2\n",
        "  conv2d.zero_grad()  #梯度清零\n",
        "  l.sum().backward()  #自动计算梯度\n",
        "  conv2d.weight.data[:]-=lr*conv2d.weight.grad\n",
        "  if (i+1)%2==0:\n",
        "    print(f'epoch {i+1},loss {l.sum():.3f}')"
      ],
      "metadata": {
        "id": "qK2IPnVrJQXm",
        "outputId": "3bf8f4b7-9734-407b-ce37-d5364eeb2e2f",
        "colab": {
          "base_uri": "https://localhost:8080/"
        }
      },
      "id": "qK2IPnVrJQXm",
      "execution_count": 57,
      "outputs": [
        {
          "output_type": "stream",
          "name": "stdout",
          "text": [
            "epoch 2,loss 6.886\n",
            "epoch 4,loss 2.097\n",
            "epoch 6,loss 0.738\n",
            "epoch 8,loss 0.282\n",
            "epoch 10,loss 0.112\n"
          ]
        }
      ]
    },
    {
      "cell_type": "code",
      "source": [
        "conv2d=Conv2D_test(kernel_size=(1,2))"
      ],
      "metadata": {
        "id": "puTQXRqRKT8a"
      },
      "id": "puTQXRqRKT8a",
      "execution_count": 58,
      "outputs": []
    },
    {
      "cell_type": "code",
      "source": [
        "X=X.reshape((6,8))\n",
        "Y=Y.reshape((6,7))"
      ],
      "metadata": {
        "id": "CZl5kq4bNpPR"
      },
      "id": "CZl5kq4bNpPR",
      "execution_count": 59,
      "outputs": []
    },
    {
      "cell_type": "code",
      "source": [
        "for i in range(10):\n",
        "    Y_hat = conv2d(X)  #自己定义的Conv2d函数只能处理二维的张量，而不能处理包含通道信息以及批量大小的数据\n",
        "    l = (Y_hat - Y) ** 2\n",
        "    conv2d.zero_grad()\n",
        "    l.sum().backward()\n",
        "    # 迭代卷积核\n",
        "    conv2d.weight.data[:] -= lr * conv2d.weight.grad\n",
        "    if (i + 1) % 2 == 0:\n",
        "        print(f'epoch {i+1}, loss {l.sum():.3f}')"
      ],
      "metadata": {
        "id": "RuxDNTcONn0r",
        "outputId": "46e49854-26a6-48f1-b7a7-22018ecbe39a",
        "colab": {
          "base_uri": "https://localhost:8080/"
        }
      },
      "id": "RuxDNTcONn0r",
      "execution_count": 60,
      "outputs": [
        {
          "output_type": "stream",
          "name": "stdout",
          "text": [
            "epoch 2, loss 15.299\n",
            "epoch 4, loss 5.681\n",
            "epoch 6, loss 2.228\n",
            "epoch 8, loss 0.896\n",
            "epoch 10, loss 0.364\n"
          ]
        }
      ]
    },
    {
      "cell_type": "code",
      "source": [
        "import torch\n",
        "from torch import nn\n",
        "from d2l import torch as d2l\n",
        "\n",
        "def conv2d_by_mul(X,K):\n",
        "  #获得卷积核大小\n",
        "  h,w=K.shape\n",
        "  #计算图像大小,stride=1\n",
        "  outh=X.shape[0]-h+1\n",
        "  outw=X.shape[1]-w+1\n",
        "  #调整卷积核形状\n",
        "  K=K.reshape(-1,1)\n",
        "  Y=[]\n",
        "  for i in range(outh):\n",
        "    for j in range(outw):\n",
        "      Y.append((X[i:i+h,j:j+w]).reshape(-1))\n",
        "  Y=torch.stack(Y,0)\n",
        "  #用矩阵乘法表示互相关运算\n",
        "  res=(torch.matmul(Y,K)).reshape(outh,outw)\n",
        "  return res"
      ],
      "metadata": {
        "id": "togQBThePQug"
      },
      "id": "togQBThePQug",
      "execution_count": 61,
      "outputs": []
    },
    {
      "cell_type": "code",
      "source": [
        "X=torch.ones((6,8))\n",
        "X[:,2:6]=0\n",
        "K=torch.tensor([[-1.0,1.0]])\n",
        "conv2d_by_mul(X,K)"
      ],
      "metadata": {
        "id": "tcznGofGgruE",
        "outputId": "7215486a-cc19-4b5c-e6e9-fc6c177d9424",
        "colab": {
          "base_uri": "https://localhost:8080/"
        }
      },
      "id": "tcznGofGgruE",
      "execution_count": 62,
      "outputs": [
        {
          "output_type": "execute_result",
          "data": {
            "text/plain": [
              "tensor([[ 0., -1.,  0.,  0.,  0.,  1.,  0.],\n",
              "        [ 0., -1.,  0.,  0.,  0.,  1.,  0.],\n",
              "        [ 0., -1.,  0.,  0.,  0.,  1.,  0.],\n",
              "        [ 0., -1.,  0.,  0.,  0.,  1.,  0.],\n",
              "        [ 0., -1.,  0.,  0.,  0.,  1.,  0.],\n",
              "        [ 0., -1.,  0.,  0.,  0.,  1.,  0.]])"
            ]
          },
          "metadata": {},
          "execution_count": 62
        }
      ]
    },
    {
      "cell_type": "code",
      "source": [
        "a = torch.tensor([1, 2, 3])\n",
        "b = torch.tensor([4, 5, 6])\n",
        "a,b"
      ],
      "metadata": {
        "id": "FYgXHIkVlkzR",
        "outputId": "30c25919-76be-420e-909f-2ac45ee57380",
        "colab": {
          "base_uri": "https://localhost:8080/"
        }
      },
      "id": "FYgXHIkVlkzR",
      "execution_count": 22,
      "outputs": [
        {
          "output_type": "execute_result",
          "data": {
            "text/plain": [
              "(tensor([1, 2, 3]), tensor([4, 5, 6]))"
            ]
          },
          "metadata": {},
          "execution_count": 22
        }
      ]
    },
    {
      "cell_type": "code",
      "source": [
        "result = torch.stack([a, b], dim=0)\n",
        "print(result)"
      ],
      "metadata": {
        "id": "d8GmHUvquG99",
        "outputId": "189f0b2c-5e42-4430-da9f-2f1cd2fbc2c8",
        "colab": {
          "base_uri": "https://localhost:8080/"
        }
      },
      "id": "d8GmHUvquG99",
      "execution_count": 21,
      "outputs": [
        {
          "output_type": "stream",
          "name": "stdout",
          "text": [
            "tensor([[1, 2, 3],\n",
            "        [4, 5, 6]])\n"
          ]
        }
      ]
    },
    {
      "cell_type": "code",
      "source": [
        "res=torch.stack([a,b],dim=1)\n",
        "print(res)"
      ],
      "metadata": {
        "id": "mrtt93ytuPGc",
        "outputId": "026858b6-0946-475e-bb01-5d5be8273211",
        "colab": {
          "base_uri": "https://localhost:8080/"
        }
      },
      "id": "mrtt93ytuPGc",
      "execution_count": 23,
      "outputs": [
        {
          "output_type": "stream",
          "name": "stdout",
          "text": [
            "tensor([[1, 4],\n",
            "        [2, 5],\n",
            "        [3, 6]])\n"
          ]
        }
      ]
    },
    {
      "cell_type": "code",
      "source": [
        "print(a)\n",
        "print(a.unsqueeze(0))  # shape: (1, 3) → 横着一行\n",
        "print(a.unsqueeze(1))  # shape: (3, 1) → 竖着三行"
      ],
      "metadata": {
        "id": "PUwd36Hlo0ET",
        "outputId": "db4f7586-70b1-4b79-a120-5446306a88ba",
        "colab": {
          "base_uri": "https://localhost:8080/"
        }
      },
      "id": "PUwd36Hlo0ET",
      "execution_count": 19,
      "outputs": [
        {
          "output_type": "stream",
          "name": "stdout",
          "text": [
            "tensor([1, 2, 3])\n",
            "tensor([[1, 2, 3]])\n",
            "tensor([[1],\n",
            "        [2],\n",
            "        [3]])\n"
          ]
        }
      ]
    },
    {
      "cell_type": "code",
      "source": [],
      "metadata": {
        "id": "xRWetp89hdHe"
      },
      "id": "xRWetp89hdHe",
      "execution_count": 10,
      "outputs": []
    },
    {
      "cell_type": "markdown",
      "id": "c9adecf6",
      "metadata": {
        "origin_pos": 34,
        "tab": [
          "pytorch"
        ],
        "id": "c9adecf6"
      },
      "source": [
        "[Discussions](https://discuss.d2l.ai/t/1848)\n"
      ]
    }
  ],
  "metadata": {
    "kernelspec": {
      "display_name": "Python 3",
      "name": "python3"
    },
    "language_info": {
      "name": "python"
    },
    "required_libs": [],
    "colab": {
      "provenance": []
    }
  },
  "nbformat": 4,
  "nbformat_minor": 5
}