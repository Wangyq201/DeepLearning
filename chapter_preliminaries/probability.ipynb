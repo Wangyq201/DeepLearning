{
  "cells": [
    {
      "cell_type": "markdown",
      "id": "37e258a2",
      "metadata": {
        "id": "37e258a2"
      },
      "source": [
        "The following additional libraries are needed to run this\n",
        "notebook. Note that running on Colab is experimental, please report a Github\n",
        "issue if you have any problem."
      ]
    },
    {
      "cell_type": "code",
      "execution_count": null,
      "id": "dc1d09c8",
      "metadata": {
        "id": "dc1d09c8"
      },
      "outputs": [],
      "source": [
        "# !pip install git+https://github.com/d2l-ai/d2l-zh@release  # installing d2l"
      ]
    },
    {
      "cell_type": "code",
      "source": [
        "!pip install d2l==1.0.3"
      ],
      "metadata": {
        "id": "bW_YesMXFyi5",
        "outputId": "a5882b87-1f8c-4fec-ccb5-53675d854491",
        "colab": {
          "base_uri": "https://localhost:8080/",
          "height": 1000
        }
      },
      "id": "bW_YesMXFyi5",
      "execution_count": 4,
      "outputs": [
        {
          "output_type": "stream",
          "name": "stdout",
          "text": [
            "Collecting d2l==1.0.3\n",
            "  Downloading d2l-1.0.3-py3-none-any.whl.metadata (556 bytes)\n",
            "Collecting jupyter==1.0.0 (from d2l==1.0.3)\n",
            "  Using cached jupyter-1.0.0-py2.py3-none-any.whl.metadata (995 bytes)\n",
            "Collecting numpy==1.23.5 (from d2l==1.0.3)\n",
            "  Downloading numpy-1.23.5-cp311-cp311-manylinux_2_17_x86_64.manylinux2014_x86_64.whl.metadata (2.3 kB)\n",
            "Collecting matplotlib==3.7.2 (from d2l==1.0.3)\n",
            "  Downloading matplotlib-3.7.2-cp311-cp311-manylinux_2_17_x86_64.manylinux2014_x86_64.whl.metadata (5.6 kB)\n",
            "Collecting matplotlib-inline==0.1.6 (from d2l==1.0.3)\n",
            "  Downloading matplotlib_inline-0.1.6-py3-none-any.whl.metadata (2.8 kB)\n",
            "Collecting requests==2.31.0 (from d2l==1.0.3)\n",
            "  Downloading requests-2.31.0-py3-none-any.whl.metadata (4.6 kB)\n",
            "Collecting pandas==2.0.3 (from d2l==1.0.3)\n",
            "  Downloading pandas-2.0.3-cp311-cp311-manylinux_2_17_x86_64.manylinux2014_x86_64.whl.metadata (18 kB)\n",
            "Collecting scipy==1.10.1 (from d2l==1.0.3)\n",
            "  Downloading scipy-1.10.1-cp311-cp311-manylinux_2_17_x86_64.manylinux2014_x86_64.whl.metadata (58 kB)\n",
            "\u001b[2K     \u001b[90m━━━━━━━━━━━━━━━━━━━━━━━━━━━━━━━━━━━━━━━━\u001b[0m \u001b[32m58.9/58.9 kB\u001b[0m \u001b[31m4.1 MB/s\u001b[0m eta \u001b[36m0:00:00\u001b[0m\n",
            "\u001b[?25hRequirement already satisfied: notebook in /usr/local/lib/python3.11/dist-packages (from jupyter==1.0.0->d2l==1.0.3) (6.5.7)\n",
            "Collecting qtconsole (from jupyter==1.0.0->d2l==1.0.3)\n",
            "  Downloading qtconsole-5.6.1-py3-none-any.whl.metadata (5.0 kB)\n",
            "Requirement already satisfied: jupyter-console in /usr/local/lib/python3.11/dist-packages (from jupyter==1.0.0->d2l==1.0.3) (6.1.0)\n",
            "Requirement already satisfied: nbconvert in /usr/local/lib/python3.11/dist-packages (from jupyter==1.0.0->d2l==1.0.3) (7.16.6)\n",
            "Requirement already satisfied: ipykernel in /usr/local/lib/python3.11/dist-packages (from jupyter==1.0.0->d2l==1.0.3) (6.17.1)\n",
            "Requirement already satisfied: ipywidgets in /usr/local/lib/python3.11/dist-packages (from jupyter==1.0.0->d2l==1.0.3) (7.7.1)\n",
            "Requirement already satisfied: contourpy>=1.0.1 in /usr/local/lib/python3.11/dist-packages (from matplotlib==3.7.2->d2l==1.0.3) (1.3.2)\n",
            "Requirement already satisfied: cycler>=0.10 in /usr/local/lib/python3.11/dist-packages (from matplotlib==3.7.2->d2l==1.0.3) (0.12.1)\n",
            "Requirement already satisfied: fonttools>=4.22.0 in /usr/local/lib/python3.11/dist-packages (from matplotlib==3.7.2->d2l==1.0.3) (4.58.2)\n",
            "Requirement already satisfied: kiwisolver>=1.0.1 in /usr/local/lib/python3.11/dist-packages (from matplotlib==3.7.2->d2l==1.0.3) (1.4.8)\n",
            "Requirement already satisfied: packaging>=20.0 in /usr/local/lib/python3.11/dist-packages (from matplotlib==3.7.2->d2l==1.0.3) (24.2)\n",
            "Requirement already satisfied: pillow>=6.2.0 in /usr/local/lib/python3.11/dist-packages (from matplotlib==3.7.2->d2l==1.0.3) (11.2.1)\n",
            "Collecting pyparsing<3.1,>=2.3.1 (from matplotlib==3.7.2->d2l==1.0.3)\n",
            "  Downloading pyparsing-3.0.9-py3-none-any.whl.metadata (4.2 kB)\n",
            "Requirement already satisfied: python-dateutil>=2.7 in /usr/local/lib/python3.11/dist-packages (from matplotlib==3.7.2->d2l==1.0.3) (2.9.0.post0)\n",
            "Requirement already satisfied: traitlets in /usr/local/lib/python3.11/dist-packages (from matplotlib-inline==0.1.6->d2l==1.0.3) (5.7.1)\n",
            "Requirement already satisfied: pytz>=2020.1 in /usr/local/lib/python3.11/dist-packages (from pandas==2.0.3->d2l==1.0.3) (2025.2)\n",
            "Requirement already satisfied: tzdata>=2022.1 in /usr/local/lib/python3.11/dist-packages (from pandas==2.0.3->d2l==1.0.3) (2025.2)\n",
            "Requirement already satisfied: charset-normalizer<4,>=2 in /usr/local/lib/python3.11/dist-packages (from requests==2.31.0->d2l==1.0.3) (3.4.2)\n",
            "Requirement already satisfied: idna<4,>=2.5 in /usr/local/lib/python3.11/dist-packages (from requests==2.31.0->d2l==1.0.3) (3.10)\n",
            "Requirement already satisfied: urllib3<3,>=1.21.1 in /usr/local/lib/python3.11/dist-packages (from requests==2.31.0->d2l==1.0.3) (2.4.0)\n",
            "Requirement already satisfied: certifi>=2017.4.17 in /usr/local/lib/python3.11/dist-packages (from requests==2.31.0->d2l==1.0.3) (2025.4.26)\n",
            "Requirement already satisfied: six>=1.5 in /usr/local/lib/python3.11/dist-packages (from python-dateutil>=2.7->matplotlib==3.7.2->d2l==1.0.3) (1.17.0)\n",
            "Requirement already satisfied: debugpy>=1.0 in /usr/local/lib/python3.11/dist-packages (from ipykernel->jupyter==1.0.0->d2l==1.0.3) (1.8.0)\n",
            "Requirement already satisfied: ipython>=7.23.1 in /usr/local/lib/python3.11/dist-packages (from ipykernel->jupyter==1.0.0->d2l==1.0.3) (7.34.0)\n",
            "Requirement already satisfied: jupyter-client>=6.1.12 in /usr/local/lib/python3.11/dist-packages (from ipykernel->jupyter==1.0.0->d2l==1.0.3) (6.1.12)\n",
            "Requirement already satisfied: nest-asyncio in /usr/local/lib/python3.11/dist-packages (from ipykernel->jupyter==1.0.0->d2l==1.0.3) (1.6.0)\n",
            "Requirement already satisfied: psutil in /usr/local/lib/python3.11/dist-packages (from ipykernel->jupyter==1.0.0->d2l==1.0.3) (5.9.5)\n",
            "Requirement already satisfied: pyzmq>=17 in /usr/local/lib/python3.11/dist-packages (from ipykernel->jupyter==1.0.0->d2l==1.0.3) (24.0.1)\n",
            "Requirement already satisfied: tornado>=6.1 in /usr/local/lib/python3.11/dist-packages (from ipykernel->jupyter==1.0.0->d2l==1.0.3) (6.4.2)\n",
            "Requirement already satisfied: ipython-genutils~=0.2.0 in /usr/local/lib/python3.11/dist-packages (from ipywidgets->jupyter==1.0.0->d2l==1.0.3) (0.2.0)\n",
            "Requirement already satisfied: widgetsnbextension~=3.6.0 in /usr/local/lib/python3.11/dist-packages (from ipywidgets->jupyter==1.0.0->d2l==1.0.3) (3.6.10)\n",
            "Requirement already satisfied: jupyterlab-widgets>=1.0.0 in /usr/local/lib/python3.11/dist-packages (from ipywidgets->jupyter==1.0.0->d2l==1.0.3) (3.0.15)\n",
            "Requirement already satisfied: prompt-toolkit!=3.0.0,!=3.0.1,<3.1.0,>=2.0.0 in /usr/local/lib/python3.11/dist-packages (from jupyter-console->jupyter==1.0.0->d2l==1.0.3) (3.0.51)\n",
            "Requirement already satisfied: pygments in /usr/local/lib/python3.11/dist-packages (from jupyter-console->jupyter==1.0.0->d2l==1.0.3) (2.19.1)\n",
            "Requirement already satisfied: beautifulsoup4 in /usr/local/lib/python3.11/dist-packages (from nbconvert->jupyter==1.0.0->d2l==1.0.3) (4.13.4)\n",
            "Requirement already satisfied: bleach!=5.0.0 in /usr/local/lib/python3.11/dist-packages (from bleach[css]!=5.0.0->nbconvert->jupyter==1.0.0->d2l==1.0.3) (6.2.0)\n",
            "Requirement already satisfied: defusedxml in /usr/local/lib/python3.11/dist-packages (from nbconvert->jupyter==1.0.0->d2l==1.0.3) (0.7.1)\n",
            "Requirement already satisfied: jinja2>=3.0 in /usr/local/lib/python3.11/dist-packages (from nbconvert->jupyter==1.0.0->d2l==1.0.3) (3.1.6)\n",
            "Requirement already satisfied: jupyter-core>=4.7 in /usr/local/lib/python3.11/dist-packages (from nbconvert->jupyter==1.0.0->d2l==1.0.3) (5.8.1)\n",
            "Requirement already satisfied: jupyterlab-pygments in /usr/local/lib/python3.11/dist-packages (from nbconvert->jupyter==1.0.0->d2l==1.0.3) (0.3.0)\n",
            "Requirement already satisfied: markupsafe>=2.0 in /usr/local/lib/python3.11/dist-packages (from nbconvert->jupyter==1.0.0->d2l==1.0.3) (3.0.2)\n",
            "Requirement already satisfied: mistune<4,>=2.0.3 in /usr/local/lib/python3.11/dist-packages (from nbconvert->jupyter==1.0.0->d2l==1.0.3) (3.1.3)\n",
            "Requirement already satisfied: nbclient>=0.5.0 in /usr/local/lib/python3.11/dist-packages (from nbconvert->jupyter==1.0.0->d2l==1.0.3) (0.10.2)\n",
            "Requirement already satisfied: nbformat>=5.7 in /usr/local/lib/python3.11/dist-packages (from nbconvert->jupyter==1.0.0->d2l==1.0.3) (5.10.4)\n",
            "Requirement already satisfied: pandocfilters>=1.4.1 in /usr/local/lib/python3.11/dist-packages (from nbconvert->jupyter==1.0.0->d2l==1.0.3) (1.5.1)\n",
            "Requirement already satisfied: argon2-cffi in /usr/local/lib/python3.11/dist-packages (from notebook->jupyter==1.0.0->d2l==1.0.3) (25.1.0)\n",
            "Requirement already satisfied: Send2Trash>=1.8.0 in /usr/local/lib/python3.11/dist-packages (from notebook->jupyter==1.0.0->d2l==1.0.3) (1.8.3)\n",
            "Requirement already satisfied: terminado>=0.8.3 in /usr/local/lib/python3.11/dist-packages (from notebook->jupyter==1.0.0->d2l==1.0.3) (0.18.1)\n",
            "Requirement already satisfied: prometheus-client in /usr/local/lib/python3.11/dist-packages (from notebook->jupyter==1.0.0->d2l==1.0.3) (0.22.1)\n",
            "Requirement already satisfied: nbclassic>=0.4.7 in /usr/local/lib/python3.11/dist-packages (from notebook->jupyter==1.0.0->d2l==1.0.3) (1.3.1)\n",
            "Collecting qtpy>=2.4.0 (from qtconsole->jupyter==1.0.0->d2l==1.0.3)\n",
            "  Downloading QtPy-2.4.3-py3-none-any.whl.metadata (12 kB)\n",
            "Requirement already satisfied: webencodings in /usr/local/lib/python3.11/dist-packages (from bleach!=5.0.0->bleach[css]!=5.0.0->nbconvert->jupyter==1.0.0->d2l==1.0.3) (0.5.1)\n",
            "Requirement already satisfied: tinycss2<1.5,>=1.1.0 in /usr/local/lib/python3.11/dist-packages (from bleach[css]!=5.0.0->nbconvert->jupyter==1.0.0->d2l==1.0.3) (1.4.0)\n",
            "Requirement already satisfied: setuptools>=18.5 in /usr/local/lib/python3.11/dist-packages (from ipython>=7.23.1->ipykernel->jupyter==1.0.0->d2l==1.0.3) (75.2.0)\n",
            "Collecting jedi>=0.16 (from ipython>=7.23.1->ipykernel->jupyter==1.0.0->d2l==1.0.3)\n",
            "  Downloading jedi-0.19.2-py2.py3-none-any.whl.metadata (22 kB)\n",
            "Requirement already satisfied: decorator in /usr/local/lib/python3.11/dist-packages (from ipython>=7.23.1->ipykernel->jupyter==1.0.0->d2l==1.0.3) (4.4.2)\n",
            "Requirement already satisfied: pickleshare in /usr/local/lib/python3.11/dist-packages (from ipython>=7.23.1->ipykernel->jupyter==1.0.0->d2l==1.0.3) (0.7.5)\n",
            "Requirement already satisfied: backcall in /usr/local/lib/python3.11/dist-packages (from ipython>=7.23.1->ipykernel->jupyter==1.0.0->d2l==1.0.3) (0.2.0)\n",
            "Requirement already satisfied: pexpect>4.3 in /usr/local/lib/python3.11/dist-packages (from ipython>=7.23.1->ipykernel->jupyter==1.0.0->d2l==1.0.3) (4.9.0)\n",
            "Requirement already satisfied: platformdirs>=2.5 in /usr/local/lib/python3.11/dist-packages (from jupyter-core>=4.7->nbconvert->jupyter==1.0.0->d2l==1.0.3) (4.3.8)\n",
            "Requirement already satisfied: notebook-shim>=0.2.3 in /usr/local/lib/python3.11/dist-packages (from nbclassic>=0.4.7->notebook->jupyter==1.0.0->d2l==1.0.3) (0.2.4)\n",
            "Requirement already satisfied: fastjsonschema>=2.15 in /usr/local/lib/python3.11/dist-packages (from nbformat>=5.7->nbconvert->jupyter==1.0.0->d2l==1.0.3) (2.21.1)\n",
            "Requirement already satisfied: jsonschema>=2.6 in /usr/local/lib/python3.11/dist-packages (from nbformat>=5.7->nbconvert->jupyter==1.0.0->d2l==1.0.3) (4.24.0)\n",
            "Requirement already satisfied: wcwidth in /usr/local/lib/python3.11/dist-packages (from prompt-toolkit!=3.0.0,!=3.0.1,<3.1.0,>=2.0.0->jupyter-console->jupyter==1.0.0->d2l==1.0.3) (0.2.13)\n",
            "Requirement already satisfied: ptyprocess in /usr/local/lib/python3.11/dist-packages (from terminado>=0.8.3->notebook->jupyter==1.0.0->d2l==1.0.3) (0.7.0)\n",
            "Requirement already satisfied: argon2-cffi-bindings in /usr/local/lib/python3.11/dist-packages (from argon2-cffi->notebook->jupyter==1.0.0->d2l==1.0.3) (21.2.0)\n",
            "Requirement already satisfied: soupsieve>1.2 in /usr/local/lib/python3.11/dist-packages (from beautifulsoup4->nbconvert->jupyter==1.0.0->d2l==1.0.3) (2.7)\n",
            "Requirement already satisfied: typing-extensions>=4.0.0 in /usr/local/lib/python3.11/dist-packages (from beautifulsoup4->nbconvert->jupyter==1.0.0->d2l==1.0.3) (4.14.0)\n",
            "Requirement already satisfied: parso<0.9.0,>=0.8.4 in /usr/local/lib/python3.11/dist-packages (from jedi>=0.16->ipython>=7.23.1->ipykernel->jupyter==1.0.0->d2l==1.0.3) (0.8.4)\n",
            "Requirement already satisfied: attrs>=22.2.0 in /usr/local/lib/python3.11/dist-packages (from jsonschema>=2.6->nbformat>=5.7->nbconvert->jupyter==1.0.0->d2l==1.0.3) (25.3.0)\n",
            "Requirement already satisfied: jsonschema-specifications>=2023.03.6 in /usr/local/lib/python3.11/dist-packages (from jsonschema>=2.6->nbformat>=5.7->nbconvert->jupyter==1.0.0->d2l==1.0.3) (2025.4.1)\n",
            "Requirement already satisfied: referencing>=0.28.4 in /usr/local/lib/python3.11/dist-packages (from jsonschema>=2.6->nbformat>=5.7->nbconvert->jupyter==1.0.0->d2l==1.0.3) (0.36.2)\n",
            "Requirement already satisfied: rpds-py>=0.7.1 in /usr/local/lib/python3.11/dist-packages (from jsonschema>=2.6->nbformat>=5.7->nbconvert->jupyter==1.0.0->d2l==1.0.3) (0.25.1)\n",
            "Requirement already satisfied: jupyter-server<3,>=1.8 in /usr/local/lib/python3.11/dist-packages (from notebook-shim>=0.2.3->nbclassic>=0.4.7->notebook->jupyter==1.0.0->d2l==1.0.3) (1.16.0)\n",
            "Requirement already satisfied: cffi>=1.0.1 in /usr/local/lib/python3.11/dist-packages (from argon2-cffi-bindings->argon2-cffi->notebook->jupyter==1.0.0->d2l==1.0.3) (1.17.1)\n",
            "Requirement already satisfied: pycparser in /usr/local/lib/python3.11/dist-packages (from cffi>=1.0.1->argon2-cffi-bindings->argon2-cffi->notebook->jupyter==1.0.0->d2l==1.0.3) (2.22)\n",
            "Requirement already satisfied: anyio>=3.1.0 in /usr/local/lib/python3.11/dist-packages (from jupyter-server<3,>=1.8->notebook-shim>=0.2.3->nbclassic>=0.4.7->notebook->jupyter==1.0.0->d2l==1.0.3) (4.9.0)\n",
            "Requirement already satisfied: websocket-client in /usr/local/lib/python3.11/dist-packages (from jupyter-server<3,>=1.8->notebook-shim>=0.2.3->nbclassic>=0.4.7->notebook->jupyter==1.0.0->d2l==1.0.3) (1.8.0)\n",
            "Requirement already satisfied: sniffio>=1.1 in /usr/local/lib/python3.11/dist-packages (from anyio>=3.1.0->jupyter-server<3,>=1.8->notebook-shim>=0.2.3->nbclassic>=0.4.7->notebook->jupyter==1.0.0->d2l==1.0.3) (1.3.1)\n",
            "Downloading d2l-1.0.3-py3-none-any.whl (111 kB)\n",
            "\u001b[2K   \u001b[90m━━━━━━━━━━━━━━━━━━━━━━━━━━━━━━━━━━━━━━━━\u001b[0m \u001b[32m111.7/111.7 kB\u001b[0m \u001b[31m7.1 MB/s\u001b[0m eta \u001b[36m0:00:00\u001b[0m\n",
            "\u001b[?25hDownloading jupyter-1.0.0-py2.py3-none-any.whl (2.7 kB)\n",
            "Downloading matplotlib-3.7.2-cp311-cp311-manylinux_2_17_x86_64.manylinux2014_x86_64.whl (11.6 MB)\n",
            "\u001b[2K   \u001b[90m━━━━━━━━━━━━━━━━━━━━━━━━━━━━━━━━━━━━━━━━\u001b[0m \u001b[32m11.6/11.6 MB\u001b[0m \u001b[31m77.8 MB/s\u001b[0m eta \u001b[36m0:00:00\u001b[0m\n",
            "\u001b[?25hDownloading matplotlib_inline-0.1.6-py3-none-any.whl (9.4 kB)\n",
            "Downloading numpy-1.23.5-cp311-cp311-manylinux_2_17_x86_64.manylinux2014_x86_64.whl (17.1 MB)\n",
            "\u001b[2K   \u001b[90m━━━━━━━━━━━━━━━━━━━━━━━━━━━━━━━━━━━━━━━━\u001b[0m \u001b[32m17.1/17.1 MB\u001b[0m \u001b[31m62.5 MB/s\u001b[0m eta \u001b[36m0:00:00\u001b[0m\n",
            "\u001b[?25hDownloading pandas-2.0.3-cp311-cp311-manylinux_2_17_x86_64.manylinux2014_x86_64.whl (12.2 MB)\n",
            "\u001b[2K   \u001b[90m━━━━━━━━━━━━━━━━━━━━━━━━━━━━━━━━━━━━━━━━\u001b[0m \u001b[32m12.2/12.2 MB\u001b[0m \u001b[31m70.4 MB/s\u001b[0m eta \u001b[36m0:00:00\u001b[0m\n",
            "\u001b[?25hDownloading requests-2.31.0-py3-none-any.whl (62 kB)\n",
            "\u001b[2K   \u001b[90m━━━━━━━━━━━━━━━━━━━━━━━━━━━━━━━━━━━━━━━━\u001b[0m \u001b[32m62.6/62.6 kB\u001b[0m \u001b[31m4.9 MB/s\u001b[0m eta \u001b[36m0:00:00\u001b[0m\n",
            "\u001b[?25hDownloading scipy-1.10.1-cp311-cp311-manylinux_2_17_x86_64.manylinux2014_x86_64.whl (34.1 MB)\n",
            "\u001b[2K   \u001b[90m━━━━━━━━━━━━━━━━━━━━━━━━━━━━━━━━━━━━━━━━\u001b[0m \u001b[32m34.1/34.1 MB\u001b[0m \u001b[31m16.6 MB/s\u001b[0m eta \u001b[36m0:00:00\u001b[0m\n",
            "\u001b[?25hDownloading pyparsing-3.0.9-py3-none-any.whl (98 kB)\n",
            "\u001b[2K   \u001b[90m━━━━━━━━━━━━━━━━━━━━━━━━━━━━━━━━━━━━━━━━\u001b[0m \u001b[32m98.3/98.3 kB\u001b[0m \u001b[31m8.9 MB/s\u001b[0m eta \u001b[36m0:00:00\u001b[0m\n",
            "\u001b[?25hDownloading qtconsole-5.6.1-py3-none-any.whl (125 kB)\n",
            "\u001b[2K   \u001b[90m━━━━━━━━━━━━━━━━━━━━━━━━━━━━━━━━━━━━━━━━\u001b[0m \u001b[32m125.0/125.0 kB\u001b[0m \u001b[31m9.7 MB/s\u001b[0m eta \u001b[36m0:00:00\u001b[0m\n",
            "\u001b[?25hDownloading QtPy-2.4.3-py3-none-any.whl (95 kB)\n",
            "\u001b[2K   \u001b[90m━━━━━━━━━━━━━━━━━━━━━━━━━━━━━━━━━━━━━━━━\u001b[0m \u001b[32m95.0/95.0 kB\u001b[0m \u001b[31m8.3 MB/s\u001b[0m eta \u001b[36m0:00:00\u001b[0m\n",
            "\u001b[?25hDownloading jedi-0.19.2-py2.py3-none-any.whl (1.6 MB)\n",
            "\u001b[2K   \u001b[90m━━━━━━━━━━━━━━━━━━━━━━━━━━━━━━━━━━━━━━━━\u001b[0m \u001b[32m1.6/1.6 MB\u001b[0m \u001b[31m71.0 MB/s\u001b[0m eta \u001b[36m0:00:00\u001b[0m\n",
            "\u001b[?25hInstalling collected packages: requests, qtpy, pyparsing, numpy, matplotlib-inline, jedi, scipy, pandas, matplotlib, qtconsole, jupyter, d2l\n",
            "  Attempting uninstall: requests\n",
            "    Found existing installation: requests 2.32.3\n",
            "    Uninstalling requests-2.32.3:\n",
            "      Successfully uninstalled requests-2.32.3\n",
            "  Attempting uninstall: pyparsing\n",
            "    Found existing installation: pyparsing 3.2.3\n",
            "    Uninstalling pyparsing-3.2.3:\n",
            "      Successfully uninstalled pyparsing-3.2.3\n",
            "  Attempting uninstall: numpy\n",
            "    Found existing installation: numpy 2.0.2\n",
            "    Uninstalling numpy-2.0.2:\n",
            "      Successfully uninstalled numpy-2.0.2\n",
            "  Attempting uninstall: matplotlib-inline\n",
            "    Found existing installation: matplotlib-inline 0.1.7\n",
            "    Uninstalling matplotlib-inline-0.1.7:\n",
            "      Successfully uninstalled matplotlib-inline-0.1.7\n",
            "  Attempting uninstall: scipy\n",
            "    Found existing installation: scipy 1.15.3\n",
            "    Uninstalling scipy-1.15.3:\n",
            "      Successfully uninstalled scipy-1.15.3\n",
            "  Attempting uninstall: pandas\n",
            "    Found existing installation: pandas 2.2.2\n",
            "    Uninstalling pandas-2.2.2:\n",
            "      Successfully uninstalled pandas-2.2.2\n",
            "  Attempting uninstall: matplotlib\n",
            "    Found existing installation: matplotlib 3.10.0\n",
            "    Uninstalling matplotlib-3.10.0:\n",
            "      Successfully uninstalled matplotlib-3.10.0\n",
            "\u001b[31mERROR: pip's dependency resolver does not currently take into account all the packages that are installed. This behaviour is the source of the following dependency conflicts.\n",
            "google-colab 1.0.0 requires pandas==2.2.2, but you have pandas 2.0.3 which is incompatible.\n",
            "google-colab 1.0.0 requires requests==2.32.3, but you have requests 2.31.0 which is incompatible.\n",
            "jaxlib 0.5.1 requires numpy>=1.25, but you have numpy 1.23.5 which is incompatible.\n",
            "jaxlib 0.5.1 requires scipy>=1.11.1, but you have scipy 1.10.1 which is incompatible.\n",
            "treescope 0.1.9 requires numpy>=1.25.2, but you have numpy 1.23.5 which is incompatible.\n",
            "db-dtypes 1.4.3 requires numpy>=1.24.0, but you have numpy 1.23.5 which is incompatible.\n",
            "imbalanced-learn 0.13.0 requires numpy<3,>=1.24.3, but you have numpy 1.23.5 which is incompatible.\n",
            "xarray 2025.3.1 requires numpy>=1.24, but you have numpy 1.23.5 which is incompatible.\n",
            "xarray 2025.3.1 requires pandas>=2.1, but you have pandas 2.0.3 which is incompatible.\n",
            "albucore 0.0.24 requires numpy>=1.24.4, but you have numpy 1.23.5 which is incompatible.\n",
            "xarray-einstats 0.9.0 requires numpy>=1.25, but you have numpy 1.23.5 which is incompatible.\n",
            "xarray-einstats 0.9.0 requires scipy>=1.11, but you have scipy 1.10.1 which is incompatible.\n",
            "chex 0.1.89 requires numpy>=1.24.1, but you have numpy 1.23.5 which is incompatible.\n",
            "pymc 5.23.0 requires numpy>=1.25.0, but you have numpy 1.23.5 which is incompatible.\n",
            "tensorflow 2.18.0 requires numpy<2.1.0,>=1.26.0, but you have numpy 1.23.5 which is incompatible.\n",
            "jax 0.5.2 requires numpy>=1.25, but you have numpy 1.23.5 which is incompatible.\n",
            "jax 0.5.2 requires scipy>=1.11.1, but you have scipy 1.10.1 which is incompatible.\n",
            "bigframes 2.6.0 requires numpy>=1.24.0, but you have numpy 1.23.5 which is incompatible.\n",
            "scikit-image 0.25.2 requires numpy>=1.24, but you have numpy 1.23.5 which is incompatible.\n",
            "scikit-image 0.25.2 requires scipy>=1.11.4, but you have scipy 1.10.1 which is incompatible.\n",
            "mizani 0.13.5 requires pandas>=2.2.0, but you have pandas 2.0.3 which is incompatible.\n",
            "albumentations 2.0.8 requires numpy>=1.24.4, but you have numpy 1.23.5 which is incompatible.\n",
            "thinc 8.3.6 requires numpy<3.0.0,>=2.0.0, but you have numpy 1.23.5 which is incompatible.\n",
            "plotnine 0.14.5 requires matplotlib>=3.8.0, but you have matplotlib 3.7.2 which is incompatible.\n",
            "plotnine 0.14.5 requires pandas>=2.2.0, but you have pandas 2.0.3 which is incompatible.\n",
            "cvxpy 1.6.6 requires scipy>=1.11.0, but you have scipy 1.10.1 which is incompatible.\n",
            "tsfresh 0.21.0 requires scipy>=1.14.0; python_version >= \"3.10\", but you have scipy 1.10.1 which is incompatible.\n",
            "blosc2 3.3.4 requires numpy>=1.26, but you have numpy 1.23.5 which is incompatible.\u001b[0m\u001b[31m\n",
            "\u001b[0mSuccessfully installed d2l-1.0.3 jedi-0.19.2 jupyter-1.0.0 matplotlib-3.7.2 matplotlib-inline-0.1.6 numpy-1.23.5 pandas-2.0.3 pyparsing-3.0.9 qtconsole-5.6.1 qtpy-2.4.3 requests-2.31.0 scipy-1.10.1\n"
          ]
        },
        {
          "output_type": "display_data",
          "data": {
            "application/vnd.colab-display-data+json": {
              "pip_warning": {
                "packages": [
                  "matplotlib",
                  "matplotlib_inline",
                  "mpl_toolkits",
                  "numpy",
                  "pyparsing"
                ]
              },
              "id": "1e4de85b8e0246ef9de7164b7a817ac4"
            }
          },
          "metadata": {}
        }
      ]
    },
    {
      "cell_type": "markdown",
      "id": "53d03399",
      "metadata": {
        "origin_pos": 0,
        "id": "53d03399"
      },
      "source": [
        "# 概率\n",
        ":label:`sec_prob`\n",
        "\n",
        "简单地说，机器学习就是做出预测。\n",
        "\n",
        "根据病人的临床病史，我们可能想预测他们在下一年心脏病发作的*概率*。\n",
        "在飞机喷气发动机的异常检测中，我们想要评估一组发动机读数为正常运行情况的概率有多大。\n",
        "在强化学习中，我们希望智能体（agent）能在一个环境中智能地行动。\n",
        "这意味着我们需要考虑在每种可行的行为下获得高奖励的概率。\n",
        "当我们建立推荐系统时，我们也需要考虑概率。\n",
        "例如，假设我们为一家大型在线书店工作，我们可能希望估计某些用户购买特定图书的概率。\n",
        "为此，我们需要使用概率学。\n",
        "有完整的课程、专业、论文、职业、甚至院系，都致力于概率学的工作。\n",
        "所以很自然地，我们在这部分的目标不是教授整个科目。\n",
        "相反，我们希望教给读者基础的概率知识，使读者能够开始构建第一个深度学习模型，\n",
        "以便读者可以开始自己探索它。\n",
        "\n",
        "现在让我们更认真地考虑第一个例子：根据照片区分猫和狗。\n",
        "这听起来可能很简单，但对于机器却可能是一个艰巨的挑战。\n",
        "首先，问题的难度可能取决于图像的分辨率。\n",
        "\n",
        "![不同分辨率的图像 ($10 \\times 10$, $20 \\times 20$, $40 \\times 40$, $80 \\times 80$, 和 $160 \\times 160$ pixels)](https://github.com/d2l-ai/d2l-zh-pytorch-colab/blob/master/img/cat-dog-pixels.png?raw=1)\n",
        ":width:`300px`\n",
        ":label:`fig_cat_dog`\n",
        "\n",
        "如 :numref:`fig_cat_dog`所示，虽然人类很容易以$160 \\times 160$像素的分辨率识别猫和狗，\n",
        "但它在$40\\times40$像素上变得具有挑战性，而且在$10 \\times 10$像素下几乎是不可能的。\n",
        "换句话说，我们在很远的距离（从而降低分辨率）区分猫和狗的能力可能会变为猜测。\n",
        "概率给了我们一种正式的途径来说明我们的确定性水平。\n",
        "如果我们完全肯定图像是一只猫，我们说标签$y$是\"猫\"的*概率*，表示为$P(y=$\"猫\"$)$等于$1$。\n",
        "如果我们没有证据表明$y=$“猫”或$y=$“狗”，那么我们可以说这两种可能性是相等的，\n",
        "即$P(y=$\"猫\"$)=P(y=$\"狗\"$)=0.5$。\n",
        "如果我们不十分确定图像描绘的是一只猫，我们可以将概率赋值为$0.5<P(y=$\"猫\"$)<1$。\n",
        "\n",
        "现在考虑第二个例子：给出一些天气监测数据，我们想预测明天北京下雨的概率。\n",
        "如果是夏天，下雨的概率是0.5。\n",
        "\n",
        "在这两种情况下，我们都不确定结果，但这两种情况之间有一个关键区别。\n",
        "在第一种情况中，图像实际上是狗或猫二选一。\n",
        "在第二种情况下，结果实际上是一个随机的事件。\n",
        "因此，概率是一种灵活的语言，用于说明我们的确定程度，并且它可以有效地应用于广泛的领域中。\n",
        "\n",
        "## 基本概率论\n",
        "\n",
        "假设我们掷骰子，想知道看到1的几率有多大，而不是看到另一个数字。\n",
        "如果骰子是公平的，那么所有六个结果$\\{1, \\ldots, 6\\}$都有相同的可能发生，\n",
        "因此我们可以说$1$发生的概率为$\\frac{1}{6}$。\n",
        "\n",
        "然而现实生活中，对于我们从工厂收到的真实骰子，我们需要检查它是否有瑕疵。\n",
        "检查骰子的唯一方法是多次投掷并记录结果。\n",
        "对于每个骰子，我们将观察到$\\{1, \\ldots, 6\\}$中的一个值。\n",
        "对于每个值，一种自然的方法是将它出现的次数除以投掷的总次数，\n",
        "即此*事件*（event）概率的*估计值*。\n",
        "*大数定律*（law of large numbers）告诉我们：\n",
        "随着投掷次数的增加，这个估计值会越来越接近真实的潜在概率。\n",
        "让我们用代码试一试！\n",
        "\n",
        "首先，我们导入必要的软件包。\n"
      ]
    },
    {
      "cell_type": "code",
      "execution_count": 1,
      "id": "fffe28f9",
      "metadata": {
        "execution": {
          "iopub.execute_input": "2023-08-18T07:03:52.138045Z",
          "iopub.status.busy": "2023-08-18T07:03:52.137333Z",
          "iopub.status.idle": "2023-08-18T07:03:55.099774Z",
          "shell.execute_reply": "2023-08-18T07:03:55.098743Z"
        },
        "origin_pos": 2,
        "tab": [
          "pytorch"
        ],
        "id": "fffe28f9"
      },
      "outputs": [],
      "source": [
        "%matplotlib inline\n",
        "import torch\n",
        "from torch.distributions import multinomial\n",
        "from d2l import torch as d2l"
      ]
    },
    {
      "cell_type": "code",
      "source": [
        "def set_seed():\n",
        "    torch.manual_seed(42)   #设置CPU和CUDA的种子\n",
        "    torch.cuda.manual_seed(42)    #设置GPU的种子\n",
        "    torch.cuda.manual_seed_all(42)  #针对多GPU设置种子\n",
        "    torch.backends.cudnn.deterministic = True\n",
        "    torch.backends.cudnn.benchmark = False\n",
        "set_seed()"
      ],
      "metadata": {
        "id": "CSInMbGhHyty"
      },
      "id": "CSInMbGhHyty",
      "execution_count": 24,
      "outputs": []
    },
    {
      "cell_type": "code",
      "source": [
        "fair_probs=torch.ones([6])/6\n",
        "fair=torch.ones(6)/6\n",
        "fair_probs,fair"
      ],
      "metadata": {
        "id": "K8zxI57KG1ej",
        "outputId": "b55f9f49-9ec3-4944-f094-aa48e0ca8c2e",
        "colab": {
          "base_uri": "https://localhost:8080/"
        }
      },
      "id": "K8zxI57KG1ej",
      "execution_count": 3,
      "outputs": [
        {
          "output_type": "execute_result",
          "data": {
            "text/plain": [
              "(tensor([0.1667, 0.1667, 0.1667, 0.1667, 0.1667, 0.1667]),\n",
              " tensor([0.1667, 0.1667, 0.1667, 0.1667, 0.1667, 0.1667]))"
            ]
          },
          "metadata": {},
          "execution_count": 3
        }
      ]
    },
    {
      "cell_type": "markdown",
      "id": "e8bfc741",
      "metadata": {
        "origin_pos": 5,
        "id": "e8bfc741"
      },
      "source": [
        "在统计学中，我们把从概率分布中抽取样本的过程称为*抽样*（sampling）。\n",
        "笼统来说，可以把*分布*（distribution）看作对事件的概率分配，\n",
        "稍后我们将给出的更正式定义。\n",
        "将概率分配给一些离散选择的分布称为*多项分布*（multinomial distribution）。\n",
        "\n",
        "为了抽取一个样本，即掷骰子，我们只需传入一个概率向量。\n",
        "输出是另一个相同长度的向量：它在索引$i$处的值是采样结果中$i$出现的次数。\n"
      ]
    },
    {
      "cell_type": "code",
      "execution_count": 8,
      "id": "5e03f32a",
      "metadata": {
        "execution": {
          "iopub.execute_input": "2023-08-18T07:03:55.105250Z",
          "iopub.status.busy": "2023-08-18T07:03:55.104342Z",
          "iopub.status.idle": "2023-08-18T07:03:55.117395Z",
          "shell.execute_reply": "2023-08-18T07:03:55.116406Z"
        },
        "origin_pos": 7,
        "tab": [
          "pytorch"
        ],
        "id": "5e03f32a",
        "outputId": "56ba3eac-40f0-4714-9fae-314a9e6c7d69",
        "colab": {
          "base_uri": "https://localhost:8080/"
        }
      },
      "outputs": [
        {
          "output_type": "execute_result",
          "data": {
            "text/plain": [
              "tensor([1., 0., 0., 0., 0., 0.])"
            ]
          },
          "metadata": {},
          "execution_count": 8
        }
      ],
      "source": [
        "fair_probs = torch.ones([6]) / 6\n",
        "multinomial.Multinomial(1, fair_probs).sample()  #参数1是试验的次数n=1,执一次筛子，参数2表示概率分布"
      ]
    },
    {
      "cell_type": "markdown",
      "id": "076723aa",
      "metadata": {
        "origin_pos": 10,
        "id": "076723aa"
      },
      "source": [
        "在估计一个骰子的公平性时，我们希望从同一分布中生成多个样本。\n",
        "如果用Python的for循环来完成这个任务，速度会慢得惊人。\n",
        "因此我们使用深度学习框架的函数同时抽取多个样本，得到我们想要的任意形状的独立样本数组。\n"
      ]
    },
    {
      "cell_type": "code",
      "execution_count": 9,
      "id": "aef6c2b1",
      "metadata": {
        "execution": {
          "iopub.execute_input": "2023-08-18T07:03:55.121792Z",
          "iopub.status.busy": "2023-08-18T07:03:55.121330Z",
          "iopub.status.idle": "2023-08-18T07:03:55.128618Z",
          "shell.execute_reply": "2023-08-18T07:03:55.127639Z"
        },
        "origin_pos": 12,
        "tab": [
          "pytorch"
        ],
        "id": "aef6c2b1",
        "outputId": "a9c26adb-e697-4370-97f3-cdaa0d0190dd",
        "colab": {
          "base_uri": "https://localhost:8080/"
        }
      },
      "outputs": [
        {
          "output_type": "execute_result",
          "data": {
            "text/plain": [
              "tensor([2., 1., 2., 2., 3., 0.])"
            ]
          },
          "metadata": {},
          "execution_count": 9
        }
      ],
      "source": [
        "multinomial.Multinomial(10, fair_probs).sample() #投掷10次筛子"
      ]
    },
    {
      "cell_type": "code",
      "source": [
        "multinomial.Multinomial(100,fair_probs).sample()"
      ],
      "metadata": {
        "id": "VrP6W_XlIitA",
        "outputId": "aaeec1b5-d182-4d01-b840-8e941b10c8a8",
        "colab": {
          "base_uri": "https://localhost:8080/"
        }
      },
      "id": "VrP6W_XlIitA",
      "execution_count": 12,
      "outputs": [
        {
          "output_type": "execute_result",
          "data": {
            "text/plain": [
              "tensor([16., 17., 16., 22., 14., 15.])"
            ]
          },
          "metadata": {},
          "execution_count": 12
        }
      ]
    },
    {
      "cell_type": "markdown",
      "id": "cb561790",
      "metadata": {
        "origin_pos": 15,
        "id": "cb561790"
      },
      "source": [
        "现在我们知道如何对骰子进行采样，我们可以模拟1000次投掷。\n",
        "然后，我们可以统计1000次投掷后，每个数字被投中了多少次。\n",
        "具体来说，我们计算相对频率，以作为真实概率的估计。\n"
      ]
    },
    {
      "cell_type": "code",
      "execution_count": 16,
      "id": "22aadbd3",
      "metadata": {
        "execution": {
          "iopub.execute_input": "2023-08-18T07:03:55.132265Z",
          "iopub.status.busy": "2023-08-18T07:03:55.131761Z",
          "iopub.status.idle": "2023-08-18T07:03:55.139359Z",
          "shell.execute_reply": "2023-08-18T07:03:55.138380Z"
        },
        "origin_pos": 17,
        "tab": [
          "pytorch"
        ],
        "id": "22aadbd3",
        "outputId": "8faa59b9-b804-448b-9bac-4b25f5b33aea",
        "colab": {
          "base_uri": "https://localhost:8080/"
        }
      },
      "outputs": [
        {
          "output_type": "execute_result",
          "data": {
            "text/plain": [
              "tensor([0.1666, 0.1666, 0.1668, 0.1666, 0.1668, 0.1665])"
            ]
          },
          "metadata": {},
          "execution_count": 16
        }
      ],
      "source": [
        "# 将结果存储为32位浮点数以进行除法\n",
        "counts = multinomial.Multinomial(int(1e7), fair_probs).sample()\n",
        "counts / 1e7  # 相对频率作为估计值"
      ]
    },
    {
      "cell_type": "markdown",
      "id": "af0608f2",
      "metadata": {
        "origin_pos": 20,
        "id": "af0608f2"
      },
      "source": [
        "因为我们是从一个公平的骰子中生成的数据，我们知道每个结果都有真实的概率$\\frac{1}{6}$，\n",
        "大约是$0.167$，所以上面输出的估计值看起来不错。\n",
        "\n",
        "我们也可以看到这些概率如何随着时间的推移收敛到真实概率。\n",
        "让我们进行500组实验，每组抽取10个样本。\n"
      ]
    },
    {
      "cell_type": "code",
      "source": [
        "set_seed()\n",
        "counts=multinomial.Multinomial(10,fair_probs).sample((500,))\n",
        "counts"
      ],
      "metadata": {
        "id": "sjSnISH2NiUE",
        "outputId": "bfcb7cfe-171f-40b2-939e-d2ec591fb66a",
        "colab": {
          "base_uri": "https://localhost:8080/"
        }
      },
      "id": "sjSnISH2NiUE",
      "execution_count": 28,
      "outputs": [
        {
          "output_type": "execute_result",
          "data": {
            "text/plain": [
              "tensor([[3., 0., 2., 0., 3., 2.],\n",
              "        [2., 0., 1., 2., 4., 1.],\n",
              "        [2., 1., 1., 2., 2., 2.],\n",
              "        ...,\n",
              "        [1., 4., 2., 0., 3., 0.],\n",
              "        [2., 2., 0., 3., 2., 1.],\n",
              "        [1., 3., 2., 1., 2., 1.]])"
            ]
          },
          "metadata": {},
          "execution_count": 28
        }
      ]
    },
    {
      "cell_type": "code",
      "source": [
        "cum_counts=counts.cumsum(dim=0)\n",
        "cum_counts,cum_counts.shape"
      ],
      "metadata": {
        "id": "nclGfeVzONjy",
        "outputId": "fccd0fec-0ef4-479b-90c2-e923883dddf0",
        "colab": {
          "base_uri": "https://localhost:8080/"
        }
      },
      "id": "nclGfeVzONjy",
      "execution_count": 38,
      "outputs": [
        {
          "output_type": "execute_result",
          "data": {
            "text/plain": [
              "(tensor([[  5.,   0.,   3.,   1.,   1.,   0.],\n",
              "         [  6.,   0.,   5.,   4.,   3.,   2.],\n",
              "         [  8.,   1.,   7.,   6.,   5.,   3.],\n",
              "         ...,\n",
              "         [806., 800., 839., 863., 822., 850.],\n",
              "         [808., 801., 841., 863., 823., 854.],\n",
              "         [808., 801., 843., 865., 826., 857.]]),\n",
              " torch.Size([500, 6]))"
            ]
          },
          "metadata": {},
          "execution_count": 38
        }
      ]
    },
    {
      "cell_type": "code",
      "source": [
        "cum_counts.sum(dim=1,keepdim=True).shape"
      ],
      "metadata": {
        "id": "DvHvSin1QOfJ",
        "outputId": "737ebbfa-b8ce-4320-b583-f9c5e074c2e7",
        "colab": {
          "base_uri": "https://localhost:8080/"
        }
      },
      "id": "DvHvSin1QOfJ",
      "execution_count": 41,
      "outputs": [
        {
          "output_type": "execute_result",
          "data": {
            "text/plain": [
              "torch.Size([500, 1])"
            ]
          },
          "metadata": {},
          "execution_count": 41
        }
      ]
    },
    {
      "cell_type": "code",
      "source": [
        "estimates=cum_counts/cum_counts.sum(dim=1,keepdims=True)\n",
        "estimates,estimates.shape"
      ],
      "metadata": {
        "id": "x_WwcWImP0o9",
        "outputId": "e1aa5c20-3905-41de-fb4a-6e10400e3bd3",
        "colab": {
          "base_uri": "https://localhost:8080/"
        }
      },
      "id": "x_WwcWImP0o9",
      "execution_count": 42,
      "outputs": [
        {
          "output_type": "execute_result",
          "data": {
            "text/plain": [
              "(tensor([[0.5000, 0.0000, 0.3000, 0.1000, 0.1000, 0.0000],\n",
              "         [0.3000, 0.0000, 0.2500, 0.2000, 0.1500, 0.1000],\n",
              "         [0.2667, 0.0333, 0.2333, 0.2000, 0.1667, 0.1000],\n",
              "         ...,\n",
              "         [0.1618, 0.1606, 0.1685, 0.1733, 0.1651, 0.1707],\n",
              "         [0.1619, 0.1605, 0.1685, 0.1729, 0.1649, 0.1711],\n",
              "         [0.1616, 0.1602, 0.1686, 0.1730, 0.1652, 0.1714]]),\n",
              " torch.Size([500, 6]))"
            ]
          },
          "metadata": {},
          "execution_count": 42
        }
      ]
    },
    {
      "cell_type": "code",
      "execution_count": 32,
      "id": "ebe14d68",
      "metadata": {
        "execution": {
          "iopub.execute_input": "2023-08-18T07:03:55.143254Z",
          "iopub.status.busy": "2023-08-18T07:03:55.142607Z",
          "iopub.status.idle": "2023-08-18T07:03:55.387633Z",
          "shell.execute_reply": "2023-08-18T07:03:55.386483Z"
        },
        "origin_pos": 22,
        "tab": [
          "pytorch"
        ],
        "id": "ebe14d68",
        "outputId": "915b7c83-4cc4-495f-b875-9ad38ba8b539",
        "colab": {
          "base_uri": "https://localhost:8080/",
          "height": 413
        }
      },
      "outputs": [
        {
          "output_type": "display_data",
          "data": {
            "text/plain": [
              "<Figure size 600x450 with 1 Axes>"
            ],
            "image/svg+xml": "<?xml version=\"1.0\" encoding=\"utf-8\" standalone=\"no\"?>\n<!DOCTYPE svg PUBLIC \"-//W3C//DTD SVG 1.1//EN\"\n  \"http://www.w3.org/Graphics/SVG/1.1/DTD/svg11.dtd\">\n<svg xmlns:xlink=\"http://www.w3.org/1999/xlink\" width=\"385.78125pt\" height=\"294.23625pt\" viewBox=\"0 0 385.78125 294.23625\" xmlns=\"http://www.w3.org/2000/svg\" version=\"1.1\">\n <metadata>\n  <rdf:RDF xmlns:dc=\"http://purl.org/dc/elements/1.1/\" xmlns:cc=\"http://creativecommons.org/ns#\" xmlns:rdf=\"http://www.w3.org/1999/02/22-rdf-syntax-ns#\">\n   <cc:Work>\n    <dc:type rdf:resource=\"http://purl.org/dc/dcmitype/StillImage\"/>\n    <dc:date>2025-06-17T09:33:26.755475</dc:date>\n    <dc:format>image/svg+xml</dc:format>\n    <dc:creator>\n     <cc:Agent>\n      <dc:title>Matplotlib v3.7.2, https://matplotlib.org/</dc:title>\n     </cc:Agent>\n    </dc:creator>\n   </cc:Work>\n  </rdf:RDF>\n </metadata>\n <defs>\n  <style type=\"text/css\">*{stroke-linejoin: round; stroke-linecap: butt}</style>\n </defs>\n <g id=\"figure_1\">\n  <g id=\"patch_1\">\n   <path d=\"M 0 294.23625 \nL 385.78125 294.23625 \nL 385.78125 0 \nL 0 0 \nz\n\" style=\"fill: #ffffff\"/>\n  </g>\n  <g id=\"axes_1\">\n   <g id=\"patch_2\">\n    <path d=\"M 43.78125 256.68 \nL 378.58125 256.68 \nL 378.58125 7.2 \nL 43.78125 7.2 \nz\n\" style=\"fill: #ffffff\"/>\n   </g>\n   <g id=\"matplotlib.axis_1\">\n    <g id=\"xtick_1\">\n     <g id=\"line2d_1\">\n      <defs>\n       <path id=\"md4eb661f8f\" d=\"M 0 0 \nL 0 3.5 \n\" style=\"stroke: #000000; stroke-width: 0.8\"/>\n      </defs>\n      <g>\n       <use xlink:href=\"#md4eb661f8f\" x=\"58.999432\" y=\"256.68\" style=\"stroke: #000000; stroke-width: 0.8\"/>\n      </g>\n     </g>\n     <g id=\"text_1\">\n      <!-- 0 -->\n      <g transform=\"translate(55.818182 271.278437) scale(0.1 -0.1)\">\n       <defs>\n        <path id=\"DejaVuSans-30\" d=\"M 2034 4250 \nQ 1547 4250 1301 3770 \nQ 1056 3291 1056 2328 \nQ 1056 1369 1301 889 \nQ 1547 409 2034 409 \nQ 2525 409 2770 889 \nQ 3016 1369 3016 2328 \nQ 3016 3291 2770 3770 \nQ 2525 4250 2034 4250 \nz\nM 2034 4750 \nQ 2819 4750 3233 4129 \nQ 3647 3509 3647 2328 \nQ 3647 1150 3233 529 \nQ 2819 -91 2034 -91 \nQ 1250 -91 836 529 \nQ 422 1150 422 2328 \nQ 422 3509 836 4129 \nQ 1250 4750 2034 4750 \nz\n\" transform=\"scale(0.015625)\"/>\n       </defs>\n       <use xlink:href=\"#DejaVuSans-30\"/>\n      </g>\n     </g>\n    </g>\n    <g id=\"xtick_2\">\n     <g id=\"line2d_2\">\n      <g>\n       <use xlink:href=\"#md4eb661f8f\" x=\"119.994149\" y=\"256.68\" style=\"stroke: #000000; stroke-width: 0.8\"/>\n      </g>\n     </g>\n     <g id=\"text_2\">\n      <!-- 100 -->\n      <g transform=\"translate(110.450399 271.278437) scale(0.1 -0.1)\">\n       <defs>\n        <path id=\"DejaVuSans-31\" d=\"M 794 531 \nL 1825 531 \nL 1825 4091 \nL 703 3866 \nL 703 4441 \nL 1819 4666 \nL 2450 4666 \nL 2450 531 \nL 3481 531 \nL 3481 0 \nL 794 0 \nL 794 531 \nz\n\" transform=\"scale(0.015625)\"/>\n       </defs>\n       <use xlink:href=\"#DejaVuSans-31\"/>\n       <use xlink:href=\"#DejaVuSans-30\" x=\"63.623047\"/>\n       <use xlink:href=\"#DejaVuSans-30\" x=\"127.246094\"/>\n      </g>\n     </g>\n    </g>\n    <g id=\"xtick_3\">\n     <g id=\"line2d_3\">\n      <g>\n       <use xlink:href=\"#md4eb661f8f\" x=\"180.988865\" y=\"256.68\" style=\"stroke: #000000; stroke-width: 0.8\"/>\n      </g>\n     </g>\n     <g id=\"text_3\">\n      <!-- 200 -->\n      <g transform=\"translate(171.445115 271.278437) scale(0.1 -0.1)\">\n       <defs>\n        <path id=\"DejaVuSans-32\" d=\"M 1228 531 \nL 3431 531 \nL 3431 0 \nL 469 0 \nL 469 531 \nQ 828 903 1448 1529 \nQ 2069 2156 2228 2338 \nQ 2531 2678 2651 2914 \nQ 2772 3150 2772 3378 \nQ 2772 3750 2511 3984 \nQ 2250 4219 1831 4219 \nQ 1534 4219 1204 4116 \nQ 875 4013 500 3803 \nL 500 4441 \nQ 881 4594 1212 4672 \nQ 1544 4750 1819 4750 \nQ 2544 4750 2975 4387 \nQ 3406 4025 3406 3419 \nQ 3406 3131 3298 2873 \nQ 3191 2616 2906 2266 \nQ 2828 2175 2409 1742 \nQ 1991 1309 1228 531 \nz\n\" transform=\"scale(0.015625)\"/>\n       </defs>\n       <use xlink:href=\"#DejaVuSans-32\"/>\n       <use xlink:href=\"#DejaVuSans-30\" x=\"63.623047\"/>\n       <use xlink:href=\"#DejaVuSans-30\" x=\"127.246094\"/>\n      </g>\n     </g>\n    </g>\n    <g id=\"xtick_4\">\n     <g id=\"line2d_4\">\n      <g>\n       <use xlink:href=\"#md4eb661f8f\" x=\"241.983582\" y=\"256.68\" style=\"stroke: #000000; stroke-width: 0.8\"/>\n      </g>\n     </g>\n     <g id=\"text_4\">\n      <!-- 300 -->\n      <g transform=\"translate(232.439832 271.278437) scale(0.1 -0.1)\">\n       <defs>\n        <path id=\"DejaVuSans-33\" d=\"M 2597 2516 \nQ 3050 2419 3304 2112 \nQ 3559 1806 3559 1356 \nQ 3559 666 3084 287 \nQ 2609 -91 1734 -91 \nQ 1441 -91 1130 -33 \nQ 819 25 488 141 \nL 488 750 \nQ 750 597 1062 519 \nQ 1375 441 1716 441 \nQ 2309 441 2620 675 \nQ 2931 909 2931 1356 \nQ 2931 1769 2642 2001 \nQ 2353 2234 1838 2234 \nL 1294 2234 \nL 1294 2753 \nL 1863 2753 \nQ 2328 2753 2575 2939 \nQ 2822 3125 2822 3475 \nQ 2822 3834 2567 4026 \nQ 2313 4219 1838 4219 \nQ 1578 4219 1281 4162 \nQ 984 4106 628 3988 \nL 628 4550 \nQ 988 4650 1302 4700 \nQ 1616 4750 1894 4750 \nQ 2613 4750 3031 4423 \nQ 3450 4097 3450 3541 \nQ 3450 3153 3228 2886 \nQ 3006 2619 2597 2516 \nz\n\" transform=\"scale(0.015625)\"/>\n       </defs>\n       <use xlink:href=\"#DejaVuSans-33\"/>\n       <use xlink:href=\"#DejaVuSans-30\" x=\"63.623047\"/>\n       <use xlink:href=\"#DejaVuSans-30\" x=\"127.246094\"/>\n      </g>\n     </g>\n    </g>\n    <g id=\"xtick_5\">\n     <g id=\"line2d_5\">\n      <g>\n       <use xlink:href=\"#md4eb661f8f\" x=\"302.978299\" y=\"256.68\" style=\"stroke: #000000; stroke-width: 0.8\"/>\n      </g>\n     </g>\n     <g id=\"text_5\">\n      <!-- 400 -->\n      <g transform=\"translate(293.434549 271.278437) scale(0.1 -0.1)\">\n       <defs>\n        <path id=\"DejaVuSans-34\" d=\"M 2419 4116 \nL 825 1625 \nL 2419 1625 \nL 2419 4116 \nz\nM 2253 4666 \nL 3047 4666 \nL 3047 1625 \nL 3713 1625 \nL 3713 1100 \nL 3047 1100 \nL 3047 0 \nL 2419 0 \nL 2419 1100 \nL 313 1100 \nL 313 1709 \nL 2253 4666 \nz\n\" transform=\"scale(0.015625)\"/>\n       </defs>\n       <use xlink:href=\"#DejaVuSans-34\"/>\n       <use xlink:href=\"#DejaVuSans-30\" x=\"63.623047\"/>\n       <use xlink:href=\"#DejaVuSans-30\" x=\"127.246094\"/>\n      </g>\n     </g>\n    </g>\n    <g id=\"xtick_6\">\n     <g id=\"line2d_6\">\n      <g>\n       <use xlink:href=\"#md4eb661f8f\" x=\"363.973015\" y=\"256.68\" style=\"stroke: #000000; stroke-width: 0.8\"/>\n      </g>\n     </g>\n     <g id=\"text_6\">\n      <!-- 500 -->\n      <g transform=\"translate(354.429265 271.278437) scale(0.1 -0.1)\">\n       <defs>\n        <path id=\"DejaVuSans-35\" d=\"M 691 4666 \nL 3169 4666 \nL 3169 4134 \nL 1269 4134 \nL 1269 2991 \nQ 1406 3038 1543 3061 \nQ 1681 3084 1819 3084 \nQ 2600 3084 3056 2656 \nQ 3513 2228 3513 1497 \nQ 3513 744 3044 326 \nQ 2575 -91 1722 -91 \nQ 1428 -91 1123 -41 \nQ 819 9 494 109 \nL 494 744 \nQ 775 591 1075 516 \nQ 1375 441 1709 441 \nQ 2250 441 2565 725 \nQ 2881 1009 2881 1497 \nQ 2881 1984 2565 2268 \nQ 2250 2553 1709 2553 \nQ 1456 2553 1204 2497 \nQ 953 2441 691 2322 \nL 691 4666 \nz\n\" transform=\"scale(0.015625)\"/>\n       </defs>\n       <use xlink:href=\"#DejaVuSans-35\"/>\n       <use xlink:href=\"#DejaVuSans-30\" x=\"63.623047\"/>\n       <use xlink:href=\"#DejaVuSans-30\" x=\"127.246094\"/>\n      </g>\n     </g>\n    </g>\n    <g id=\"text_7\">\n     <!-- Groups of experiments -->\n     <g transform=\"translate(154.035156 284.956562) scale(0.1 -0.1)\">\n      <defs>\n       <path id=\"DejaVuSans-47\" d=\"M 3809 666 \nL 3809 1919 \nL 2778 1919 \nL 2778 2438 \nL 4434 2438 \nL 4434 434 \nQ 4069 175 3628 42 \nQ 3188 -91 2688 -91 \nQ 1594 -91 976 548 \nQ 359 1188 359 2328 \nQ 359 3472 976 4111 \nQ 1594 4750 2688 4750 \nQ 3144 4750 3555 4637 \nQ 3966 4525 4313 4306 \nL 4313 3634 \nQ 3963 3931 3569 4081 \nQ 3175 4231 2741 4231 \nQ 1884 4231 1454 3753 \nQ 1025 3275 1025 2328 \nQ 1025 1384 1454 906 \nQ 1884 428 2741 428 \nQ 3075 428 3337 486 \nQ 3600 544 3809 666 \nz\n\" transform=\"scale(0.015625)\"/>\n       <path id=\"DejaVuSans-72\" d=\"M 2631 2963 \nQ 2534 3019 2420 3045 \nQ 2306 3072 2169 3072 \nQ 1681 3072 1420 2755 \nQ 1159 2438 1159 1844 \nL 1159 0 \nL 581 0 \nL 581 3500 \nL 1159 3500 \nL 1159 2956 \nQ 1341 3275 1631 3429 \nQ 1922 3584 2338 3584 \nQ 2397 3584 2469 3576 \nQ 2541 3569 2628 3553 \nL 2631 2963 \nz\n\" transform=\"scale(0.015625)\"/>\n       <path id=\"DejaVuSans-6f\" d=\"M 1959 3097 \nQ 1497 3097 1228 2736 \nQ 959 2375 959 1747 \nQ 959 1119 1226 758 \nQ 1494 397 1959 397 \nQ 2419 397 2687 759 \nQ 2956 1122 2956 1747 \nQ 2956 2369 2687 2733 \nQ 2419 3097 1959 3097 \nz\nM 1959 3584 \nQ 2709 3584 3137 3096 \nQ 3566 2609 3566 1747 \nQ 3566 888 3137 398 \nQ 2709 -91 1959 -91 \nQ 1206 -91 779 398 \nQ 353 888 353 1747 \nQ 353 2609 779 3096 \nQ 1206 3584 1959 3584 \nz\n\" transform=\"scale(0.015625)\"/>\n       <path id=\"DejaVuSans-75\" d=\"M 544 1381 \nL 544 3500 \nL 1119 3500 \nL 1119 1403 \nQ 1119 906 1312 657 \nQ 1506 409 1894 409 \nQ 2359 409 2629 706 \nQ 2900 1003 2900 1516 \nL 2900 3500 \nL 3475 3500 \nL 3475 0 \nL 2900 0 \nL 2900 538 \nQ 2691 219 2414 64 \nQ 2138 -91 1772 -91 \nQ 1169 -91 856 284 \nQ 544 659 544 1381 \nz\nM 1991 3584 \nL 1991 3584 \nz\n\" transform=\"scale(0.015625)\"/>\n       <path id=\"DejaVuSans-70\" d=\"M 1159 525 \nL 1159 -1331 \nL 581 -1331 \nL 581 3500 \nL 1159 3500 \nL 1159 2969 \nQ 1341 3281 1617 3432 \nQ 1894 3584 2278 3584 \nQ 2916 3584 3314 3078 \nQ 3713 2572 3713 1747 \nQ 3713 922 3314 415 \nQ 2916 -91 2278 -91 \nQ 1894 -91 1617 61 \nQ 1341 213 1159 525 \nz\nM 3116 1747 \nQ 3116 2381 2855 2742 \nQ 2594 3103 2138 3103 \nQ 1681 3103 1420 2742 \nQ 1159 2381 1159 1747 \nQ 1159 1113 1420 752 \nQ 1681 391 2138 391 \nQ 2594 391 2855 752 \nQ 3116 1113 3116 1747 \nz\n\" transform=\"scale(0.015625)\"/>\n       <path id=\"DejaVuSans-73\" d=\"M 2834 3397 \nL 2834 2853 \nQ 2591 2978 2328 3040 \nQ 2066 3103 1784 3103 \nQ 1356 3103 1142 2972 \nQ 928 2841 928 2578 \nQ 928 2378 1081 2264 \nQ 1234 2150 1697 2047 \nL 1894 2003 \nQ 2506 1872 2764 1633 \nQ 3022 1394 3022 966 \nQ 3022 478 2636 193 \nQ 2250 -91 1575 -91 \nQ 1294 -91 989 -36 \nQ 684 19 347 128 \nL 347 722 \nQ 666 556 975 473 \nQ 1284 391 1588 391 \nQ 1994 391 2212 530 \nQ 2431 669 2431 922 \nQ 2431 1156 2273 1281 \nQ 2116 1406 1581 1522 \nL 1381 1569 \nQ 847 1681 609 1914 \nQ 372 2147 372 2553 \nQ 372 3047 722 3315 \nQ 1072 3584 1716 3584 \nQ 2034 3584 2315 3537 \nQ 2597 3491 2834 3397 \nz\n\" transform=\"scale(0.015625)\"/>\n       <path id=\"DejaVuSans-20\" transform=\"scale(0.015625)\"/>\n       <path id=\"DejaVuSans-66\" d=\"M 2375 4863 \nL 2375 4384 \nL 1825 4384 \nQ 1516 4384 1395 4259 \nQ 1275 4134 1275 3809 \nL 1275 3500 \nL 2222 3500 \nL 2222 3053 \nL 1275 3053 \nL 1275 0 \nL 697 0 \nL 697 3053 \nL 147 3053 \nL 147 3500 \nL 697 3500 \nL 697 3744 \nQ 697 4328 969 4595 \nQ 1241 4863 1831 4863 \nL 2375 4863 \nz\n\" transform=\"scale(0.015625)\"/>\n       <path id=\"DejaVuSans-65\" d=\"M 3597 1894 \nL 3597 1613 \nL 953 1613 \nQ 991 1019 1311 708 \nQ 1631 397 2203 397 \nQ 2534 397 2845 478 \nQ 3156 559 3463 722 \nL 3463 178 \nQ 3153 47 2828 -22 \nQ 2503 -91 2169 -91 \nQ 1331 -91 842 396 \nQ 353 884 353 1716 \nQ 353 2575 817 3079 \nQ 1281 3584 2069 3584 \nQ 2775 3584 3186 3129 \nQ 3597 2675 3597 1894 \nz\nM 3022 2063 \nQ 3016 2534 2758 2815 \nQ 2500 3097 2075 3097 \nQ 1594 3097 1305 2825 \nQ 1016 2553 972 2059 \nL 3022 2063 \nz\n\" transform=\"scale(0.015625)\"/>\n       <path id=\"DejaVuSans-78\" d=\"M 3513 3500 \nL 2247 1797 \nL 3578 0 \nL 2900 0 \nL 1881 1375 \nL 863 0 \nL 184 0 \nL 1544 1831 \nL 300 3500 \nL 978 3500 \nL 1906 2253 \nL 2834 3500 \nL 3513 3500 \nz\n\" transform=\"scale(0.015625)\"/>\n       <path id=\"DejaVuSans-69\" d=\"M 603 3500 \nL 1178 3500 \nL 1178 0 \nL 603 0 \nL 603 3500 \nz\nM 603 4863 \nL 1178 4863 \nL 1178 4134 \nL 603 4134 \nL 603 4863 \nz\n\" transform=\"scale(0.015625)\"/>\n       <path id=\"DejaVuSans-6d\" d=\"M 3328 2828 \nQ 3544 3216 3844 3400 \nQ 4144 3584 4550 3584 \nQ 5097 3584 5394 3201 \nQ 5691 2819 5691 2113 \nL 5691 0 \nL 5113 0 \nL 5113 2094 \nQ 5113 2597 4934 2840 \nQ 4756 3084 4391 3084 \nQ 3944 3084 3684 2787 \nQ 3425 2491 3425 1978 \nL 3425 0 \nL 2847 0 \nL 2847 2094 \nQ 2847 2600 2669 2842 \nQ 2491 3084 2119 3084 \nQ 1678 3084 1418 2786 \nQ 1159 2488 1159 1978 \nL 1159 0 \nL 581 0 \nL 581 3500 \nL 1159 3500 \nL 1159 2956 \nQ 1356 3278 1631 3431 \nQ 1906 3584 2284 3584 \nQ 2666 3584 2933 3390 \nQ 3200 3197 3328 2828 \nz\n\" transform=\"scale(0.015625)\"/>\n       <path id=\"DejaVuSans-6e\" d=\"M 3513 2113 \nL 3513 0 \nL 2938 0 \nL 2938 2094 \nQ 2938 2591 2744 2837 \nQ 2550 3084 2163 3084 \nQ 1697 3084 1428 2787 \nQ 1159 2491 1159 1978 \nL 1159 0 \nL 581 0 \nL 581 3500 \nL 1159 3500 \nL 1159 2956 \nQ 1366 3272 1645 3428 \nQ 1925 3584 2291 3584 \nQ 2894 3584 3203 3211 \nQ 3513 2838 3513 2113 \nz\n\" transform=\"scale(0.015625)\"/>\n       <path id=\"DejaVuSans-74\" d=\"M 1172 4494 \nL 1172 3500 \nL 2356 3500 \nL 2356 3053 \nL 1172 3053 \nL 1172 1153 \nQ 1172 725 1289 603 \nQ 1406 481 1766 481 \nL 2356 481 \nL 2356 0 \nL 1766 0 \nQ 1100 0 847 248 \nQ 594 497 594 1153 \nL 594 3053 \nL 172 3053 \nL 172 3500 \nL 594 3500 \nL 594 4494 \nL 1172 4494 \nz\n\" transform=\"scale(0.015625)\"/>\n      </defs>\n      <use xlink:href=\"#DejaVuSans-47\"/>\n      <use xlink:href=\"#DejaVuSans-72\" x=\"77.490234\"/>\n      <use xlink:href=\"#DejaVuSans-6f\" x=\"116.353516\"/>\n      <use xlink:href=\"#DejaVuSans-75\" x=\"177.535156\"/>\n      <use xlink:href=\"#DejaVuSans-70\" x=\"240.914062\"/>\n      <use xlink:href=\"#DejaVuSans-73\" x=\"304.390625\"/>\n      <use xlink:href=\"#DejaVuSans-20\" x=\"356.490234\"/>\n      <use xlink:href=\"#DejaVuSans-6f\" x=\"388.277344\"/>\n      <use xlink:href=\"#DejaVuSans-66\" x=\"449.458984\"/>\n      <use xlink:href=\"#DejaVuSans-20\" x=\"484.664062\"/>\n      <use xlink:href=\"#DejaVuSans-65\" x=\"516.451172\"/>\n      <use xlink:href=\"#DejaVuSans-78\" x=\"576.224609\"/>\n      <use xlink:href=\"#DejaVuSans-70\" x=\"635.404297\"/>\n      <use xlink:href=\"#DejaVuSans-65\" x=\"698.880859\"/>\n      <use xlink:href=\"#DejaVuSans-72\" x=\"760.404297\"/>\n      <use xlink:href=\"#DejaVuSans-69\" x=\"801.517578\"/>\n      <use xlink:href=\"#DejaVuSans-6d\" x=\"829.300781\"/>\n      <use xlink:href=\"#DejaVuSans-65\" x=\"926.712891\"/>\n      <use xlink:href=\"#DejaVuSans-6e\" x=\"988.236328\"/>\n      <use xlink:href=\"#DejaVuSans-74\" x=\"1051.615234\"/>\n      <use xlink:href=\"#DejaVuSans-73\" x=\"1090.824219\"/>\n     </g>\n    </g>\n   </g>\n   <g id=\"matplotlib.axis_2\">\n    <g id=\"ytick_1\">\n     <g id=\"line2d_7\">\n      <defs>\n       <path id=\"mcb8e07e970\" d=\"M 0 0 \nL -3.5 0 \n\" style=\"stroke: #000000; stroke-width: 0.8\"/>\n      </defs>\n      <g>\n       <use xlink:href=\"#mcb8e07e970\" x=\"43.78125\" y=\"245.34\" style=\"stroke: #000000; stroke-width: 0.8\"/>\n      </g>\n     </g>\n     <g id=\"text_8\">\n      <!-- 0.0 -->\n      <g transform=\"translate(20.878125 249.139219) scale(0.1 -0.1)\">\n       <defs>\n        <path id=\"DejaVuSans-2e\" d=\"M 684 794 \nL 1344 794 \nL 1344 0 \nL 684 0 \nL 684 794 \nz\n\" transform=\"scale(0.015625)\"/>\n       </defs>\n       <use xlink:href=\"#DejaVuSans-30\"/>\n       <use xlink:href=\"#DejaVuSans-2e\" x=\"63.623047\"/>\n       <use xlink:href=\"#DejaVuSans-30\" x=\"95.410156\"/>\n      </g>\n     </g>\n    </g>\n    <g id=\"ytick_2\">\n     <g id=\"line2d_8\">\n      <g>\n       <use xlink:href=\"#mcb8e07e970\" x=\"43.78125\" y=\"199.98\" style=\"stroke: #000000; stroke-width: 0.8\"/>\n      </g>\n     </g>\n     <g id=\"text_9\">\n      <!-- 0.1 -->\n      <g transform=\"translate(20.878125 203.779219) scale(0.1 -0.1)\">\n       <use xlink:href=\"#DejaVuSans-30\"/>\n       <use xlink:href=\"#DejaVuSans-2e\" x=\"63.623047\"/>\n       <use xlink:href=\"#DejaVuSans-31\" x=\"95.410156\"/>\n      </g>\n     </g>\n    </g>\n    <g id=\"ytick_3\">\n     <g id=\"line2d_9\">\n      <g>\n       <use xlink:href=\"#mcb8e07e970\" x=\"43.78125\" y=\"154.62\" style=\"stroke: #000000; stroke-width: 0.8\"/>\n      </g>\n     </g>\n     <g id=\"text_10\">\n      <!-- 0.2 -->\n      <g transform=\"translate(20.878125 158.419219) scale(0.1 -0.1)\">\n       <use xlink:href=\"#DejaVuSans-30\"/>\n       <use xlink:href=\"#DejaVuSans-2e\" x=\"63.623047\"/>\n       <use xlink:href=\"#DejaVuSans-32\" x=\"95.410156\"/>\n      </g>\n     </g>\n    </g>\n    <g id=\"ytick_4\">\n     <g id=\"line2d_10\">\n      <g>\n       <use xlink:href=\"#mcb8e07e970\" x=\"43.78125\" y=\"109.26\" style=\"stroke: #000000; stroke-width: 0.8\"/>\n      </g>\n     </g>\n     <g id=\"text_11\">\n      <!-- 0.3 -->\n      <g transform=\"translate(20.878125 113.059219) scale(0.1 -0.1)\">\n       <use xlink:href=\"#DejaVuSans-30\"/>\n       <use xlink:href=\"#DejaVuSans-2e\" x=\"63.623047\"/>\n       <use xlink:href=\"#DejaVuSans-33\" x=\"95.410156\"/>\n      </g>\n     </g>\n    </g>\n    <g id=\"ytick_5\">\n     <g id=\"line2d_11\">\n      <g>\n       <use xlink:href=\"#mcb8e07e970\" x=\"43.78125\" y=\"63.9\" style=\"stroke: #000000; stroke-width: 0.8\"/>\n      </g>\n     </g>\n     <g id=\"text_12\">\n      <!-- 0.4 -->\n      <g transform=\"translate(20.878125 67.699219) scale(0.1 -0.1)\">\n       <use xlink:href=\"#DejaVuSans-30\"/>\n       <use xlink:href=\"#DejaVuSans-2e\" x=\"63.623047\"/>\n       <use xlink:href=\"#DejaVuSans-34\" x=\"95.410156\"/>\n      </g>\n     </g>\n    </g>\n    <g id=\"ytick_6\">\n     <g id=\"line2d_12\">\n      <g>\n       <use xlink:href=\"#mcb8e07e970\" x=\"43.78125\" y=\"18.54\" style=\"stroke: #000000; stroke-width: 0.8\"/>\n      </g>\n     </g>\n     <g id=\"text_13\">\n      <!-- 0.5 -->\n      <g transform=\"translate(20.878125 22.339219) scale(0.1 -0.1)\">\n       <use xlink:href=\"#DejaVuSans-30\"/>\n       <use xlink:href=\"#DejaVuSans-2e\" x=\"63.623047\"/>\n       <use xlink:href=\"#DejaVuSans-35\" x=\"95.410156\"/>\n      </g>\n     </g>\n    </g>\n    <g id=\"text_14\">\n     <!-- Estimated probability -->\n     <g transform=\"translate(14.798438 185.463437) rotate(-90) scale(0.1 -0.1)\">\n      <defs>\n       <path id=\"DejaVuSans-45\" d=\"M 628 4666 \nL 3578 4666 \nL 3578 4134 \nL 1259 4134 \nL 1259 2753 \nL 3481 2753 \nL 3481 2222 \nL 1259 2222 \nL 1259 531 \nL 3634 531 \nL 3634 0 \nL 628 0 \nL 628 4666 \nz\n\" transform=\"scale(0.015625)\"/>\n       <path id=\"DejaVuSans-61\" d=\"M 2194 1759 \nQ 1497 1759 1228 1600 \nQ 959 1441 959 1056 \nQ 959 750 1161 570 \nQ 1363 391 1709 391 \nQ 2188 391 2477 730 \nQ 2766 1069 2766 1631 \nL 2766 1759 \nL 2194 1759 \nz\nM 3341 1997 \nL 3341 0 \nL 2766 0 \nL 2766 531 \nQ 2569 213 2275 61 \nQ 1981 -91 1556 -91 \nQ 1019 -91 701 211 \nQ 384 513 384 1019 \nQ 384 1609 779 1909 \nQ 1175 2209 1959 2209 \nL 2766 2209 \nL 2766 2266 \nQ 2766 2663 2505 2880 \nQ 2244 3097 1772 3097 \nQ 1472 3097 1187 3025 \nQ 903 2953 641 2809 \nL 641 3341 \nQ 956 3463 1253 3523 \nQ 1550 3584 1831 3584 \nQ 2591 3584 2966 3190 \nQ 3341 2797 3341 1997 \nz\n\" transform=\"scale(0.015625)\"/>\n       <path id=\"DejaVuSans-64\" d=\"M 2906 2969 \nL 2906 4863 \nL 3481 4863 \nL 3481 0 \nL 2906 0 \nL 2906 525 \nQ 2725 213 2448 61 \nQ 2172 -91 1784 -91 \nQ 1150 -91 751 415 \nQ 353 922 353 1747 \nQ 353 2572 751 3078 \nQ 1150 3584 1784 3584 \nQ 2172 3584 2448 3432 \nQ 2725 3281 2906 2969 \nz\nM 947 1747 \nQ 947 1113 1208 752 \nQ 1469 391 1925 391 \nQ 2381 391 2643 752 \nQ 2906 1113 2906 1747 \nQ 2906 2381 2643 2742 \nQ 2381 3103 1925 3103 \nQ 1469 3103 1208 2742 \nQ 947 2381 947 1747 \nz\n\" transform=\"scale(0.015625)\"/>\n       <path id=\"DejaVuSans-62\" d=\"M 3116 1747 \nQ 3116 2381 2855 2742 \nQ 2594 3103 2138 3103 \nQ 1681 3103 1420 2742 \nQ 1159 2381 1159 1747 \nQ 1159 1113 1420 752 \nQ 1681 391 2138 391 \nQ 2594 391 2855 752 \nQ 3116 1113 3116 1747 \nz\nM 1159 2969 \nQ 1341 3281 1617 3432 \nQ 1894 3584 2278 3584 \nQ 2916 3584 3314 3078 \nQ 3713 2572 3713 1747 \nQ 3713 922 3314 415 \nQ 2916 -91 2278 -91 \nQ 1894 -91 1617 61 \nQ 1341 213 1159 525 \nL 1159 0 \nL 581 0 \nL 581 4863 \nL 1159 4863 \nL 1159 2969 \nz\n\" transform=\"scale(0.015625)\"/>\n       <path id=\"DejaVuSans-6c\" d=\"M 603 4863 \nL 1178 4863 \nL 1178 0 \nL 603 0 \nL 603 4863 \nz\n\" transform=\"scale(0.015625)\"/>\n       <path id=\"DejaVuSans-79\" d=\"M 2059 -325 \nQ 1816 -950 1584 -1140 \nQ 1353 -1331 966 -1331 \nL 506 -1331 \nL 506 -850 \nL 844 -850 \nQ 1081 -850 1212 -737 \nQ 1344 -625 1503 -206 \nL 1606 56 \nL 191 3500 \nL 800 3500 \nL 1894 763 \nL 2988 3500 \nL 3597 3500 \nL 2059 -325 \nz\n\" transform=\"scale(0.015625)\"/>\n      </defs>\n      <use xlink:href=\"#DejaVuSans-45\"/>\n      <use xlink:href=\"#DejaVuSans-73\" x=\"63.183594\"/>\n      <use xlink:href=\"#DejaVuSans-74\" x=\"115.283203\"/>\n      <use xlink:href=\"#DejaVuSans-69\" x=\"154.492188\"/>\n      <use xlink:href=\"#DejaVuSans-6d\" x=\"182.275391\"/>\n      <use xlink:href=\"#DejaVuSans-61\" x=\"279.6875\"/>\n      <use xlink:href=\"#DejaVuSans-74\" x=\"340.966797\"/>\n      <use xlink:href=\"#DejaVuSans-65\" x=\"380.175781\"/>\n      <use xlink:href=\"#DejaVuSans-64\" x=\"441.699219\"/>\n      <use xlink:href=\"#DejaVuSans-20\" x=\"505.175781\"/>\n      <use xlink:href=\"#DejaVuSans-70\" x=\"536.962891\"/>\n      <use xlink:href=\"#DejaVuSans-72\" x=\"600.439453\"/>\n      <use xlink:href=\"#DejaVuSans-6f\" x=\"639.302734\"/>\n      <use xlink:href=\"#DejaVuSans-62\" x=\"700.484375\"/>\n      <use xlink:href=\"#DejaVuSans-61\" x=\"763.960938\"/>\n      <use xlink:href=\"#DejaVuSans-62\" x=\"825.240234\"/>\n      <use xlink:href=\"#DejaVuSans-69\" x=\"888.716797\"/>\n      <use xlink:href=\"#DejaVuSans-6c\" x=\"916.5\"/>\n      <use xlink:href=\"#DejaVuSans-69\" x=\"944.283203\"/>\n      <use xlink:href=\"#DejaVuSans-74\" x=\"972.066406\"/>\n      <use xlink:href=\"#DejaVuSans-79\" x=\"1011.275391\"/>\n     </g>\n    </g>\n   </g>\n   <g id=\"line2d_13\">\n    <path d=\"M 58.999432 18.54 \nL 59.609379 109.259995 \nL 60.219326 124.379994 \nL 60.829273 131.94 \nL 61.43922 118.331999 \nL 62.049168 131.94 \nL 62.659115 148.139999 \nL 63.879009 149.579999 \nL 64.488956 154.619999 \nL 65.098903 150.496366 \nL 65.708851 150.840002 \nL 66.318798 154.619999 \nL 66.928745 144.899999 \nL 67.538692 148.571998 \nL 68.148639 146.115 \nL 68.758586 149.283528 \nL 69.368534 149.579999 \nL 69.978481 154.619999 \nL 71.198375 150.299999 \nL 71.808322 148.434543 \nL 72.418269 148.703477 \nL 73.028217 150.840002 \nL 73.638164 150.991198 \nL 74.248111 149.386153 \nL 74.858058 149.579999 \nL 75.468005 153.000002 \nL 76.077952 153.05586 \nL 76.6879 156.131997 \nL 77.297847 156.083223 \nL 77.907794 158.872501 \nL 78.517741 160.118182 \nL 79.127688 162.624704 \nL 79.737635 163.691997 \nL 80.347583 165.960001 \nL 80.95753 163.201619 \nL 82.177424 165.08769 \nL 83.397319 164.577076 \nL 84.007266 166.499998 \nL 84.617213 165.168834 \nL 85.22716 164.929093 \nL 85.837107 163.691997 \nL 86.447054 164.480873 \nL 87.057002 162.340853 \nL 87.666949 163.124997 \nL 88.276896 162.025713 \nL 88.886843 163.691997 \nL 89.49679 164.403527 \nL 90.106737 165.960001 \nL 90.716685 166.601886 \nL 91.326632 164.699998 \nL 91.936579 164.51673 \nL 93.156473 165.761052 \nL 93.76642 165.568963 \nL 94.986315 163.691997 \nL 95.596262 165.030494 \nL 96.206209 165.594195 \nL 96.816156 166.859998 \nL 97.426103 166.668747 \nL 98.645998 164.929093 \nL 99.255945 166.129251 \nL 99.865892 164.625884 \nL 100.475839 165.138262 \nL 101.085786 164.987999 \nL 101.695734 163.564228 \nL 102.915628 163.319181 \nL 103.525575 162.588651 \nL 104.135522 163.0872 \nL 104.745469 161.782106 \nL 105.355417 162.278182 \nL 106.575311 162.084302 \nL 107.185258 161.423999 \nL 107.795205 161.340003 \nL 109.0151 162.271085 \nL 109.625047 161.099998 \nL 110.234994 162.091061 \nL 110.844941 161.476747 \nL 111.454888 161.919311 \nL 112.674783 163.793932 \nL 113.28473 164.196001 \nL 113.894677 165.08769 \nL 115.114571 165.838066 \nL 116.944413 164.070003 \nL 117.55436 163.972577 \nL 118.164307 163.414283 \nL 119.994149 163.153068 \nL 120.604096 162.624704 \nL 121.214043 162.546987 \nL 121.82399 162.906926 \nL 122.433937 163.691997 \nL 123.043884 163.178489 \nL 123.653832 163.52243 \nL 124.263779 164.279997 \nL 124.873726 164.191378 \nL 127.923462 165.761052 \nL 128.533409 165.269742 \nL 129.143356 165.568963 \nL 129.753303 166.250767 \nL 130.36325 166.152205 \nL 130.973198 166.436469 \nL 131.583145 165.960001 \nL 132.193092 166.616033 \nL 132.803039 166.889508 \nL 133.412986 166.052196 \nL 135.242828 165.779998 \nL 135.852775 165.334961 \nL 136.462722 164.188126 \nL 137.072669 164.465583 \nL 138.902511 164.241821 \nL 139.512458 164.510525 \nL 140.122405 163.759703 \nL 140.732352 164.028002 \nL 141.342299 163.958822 \nL 142.562194 164.480873 \nL 143.172141 164.409928 \nL 143.782088 164.663999 \nL 144.392035 163.949359 \nL 145.001982 164.203098 \nL 145.61193 163.81888 \nL 146.221877 164.070003 \nL 146.831824 164.004825 \nL 147.441771 164.561915 \nL 148.051718 164.494283 \nL 149.88156 165.204002 \nL 150.491507 165.13391 \nL 151.101454 165.36316 \nL 151.711401 164.996469 \nL 152.931296 166.033163 \nL 153.541243 166.250767 \nL 154.15119 165.887773 \nL 154.761137 166.390635 \nL 155.371084 166.316601 \nL 155.981031 166.527001 \nL 156.590979 166.171306 \nL 157.200926 166.660001 \nL 157.810873 166.586137 \nL 158.42082 167.066342 \nL 159.030767 166.990909 \nL 159.640714 167.462889 \nL 161.470556 168.040121 \nL 162.080503 167.694356 \nL 162.69045 168.148424 \nL 163.300397 168.33349 \nL 163.910345 167.992023 \nL 164.520292 168.175859 \nL 165.130239 167.839198 \nL 166.96008 168.380898 \nL 167.570028 168.050612 \nL 168.179975 168.227999 \nL 168.789922 167.902207 \nL 169.399869 167.829229 \nL 170.009816 168.00492 \nL 170.619763 167.932171 \nL 171.839658 167.30129 \nL 172.449605 167.718608 \nL 173.059552 167.407659 \nL 173.669499 167.579998 \nL 174.279446 167.511791 \nL 174.889394 167.919267 \nL 175.499341 167.141247 \nL 176.109288 166.841349 \nL 176.719235 167.24598 \nL 177.939129 167.579998 \nL 178.549077 167.514211 \nL 179.159024 166.990909 \nL 180.378918 166.867203 \nL 180.988865 167.257613 \nL 181.598812 166.970497 \nL 182.818707 167.294119 \nL 184.038601 167.171068 \nL 184.648548 167.329564 \nL 185.868443 168.076073 \nL 187.088337 168.378485 \nL 187.698284 167.885661 \nL 188.308231 167.823382 \nL 190.138073 167.009997 \nL 191.967914 167.461645 \nL 192.577861 167.197091 \nL 193.187809 167.345428 \nL 193.797756 167.696756 \nL 194.407703 167.841524 \nL 195.01765 167.782503 \nL 195.627597 167.320797 \nL 196.237544 167.264602 \nL 198.067386 167.693187 \nL 198.677333 167.636349 \nL 199.28728 167.776365 \nL 199.897227 167.328618 \nL 200.507175 167.274078 \nL 201.117122 167.413844 \nL 201.727069 167.745449 \nL 202.337016 167.497624 \nL 202.946963 167.634686 \nL 204.166858 168.284938 \nL 205.386752 168.171533 \nL 205.996699 168.49041 \nL 207.216593 168.748523 \nL 207.826541 168.505713 \nL 208.436488 168.633657 \nL 209.046435 168.944207 \nL 209.656382 168.703547 \nL 210.266329 168.829159 \nL 211.486224 168.715937 \nL 212.096171 168.840001 \nL 212.706118 168.783792 \nL 213.316065 168.549452 \nL 213.926012 168.672705 \nL 215.145907 168.210351 \nL 215.755854 168.157677 \nL 216.365801 168.455675 \nL 216.975748 168.576921 \nL 217.585695 168.523449 \nL 218.195642 168.816641 \nL 218.80559 168.590189 \nL 219.415537 168.537272 \nL 220.635431 169.114734 \nL 222.465273 169.458958 \nL 223.07522 169.404 \nL 223.685167 169.516824 \nL 224.295114 169.295292 \nL 225.515008 169.51927 \nL 226.124956 169.465089 \nL 226.734903 169.246957 \nL 228.564744 169.57742 \nL 229.174691 169.361998 \nL 229.784639 168.825266 \nL 230.394586 168.774897 \nL 231.004533 168.885159 \nL 231.61448 168.675213 \nL 233.444322 169.002437 \nL 234.054269 169.267498 \nL 234.664216 169.373773 \nL 235.274163 169.322896 \nL 236.494057 169.532877 \nL 237.104005 169.327168 \nL 237.713952 169.431428 \nL 238.323899 169.227457 \nL 238.933846 169.484596 \nL 239.543793 169.434544 \nL 240.15374 169.689263 \nL 240.763688 169.487158 \nL 241.373635 169.588802 \nL 241.983582 169.840466 \nL 242.593529 169.790063 \nL 243.203476 169.8897 \nL 243.813423 169.39184 \nL 245.033318 168.998821 \nL 245.643265 169.099742 \nL 246.253212 168.905457 \nL 246.863159 168.859224 \nL 247.473106 168.959611 \nL 248.083054 168.767651 \nL 248.693001 169.013076 \nL 249.302948 168.82217 \nL 250.522842 169.019998 \nL 251.132789 168.974427 \nL 254.182525 169.457383 \nL 254.792472 169.693042 \nL 255.40242 169.646377 \nL 256.012367 169.459999 \nL 256.622314 169.553904 \nL 257.842208 169.462568 \nL 258.452155 169.14073 \nL 259.67205 169.602543 \nL 260.281997 169.694319 \nL 261.501891 169.603787 \nL 263.94168 169.964334 \nL 264.551627 169.918933 \nL 265.771521 170.095766 \nL 266.381469 170.316419 \nL 266.991416 170.270525 \nL 268.21131 169.915817 \nL 268.821257 170.002956 \nL 270.041152 169.652852 \nL 270.651099 169.739998 \nL 271.261046 169.696678 \nL 271.870993 169.783202 \nL 272.48094 169.739998 \nL 273.090887 169.95477 \nL 273.700835 169.911329 \nL 274.310782 169.611864 \nL 274.920729 169.441858 \nL 275.530676 169.527638 \nL 276.140623 169.231762 \nL 277.360518 169.150362 \nL 277.970465 169.361998 \nL 278.580412 169.446812 \nL 279.190359 169.656461 \nL 279.800306 169.739998 \nL 280.410253 169.698463 \nL 281.020201 169.532877 \nL 281.630148 169.492132 \nL 282.240095 169.204415 \nL 282.850042 169.288046 \nL 283.459989 169.494147 \nL 284.069936 169.331352 \nL 285.289831 169.496127 \nL 285.899778 169.699463 \nL 286.509725 169.780431 \nL 287.119672 169.981922 \nL 288.339567 169.900427 \nL 288.949514 170.099998 \nL 291.99925 170.490076 \nL 292.609197 170.44875 \nL 293.219144 170.643273 \nL 293.829091 170.601764 \nL 295.658933 170.828332 \nL 296.26888 170.670465 \nL 296.878827 170.629409 \nL 297.488774 170.819998 \nL 298.098721 170.77878 \nL 298.708668 170.852895 \nL 299.318616 170.696961 \nL 300.53851 170.615972 \nL 304.198193 171.053148 \nL 304.80814 171.012478 \nL 305.418087 171.083997 \nL 306.028034 171.043449 \nL 307.247929 171.185297 \nL 310.297665 170.984746 \nL 310.907612 170.726086 \nL 312.127506 170.757692 \nL 312.737453 170.610213 \nL 315.787189 170.850711 \nL 317.617031 170.949598 \nL 318.226978 170.80479 \nL 318.836925 170.873118 \nL 320.056819 170.691607 \nL 322.496608 170.647896 \nL 327.376185 171.077143 \nL 332.86571 171.554401 \nL 334.695551 171.842781 \nL 335.305498 171.605021 \nL 336.525393 171.530528 \nL 337.13534 171.692038 \nL 338.355234 171.518821 \nL 338.965181 171.482085 \nL 340.185076 171.703637 \nL 341.40497 171.630003 \nL 342.014917 171.788519 \nL 343.234812 171.423598 \nL 346.284548 171.630003 \nL 347.504442 171.366835 \nL 348.724336 171.391762 \nL 350.554178 171.381421 \nL 351.774072 171.688943 \nL 353.603914 171.395703 \nL 355.433755 171.385503 \nL 356.653649 171.502457 \nL 357.263597 171.375425 \nL 358.483491 171.583905 \nL 360.313332 171.847634 \nL 360.92328 171.995809 \nL 361.533227 171.869575 \nL 363.363068 172.038243 \nL 363.363068 172.038243 \n\" clip-path=\"url(#pf8a832cc85)\" style=\"fill: none; stroke: #1f77b4; stroke-width: 1.5; stroke-linecap: square\"/>\n   </g>\n   <g id=\"line2d_14\">\n    <path d=\"M 58.999432 245.34 \nL 59.609379 245.34 \nL 60.219326 230.219999 \nL 60.829273 222.66 \nL 61.43922 209.052001 \nL 62.049168 199.979999 \nL 62.659115 199.979999 \nL 63.269062 182.969999 \nL 63.879009 174.779997 \nL 64.488956 168.227999 \nL 65.708851 165.960001 \nL 66.318798 168.576921 \nL 66.928745 167.579998 \nL 67.538692 169.739998 \nL 68.148639 174.465 \nL 68.758586 167.961174 \nL 69.368534 167.219998 \nL 69.978481 168.944207 \nL 70.588428 168.227999 \nL 71.198375 169.739998 \nL 71.808322 173.176365 \nL 72.418269 168.425218 \nL 73.028217 165.960001 \nL 74.248111 168.576921 \nL 74.858058 169.739998 \nL 75.468005 167.579998 \nL 76.077952 167.133102 \nL 76.6879 168.227999 \nL 77.297847 166.325807 \nL 77.907794 161.707499 \nL 79.737635 164.987999 \nL 80.347583 165.960001 \nL 80.95753 168.105408 \nL 81.567477 165.36316 \nL 82.177424 163.924613 \nL 82.787371 164.826002 \nL 83.397319 166.789757 \nL 84.617213 166.223724 \nL 85.22716 168.021818 \nL 85.837107 166.716001 \nL 86.447054 167.43913 \nL 88.886843 166.413602 \nL 90.716685 168.313584 \nL 91.326632 168.06 \nL 91.936579 168.640362 \nL 92.546526 167.579998 \nL 93.156473 168.148424 \nL 93.76642 167.915171 \nL 94.376368 168.458642 \nL 94.986315 168.227999 \nL 95.596262 167.26131 \nL 96.206209 167.05742 \nL 98.645998 169.052726 \nL 99.255945 167.483281 \nL 99.865892 167.961174 \nL 100.475839 167.767828 \nL 101.085786 168.227999 \nL 101.695734 168.036336 \nL 102.305681 169.110003 \nL 102.915628 168.290136 \nL 104.135522 170.344801 \nL 104.745469 170.734738 \nL 105.965364 170.321536 \nL 106.575311 169.548605 \nL 109.625047 171.360001 \nL 110.234994 171.163059 \nL 110.844941 170.443255 \nL 111.454888 170.26138 \nL 112.064835 170.599088 \nL 112.674783 169.909889 \nL 113.28473 170.244002 \nL 113.894677 169.573844 \nL 114.504624 169.904347 \nL 115.114571 169.739998 \nL 115.724518 170.0617 \nL 116.944413 171.630003 \nL 117.55436 171.922269 \nL 118.164307 171.745713 \nL 118.774254 172.030909 \nL 119.384201 171.8568 \nL 119.994149 172.13525 \nL 120.604096 172.852939 \nL 121.214043 172.235536 \nL 121.82399 172.066151 \nL 123.043884 172.592832 \nL 123.653832 172.42486 \nL 124.263779 172.679999 \nL 124.873726 172.098163 \nL 125.483673 172.351638 \nL 126.09362 172.191892 \nL 126.703567 172.440001 \nL 128.533409 171.975133 \nL 129.143356 172.607588 \nL 130.36325 172.302709 \nL 130.973198 172.535292 \nL 131.583145 172.386002 \nL 132.193092 172.988926 \nL 135.242828 174.059997 \nL 136.462722 173.756247 \nL 137.072669 173.959536 \nL 137.682616 174.508617 \nL 138.902511 174.894545 \nL 139.512458 174.742106 \nL 140.122405 175.268956 \nL 140.732352 175.116002 \nL 141.342299 175.298824 \nL 141.952247 175.147885 \nL 142.562194 174.670438 \nL 143.172141 174.852517 \nL 144.392035 174.565529 \nL 145.001982 174.105635 \nL 146.221877 175.095002 \nL 146.831824 174.953796 \nL 147.441771 175.125208 \nL 148.051718 174.985713 \nL 148.661665 175.461078 \nL 149.271613 175.016778 \nL 149.88156 174.880797 \nL 150.491507 175.047018 \nL 151.101454 174.614209 \nL 151.711401 174.483527 \nL 152.321348 173.765453 \nL 152.931296 172.764002 \nL 154.15119 172.532865 \nL 154.761137 172.706583 \nL 155.371084 173.163394 \nL 155.981031 173.047501 \nL 157.810873 173.543192 \nL 159.640714 173.201205 \nL 160.250662 172.818325 \nL 160.860609 173.249999 \nL 162.080503 173.564469 \nL 162.69045 173.188423 \nL 163.910345 172.973759 \nL 166.96008 173.73236 \nL 168.789922 173.415579 \nL 169.399869 173.063074 \nL 170.009816 172.466558 \nL 171.839658 173.641936 \nL 174.889394 171.956545 \nL 177.329182 172.531385 \nL 177.939129 172.208574 \nL 178.549077 172.579794 \nL 179.159024 172.718181 \nL 179.768971 173.083115 \nL 180.378918 173.217603 \nL 180.988865 173.125076 \nL 181.598812 173.258022 \nL 182.20876 173.166206 \nL 182.818707 173.520001 \nL 183.428654 173.649074 \nL 184.648548 173.465218 \nL 185.258495 173.592689 \nL 187.088337 174.612796 \nL 188.308231 174.425074 \nL 188.918178 174.544488 \nL 189.528126 174.451813 \nL 190.138073 174.779997 \nL 191.357967 174.595046 \nL 191.967914 174.710959 \nL 193.797756 174.439457 \nL 194.407703 174.757402 \nL 196.237544 175.09221 \nL 196.847492 175.401672 \nL 197.457439 175.310524 \nL 198.067386 174.625936 \nL 198.677333 174.34174 \nL 199.28728 174.256365 \nL 200.507175 174.477167 \nL 201.727069 173.922131 \nL 202.337016 173.840338 \nL 202.946963 173.950634 \nL 204.166858 173.788867 \nL 204.776805 173.520001 \nL 205.386752 173.62979 \nL 205.996699 173.363803 \nL 206.606646 173.286668 \nL 207.826541 173.50457 \nL 208.436488 173.796586 \nL 209.656382 173.641936 \nL 210.266329 173.383371 \nL 210.876276 173.308317 \nL 211.486224 173.595298 \nL 212.096171 173.520001 \nL 212.706118 173.086718 \nL 213.926012 173.297645 \nL 214.535959 173.047501 \nL 215.145907 173.328791 \nL 215.755854 173.432091 \nL 216.365801 173.359457 \nL 216.975748 173.112923 \nL 217.585695 173.042067 \nL 218.195642 172.798629 \nL 218.80559 172.729503 \nL 219.415537 172.832729 \nL 220.025484 173.10634 \nL 220.635431 173.036842 \nL 221.245378 173.13775 \nL 221.855325 173.068658 \nL 222.465273 173.1687 \nL 223.07522 172.932001 \nL 223.685167 173.199191 \nL 224.295114 173.297645 \nL 226.124956 173.09389 \nL 226.734903 173.191303 \nL 227.34485 173.451767 \nL 227.954797 173.22086 \nL 228.564744 173.154195 \nL 229.174691 172.925999 \nL 230.394586 173.117871 \nL 231.61448 173.626478 \nL 232.834374 173.810767 \nL 233.444322 173.585855 \nL 234.664216 174.082424 \nL 235.274163 174.171727 \nL 235.88411 174.104534 \nL 236.494057 174.193153 \nL 237.713952 174.059997 \nL 238.323899 174.147867 \nL 238.933846 174.08189 \nL 241.373635 174.427203 \nL 241.983582 174.361395 \nL 243.203476 174.530496 \nL 243.813423 174.763424 \nL 245.033318 174.631762 \nL 245.643265 174.862088 \nL 247.473106 175.105161 \nL 248.083054 175.330998 \nL 249.302948 175.19866 \nL 249.912895 174.98866 \nL 250.522842 174.924001 \nL 251.132789 175.003293 \nL 251.742737 175.225176 \nL 252.962631 174.811597 \nL 254.182525 174.968409 \nL 255.40242 174.842412 \nL 256.012367 174.92 \nL 256.622314 174.717969 \nL 257.842208 174.595046 \nL 258.452155 174.672439 \nL 259.67205 174.276 \nL 260.281997 174.353656 \nL 261.501891 174.235134 \nL 262.721786 174.388838 \nL 263.331733 174.329999 \nL 263.94168 174.406114 \nL 265.161574 174.824601 \nL 266.991416 174.647369 \nL 267.601363 174.456734 \nL 268.821257 174.86765 \nL 269.431204 174.94023 \nL 270.041152 174.881669 \nL 270.651099 174.562758 \nL 271.261046 174.505616 \nL 271.870993 174.578399 \nL 272.48094 174.779997 \nL 273.090887 174.593864 \nL 273.700835 174.79428 \nL 274.310782 174.865427 \nL 275.530676 174.751683 \nL 276.140623 174.949409 \nL 277.360518 175.088858 \nL 278.580412 174.975459 \nL 279.190359 175.044531 \nL 280.410253 174.932309 \nL 281.020201 174.752386 \nL 281.630148 174.449508 \nL 282.240095 174.395475 \nL 282.850042 174.21848 \nL 283.459989 173.919515 \nL 284.679884 173.570945 \nL 285.289831 173.763872 \nL 286.509725 173.661497 \nL 287.119672 173.731678 \nL 287.729619 173.439574 \nL 288.339567 173.389657 \nL 288.949514 173.580002 \nL 289.559461 173.649655 \nL 290.779355 173.073544 \nL 291.99925 173.214047 \nL 292.609197 172.929378 \nL 293.219144 172.881821 \nL 293.829091 172.716992 \nL 294.439038 172.670232 \nL 295.048985 172.857528 \nL 296.26888 172.996618 \nL 296.878827 172.949615 \nL 297.488774 172.787145 \nL 298.098721 172.856339 \nL 298.708668 172.694923 \nL 299.318616 172.649163 \nL 299.928563 172.489093 \nL 300.53851 172.55834 \nL 301.148457 172.513264 \nL 301.758404 172.582106 \nL 302.978299 172.379398 \nL 303.588246 172.448058 \nL 304.198193 172.403819 \nL 306.637982 172.674841 \nL 307.247929 172.408233 \nL 307.857876 172.475649 \nL 308.467823 172.210831 \nL 310.297665 172.192879 \nL 312.737453 172.785753 \nL 315.177242 173.044135 \nL 315.787189 172.785496 \nL 317.007083 173.020755 \nL 318.836925 173.422622 \nL 321.886661 173.624998 \nL 322.496608 173.581111 \nL 323.106555 173.328385 \nL 326.156291 173.115309 \nL 326.766238 173.279456 \nL 327.376185 173.237143 \nL 327.986132 173.400269 \nL 329.206027 173.417836 \nL 329.815974 173.579461 \nL 330.425921 173.231837 \nL 331.035868 173.190201 \nL 331.645815 172.946249 \nL 334.085604 172.78407 \nL 335.305498 173.00379 \nL 338.965181 173.257042 \nL 340.185076 172.979998 \nL 343.234812 173.26908 \nL 345.064653 172.860509 \nL 346.284548 173.071523 \nL 347.504442 173.185064 \nL 349.334283 172.87811 \nL 352.384019 172.782819 \nL 352.993966 172.933042 \nL 353.603914 172.801488 \nL 354.213861 172.857528 \nL 354.823808 172.726664 \nL 356.043702 172.745407 \nL 356.653649 172.430058 \nL 357.263597 172.578855 \nL 358.483491 172.41366 \nL 361.533227 172.325913 \nL 363.363068 172.67328 \nL 363.363068 172.67328 \n\" clip-path=\"url(#pf8a832cc85)\" style=\"fill: none; stroke: #ff7f0e; stroke-width: 1.5; stroke-linecap: square\"/>\n   </g>\n   <g id=\"line2d_15\">\n    <path d=\"M 58.999432 109.259995 \nL 59.609379 131.94 \nL 60.219326 139.5 \nL 60.829273 131.94 \nL 61.43922 136.476002 \nL 62.049168 139.5 \nL 62.659115 141.659999 \nL 63.269062 148.949997 \nL 64.488956 150.084003 \nL 65.098903 158.743638 \nL 65.708851 162.179998 \nL 66.318798 158.109229 \nL 66.928745 164.339998 \nL 67.538692 160.668 \nL 68.148639 165.960001 \nL 69.368534 169.739998 \nL 69.978481 168.944207 \nL 70.588428 170.495997 \nL 71.198375 169.739998 \nL 72.418269 172.369564 \nL 73.028217 173.520001 \nL 73.638164 176.392802 \nL 74.248111 173.810767 \nL 76.077952 176.517928 \nL 76.6879 174.276 \nL 77.297847 173.641936 \nL 77.907794 175.882499 \nL 78.517741 176.612725 \nL 79.127688 175.96588 \nL 79.737635 174.059997 \nL 80.347583 173.520001 \nL 80.95753 175.461078 \nL 81.567477 176.106315 \nL 82.177424 177.881536 \nL 84.007266 176.219997 \nL 84.617213 177.827442 \nL 85.22716 176.269089 \nL 85.837107 176.796 \nL 86.447054 175.327828 \nL 88.886843 177.299997 \nL 89.49679 178.634115 \nL 90.106737 178.172308 \nL 90.716685 176.872074 \nL 91.326632 177.299997 \nL 91.936579 176.062908 \nL 92.546526 176.489999 \nL 93.156473 173.71895 \nL 93.76642 174.171727 \nL 94.376368 173.071523 \nL 94.986315 173.520001 \nL 96.816156 172.619998 \nL 97.426103 173.047501 \nL 98.036051 174.159695 \nL 99.255945 172.22239 \nL 99.865892 172.630589 \nL 100.475839 172.369564 \nL 101.695734 174.425074 \nL 102.305681 174.779997 \nL 102.915628 175.746579 \nL 103.525575 174.84811 \nL 104.135522 174.578399 \nL 104.745469 175.509474 \nL 105.355417 175.238181 \nL 105.965364 173.810767 \nL 106.575311 174.142027 \nL 107.185258 173.898001 \nL 107.795205 174.22 \nL 108.405152 173.427806 \nL 109.0151 173.201205 \nL 109.625047 173.520001 \nL 110.234994 173.297645 \nL 110.844941 174.135349 \nL 111.454888 173.389657 \nL 112.064835 173.176365 \nL 113.28473 174.779997 \nL 114.504624 175.327828 \nL 115.114571 174.617419 \nL 115.724518 174.887232 \nL 116.334466 174.196418 \nL 116.944413 174.465 \nL 118.164307 174.059997 \nL 118.774254 174.321821 \nL 119.384201 175.031999 \nL 119.994149 175.279013 \nL 120.604096 174.631762 \nL 121.214043 174.877863 \nL 122.433937 174.492003 \nL 123.653832 174.968409 \nL 124.263779 173.940002 \nL 124.873726 174.178898 \nL 125.483673 174.825818 \nL 126.09362 174.643787 \nL 127.313515 175.09221 \nL 127.923462 174.514734 \nL 128.533409 174.34174 \nL 129.143356 173.780688 \nL 129.753303 172.841536 \nL 130.36325 173.071523 \nL 131.583145 172.764002 \nL 132.193092 172.239173 \nL 132.803039 172.466558 \nL 133.412986 171.952685 \nL 134.022933 172.178712 \nL 134.632881 172.038243 \nL 135.242828 171.539998 \nL 135.852775 171.406774 \nL 136.462722 171.630003 \nL 137.072669 171.146513 \nL 137.682616 170.321536 \nL 138.292564 170.8942 \nL 138.902511 170.42727 \nL 140.122405 170.191341 \nL 140.732352 169.739998 \nL 141.952247 170.181459 \nL 142.562194 170.726086 \nL 143.782088 170.495997 \nL 144.392035 170.705105 \nL 145.001982 170.272397 \nL 145.61193 170.162939 \nL 146.221877 169.425 \nL 146.831824 169.322896 \nL 148.051718 168.505713 \nL 148.661665 168.718377 \nL 149.88156 168.530398 \nL 150.491507 168.137879 \nL 151.711401 168.554115 \nL 152.931296 169.544901 \nL 153.541243 169.158459 \nL 154.15119 169.065859 \nL 154.761137 168.687339 \nL 155.371084 168.884152 \nL 155.981031 168.794999 \nL 156.590979 168.988696 \nL 157.200926 168.619997 \nL 157.810873 168.81239 \nL 158.42082 168.725852 \nL 159.030767 168.915271 \nL 159.640714 168.555907 \nL 160.860609 168.390003 \nL 161.470556 168.040121 \nL 162.080503 168.227999 \nL 162.69045 167.88316 \nL 163.300397 168.069767 \nL 163.910345 168.516413 \nL 165.130239 168.357599 \nL 165.740186 168.021818 \nL 166.350133 167.946101 \nL 167.570028 168.810835 \nL 169.399869 168.576921 \nL 170.009816 168.748523 \nL 170.619763 168.671738 \nL 171.229711 168.350597 \nL 171.839658 168.276773 \nL 172.449605 168.446314 \nL 173.059552 168.131492 \nL 173.669499 168.299998 \nL 175.499341 168.086253 \nL 176.109288 168.251501 \nL 176.719235 167.947419 \nL 177.329182 167.879077 \nL 177.939129 168.274286 \nL 178.549077 167.97472 \nL 179.159024 168.136365 \nL 179.768971 168.068442 \nL 180.378918 168.454803 \nL 180.988865 168.611643 \nL 181.598812 168.542375 \nL 182.20876 168.026894 \nL 182.818707 168.40588 \nL 184.038601 168.712429 \nL 184.648548 168.64435 \nL 185.868443 168.944207 \nL 186.47839 168.876001 \nL 187.088337 168.593461 \nL 187.698284 168.955475 \nL 190.138073 169.529997 \nL 190.74802 169.46129 \nL 191.357967 169.601286 \nL 192.577861 169.052726 \nL 193.187809 168.987419 \nL 193.797756 168.514054 \nL 194.407703 168.248338 \nL 195.627597 168.530398 \nL 196.237544 168.870269 \nL 196.847492 168.80749 \nL 197.457439 168.944207 \nL 198.067386 169.277819 \nL 198.677333 169.214087 \nL 199.897227 168.697241 \nL 200.507175 168.636827 \nL 201.117122 168.383075 \nL 201.727069 167.93847 \nL 202.337016 167.882031 \nL 202.946963 168.017471 \nL 204.166858 167.905357 \nL 204.776805 168.227999 \nL 205.386752 167.795102 \nL 205.996699 167.928102 \nL 207.216593 167.819016 \nL 208.436488 168.080487 \nL 210.266329 169.011326 \nL 210.876276 168.953758 \nL 211.486224 169.258089 \nL 212.096171 169.019998 \nL 212.706118 169.321659 \nL 213.316065 169.085197 \nL 213.926012 169.028474 \nL 214.535959 169.32656 \nL 215.145907 169.445839 \nL 215.755854 169.739998 \nL 216.365801 169.506489 \nL 216.975748 169.449232 \nL 217.585695 169.566206 \nL 218.195642 169.855417 \nL 218.80559 169.969965 \nL 219.415537 169.911816 \nL 220.025484 169.340605 \nL 220.635431 169.285261 \nL 221.245378 169.570113 \nL 221.855325 169.345073 \nL 222.465273 169.290337 \nL 223.07522 169.068001 \nL 223.685167 169.014685 \nL 224.905061 169.241536 \nL 225.515008 169.022627 \nL 226.124956 168.970257 \nL 226.734903 169.082608 \nL 227.954797 168.652232 \nL 228.564744 168.764515 \nL 229.174691 168.552 \nL 231.004533 168.885159 \nL 231.61448 168.675213 \nL 232.224427 168.785056 \nL 232.834374 168.576921 \nL 233.444322 168.528295 \nL 234.054269 168.637503 \nL 234.664216 168.589 \nL 235.274163 168.384413 \nL 235.88411 168.025359 \nL 236.494057 167.979451 \nL 237.104005 167.779042 \nL 238.323899 168.304885 \nL 238.933846 167.952164 \nL 239.543793 167.90727 \nL 240.15374 168.014896 \nL 241.373635 167.925601 \nL 241.983582 167.579998 \nL 242.593529 167.687286 \nL 243.203476 167.494454 \nL 244.423371 167.707476 \nL 245.033318 167.961174 \nL 245.643265 167.769964 \nL 246.253212 167.727273 \nL 246.863159 167.391262 \nL 248.693001 167.268461 \nL 249.302948 167.517895 \nL 249.912895 167.476812 \nL 250.522842 167.292003 \nL 251.132789 167.395446 \nL 251.742737 167.212049 \nL 252.352684 167.315093 \nL 254.792472 167.157394 \nL 255.40242 166.978141 \nL 256.012367 166.939999 \nL 256.622314 167.041664 \nL 257.232261 167.281838 \nL 257.842208 167.243121 \nL 258.452155 167.342927 \nL 259.062103 167.304258 \nL 259.67205 167.128364 \nL 260.281997 167.090573 \nL 260.891944 167.326266 \nL 261.501891 167.424328 \nL 262.111838 167.38599 \nL 262.721786 167.212475 \nL 263.331733 167.175002 \nL 264.551627 167.369112 \nL 265.161574 167.197699 \nL 265.771521 167.427531 \nL 266.381469 167.25695 \nL 266.991416 167.352633 \nL 267.601363 167.315512 \nL 268.21131 167.542322 \nL 268.821257 167.37339 \nL 270.651099 167.654484 \nL 271.870993 167.579998 \nL 273.090887 167.248636 \nL 273.700835 166.955863 \nL 274.920729 167.141916 \nL 276.140623 167.071763 \nL 277.970465 167.346002 \nL 278.580412 167.310746 \nL 279.190359 167.025084 \nL 279.800306 166.990909 \nL 280.410253 167.206155 \nL 281.020201 167.295944 \nL 282.240095 167.721251 \nL 283.459989 167.650246 \nL 284.069936 167.860219 \nL 284.679884 167.946791 \nL 285.289831 167.910967 \nL 285.899778 167.753729 \nL 287.729619 168.010854 \nL 288.339567 168.215968 \nL 288.949514 168.180002 \nL 290.169408 168.347366 \nL 290.779355 168.549452 \nL 291.99925 168.713578 \nL 292.609197 168.913122 \nL 293.219144 168.640362 \nL 293.829091 168.721554 \nL 294.439038 168.685115 \nL 295.048985 168.531959 \nL 295.658933 168.496196 \nL 296.26888 168.576921 \nL 297.488774 168.852857 \nL 298.098721 168.816641 \nL 299.318616 168.974427 \nL 299.928563 168.938185 \nL 300.53851 169.016375 \nL 301.148457 168.866234 \nL 301.758404 168.830525 \nL 302.368351 169.021802 \nL 302.978299 168.87277 \nL 304.80814 169.103764 \nL 305.418087 169.068001 \nL 306.028034 169.255859 \nL 307.857876 169.14851 \nL 309.687717 169.262915 \nL 310.297665 169.227457 \nL 310.907612 169.411306 \nL 314.567295 169.307999 \nL 318.226978 169.633521 \nL 319.446872 169.457383 \nL 320.666766 169.493863 \nL 322.496608 169.600326 \nL 325.546344 169.532877 \nL 327.986132 169.70579 \nL 329.815974 169.400228 \nL 331.035868 169.435572 \nL 332.86571 169.538399 \nL 333.475657 169.404743 \nL 334.085604 169.572742 \nL 334.695551 169.539737 \nL 335.305498 169.706695 \nL 335.915446 169.573844 \nL 340.795023 170.001253 \nL 343.234812 169.480986 \nL 345.064653 169.772171 \nL 345.6746 169.258475 \nL 348.114389 168.848714 \nL 349.944231 168.85431 \nL 350.554178 168.919293 \nL 351.774072 168.765529 \nL 354.213861 168.929445 \nL 357.873544 168.846963 \nL 358.483491 169.002437 \nL 359.093438 168.973265 \nL 359.703385 169.127854 \nL 363.363068 168.863043 \nL 363.363068 168.863043 \n\" clip-path=\"url(#pf8a832cc85)\" style=\"fill: none; stroke: #2ca02c; stroke-width: 1.5; stroke-linecap: square\"/>\n   </g>\n   <g id=\"line2d_16\">\n    <path d=\"M 58.999432 199.979999 \nL 59.609379 154.619999 \nL 60.219326 154.619999 \nL 60.829273 143.280003 \nL 61.43922 154.619999 \nL 62.049168 162.179998 \nL 62.659115 167.579998 \nL 63.269062 171.630003 \nL 63.879009 174.779997 \nL 64.488956 172.764002 \nL 65.098903 179.36182 \nL 65.708851 177.299997 \nL 66.928745 180.539997 \nL 67.538692 178.812003 \nL 68.148639 171.630003 \nL 69.368534 174.779997 \nL 69.978481 168.944207 \nL 71.198375 171.899998 \nL 72.418269 174.34174 \nL 73.028217 177.299997 \nL 73.638164 174.578399 \nL 74.248111 173.810767 \nL 75.468005 169.200001 \nL 76.077952 170.26138 \nL 76.6879 169.739998 \nL 77.297847 172.178712 \nL 77.907794 168.794999 \nL 78.517741 171.114549 \nL 79.127688 169.295292 \nL 80.95753 168.105408 \nL 81.567477 170.137896 \nL 82.787371 171.630003 \nL 83.397319 169.002437 \nL 84.617213 166.223724 \nL 85.837107 167.724002 \nL 87.666949 166.905 \nL 88.276896 168.505713 \nL 88.886843 167.320797 \nL 89.49679 165.292939 \nL 90.106737 165.08769 \nL 90.716685 164.034342 \nL 91.936579 163.691997 \nL 92.546526 164.339998 \nL 93.76642 167.133102 \nL 94.376368 166.92102 \nL 94.986315 167.472 \nL 95.596262 167.26131 \nL 96.206209 165.594195 \nL 96.816156 166.139998 \nL 98.036051 162.994153 \nL 100.475839 167.767828 \nL 101.085786 166.932003 \nL 101.695734 166.75859 \nL 102.305681 165.960001 \nL 102.915628 165.804655 \nL 103.525575 166.266489 \nL 104.135522 164.901597 \nL 105.355417 164.634542 \nL 106.575311 165.529368 \nL 107.185258 166.527001 \nL 107.795205 166.939999 \nL 108.405152 166.789757 \nL 109.0151 166.096624 \nL 109.625047 166.499998 \nL 110.234994 166.360239 \nL 110.844941 165.696279 \nL 111.454888 166.611727 \nL 112.064835 165.960001 \nL 112.674783 164.813261 \nL 113.894677 166.583075 \nL 114.504624 166.946089 \nL 115.724518 166.683827 \nL 116.944413 167.3775 \nL 117.55436 167.24598 \nL 118.164307 167.579998 \nL 118.774254 167.449093 \nL 119.384201 166.867203 \nL 119.994149 166.745944 \nL 120.604096 167.071763 \nL 121.214043 166.950875 \nL 121.82399 167.704617 \nL 122.433937 168.012003 \nL 123.043884 167.457738 \nL 124.263779 168.06 \nL 124.873726 167.936699 \nL 125.483673 167.403273 \nL 126.09362 167.696756 \nL 126.703567 167.175002 \nL 127.923462 167.750525 \nL 128.533409 167.636349 \nL 129.143356 167.915171 \nL 130.36325 167.689828 \nL 130.973198 167.198821 \nL 131.583145 167.85 \nL 132.193092 167.365786 \nL 132.803039 167.26131 \nL 133.412986 167.527317 \nL 134.022933 166.691614 \nL 135.852775 167.477955 \nL 136.462722 167.3775 \nL 137.072669 166.926975 \nL 138.292564 166.739083 \nL 138.902511 166.990909 \nL 143.172141 166.36791 \nL 143.782088 165.960001 \nL 145.001982 166.439152 \nL 145.61193 166.0393 \nL 146.221877 166.590003 \nL 148.051718 167.271428 \nL 148.661665 166.57297 \nL 149.88156 167.018399 \nL 150.491507 167.537084 \nL 151.101454 167.452108 \nL 151.711401 167.071763 \nL 152.321348 166.990909 \nL 152.931296 167.496387 \nL 154.15119 167.91019 \nL 155.371084 167.743022 \nL 155.981031 167.944499 \nL 157.200926 167.780002 \nL 158.42082 168.172682 \nL 159.640714 168.009394 \nL 160.250662 168.472458 \nL 160.860609 168.120001 \nL 161.470556 168.040121 \nL 162.080503 168.494824 \nL 162.69045 168.678951 \nL 163.300397 168.33349 \nL 164.520292 167.133102 \nL 165.130239 167.579998 \nL 166.96008 167.361575 \nL 167.570028 166.783579 \nL 168.179975 166.716001 \nL 169.399869 167.081536 \nL 170.009816 167.013445 \nL 170.619763 166.699562 \nL 171.229711 166.879458 \nL 171.839658 167.30129 \nL 172.449605 167.233476 \nL 173.059552 167.648935 \nL 173.669499 167.34 \nL 174.279446 167.750525 \nL 174.889394 167.681777 \nL 175.499341 167.85 \nL 176.109288 167.076372 \nL 177.329182 167.413844 \nL 177.939129 166.885717 \nL 178.549077 166.823451 \nL 179.159024 166.990909 \nL 179.768971 166.244927 \nL 180.378918 165.733198 \nL 180.988865 165.677908 \nL 181.598812 165.174059 \nL 182.20876 165.345519 \nL 182.818707 164.625884 \nL 183.428654 164.798344 \nL 185.258495 163.997308 \nL 185.868443 163.952441 \nL 186.47839 164.124002 \nL 187.088337 163.863984 \nL 188.918178 163.73439 \nL 189.528126 163.902977 \nL 190.138073 163.440002 \nL 190.74802 163.190325 \nL 191.357967 163.359081 \nL 191.967914 162.904932 \nL 192.577861 163.073452 \nL 193.187809 162.624704 \nL 193.797756 162.792974 \nL 194.407703 163.163139 \nL 195.01765 162.922499 \nL 195.627597 163.0872 \nL 196.237544 162.648321 \nL 196.847492 162.413129 \nL 197.457439 162.378948 \nL 198.677333 163.100347 \nL 199.28728 163.259998 \nL 199.897227 163.613793 \nL 200.507175 163.769869 \nL 201.117122 164.11846 \nL 202.337016 164.422372 \nL 202.946963 164.381013 \nL 203.55691 164.530586 \nL 204.166858 164.299328 \nL 205.386752 164.595434 \nL 205.996699 164.366778 \nL 206.606646 164.51333 \nL 207.216593 164.286885 \nL 207.826541 164.617712 \nL 209.046435 164.536764 \nL 209.656382 164.67968 \nL 210.266329 164.63928 \nL 210.876276 164.780642 \nL 212.096171 164.699998 \nL 212.706118 164.839446 \nL 213.316065 165.156377 \nL 213.926012 165.115058 \nL 214.535959 165.42844 \nL 215.145907 165.386385 \nL 215.755854 165.696279 \nL 216.365801 165.82865 \nL 216.975748 165.436612 \nL 217.585695 165.742762 \nL 218.195642 165.700307 \nL 218.80559 165.830644 \nL 219.415537 166.131819 \nL 221.245378 166.002469 \nL 222.465273 166.592342 \nL 223.07522 166.548002 \nL 224.295114 166.793826 \nL 225.515008 166.704963 \nL 226.734903 166.946089 \nL 227.954797 166.531077 \nL 228.564744 166.488386 \nL 229.174691 166.608003 \nL 230.394586 167.166384 \nL 231.004533 166.961764 \nL 232.224427 166.875159 \nL 232.834374 167.149513 \nL 233.444322 167.263905 \nL 234.054269 167.219998 \nL 234.664216 167.019447 \nL 235.88411 166.934227 \nL 236.494057 166.581372 \nL 237.713952 166.499998 \nL 238.323899 166.613491 \nL 238.933846 166.879458 \nL 239.543793 166.838179 \nL 240.15374 166.949395 \nL 240.763688 167.211569 \nL 241.373635 167.169602 \nL 241.983582 167.278607 \nL 242.593529 166.936289 \nL 243.203476 166.895646 \nL 243.813423 166.706051 \nL 245.033318 166.627057 \nL 248.083054 167.163282 \nL 248.693001 166.977695 \nL 249.302948 166.938208 \nL 249.912895 167.043442 \nL 250.522842 167.004002 \nL 251.132789 166.821268 \nL 252.352684 166.744531 \nL 252.962631 166.848717 \nL 254.182525 166.772521 \nL 254.792472 166.59391 \nL 255.40242 166.697278 \nL 256.012367 166.660001 \nL 258.452155 167.066342 \nL 259.062103 167.028511 \nL 259.67205 167.128364 \nL 260.891944 167.053013 \nL 261.501891 166.879458 \nL 262.111838 166.97856 \nL 262.721786 166.670863 \nL 263.331733 166.499998 \nL 263.94168 166.599344 \nL 264.551627 166.563906 \nL 265.161574 166.261061 \nL 266.381469 166.192787 \nL 266.991416 166.026316 \nL 267.601363 166.125304 \nL 268.21131 165.828137 \nL 268.821257 165.664173 \nL 270.041152 165.600522 \nL 270.651099 165.699307 \nL 271.261046 165.537594 \nL 272.48094 165.733846 \nL 273.090887 165.702274 \nL 274.920729 166.375264 \nL 276.140623 166.563527 \nL 276.75057 166.530171 \nL 277.360518 166.623346 \nL 277.970465 166.463999 \nL 278.580412 166.556843 \nL 279.800306 166.491076 \nL 280.410253 166.333844 \nL 281.020201 166.426026 \nL 281.630148 166.393771 \nL 282.240095 166.238094 \nL 283.459989 166.420977 \nL 284.069936 166.266489 \nL 284.679884 166.357359 \nL 285.289831 166.325807 \nL 285.899778 166.416029 \nL 286.509725 166.627057 \nL 287.119672 166.716001 \nL 287.729619 166.925109 \nL 288.339567 166.892469 \nL 288.949514 166.62 \nL 289.559461 166.58834 \nL 290.169408 166.795576 \nL 290.779355 166.64457 \nL 291.99925 166.226475 \nL 292.609197 166.196248 \nL 293.219144 166.284002 \nL 293.829091 166.253782 \nL 294.439038 166.340928 \nL 295.048985 166.193814 \nL 295.658933 166.28067 \nL 296.26888 166.250767 \nL 296.878827 166.105013 \nL 298.098721 165.700307 \nL 298.708668 165.787311 \nL 299.928563 166.074542 \nL 300.53851 166.045694 \nL 302.368351 166.527001 \nL 303.588246 166.919107 \nL 305.418087 166.492002 \nL 306.028034 166.462762 \nL 307.247929 166.293532 \nL 309.07777 166.429054 \nL 309.687717 166.290288 \nL 313.3474 166.773873 \nL 314.567295 166.392 \nL 315.177242 166.579526 \nL 316.397136 166.522979 \nL 317.007083 166.28094 \nL 321.886661 166.170002 \nL 323.716502 166.298899 \nL 324.326449 166.168076 \nL 326.766238 166.372365 \nL 328.59608 166.39517 \nL 329.206027 166.470812 \nL 329.815974 166.240318 \nL 330.425921 166.315966 \nL 331.645815 165.960001 \nL 332.86571 165.909598 \nL 334.085604 165.458228 \nL 337.745287 165.811442 \nL 338.965181 165.861392 \nL 345.064653 166.490805 \nL 351.774072 167.162369 \nL 358.483491 166.881952 \nL 359.703385 167.107775 \nL 360.92328 166.783065 \nL 361.533227 166.667321 \nL 363.363068 166.867203 \nL 363.363068 166.867203 \n\" clip-path=\"url(#pf8a832cc85)\" style=\"fill: none; stroke: #d62728; stroke-width: 1.5; stroke-linecap: square\"/>\n   </g>\n   <g id=\"line2d_17\">\n    <path d=\"M 58.999432 199.979999 \nL 59.609379 177.299997 \nL 60.219326 169.739998 \nL 60.829273 177.299997 \nL 61.43922 190.908001 \nL 62.049168 192.42 \nL 62.659115 187.019997 \nL 63.269062 188.64 \nL 64.488956 190.908001 \nL 65.098903 195.856364 \nL 65.708851 196.2 \nL 66.318798 193.001538 \nL 66.928745 193.5 \nL 67.538692 190.908001 \nL 68.148639 194.310001 \nL 68.758586 191.975294 \nL 69.368534 194.94 \nL 69.978481 192.817895 \nL 70.588428 193.175999 \nL 71.198375 191.34 \nL 71.808322 187.609092 \nL 72.418269 190.119132 \nL 73.028217 182.969999 \nL 73.638164 180.021603 \nL 74.248111 180.789228 \nL 74.858058 179.819997 \nL 75.468005 180.539997 \nL 76.077952 179.646205 \nL 76.6879 177.299997 \nL 77.297847 178.031616 \nL 77.907794 180.135001 \nL 78.517741 177.987269 \nL 79.127688 177.299997 \nL 79.737635 179.244001 \nL 80.347583 176.040001 \nL 80.95753 175.461078 \nL 81.567477 173.71895 \nL 82.177424 170.903075 \nL 82.787371 169.361998 \nL 83.397319 170.108778 \nL 84.007266 169.739998 \nL 85.22716 173.176365 \nL 85.837107 172.764002 \nL 86.447054 174.34174 \nL 87.057002 174.887232 \nL 87.666949 174.465 \nL 88.886843 175.4856 \nL 90.106737 172.938462 \nL 91.326632 173.940002 \nL 91.936579 173.588728 \nL 92.546526 171.630003 \nL 93.156473 172.127369 \nL 93.76642 170.26138 \nL 94.376368 170.765086 \nL 94.986315 170.495997 \nL 95.596262 170.979345 \nL 96.206209 172.178712 \nL 96.816156 171.179998 \nL 97.426103 170.92125 \nL 98.036051 172.066151 \nL 99.255945 172.899401 \nL 100.475839 171.054784 \nL 101.085786 170.819998 \nL 101.695734 171.230705 \nL 104.135522 170.344801 \nL 104.745469 171.331579 \nL 105.355417 171.114549 \nL 105.965364 172.066151 \nL 107.185258 172.764002 \nL 107.795205 171.420002 \nL 109.0151 172.108193 \nL 110.234994 171.696709 \nL 112.064835 174.207273 \nL 113.28473 172.764002 \nL 113.894677 171.56769 \nL 114.504624 171.383476 \nL 115.114571 171.69097 \nL 115.724518 171.026808 \nL 116.334466 170.854104 \nL 116.944413 169.739998 \nL 118.164307 169.431428 \nL 118.774254 168.823637 \nL 119.384201 168.6816 \nL 119.994149 168.093269 \nL 120.604096 168.850586 \nL 121.214043 168.712429 \nL 121.82399 168.140772 \nL 122.433937 166.716001 \nL 123.043884 166.601886 \nL 124.263779 164.699998 \nL 124.873726 165.439816 \nL 126.703567 165.150003 \nL 127.313515 165.458228 \nL 127.923462 164.965262 \nL 128.533409 165.269742 \nL 129.143356 164.786894 \nL 129.753303 165.08769 \nL 131.583145 164.826002 \nL 132.193092 165.491402 \nL 134.022933 166.325807 \nL 134.632881 165.86928 \nL 135.242828 166.139998 \nL 136.462722 167.3775 \nL 137.072669 167.278607 \nL 137.682616 167.530156 \nL 138.292564 167.4316 \nL 138.902511 167.678182 \nL 140.122405 167.483281 \nL 140.732352 167.724002 \nL 141.952247 166.870508 \nL 142.562194 167.43913 \nL 143.172141 167.673241 \nL 144.392035 168.774897 \nL 145.001982 168.675213 \nL 145.61193 168.894129 \nL 146.221877 168.480001 \nL 146.831824 169.010069 \nL 147.441771 168.911506 \nL 149.271613 169.537047 \nL 149.88156 169.437599 \nL 150.491507 169.639867 \nL 151.711401 170.629409 \nL 152.321348 170.819998 \nL 152.931296 170.130191 \nL 153.541243 170.321536 \nL 154.15119 170.799362 \nL 155.371084 171.166412 \nL 157.810873 170.760368 \nL 158.42082 170.385363 \nL 160.250662 170.917005 \nL 160.860609 171.360001 \nL 161.470556 171.529352 \nL 162.080503 171.963527 \nL 162.69045 171.862106 \nL 163.300397 172.025583 \nL 164.520292 172.868275 \nL 165.740186 172.660911 \nL 166.350133 173.071523 \nL 166.96008 172.713031 \nL 167.570028 173.11877 \nL 168.179975 173.267999 \nL 168.789922 173.666188 \nL 170.009816 173.95377 \nL 170.619763 173.602172 \nL 171.229711 173.744757 \nL 171.839658 173.398066 \nL 172.449605 173.297645 \nL 173.669499 173.580002 \nL 174.279446 173.957684 \nL 174.889394 174.093929 \nL 176.109288 174.832226 \nL 176.719235 174.72804 \nL 177.329182 174.392305 \nL 177.939129 174.291431 \nL 178.549077 174.421829 \nL 179.159024 174.321821 \nL 179.768971 174.678691 \nL 180.378918 174.805202 \nL 180.988865 174.479106 \nL 181.598812 174.8299 \nL 182.20876 174.953796 \nL 182.818707 174.631762 \nL 183.428654 174.09161 \nL 185.258495 174.465 \nL 185.868443 173.501913 \nL 186.47839 173.844002 \nL 187.698284 174.090569 \nL 188.308231 173.999158 \nL 188.918178 173.696638 \nL 190.74802 174.059997 \nL 191.357967 173.554682 \nL 193.187809 173.913391 \nL 195.627597 173.570397 \nL 196.237544 173.285843 \nL 196.847492 173.403439 \nL 197.457439 173.122102 \nL 199.28728 172.881821 \nL 199.897227 172.998619 \nL 200.507175 172.91974 \nL 201.117122 173.035382 \nL 201.727069 172.957023 \nL 202.337016 173.071523 \nL 202.946963 172.802279 \nL 203.55691 172.72588 \nL 204.166858 172.839914 \nL 204.776805 173.142001 \nL 205.996699 172.988926 \nL 206.606646 172.726664 \nL 207.216593 173.024263 \nL 207.826541 172.949142 \nL 208.436488 172.690246 \nL 209.656382 172.910324 \nL 210.266329 172.472533 \nL 210.876276 172.582559 \nL 211.486224 172.330279 \nL 213.926012 172.764002 \nL 215.145907 172.622803 \nL 215.755854 172.377208 \nL 216.365801 172.483787 \nL 216.975748 172.764002 \nL 217.585695 172.694484 \nL 218.195642 172.798629 \nL 218.80559 172.729503 \nL 219.415537 172.832729 \nL 220.635431 172.695788 \nL 221.245378 172.458203 \nL 221.855325 172.053133 \nL 222.465273 172.156954 \nL 223.07522 172.427997 \nL 223.685167 171.860146 \nL 224.295114 171.630003 \nL 224.905061 171.56769 \nL 225.515008 171.836935 \nL 226.124956 171.939275 \nL 226.734903 171.712174 \nL 227.954797 172.24187 \nL 228.564744 172.34129 \nL 229.174691 172.601998 \nL 229.784639 172.699431 \nL 230.394586 172.635321 \nL 231.004533 172.411376 \nL 231.61448 172.508451 \nL 232.834374 172.066151 \nL 233.444322 172.005366 \nL 234.054269 171.472501 \nL 234.664216 171.414189 \nL 235.274163 171.512691 \nL 235.88411 171.766389 \nL 236.494057 171.707672 \nL 237.104005 171.958978 \nL 237.713952 171.591428 \nL 238.323899 171.533901 \nL 238.933846 171.323515 \nL 239.543793 171.420002 \nL 240.15374 171.059198 \nL 241.373635 170.949598 \nL 242.593529 171.442253 \nL 243.203476 171.386734 \nL 243.813423 171.630003 \nL 244.423371 171.722948 \nL 245.033318 171.667056 \nL 245.643265 171.759285 \nL 246.253212 171.703637 \nL 246.863159 171.941945 \nL 247.473106 171.593422 \nL 248.083054 171.684698 \nL 249.302948 171.285812 \nL 249.912895 171.232739 \nL 250.522842 171.467999 \nL 251.132789 171.414683 \nL 251.742737 171.075521 \nL 252.352684 171.023773 \nL 252.962631 170.830157 \nL 254.792472 170.67913 \nL 255.40242 170.769845 \nL 256.012367 171.000001 \nL 256.622314 171.089168 \nL 257.232261 171.03865 \nL 257.842208 171.127154 \nL 258.452155 170.93854 \nL 259.67205 170.839633 \nL 260.891944 170.468676 \nL 261.501891 170.557296 \nL 262.111838 170.509583 \nL 262.721786 170.732953 \nL 263.331733 170.684997 \nL 263.94168 170.368134 \nL 265.161574 170.81044 \nL 266.381469 170.715481 \nL 268.821257 171.054784 \nL 269.431204 171.007281 \nL 271.261046 171.256336 \nL 271.870993 171.208798 \nL 273.090887 171.372276 \nL 273.700835 171.324813 \nL 276.140623 170.629409 \nL 277.360518 170.540222 \nL 278.580412 170.200723 \nL 279.190359 170.15768 \nL 279.800306 170.239831 \nL 280.410253 170.196924 \nL 282.240095 170.440383 \nL 282.850042 170.397394 \nL 283.459989 170.477558 \nL 284.069936 170.679894 \nL 284.679884 170.636601 \nL 285.899778 170.307504 \nL 287.119672 169.619042 \nL 288.949514 169.86 \nL 290.169408 169.779789 \nL 290.779355 169.859054 \nL 291.99925 169.779478 \nL 292.609197 169.976251 \nL 295.048985 169.817938 \nL 296.878827 170.049358 \nL 298.098721 169.970837 \nL 298.708668 170.047006 \nL 299.318616 170.007951 \nL 299.928563 170.083634 \nL 300.53851 170.044687 \nL 301.148457 170.119897 \nL 302.368351 169.7022 \nL 302.978299 169.438356 \nL 304.80814 169.328317 \nL 306.028034 168.920692 \nL 307.857876 169.259414 \nL 308.467823 169.444974 \nL 311.517559 169.266363 \nL 313.957348 169.559569 \nL 315.177242 169.273108 \nL 317.617031 169.45539 \nL 318.836925 169.492132 \nL 320.666766 169.599346 \nL 321.276714 169.564591 \nL 321.886661 169.319997 \nL 323.106555 169.356773 \nL 326.156291 169.602232 \nL 326.766238 169.465089 \nL 331.035868 169.84148 \nL 332.255763 169.874701 \nL 335.305498 170.106345 \nL 336.525393 169.938947 \nL 337.13534 169.80617 \nL 338.355234 169.838824 \nL 338.965181 169.707128 \nL 340.185076 169.739998 \nL 340.795023 169.609377 \nL 344.454706 169.901197 \nL 346.284548 169.90017 \nL 347.504442 169.93139 \nL 350.554178 169.866266 \nL 356.043702 170.514591 \nL 356.653649 170.667606 \nL 357.263597 170.449717 \nL 358.483491 170.477558 \nL 359.703385 170.22972 \nL 360.313332 170.381456 \nL 361.533227 170.409297 \nL 362.753121 170.527812 \nL 363.363068 170.405282 \nL 363.363068 170.405282 \n\" clip-path=\"url(#pf8a832cc85)\" style=\"fill: none; stroke: #9467bd; stroke-width: 1.5; stroke-linecap: square\"/>\n   </g>\n   <g id=\"line2d_18\">\n    <path d=\"M 58.999432 245.34 \nL 59.609379 199.979999 \nL 60.219326 199.979999 \nL 60.829273 211.319999 \nL 61.43922 209.052001 \nL 62.659115 174.059997 \nL 63.269062 177.299997 \nL 63.879009 179.819997 \nL 64.488956 181.836 \nL 65.098903 166.990909 \nL 66.318798 165.08769 \nL 67.538692 169.739998 \nL 68.148639 165.960001 \nL 68.758586 167.961174 \nL 69.368534 162.179998 \nL 69.978481 164.169471 \nL 70.588428 163.691997 \nL 71.198375 165.419998 \nL 72.418269 164.480873 \nL 73.028217 167.85 \nL 73.638164 169.135201 \nL 74.248111 172.066151 \nL 74.858058 173.1 \nL 76.077952 171.825518 \nL 76.6879 172.764002 \nL 77.297847 172.178712 \nL 77.907794 173.047501 \nL 78.517741 169.739998 \nL 79.127688 169.295292 \nL 79.737635 167.579998 \nL 80.347583 168.480001 \nL 80.95753 168.105408 \nL 82.787371 170.495997 \nL 84.007266 171.899998 \nL 84.617213 171.498138 \nL 85.22716 169.052726 \nL 85.837107 170.747999 \nL 86.447054 169.411306 \nL 87.057002 171.026808 \nL 87.666949 170.684997 \nL 88.886843 168.227999 \nL 89.49679 168.850586 \nL 90.106737 168.576921 \nL 90.716685 169.169436 \nL 92.546526 173.249999 \nL 93.156473 172.92316 \nL 93.76642 173.389657 \nL 94.376368 174.609153 \nL 94.986315 175.031999 \nL 95.596262 174.69738 \nL 96.206209 175.105161 \nL 96.816156 174.059997 \nL 97.426103 175.173753 \nL 99.255945 174.253431 \nL 99.865892 174.631762 \nL 101.085786 174.059997 \nL 101.695734 174.425074 \nL 102.305681 174.150003 \nL 104.135522 175.183202 \nL 104.745469 174.315791 \nL 105.965364 174.973844 \nL 106.575311 174.716204 \nL 107.185258 173.898001 \nL 107.795205 174.22 \nL 109.0151 173.74771 \nL 109.625047 174.059997 \nL 110.234994 173.831294 \nL 110.844941 174.135349 \nL 112.064835 171.630003 \nL 112.674783 172.458203 \nL 113.28473 170.747999 \nL 113.894677 170.570767 \nL 114.504624 169.411306 \nL 115.114571 169.739998 \nL 115.724518 170.544257 \nL 117.55436 171.454636 \nL 118.164307 172.208574 \nL 119.994149 173.033463 \nL 120.604096 172.408233 \nL 121.214043 173.11631 \nL 121.82399 172.938462 \nL 122.433937 173.196 \nL 123.043884 173.876601 \nL 123.653832 174.12056 \nL 124.263779 174.779997 \nL 124.873726 174.595046 \nL 125.483673 174.001091 \nL 126.703567 173.655002 \nL 127.313515 172.683716 \nL 128.533409 173.947302 \nL 129.143356 173.780688 \nL 131.583145 174.654 \nL 132.803039 172.838359 \nL 133.412986 173.427806 \nL 134.632881 173.85264 \nL 135.852775 173.549762 \nL 137.072669 174.662793 \nL 137.682616 174.857539 \nL 138.292564 174.356793 \nL 138.902511 174.207273 \nL 139.512458 174.401052 \nL 140.122405 174.93045 \nL 141.952247 175.478976 \nL 142.562194 174.670438 \nL 144.392035 174.243827 \nL 145.001982 174.744505 \nL 145.61193 174.92098 \nL 146.221877 174.779997 \nL 147.441771 173.882468 \nL 148.051718 174.059997 \nL 148.661665 173.622159 \nL 149.88156 173.368798 \nL 151.101454 172.525261 \nL 151.711401 172.704703 \nL 152.321348 172.292725 \nL 152.931296 172.471357 \nL 154.15119 172.243951 \nL 154.761137 171.845316 \nL 155.371084 171.166412 \nL 155.981031 171.063003 \nL 156.590979 171.242608 \nL 157.200926 171.139997 \nL 157.810873 170.760368 \nL 159.640714 170.468676 \nL 160.250662 170.102154 \nL 160.860609 169.470003 \nL 161.470556 169.382127 \nL 162.080503 168.494824 \nL 162.69045 168.678951 \nL 163.300397 168.597212 \nL 163.910345 168.778614 \nL 165.130239 168.6168 \nL 165.740186 168.794999 \nL 166.350133 168.202375 \nL 166.96008 167.871237 \nL 167.570028 168.050612 \nL 168.789922 167.902207 \nL 170.009816 168.252785 \nL 170.619763 168.671738 \nL 172.449605 168.446314 \nL 173.059552 168.855317 \nL 173.669499 169.019998 \nL 174.279446 168.705473 \nL 174.889394 168.631731 \nL 175.499341 168.794999 \nL 176.109288 169.191606 \nL 176.719235 168.882679 \nL 177.329182 168.809538 \nL 177.939129 169.200001 \nL 178.549077 169.125988 \nL 179.768971 169.436079 \nL 180.988865 169.288654 \nL 181.598812 169.665147 \nL 184.648548 170.397394 \nL 185.258495 169.885387 \nL 185.868443 170.029378 \nL 186.47839 169.092003 \nL 187.088337 169.023411 \nL 188.308231 169.314082 \nL 188.918178 169.669344 \nL 189.528126 169.599346 \nL 191.357967 170.017435 \nL 193.187809 171.039907 \nL 193.797756 171.170271 \nL 194.407703 170.689235 \nL 195.627597 170.949598 \nL 196.237544 171.278763 \nL 196.847492 171.00555 \nL 197.457439 171.132629 \nL 198.067386 171.060523 \nL 199.897227 171.43448 \nL 201.117122 171.290767 \nL 201.727069 171.605872 \nL 202.337016 171.726105 \nL 202.946963 171.653923 \nL 203.55691 171.391762 \nL 204.166858 171.321589 \nL 204.776805 170.873997 \nL 205.386752 171.182985 \nL 206.606646 171.420002 \nL 208.436488 170.661948 \nL 209.046435 170.046073 \nL 209.656382 169.800965 \nL 210.266329 170.104337 \nL 210.876276 170.042403 \nL 211.486224 169.800242 \nL 212.096171 169.920001 \nL 213.316065 169.799526 \nL 213.926012 169.562117 \nL 215.145907 169.445839 \nL 215.755854 169.036747 \nL 216.365801 168.805948 \nL 216.975748 169.10031 \nL 217.585695 168.871033 \nL 218.195642 168.470383 \nL 218.80559 168.590189 \nL 219.415537 168.193636 \nL 220.025484 168.313584 \nL 220.635431 168.262106 \nL 221.245378 168.041122 \nL 221.855325 168.329549 \nL 222.465273 167.772715 \nL 223.07522 168.06 \nL 224.295114 168.294705 \nL 226.124956 168.145531 \nL 226.734903 168.260869 \nL 227.34485 168.047867 \nL 227.954797 168.325899 \nL 228.564744 168.114195 \nL 229.174691 168.390003 \nL 229.784639 168.340999 \nL 230.394586 167.970637 \nL 231.004533 167.923465 \nL 231.61448 168.036336 \nL 232.834374 167.942519 \nL 233.444322 168.054147 \nL 234.664216 167.961174 \nL 235.88411 168.181239 \nL 237.104005 168.70792 \nL 237.713952 168.814283 \nL 238.323899 168.612407 \nL 238.933846 168.718377 \nL 239.543793 168.670907 \nL 240.15374 168.471545 \nL 241.373635 168.379202 \nL 241.983582 168.182794 \nL 242.593529 168.137879 \nL 245.033318 168.554115 \nL 245.643265 168.213224 \nL 246.253212 168.316362 \nL 246.863159 168.272042 \nL 247.473106 168.374322 \nL 248.083054 168.184247 \nL 249.302948 168.677254 \nL 249.912895 168.776945 \nL 250.522842 168.732003 \nL 251.132789 168.830883 \nL 251.742737 169.072239 \nL 252.352684 169.169436 \nL 252.962631 169.408211 \nL 254.182525 169.316076 \nL 255.40242 169.505941 \nL 256.012367 169.459999 \nL 257.232261 169.090672 \nL 257.842208 169.046419 \nL 258.452155 169.279023 \nL 261.501891 169.739998 \nL 262.111838 169.55892 \nL 262.721786 169.649729 \nL 263.331733 169.874999 \nL 263.94168 169.829732 \nL 264.551627 169.382127 \nL 265.161574 169.338584 \nL 265.771521 169.161879 \nL 266.991416 169.342106 \nL 267.601363 169.563671 \nL 268.821257 169.477046 \nL 270.041152 169.652852 \nL 270.651099 169.609654 \nL 271.261046 169.82665 \nL 272.48094 169.481541 \nL 273.090887 169.56818 \nL 273.700835 169.525834 \nL 275.530676 169.782472 \nL 276.140623 169.994115 \nL 276.75057 169.951174 \nL 277.360518 169.782114 \nL 279.190359 170.032379 \nL 279.800306 169.989918 \nL 281.630148 170.235735 \nL 282.240095 170.440383 \nL 282.850042 170.520654 \nL 283.459989 170.477558 \nL 284.069936 170.557296 \nL 285.289831 170.47161 \nL 285.899778 170.550726 \nL 287.729619 170.42362 \nL 289.559461 169.939474 \nL 290.169408 169.899156 \nL 291.389302 170.056651 \nL 292.609197 169.976251 \nL 293.219144 170.054184 \nL 293.829091 170.24922 \nL 294.439038 170.208841 \nL 295.048985 170.285564 \nL 295.658933 170.012081 \nL 296.878827 169.93335 \nL 298.098721 170.317102 \nL 298.708668 170.162135 \nL 299.318616 170.122783 \nL 299.928563 170.198181 \nL 300.53851 170.158944 \nL 301.758404 169.853687 \nL 302.368351 169.928998 \nL 302.978299 170.117058 \nL 303.588246 169.739998 \nL 304.80814 170.001983 \nL 305.418087 170.188002 \nL 306.637982 170.111502 \nL 307.247929 170.184704 \nL 307.857876 170.035745 \nL 310.297665 170.325761 \nL 310.907612 170.068696 \nL 311.517559 170.031467 \nL 312.737453 169.413672 \nL 313.3474 169.595311 \nL 313.957348 169.343052 \nL 315.177242 169.380856 \nL 315.787189 169.453362 \nL 317.007083 169.062452 \nL 317.617031 168.92174 \nL 318.836925 168.960984 \nL 321.276714 168.933129 \nL 321.886661 169.110003 \nL 323.106555 169.147739 \nL 324.326449 169.185138 \nL 328.59608 168.135845 \nL 334.085604 168.769909 \nL 334.695551 168.438277 \nL 338.965181 168.227999 \nL 340.185076 167.874542 \nL 340.795023 168.041858 \nL 345.064653 167.93847 \nL 346.284548 168.170337 \nL 347.504442 168.208864 \nL 348.724336 168.437648 \nL 349.334283 168.408678 \nL 349.944231 168.569621 \nL 352.384019 168.171533 \nL 356.653649 168.070308 \nL 357.263597 168.227999 \nL 359.093438 168.053187 \nL 359.703385 167.934171 \nL 361.533227 168.218874 \nL 362.753121 167.709862 \nL 363.363068 167.592962 \nL 363.363068 167.592962 \n\" clip-path=\"url(#pf8a832cc85)\" style=\"fill: none; stroke: #8c564b; stroke-width: 1.5; stroke-linecap: square\"/>\n   </g>\n   <g id=\"line2d_19\">\n    <path d=\"M 43.78125 169.5888 \nL 378.58125 169.5888 \n\" clip-path=\"url(#pf8a832cc85)\" style=\"fill: none; stroke-dasharray: 5.55,2.4; stroke-dashoffset: 0; stroke: #000000; stroke-width: 1.5\"/>\n   </g>\n   <g id=\"patch_3\">\n    <path d=\"M 43.78125 256.68 \nL 43.78125 7.2 \n\" style=\"fill: none; stroke: #000000; stroke-width: 0.8; stroke-linejoin: miter; stroke-linecap: square\"/>\n   </g>\n   <g id=\"patch_4\">\n    <path d=\"M 378.58125 256.68 \nL 378.58125 7.2 \n\" style=\"fill: none; stroke: #000000; stroke-width: 0.8; stroke-linejoin: miter; stroke-linecap: square\"/>\n   </g>\n   <g id=\"patch_5\">\n    <path d=\"M 43.78125 256.68 \nL 378.58125 256.68 \n\" style=\"fill: none; stroke: #000000; stroke-width: 0.8; stroke-linejoin: miter; stroke-linecap: square\"/>\n   </g>\n   <g id=\"patch_6\">\n    <path d=\"M 43.78125 7.2 \nL 378.58125 7.2 \n\" style=\"fill: none; stroke: #000000; stroke-width: 0.8; stroke-linejoin: miter; stroke-linecap: square\"/>\n   </g>\n   <g id=\"legend_1\">\n    <g id=\"patch_7\">\n     <path d=\"M 295.726562 103.26875 \nL 371.58125 103.26875 \nQ 373.58125 103.26875 373.58125 101.26875 \nL 373.58125 14.2 \nQ 373.58125 12.2 371.58125 12.2 \nL 295.726562 12.2 \nQ 293.726562 12.2 293.726562 14.2 \nL 293.726562 101.26875 \nQ 293.726562 103.26875 295.726562 103.26875 \nz\n\" style=\"fill: #ffffff; opacity: 0.8; stroke: #cccccc; stroke-linejoin: miter\"/>\n    </g>\n    <g id=\"line2d_20\">\n     <path d=\"M 297.726562 20.298437 \nL 307.726562 20.298437 \nL 317.726562 20.298437 \n\" style=\"fill: none; stroke: #1f77b4; stroke-width: 1.5; stroke-linecap: square\"/>\n    </g>\n    <g id=\"text_15\">\n     <!-- P(die=1) -->\n     <g transform=\"translate(325.726562 23.798437) scale(0.1 -0.1)\">\n      <defs>\n       <path id=\"DejaVuSans-50\" d=\"M 1259 4147 \nL 1259 2394 \nL 2053 2394 \nQ 2494 2394 2734 2622 \nQ 2975 2850 2975 3272 \nQ 2975 3691 2734 3919 \nQ 2494 4147 2053 4147 \nL 1259 4147 \nz\nM 628 4666 \nL 2053 4666 \nQ 2838 4666 3239 4311 \nQ 3641 3956 3641 3272 \nQ 3641 2581 3239 2228 \nQ 2838 1875 2053 1875 \nL 1259 1875 \nL 1259 0 \nL 628 0 \nL 628 4666 \nz\n\" transform=\"scale(0.015625)\"/>\n       <path id=\"DejaVuSans-28\" d=\"M 1984 4856 \nQ 1566 4138 1362 3434 \nQ 1159 2731 1159 2009 \nQ 1159 1288 1364 580 \nQ 1569 -128 1984 -844 \nL 1484 -844 \nQ 1016 -109 783 600 \nQ 550 1309 550 2009 \nQ 550 2706 781 3412 \nQ 1013 4119 1484 4856 \nL 1984 4856 \nz\n\" transform=\"scale(0.015625)\"/>\n       <path id=\"DejaVuSans-3d\" d=\"M 678 2906 \nL 4684 2906 \nL 4684 2381 \nL 678 2381 \nL 678 2906 \nz\nM 678 1631 \nL 4684 1631 \nL 4684 1100 \nL 678 1100 \nL 678 1631 \nz\n\" transform=\"scale(0.015625)\"/>\n       <path id=\"DejaVuSans-29\" d=\"M 513 4856 \nL 1013 4856 \nQ 1481 4119 1714 3412 \nQ 1947 2706 1947 2009 \nQ 1947 1309 1714 600 \nQ 1481 -109 1013 -844 \nL 513 -844 \nQ 928 -128 1133 580 \nQ 1338 1288 1338 2009 \nQ 1338 2731 1133 3434 \nQ 928 4138 513 4856 \nz\n\" transform=\"scale(0.015625)\"/>\n      </defs>\n      <use xlink:href=\"#DejaVuSans-50\"/>\n      <use xlink:href=\"#DejaVuSans-28\" x=\"60.302734\"/>\n      <use xlink:href=\"#DejaVuSans-64\" x=\"99.316406\"/>\n      <use xlink:href=\"#DejaVuSans-69\" x=\"162.792969\"/>\n      <use xlink:href=\"#DejaVuSans-65\" x=\"190.576172\"/>\n      <use xlink:href=\"#DejaVuSans-3d\" x=\"252.099609\"/>\n      <use xlink:href=\"#DejaVuSans-31\" x=\"335.888672\"/>\n      <use xlink:href=\"#DejaVuSans-29\" x=\"399.511719\"/>\n     </g>\n    </g>\n    <g id=\"line2d_21\">\n     <path d=\"M 297.726562 34.976562 \nL 307.726562 34.976562 \nL 317.726562 34.976562 \n\" style=\"fill: none; stroke: #ff7f0e; stroke-width: 1.5; stroke-linecap: square\"/>\n    </g>\n    <g id=\"text_16\">\n     <!-- P(die=2) -->\n     <g transform=\"translate(325.726562 38.476562) scale(0.1 -0.1)\">\n      <use xlink:href=\"#DejaVuSans-50\"/>\n      <use xlink:href=\"#DejaVuSans-28\" x=\"60.302734\"/>\n      <use xlink:href=\"#DejaVuSans-64\" x=\"99.316406\"/>\n      <use xlink:href=\"#DejaVuSans-69\" x=\"162.792969\"/>\n      <use xlink:href=\"#DejaVuSans-65\" x=\"190.576172\"/>\n      <use xlink:href=\"#DejaVuSans-3d\" x=\"252.099609\"/>\n      <use xlink:href=\"#DejaVuSans-32\" x=\"335.888672\"/>\n      <use xlink:href=\"#DejaVuSans-29\" x=\"399.511719\"/>\n     </g>\n    </g>\n    <g id=\"line2d_22\">\n     <path d=\"M 297.726562 49.654687 \nL 307.726562 49.654687 \nL 317.726562 49.654687 \n\" style=\"fill: none; stroke: #2ca02c; stroke-width: 1.5; stroke-linecap: square\"/>\n    </g>\n    <g id=\"text_17\">\n     <!-- P(die=3) -->\n     <g transform=\"translate(325.726562 53.154687) scale(0.1 -0.1)\">\n      <use xlink:href=\"#DejaVuSans-50\"/>\n      <use xlink:href=\"#DejaVuSans-28\" x=\"60.302734\"/>\n      <use xlink:href=\"#DejaVuSans-64\" x=\"99.316406\"/>\n      <use xlink:href=\"#DejaVuSans-69\" x=\"162.792969\"/>\n      <use xlink:href=\"#DejaVuSans-65\" x=\"190.576172\"/>\n      <use xlink:href=\"#DejaVuSans-3d\" x=\"252.099609\"/>\n      <use xlink:href=\"#DejaVuSans-33\" x=\"335.888672\"/>\n      <use xlink:href=\"#DejaVuSans-29\" x=\"399.511719\"/>\n     </g>\n    </g>\n    <g id=\"line2d_23\">\n     <path d=\"M 297.726562 64.332812 \nL 307.726562 64.332812 \nL 317.726562 64.332812 \n\" style=\"fill: none; stroke: #d62728; stroke-width: 1.5; stroke-linecap: square\"/>\n    </g>\n    <g id=\"text_18\">\n     <!-- P(die=4) -->\n     <g transform=\"translate(325.726562 67.832812) scale(0.1 -0.1)\">\n      <use xlink:href=\"#DejaVuSans-50\"/>\n      <use xlink:href=\"#DejaVuSans-28\" x=\"60.302734\"/>\n      <use xlink:href=\"#DejaVuSans-64\" x=\"99.316406\"/>\n      <use xlink:href=\"#DejaVuSans-69\" x=\"162.792969\"/>\n      <use xlink:href=\"#DejaVuSans-65\" x=\"190.576172\"/>\n      <use xlink:href=\"#DejaVuSans-3d\" x=\"252.099609\"/>\n      <use xlink:href=\"#DejaVuSans-34\" x=\"335.888672\"/>\n      <use xlink:href=\"#DejaVuSans-29\" x=\"399.511719\"/>\n     </g>\n    </g>\n    <g id=\"line2d_24\">\n     <path d=\"M 297.726562 79.010937 \nL 307.726562 79.010937 \nL 317.726562 79.010937 \n\" style=\"fill: none; stroke: #9467bd; stroke-width: 1.5; stroke-linecap: square\"/>\n    </g>\n    <g id=\"text_19\">\n     <!-- P(die=5) -->\n     <g transform=\"translate(325.726562 82.510937) scale(0.1 -0.1)\">\n      <use xlink:href=\"#DejaVuSans-50\"/>\n      <use xlink:href=\"#DejaVuSans-28\" x=\"60.302734\"/>\n      <use xlink:href=\"#DejaVuSans-64\" x=\"99.316406\"/>\n      <use xlink:href=\"#DejaVuSans-69\" x=\"162.792969\"/>\n      <use xlink:href=\"#DejaVuSans-65\" x=\"190.576172\"/>\n      <use xlink:href=\"#DejaVuSans-3d\" x=\"252.099609\"/>\n      <use xlink:href=\"#DejaVuSans-35\" x=\"335.888672\"/>\n      <use xlink:href=\"#DejaVuSans-29\" x=\"399.511719\"/>\n     </g>\n    </g>\n    <g id=\"line2d_25\">\n     <path d=\"M 297.726562 93.689062 \nL 307.726562 93.689062 \nL 317.726562 93.689062 \n\" style=\"fill: none; stroke: #8c564b; stroke-width: 1.5; stroke-linecap: square\"/>\n    </g>\n    <g id=\"text_20\">\n     <!-- P(die=6) -->\n     <g transform=\"translate(325.726562 97.189062) scale(0.1 -0.1)\">\n      <defs>\n       <path id=\"DejaVuSans-36\" d=\"M 2113 2584 \nQ 1688 2584 1439 2293 \nQ 1191 2003 1191 1497 \nQ 1191 994 1439 701 \nQ 1688 409 2113 409 \nQ 2538 409 2786 701 \nQ 3034 994 3034 1497 \nQ 3034 2003 2786 2293 \nQ 2538 2584 2113 2584 \nz\nM 3366 4563 \nL 3366 3988 \nQ 3128 4100 2886 4159 \nQ 2644 4219 2406 4219 \nQ 1781 4219 1451 3797 \nQ 1122 3375 1075 2522 \nQ 1259 2794 1537 2939 \nQ 1816 3084 2150 3084 \nQ 2853 3084 3261 2657 \nQ 3669 2231 3669 1497 \nQ 3669 778 3244 343 \nQ 2819 -91 2113 -91 \nQ 1303 -91 875 529 \nQ 447 1150 447 2328 \nQ 447 3434 972 4092 \nQ 1497 4750 2381 4750 \nQ 2619 4750 2861 4703 \nQ 3103 4656 3366 4563 \nz\n\" transform=\"scale(0.015625)\"/>\n      </defs>\n      <use xlink:href=\"#DejaVuSans-50\"/>\n      <use xlink:href=\"#DejaVuSans-28\" x=\"60.302734\"/>\n      <use xlink:href=\"#DejaVuSans-64\" x=\"99.316406\"/>\n      <use xlink:href=\"#DejaVuSans-69\" x=\"162.792969\"/>\n      <use xlink:href=\"#DejaVuSans-65\" x=\"190.576172\"/>\n      <use xlink:href=\"#DejaVuSans-3d\" x=\"252.099609\"/>\n      <use xlink:href=\"#DejaVuSans-36\" x=\"335.888672\"/>\n      <use xlink:href=\"#DejaVuSans-29\" x=\"399.511719\"/>\n     </g>\n    </g>\n   </g>\n  </g>\n </g>\n <defs>\n  <clipPath id=\"pf8a832cc85\">\n   <rect x=\"43.78125\" y=\"7.2\" width=\"334.8\" height=\"249.48\"/>\n  </clipPath>\n </defs>\n</svg>\n"
          },
          "metadata": {}
        }
      ],
      "source": [
        "counts = multinomial.Multinomial(10, fair_probs).sample((500,))       #参数sample_shape: 一个元组（或整数），表示你想采样多少个样本，以及每个样本的维度扩展形式\n",
        "cum_counts = counts.cumsum(dim=0)  #按列计算求和\n",
        "estimates = cum_counts / cum_counts.sum(dim=1, keepdims=True)       #广播机制\n",
        "\n",
        "d2l.set_figsize((6, 4.5))\n",
        "for i in range(6):\n",
        "    d2l.plt.plot(estimates[:, i].numpy(),\n",
        "                 label=(\"P(die=\" + str(i + 1) + \")\"))\n",
        "d2l.plt.axhline(y=0.167, color='black', linestyle='dashed')\n",
        "d2l.plt.gca().set_xlabel('Groups of experiments')\n",
        "d2l.plt.gca().set_ylabel('Estimated probability')\n",
        "d2l.plt.legend();"
      ]
    },
    {
      "cell_type": "markdown",
      "id": "d97d4cca",
      "metadata": {
        "origin_pos": 25,
        "id": "d97d4cca"
      },
      "source": [
        "每条实线对应于骰子的6个值中的一个，并给出骰子在每组实验后出现值的估计概率。\n",
        "当我们通过更多的实验获得更多的数据时，这$6$条实体曲线向真实概率收敛。\n",
        "\n",
        "### 概率论公理\n",
        "\n",
        "在处理骰子掷出时，我们将集合$\\mathcal{S} = \\{1, 2, 3, 4, 5, 6\\}$\n",
        "称为*样本空间*（sample space）或*结果空间*（outcome space），\n",
        "其中每个元素都是*结果*（outcome）。\n",
        "*事件*（event）是一组给定样本空间的随机结果。\n",
        "例如，“看到$5$”（$\\{5\\}$）和“看到奇数”（$\\{1, 3, 5\\}$）都是掷出骰子的有效事件。\n",
        "注意，如果一个随机实验的结果在$\\mathcal{A}$中，则事件$\\mathcal{A}$已经发生。\n",
        "也就是说，如果投掷出$3$点，因为$3 \\in \\{1, 3, 5\\}$，我们可以说，“看到奇数”的事件发生了。\n",
        "\n",
        "*概率*（probability）可以被认为是将集合映射到真实值的函数。\n",
        "在给定的样本空间$\\mathcal{S}$中，事件$\\mathcal{A}$的概率，\n",
        "表示为$P(\\mathcal{A})$，满足以下属性：\n",
        "\n",
        "* 对于任意事件$\\mathcal{A}$，其概率从不会是负数，即$P(\\mathcal{A}) \\geq 0$；\n",
        "* 整个样本空间的概率为$1$，即$P(\\mathcal{S}) = 1$；\n",
        "* 对于*互斥*（mutually exclusive）事件（对于所有$i \\neq j$都有$\\mathcal{A}_i \\cap \\mathcal{A}_j = \\emptyset$）的任意一个可数序列$\\mathcal{A}_1, \\mathcal{A}_2, \\ldots$，序列中任意一个事件发生的概率等于它们各自发生的概率之和，即$P(\\bigcup_{i=1}^{\\infty} \\mathcal{A}_i) = \\sum_{i=1}^{\\infty} P(\\mathcal{A}_i)$。\n",
        "\n",
        "以上也是概率论的公理，由科尔莫戈罗夫于1933年提出。\n",
        "有了这个公理系统，我们可以避免任何关于随机性的哲学争论；\n",
        "相反，我们可以用数学语言严格地推理。\n",
        "例如，假设事件$\\mathcal{A}_1$为整个样本空间，\n",
        "且当所有$i > 1$时的$\\mathcal{A}_i = \\emptyset$，\n",
        "那么我们可以证明$P(\\emptyset) = 0$，即不可能发生事件的概率是$0$。\n",
        "\n",
        "### 随机变量\n",
        "\n",
        "在我们掷骰子的随机实验中，我们引入了*随机变量*（random variable）的概念。\n",
        "随机变量几乎可以是任何数量，并且它可以在随机实验的一组可能性中取一个值。\n",
        "考虑一个随机变量$X$，其值在掷骰子的样本空间$\\mathcal{S}=\\{1,2,3,4,5,6\\}$中。\n",
        "我们可以将事件“看到一个$5$”表示为$\\{X=5\\}$或$X=5$，\n",
        "其概率表示为$P(\\{X=5\\})$或$P(X=5)$。\n",
        "通过$P(X=a)$，我们区分了随机变量$X$和$X$可以采取的值（例如$a$）。\n",
        "然而，这可能会导致繁琐的表示。\n",
        "为了简化符号，一方面，我们可以将$P(X)$表示为随机变量$X$上的*分布*（distribution）：\n",
        "分布告诉我们$X$获得某一值的概率。\n",
        "另一方面，我们可以简单用$P(a)$表示随机变量取值$a$的概率。\n",
        "由于概率论中的事件是来自样本空间的一组结果，因此我们可以为随机变量指定值的可取范围。\n",
        "例如，$P(1 \\leq X \\leq 3)$表示事件$\\{1 \\leq X \\leq 3\\}$，\n",
        "即$\\{X = 1, 2, \\text{or}, 3\\}$的概率。\n",
        "等价地，$P(1 \\leq X \\leq 3)$表示随机变量$X$从$\\{1, 2, 3\\}$中取值的概率。\n",
        "\n",
        "请注意，*离散*（discrete）随机变量（如骰子的每一面）\n",
        "和*连续*（continuous）随机变量（如人的体重和身高）之间存在微妙的区别。\n",
        "现实生活中，测量两个人是否具有完全相同的身高没有太大意义。\n",
        "如果我们进行足够精确的测量，最终会发现这个星球上没有两个人具有完全相同的身高。\n",
        "在这种情况下，询问某人的身高是否落入给定的区间，比如是否在1.79米和1.81米之间更有意义。\n",
        "在这些情况下，我们将这个看到某个数值的可能性量化为*密度*（density）。\n",
        "高度恰好为1.80米的概率为0，但密度不是0。\n",
        "在任何两个不同高度之间的区间，我们都有非零的概率。\n",
        "在本节的其余部分中，我们将考虑离散空间中的概率。\n",
        "连续随机变量的概率可以参考深度学习数学附录中[随机变量](https://d2l.ai/chapter_appendix-mathematics-for-deep-learning/random-variables.html)\n",
        "的一节。\n",
        "\n",
        "## 处理多个随机变量\n",
        "\n",
        "很多时候，我们会考虑多个随机变量。\n",
        "比如，我们可能需要对疾病和症状之间的关系进行建模。\n",
        "给定一个疾病和一个症状，比如“流感”和“咳嗽”，以某个概率存在或不存在于某个患者身上。\n",
        "我们需要估计这些概率以及概率之间的关系，以便我们可以运用我们的推断来实现更好的医疗服务。\n",
        "\n",
        "再举一个更复杂的例子：图像包含数百万像素，因此有数百万个随机变量。\n",
        "在许多情况下，图像会附带一个*标签*（label），标识图像中的对象。\n",
        "我们也可以将标签视为一个随机变量。\n",
        "我们甚至可以将所有元数据视为随机变量，例如位置、时间、光圈、焦距、ISO、对焦距离和相机类型。\n",
        "所有这些都是联合发生的随机变量。\n",
        "当我们处理多个随机变量时，会有若干个变量是我们感兴趣的。\n",
        "\n",
        "### 联合概率\n",
        "\n",
        "第一个被称为*联合概率*（joint probability）$P(A=a,B=b)$。\n",
        "给定任意值$a$和$b$，联合概率可以回答：$A=a$和$B=b$同时满足的概率是多少？\n",
        "请注意，对于任何$a$和$b$的取值，$P(A = a, B=b) \\leq P(A=a)$。\n",
        "这点是确定的，因为要同时发生$A=a$和$B=b$，$A=a$就必须发生，$B=b$也必须发生（反之亦然）。因此，$A=a$和$B=b$同时发生的可能性不大于$A=a$或是$B=b$单独发生的可能性。\n",
        "\n",
        "### 条件概率\n",
        "\n",
        "联合概率的不等式带给我们一个有趣的比率：\n",
        "$0 \\leq \\frac{P(A=a, B=b)}{P(A=a)} \\leq 1$。\n",
        "我们称这个比率为*条件概率*（conditional probability），\n",
        "并用$P(B=b \\mid A=a)$表示它：它是$B=b$的概率，前提是$A=a$已发生。\n",
        "\n",
        "### 贝叶斯定理\n",
        "\n",
        "使用条件概率的定义，我们可以得出统计学中最有用的方程之一：\n",
        "*Bayes定理*（Bayes' theorem）。\n",
        "根据*乘法法则*（multiplication rule ）可得到$P(A, B) = P(B \\mid A) P(A)$。\n",
        "根据对称性，可得到$P(A, B) = P(A \\mid B) P(B)$。\n",
        "假设$P(B)>0$，求解其中一个条件变量，我们得到\n",
        "\n",
        "$$P(A \\mid B) = \\frac{P(B \\mid A) P(A)}{P(B)}.$$\n",
        "\n",
        "请注意，这里我们使用紧凑的表示法：\n",
        "其中$P(A, B)$是一个*联合分布*（joint distribution），\n",
        "$P(A \\mid B)$是一个*条件分布*（conditional distribution）。\n",
        "这种分布可以在给定值$A = a, B=b$上进行求值。\n",
        "\n",
        "### 边际化\n",
        "\n",
        "为了能进行事件概率求和，我们需要*求和法则*（sum rule），\n",
        "即$B$的概率相当于计算$A$的所有可能选择，并将所有选择的联合概率聚合在一起：\n",
        "\n",
        "$$P(B) = \\sum_{A} P(A, B),$$\n",
        "\n",
        "这也称为*边际化*（marginalization）。\n",
        "边际化结果的概率或分布称为*边际概率*（marginal probability）\n",
        "或*边际分布*（marginal distribution）。\n",
        "\n",
        "### 独立性\n",
        "\n",
        "另一个有用属性是*依赖*（dependence）与*独立*（independence）。\n",
        "如果两个随机变量$A$和$B$是独立的，意味着事件$A$的发生跟$B$事件的发生无关。\n",
        "在这种情况下，统计学家通常将这一点表述为$A \\perp  B$。\n",
        "根据贝叶斯定理，马上就能同样得到$P(A \\mid B) = P(A)$。\n",
        "在所有其他情况下，我们称$A$和$B$依赖。\n",
        "比如，两次连续抛出一个骰子的事件是相互独立的。\n",
        "相比之下，灯开关的位置和房间的亮度并不是（因为可能存在灯泡坏掉、电源故障，或者开关故障）。\n",
        "\n",
        "由于$P(A \\mid B) = \\frac{P(A, B)}{P(B)} = P(A)$等价于$P(A, B) = P(A)P(B)$，\n",
        "因此两个随机变量是独立的，当且仅当两个随机变量的联合分布是其各自分布的乘积。\n",
        "同样地，给定另一个随机变量$C$时，两个随机变量$A$和$B$是*条件独立的*（conditionally independent），\n",
        "当且仅当$P(A, B \\mid C) = P(A \\mid C)P(B \\mid C)$。\n",
        "这个情况表示为$A \\perp B \\mid C$。\n",
        "\n",
        "### 应用\n",
        ":label:`subsec_probability_hiv_app`\n",
        "\n",
        "我们实战演练一下！\n",
        "假设一个医生对患者进行艾滋病病毒（HIV）测试。\n",
        "这个测试是相当准确的，如果患者健康但测试显示他患病，这个概率只有1%；\n",
        "如果患者真正感染HIV，它永远不会检测不出。\n",
        "我们使用$D_1$来表示诊断结果（如果阳性，则为$1$，如果阴性，则为$0$），\n",
        "$H$来表示感染艾滋病病毒的状态（如果阳性，则为$1$，如果阴性，则为$0$）。\n",
        "在 :numref:`conditional_prob_D1`中列出了这样的条件概率。\n",
        "\n",
        ":条件概率为$P(D_1 \\mid H)$\n",
        "\n",
        "| 条件概率 | $H=1$ | $H=0$ |\n",
        "|---|---|---|\n",
        "|$P(D_1 = 1 \\mid H)$|            1 |         0.01 |\n",
        "|$P(D_1 = 0 \\mid H)$|            0 |         0.99 |\n",
        ":label:`conditional_prob_D1`\n",
        "\n",
        "请注意，每列的加和都是1（但每行的加和不是），因为条件概率需要总和为1，就像概率一样。\n",
        "让我们计算如果测试出来呈阳性，患者感染HIV的概率，即$P(H = 1 \\mid D_1 = 1)$。\n",
        "显然，这将取决于疾病有多常见，因为它会影响错误警报的数量。\n",
        "假设人口总体是相当健康的，例如，$P(H=1) = 0.0015$。\n",
        "为了应用贝叶斯定理，我们需要运用边际化和乘法法则来确定\n",
        "\n",
        "$$\\begin{aligned}\n",
        "&P(D_1 = 1) \\\\\n",
        "=& P(D_1=1, H=0) + P(D_1=1, H=1)  \\\\\n",
        "=& P(D_1=1 \\mid H=0) P(H=0) + P(D_1=1 \\mid H=1) P(H=1) \\\\\n",
        "=& 0.011485.\n",
        "\\end{aligned}\n",
        "$$\n",
        "因此，我们得到\n",
        "\n",
        "$$\\begin{aligned}\n",
        "&P(H = 1 \\mid D_1 = 1)\\\\ =& \\frac{P(D_1=1 \\mid H=1) P(H=1)}{P(D_1=1)} \\\\ =& 0.1306 \\end{aligned}.$$\n",
        "\n",
        "换句话说，尽管使用了非常准确的测试，患者实际上患有艾滋病的几率只有13.06%。\n",
        "正如我们所看到的，概率可能是违反直觉的。\n",
        "\n",
        "患者在收到这样可怕的消息后应该怎么办？\n",
        "很可能，患者会要求医生进行另一次测试来确定病情。\n",
        "第二个测试具有不同的特性，它不如第一个测试那么精确，\n",
        "如 :numref:`conditional_prob_D2`所示。\n",
        "\n",
        ":条件概率为$P(D_2 \\mid H)$\n",
        "\n",
        "| 条件概率 | $H=1$ | $H=0$ |\n",
        "|---|---|---|\n",
        "|$P(D_2 = 1 \\mid H)$|            0.98 |         0.03 |\n",
        "|$P(D_2 = 0 \\mid H)$|            0.02 |         0.97 |\n",
        ":label:`conditional_prob_D2`\n",
        "\n",
        "不幸的是，第二次测试也显示阳性。让我们通过假设条件独立性来计算出应用Bayes定理的必要概率：\n",
        "\n",
        "$$\\begin{aligned}\n",
        "&P(D_1 = 1, D_2 = 1 \\mid H = 0) \\\\\n",
        "=& P(D_1 = 1 \\mid H = 0) P(D_2 = 1 \\mid H = 0)  \\\\\n",
        "=& 0.0003,\n",
        "\\end{aligned}\n",
        "$$\n",
        "\n",
        "$$\\begin{aligned}\n",
        "&P(D_1 = 1, D_2 = 1 \\mid H = 1) \\\\\n",
        "=& P(D_1 = 1 \\mid H = 1) P(D_2 = 1 \\mid H = 1)  \\\\\n",
        "=& 0.98.\n",
        "\\end{aligned}\n",
        "$$\n",
        "现在我们可以应用边际化和乘法规则：\n",
        "\n",
        "$$\\begin{aligned}\n",
        "&P(D_1 = 1, D_2 = 1) \\\\\n",
        "=& P(D_1 = 1, D_2 = 1, H = 0) + P(D_1 = 1, D_2 = 1, H = 1)  \\\\\n",
        "=& P(D_1 = 1, D_2 = 1 \\mid H = 0)P(H=0) + P(D_1 = 1, D_2 = 1 \\mid H = 1)P(H=1)\\\\\n",
        "=& 0.00176955.\n",
        "\\end{aligned}\n",
        "$$\n",
        "\n",
        "最后，鉴于存在两次阳性检测，患者患有艾滋病的概率为\n",
        "\n",
        "$$\\begin{aligned}\n",
        "&P(H = 1 \\mid D_1 = 1, D_2 = 1)\\\\\n",
        "=& \\frac{P(D_1 = 1, D_2 = 1 \\mid H=1) P(H=1)}{P(D_1 = 1, D_2 = 1)} \\\\\n",
        "=& 0.8307.\n",
        "\\end{aligned}\n",
        "$$\n",
        "\n",
        "也就是说，第二次测试使我们能够对患病的情况获得更高的信心。\n",
        "尽管第二次检验比第一次检验的准确性要低得多，但它仍然显著提高我们的预测概率。\n",
        "\n",
        "## 期望和方差\n",
        "\n",
        "为了概括概率分布的关键特征，我们需要一些测量方法。\n",
        "一个随机变量$X$的*期望*（expectation，或平均值（average））表示为\n",
        "\n",
        "$$E[X] = \\sum_{x} x P(X = x).$$\n",
        "\n",
        "当函数$f(x)$的输入是从分布$P$中抽取的随机变量时，$f(x)$的期望值为\n",
        "\n",
        "$$E_{x \\sim P}[f(x)] = \\sum_x f(x) P(x).$$\n",
        "\n",
        "在许多情况下，我们希望衡量随机变量$X$与其期望值的偏置。这可以通过方差来量化\n",
        "\n",
        "$$\\mathrm{Var}[X] = E\\left[(X - E[X])^2\\right] =\n",
        "E[X^2] - E[X]^2.$$\n",
        "\n",
        "方差的平方根被称为*标准差*（standard deviation）。\n",
        "随机变量函数的方差衡量的是：当从该随机变量分布中采样不同值$x$时，\n",
        "函数值偏离该函数的期望的程度：\n",
        "\n",
        "$$\\mathrm{Var}[f(x)] = E\\left[\\left(f(x) - E[f(x)]\\right)^2\\right].$$\n",
        "\n",
        "## 小结\n",
        "\n",
        "* 我们可以从概率分布中采样。\n",
        "* 我们可以使用联合分布、条件分布、Bayes定理、边缘化和独立性假设来分析多个随机变量。\n",
        "* 期望和方差为概率分布的关键特征的概括提供了实用的度量形式。\n",
        "\n",
        "## 练习\n",
        "\n",
        "1. 进行$m=500$组实验，每组抽取$n=10$个样本。改变$m$和$n$，观察和分析实验结果。\n",
        "2. 给定两个概率为$P(\\mathcal{A})$和$P(\\mathcal{B})$的事件，计算$P(\\mathcal{A} \\cup \\mathcal{B})$和$P(\\mathcal{A} \\cap \\mathcal{B})$的上限和下限。（提示：使用[友元图](https://en.wikipedia.org/wiki/Venn_diagram)来展示这些情况。)\n",
        "3. 假设我们有一系列随机变量，例如$A$、$B$和$C$，其中$B$只依赖于$A$，而$C$只依赖于$B$，能简化联合概率$P(A, B, C)$吗？（提示：这是一个[马尔可夫链](https://en.wikipedia.org/wiki/Markov_chain)。)\n",
        "4. 在 :numref:`subsec_probability_hiv_app`中，第一个测试更准确。为什么不运行第一个测试两次，而是同时运行第一个和第二个测试?\n"
      ]
    },
    {
      "cell_type": "markdown",
      "id": "2594045e",
      "metadata": {
        "origin_pos": 27,
        "tab": [
          "pytorch"
        ],
        "id": "2594045e"
      },
      "source": [
        "[Discussions](https://discuss.d2l.ai/t/1762)\n"
      ]
    }
  ],
  "metadata": {
    "kernelspec": {
      "display_name": "Python 3",
      "name": "python3"
    },
    "language_info": {
      "name": "python"
    },
    "required_libs": [],
    "colab": {
      "provenance": []
    }
  },
  "nbformat": 4,
  "nbformat_minor": 5
}