{
  "cells": [
    {
      "cell_type": "markdown",
      "id": "8b2fbfca",
      "metadata": {
        "id": "8b2fbfca"
      },
      "source": [
        "The following additional libraries are needed to run this\n",
        "notebook. Note that running on Colab is experimental, please report a Github\n",
        "issue if you have any problem."
      ]
    },
    {
      "cell_type": "code",
      "execution_count": null,
      "id": "4d4b16ae",
      "metadata": {
        "id": "4d4b16ae"
      },
      "outputs": [],
      "source": [
        "!pip install --no-deps git+https://github.com/d2l-ai/d2l-zh@release\n",
        "!pip install numpy jupyter matplotlib pandas --upgrade"
      ]
    },
    {
      "cell_type": "markdown",
      "id": "3b3e0a72",
      "metadata": {
        "origin_pos": 0,
        "id": "3b3e0a72"
      },
      "source": [
        "# 线性回归的从零开始实现\n",
        ":label:`sec_linear_scratch`\n",
        "\n",
        "在了解线性回归的关键思想之后，我们可以开始通过代码来动手实现线性回归了。\n",
        "在这一节中，(**我们将从零开始实现整个方法，\n",
        "包括数据流水线、模型、损失函数和小批量随机梯度下降优化器**)。\n",
        "虽然现代的深度学习框架几乎可以自动化地进行所有这些工作，但从零开始实现可以确保我们真正知道自己在做什么。\n",
        "同时，了解更细致的工作原理将方便我们自定义模型、自定义层或自定义损失函数。\n",
        "在这一节中，我们将只使用张量和自动求导。\n",
        "在之后的章节中，我们会充分利用深度学习框架的优势，介绍更简洁的实现方式。\n"
      ]
    },
    {
      "cell_type": "code",
      "execution_count": 4,
      "id": "c6f4cd71",
      "metadata": {
        "execution": {
          "iopub.execute_input": "2023-08-18T07:02:01.462670Z",
          "iopub.status.busy": "2023-08-18T07:02:01.461918Z",
          "iopub.status.idle": "2023-08-18T07:02:04.547486Z",
          "shell.execute_reply": "2023-08-18T07:02:04.546281Z"
        },
        "origin_pos": 2,
        "tab": [
          "pytorch"
        ],
        "id": "c6f4cd71"
      },
      "outputs": [],
      "source": [
        "%matplotlib inline\n",
        "import random\n",
        "import torch\n",
        "from d2l import torch as d2l"
      ]
    },
    {
      "cell_type": "markdown",
      "id": "18283191",
      "metadata": {
        "origin_pos": 5,
        "id": "18283191"
      },
      "source": [
        "## 生成数据集\n",
        "\n",
        "为了简单起见，我们将[**根据带有噪声的线性模型构造一个人造数据集。**]\n",
        "我们的任务是使用这个有限样本的数据集来恢复这个模型的参数。\n",
        "我们将使用低维数据，这样可以很容易地将其可视化。\n",
        "在下面的代码中，我们生成一个包含1000个样本的数据集，\n",
        "每个样本包含从标准正态分布中采样的2个特征。\n",
        "我们的合成数据集是一个矩阵$\\mathbf{X}\\in \\mathbb{R}^{1000 \\times 2}$。\n",
        "\n",
        "(**我们使用线性模型参数$\\mathbf{w} = [2, -3.4]^\\top$、$b = 4.2$\n",
        "和噪声项$\\epsilon$生成数据集及其标签：\n",
        "\n",
        "$$\\mathbf{y}= \\mathbf{X} \\mathbf{w} + b + \\mathbf\\epsilon.$$\n",
        "**)\n",
        "\n",
        "$\\epsilon$可以视为模型预测和标签时的潜在观测误差。\n",
        "在这里我们认为标准假设成立，即$\\epsilon$服从均值为0的正态分布。\n",
        "为了简化问题，我们将标准差设为0.01。\n",
        "下面的代码生成合成数据集。\n"
      ]
    },
    {
      "cell_type": "code",
      "execution_count": 5,
      "id": "54efeafe",
      "metadata": {
        "execution": {
          "iopub.execute_input": "2023-08-18T07:02:04.553500Z",
          "iopub.status.busy": "2023-08-18T07:02:04.552544Z",
          "iopub.status.idle": "2023-08-18T07:02:04.560226Z",
          "shell.execute_reply": "2023-08-18T07:02:04.559125Z"
        },
        "origin_pos": 6,
        "tab": [
          "pytorch"
        ],
        "id": "54efeafe"
      },
      "outputs": [],
      "source": [
        "def synthetic_data(w, b, num_examples):\n",
        "    \"\"\"生成y=Xw+b+噪声\"\"\"\n",
        "    X = torch.normal(0, 1, (num_examples, len(w)))\n",
        "    y = torch.matmul(X, w) + b\n",
        "    y += torch.normal(0, 0.01, y.shape)\n",
        "    return X, y.reshape((-1, 1))"
      ]
    },
    {
      "cell_type": "code",
      "execution_count": 6,
      "id": "1e60261c",
      "metadata": {
        "execution": {
          "iopub.execute_input": "2023-08-18T07:02:04.564932Z",
          "iopub.status.busy": "2023-08-18T07:02:04.564190Z",
          "iopub.status.idle": "2023-08-18T07:02:04.575309Z",
          "shell.execute_reply": "2023-08-18T07:02:04.574216Z"
        },
        "origin_pos": 8,
        "tab": [
          "pytorch"
        ],
        "id": "1e60261c"
      },
      "outputs": [],
      "source": [
        "true_w = torch.tensor([2, -3.4])\n",
        "true_b = 4.2\n",
        "features, labels = synthetic_data(true_w, true_b, 1000)"
      ]
    },
    {
      "cell_type": "markdown",
      "id": "772256cb",
      "metadata": {
        "origin_pos": 9,
        "id": "772256cb"
      },
      "source": [
        "注意，[**`features`中的每一行都包含一个二维数据样本，\n",
        "`labels`中的每一行都包含一维标签值（一个标量）**]。\n"
      ]
    },
    {
      "cell_type": "code",
      "execution_count": 7,
      "id": "ec13e4f8",
      "metadata": {
        "execution": {
          "iopub.execute_input": "2023-08-18T07:02:04.580067Z",
          "iopub.status.busy": "2023-08-18T07:02:04.579449Z",
          "iopub.status.idle": "2023-08-18T07:02:04.587391Z",
          "shell.execute_reply": "2023-08-18T07:02:04.586306Z"
        },
        "origin_pos": 10,
        "tab": [
          "pytorch"
        ],
        "id": "ec13e4f8",
        "outputId": "b6008bd2-7477-4874-96f8-dc0d4b23b2a7",
        "colab": {
          "base_uri": "https://localhost:8080/"
        }
      },
      "outputs": [
        {
          "output_type": "stream",
          "name": "stdout",
          "text": [
            "feature_shape: torch.Size([1000, 2])\n",
            "labels_shape: torch.Size([1000, 1])\n"
          ]
        }
      ],
      "source": [
        "print(f'feature_shape: {features.shape}\\nlabels_shape: {labels.shape}')"
      ]
    },
    {
      "cell_type": "markdown",
      "id": "6b8c624b",
      "metadata": {
        "origin_pos": 11,
        "id": "6b8c624b"
      },
      "source": [
        "通过生成第二个特征`features[:, 1]`和`labels`的散点图，\n",
        "可以直观观察到两者之间的线性关系。\n"
      ]
    },
    {
      "cell_type": "code",
      "execution_count": 8,
      "id": "53ef493c",
      "metadata": {
        "execution": {
          "iopub.execute_input": "2023-08-18T07:02:04.592131Z",
          "iopub.status.busy": "2023-08-18T07:02:04.591402Z",
          "iopub.status.idle": "2023-08-18T07:02:04.829190Z",
          "shell.execute_reply": "2023-08-18T07:02:04.827927Z"
        },
        "origin_pos": 12,
        "tab": [
          "pytorch"
        ],
        "id": "53ef493c",
        "outputId": "967bd8a3-7e3c-4aaa-ea2a-3d40de8e5768",
        "colab": {
          "base_uri": "https://localhost:8080/",
          "height": 247
        }
      },
      "outputs": [
        {
          "output_type": "display_data",
          "data": {
            "text/plain": [
              "<Figure size 350x250 with 1 Axes>"
            ],
            "image/svg+xml": "<?xml version=\"1.0\" encoding=\"utf-8\" standalone=\"no\"?>\n<!DOCTYPE svg PUBLIC \"-//W3C//DTD SVG 1.1//EN\"\n  \"http://www.w3.org/Graphics/SVG/1.1/DTD/svg11.dtd\">\n<svg xmlns:xlink=\"http://www.w3.org/1999/xlink\" width=\"238.356335pt\" height=\"169.678125pt\" viewBox=\"0 0 238.356335 169.678125\" xmlns=\"http://www.w3.org/2000/svg\" version=\"1.1\">\n <metadata>\n  <rdf:RDF xmlns:dc=\"http://purl.org/dc/elements/1.1/\" xmlns:cc=\"http://creativecommons.org/ns#\" xmlns:rdf=\"http://www.w3.org/1999/02/22-rdf-syntax-ns#\">\n   <cc:Work>\n    <dc:type rdf:resource=\"http://purl.org/dc/dcmitype/StillImage\"/>\n    <dc:date>2025-06-19T09:10:34.233615</dc:date>\n    <dc:format>image/svg+xml</dc:format>\n    <dc:creator>\n     <cc:Agent>\n      <dc:title>Matplotlib v3.10.0, https://matplotlib.org/</dc:title>\n     </cc:Agent>\n    </dc:creator>\n   </cc:Work>\n  </rdf:RDF>\n </metadata>\n <defs>\n  <style type=\"text/css\">*{stroke-linejoin: round; stroke-linecap: butt}</style>\n </defs>\n <g id=\"figure_1\">\n  <g id=\"patch_1\">\n   <path d=\"M 0 169.678125 \nL 238.356335 169.678125 \nL 238.356335 0 \nL 0 0 \nz\n\" style=\"fill: #ffffff\"/>\n  </g>\n  <g id=\"axes_1\">\n   <g id=\"patch_2\">\n    <path d=\"M 35.304688 145.8 \nL 230.604688 145.8 \nL 230.604688 7.2 \nL 35.304688 7.2 \nz\n\" style=\"fill: #ffffff\"/>\n   </g>\n   <g id=\"PathCollection_1\">\n    <defs>\n     <path id=\"mdcd292c49e\" d=\"M 0 0.5 \nC 0.132602 0.5 0.25979 0.447317 0.353553 0.353553 \nC 0.447317 0.25979 0.5 0.132602 0.5 0 \nC 0.5 -0.132602 0.447317 -0.25979 0.353553 -0.353553 \nC 0.25979 -0.447317 0.132602 -0.5 0 -0.5 \nC -0.132602 -0.5 -0.25979 -0.447317 -0.353553 -0.353553 \nC -0.447317 -0.25979 -0.5 -0.132602 -0.5 0 \nC -0.5 0.132602 -0.447317 0.25979 -0.353553 0.353553 \nC -0.25979 0.447317 -0.132602 0.5 0 0.5 \nz\n\" style=\"stroke: #1f77b4\"/>\n    </defs>\n    <g clip-path=\"url(#pccf1d9fa98)\">\n     <use xlink:href=\"#mdcd292c49e\" x=\"142.065097\" y=\"82.179302\" style=\"fill: #1f77b4; stroke: #1f77b4\"/>\n     <use xlink:href=\"#mdcd292c49e\" x=\"167.53643\" y=\"107.78428\" style=\"fill: #1f77b4; stroke: #1f77b4\"/>\n     <use xlink:href=\"#mdcd292c49e\" x=\"112.769351\" y=\"73.874852\" style=\"fill: #1f77b4; stroke: #1f77b4\"/>\n     <use xlink:href=\"#mdcd292c49e\" x=\"87.120104\" y=\"43.91829\" style=\"fill: #1f77b4; stroke: #1f77b4\"/>\n     <use xlink:href=\"#mdcd292c49e\" x=\"120.18819\" y=\"60.767021\" style=\"fill: #1f77b4; stroke: #1f77b4\"/>\n     <use xlink:href=\"#mdcd292c49e\" x=\"166.000726\" y=\"91.178497\" style=\"fill: #1f77b4; stroke: #1f77b4\"/>\n     <use xlink:href=\"#mdcd292c49e\" x=\"111.356904\" y=\"71.418744\" style=\"fill: #1f77b4; stroke: #1f77b4\"/>\n     <use xlink:href=\"#mdcd292c49e\" x=\"136.307433\" y=\"82.166585\" style=\"fill: #1f77b4; stroke: #1f77b4\"/>\n     <use xlink:href=\"#mdcd292c49e\" x=\"71.761444\" y=\"39.759057\" style=\"fill: #1f77b4; stroke: #1f77b4\"/>\n     <use xlink:href=\"#mdcd292c49e\" x=\"125.400125\" y=\"78.383446\" style=\"fill: #1f77b4; stroke: #1f77b4\"/>\n     <use xlink:href=\"#mdcd292c49e\" x=\"120.492903\" y=\"59.861187\" style=\"fill: #1f77b4; stroke: #1f77b4\"/>\n     <use xlink:href=\"#mdcd292c49e\" x=\"110.648988\" y=\"58.018233\" style=\"fill: #1f77b4; stroke: #1f77b4\"/>\n     <use xlink:href=\"#mdcd292c49e\" x=\"123.325444\" y=\"69.143492\" style=\"fill: #1f77b4; stroke: #1f77b4\"/>\n     <use xlink:href=\"#mdcd292c49e\" x=\"164.665511\" y=\"79.051405\" style=\"fill: #1f77b4; stroke: #1f77b4\"/>\n     <use xlink:href=\"#mdcd292c49e\" x=\"132.50854\" y=\"79.029302\" style=\"fill: #1f77b4; stroke: #1f77b4\"/>\n     <use xlink:href=\"#mdcd292c49e\" x=\"132.015635\" y=\"79.671837\" style=\"fill: #1f77b4; stroke: #1f77b4\"/>\n     <use xlink:href=\"#mdcd292c49e\" x=\"113.428075\" y=\"62.872258\" style=\"fill: #1f77b4; stroke: #1f77b4\"/>\n     <use xlink:href=\"#mdcd292c49e\" x=\"118.291062\" y=\"71.819888\" style=\"fill: #1f77b4; stroke: #1f77b4\"/>\n     <use xlink:href=\"#mdcd292c49e\" x=\"144.303489\" y=\"77.742526\" style=\"fill: #1f77b4; stroke: #1f77b4\"/>\n     <use xlink:href=\"#mdcd292c49e\" x=\"163.182624\" y=\"86.370982\" style=\"fill: #1f77b4; stroke: #1f77b4\"/>\n     <use xlink:href=\"#mdcd292c49e\" x=\"107.413379\" y=\"64.333843\" style=\"fill: #1f77b4; stroke: #1f77b4\"/>\n     <use xlink:href=\"#mdcd292c49e\" x=\"133.532561\" y=\"88.501075\" style=\"fill: #1f77b4; stroke: #1f77b4\"/>\n     <use xlink:href=\"#mdcd292c49e\" x=\"67.933419\" y=\"39.707701\" style=\"fill: #1f77b4; stroke: #1f77b4\"/>\n     <use xlink:href=\"#mdcd292c49e\" x=\"104.900508\" y=\"59.776949\" style=\"fill: #1f77b4; stroke: #1f77b4\"/>\n     <use xlink:href=\"#mdcd292c49e\" x=\"150.982773\" y=\"102.24665\" style=\"fill: #1f77b4; stroke: #1f77b4\"/>\n     <use xlink:href=\"#mdcd292c49e\" x=\"107.465502\" y=\"65.576085\" style=\"fill: #1f77b4; stroke: #1f77b4\"/>\n     <use xlink:href=\"#mdcd292c49e\" x=\"150.152508\" y=\"87.525471\" style=\"fill: #1f77b4; stroke: #1f77b4\"/>\n     <use xlink:href=\"#mdcd292c49e\" x=\"114.775635\" y=\"75.623634\" style=\"fill: #1f77b4; stroke: #1f77b4\"/>\n     <use xlink:href=\"#mdcd292c49e\" x=\"143.725367\" y=\"74.268923\" style=\"fill: #1f77b4; stroke: #1f77b4\"/>\n     <use xlink:href=\"#mdcd292c49e\" x=\"78.447106\" y=\"58.858287\" style=\"fill: #1f77b4; stroke: #1f77b4\"/>\n     <use xlink:href=\"#mdcd292c49e\" x=\"139.020237\" y=\"74.302983\" style=\"fill: #1f77b4; stroke: #1f77b4\"/>\n     <use xlink:href=\"#mdcd292c49e\" x=\"107.639461\" y=\"52.489158\" style=\"fill: #1f77b4; stroke: #1f77b4\"/>\n     <use xlink:href=\"#mdcd292c49e\" x=\"108.470906\" y=\"66.41243\" style=\"fill: #1f77b4; stroke: #1f77b4\"/>\n     <use xlink:href=\"#mdcd292c49e\" x=\"140.606883\" y=\"74.086388\" style=\"fill: #1f77b4; stroke: #1f77b4\"/>\n     <use xlink:href=\"#mdcd292c49e\" x=\"56.508379\" y=\"23.081827\" style=\"fill: #1f77b4; stroke: #1f77b4\"/>\n     <use xlink:href=\"#mdcd292c49e\" x=\"139.25077\" y=\"77.198468\" style=\"fill: #1f77b4; stroke: #1f77b4\"/>\n     <use xlink:href=\"#mdcd292c49e\" x=\"147.877948\" y=\"86.383059\" style=\"fill: #1f77b4; stroke: #1f77b4\"/>\n     <use xlink:href=\"#mdcd292c49e\" x=\"141.506272\" y=\"86.482543\" style=\"fill: #1f77b4; stroke: #1f77b4\"/>\n     <use xlink:href=\"#mdcd292c49e\" x=\"117.025987\" y=\"68.161881\" style=\"fill: #1f77b4; stroke: #1f77b4\"/>\n     <use xlink:href=\"#mdcd292c49e\" x=\"94.709799\" y=\"54.045899\" style=\"fill: #1f77b4; stroke: #1f77b4\"/>\n     <use xlink:href=\"#mdcd292c49e\" x=\"133.764646\" y=\"72.414196\" style=\"fill: #1f77b4; stroke: #1f77b4\"/>\n     <use xlink:href=\"#mdcd292c49e\" x=\"119.361893\" y=\"66.506915\" style=\"fill: #1f77b4; stroke: #1f77b4\"/>\n     <use xlink:href=\"#mdcd292c49e\" x=\"134.284902\" y=\"75.433663\" style=\"fill: #1f77b4; stroke: #1f77b4\"/>\n     <use xlink:href=\"#mdcd292c49e\" x=\"99.093683\" y=\"57.635623\" style=\"fill: #1f77b4; stroke: #1f77b4\"/>\n     <use xlink:href=\"#mdcd292c49e\" x=\"146.457537\" y=\"101.894896\" style=\"fill: #1f77b4; stroke: #1f77b4\"/>\n     <use xlink:href=\"#mdcd292c49e\" x=\"116.076266\" y=\"66.123229\" style=\"fill: #1f77b4; stroke: #1f77b4\"/>\n     <use xlink:href=\"#mdcd292c49e\" x=\"167.175797\" y=\"89.168653\" style=\"fill: #1f77b4; stroke: #1f77b4\"/>\n     <use xlink:href=\"#mdcd292c49e\" x=\"111.78509\" y=\"66.324884\" style=\"fill: #1f77b4; stroke: #1f77b4\"/>\n     <use xlink:href=\"#mdcd292c49e\" x=\"111.04045\" y=\"72.528422\" style=\"fill: #1f77b4; stroke: #1f77b4\"/>\n     <use xlink:href=\"#mdcd292c49e\" x=\"101.483753\" y=\"43.598203\" style=\"fill: #1f77b4; stroke: #1f77b4\"/>\n     <use xlink:href=\"#mdcd292c49e\" x=\"81.775952\" y=\"54.387206\" style=\"fill: #1f77b4; stroke: #1f77b4\"/>\n     <use xlink:href=\"#mdcd292c49e\" x=\"106.366701\" y=\"55.032361\" style=\"fill: #1f77b4; stroke: #1f77b4\"/>\n     <use xlink:href=\"#mdcd292c49e\" x=\"138.204253\" y=\"86.002675\" style=\"fill: #1f77b4; stroke: #1f77b4\"/>\n     <use xlink:href=\"#mdcd292c49e\" x=\"93.882434\" y=\"41.947772\" style=\"fill: #1f77b4; stroke: #1f77b4\"/>\n     <use xlink:href=\"#mdcd292c49e\" x=\"126.424699\" y=\"61.118607\" style=\"fill: #1f77b4; stroke: #1f77b4\"/>\n     <use xlink:href=\"#mdcd292c49e\" x=\"126.453413\" y=\"75.794415\" style=\"fill: #1f77b4; stroke: #1f77b4\"/>\n     <use xlink:href=\"#mdcd292c49e\" x=\"134.119745\" y=\"75.766431\" style=\"fill: #1f77b4; stroke: #1f77b4\"/>\n     <use xlink:href=\"#mdcd292c49e\" x=\"131.266256\" y=\"67.092801\" style=\"fill: #1f77b4; stroke: #1f77b4\"/>\n     <use xlink:href=\"#mdcd292c49e\" x=\"123.955695\" y=\"57.641624\" style=\"fill: #1f77b4; stroke: #1f77b4\"/>\n     <use xlink:href=\"#mdcd292c49e\" x=\"89.575249\" y=\"38.063686\" style=\"fill: #1f77b4; stroke: #1f77b4\"/>\n     <use xlink:href=\"#mdcd292c49e\" x=\"109.655608\" y=\"55.873595\" style=\"fill: #1f77b4; stroke: #1f77b4\"/>\n     <use xlink:href=\"#mdcd292c49e\" x=\"122.345601\" y=\"56.166483\" style=\"fill: #1f77b4; stroke: #1f77b4\"/>\n     <use xlink:href=\"#mdcd292c49e\" x=\"127.989735\" y=\"84.440609\" style=\"fill: #1f77b4; stroke: #1f77b4\"/>\n     <use xlink:href=\"#mdcd292c49e\" x=\"146.739705\" y=\"91.92953\" style=\"fill: #1f77b4; stroke: #1f77b4\"/>\n     <use xlink:href=\"#mdcd292c49e\" x=\"122.343842\" y=\"77.929771\" style=\"fill: #1f77b4; stroke: #1f77b4\"/>\n     <use xlink:href=\"#mdcd292c49e\" x=\"114.078757\" y=\"81.067015\" style=\"fill: #1f77b4; stroke: #1f77b4\"/>\n     <use xlink:href=\"#mdcd292c49e\" x=\"94.963327\" y=\"56.132375\" style=\"fill: #1f77b4; stroke: #1f77b4\"/>\n     <use xlink:href=\"#mdcd292c49e\" x=\"117.871302\" y=\"80.621698\" style=\"fill: #1f77b4; stroke: #1f77b4\"/>\n     <use xlink:href=\"#mdcd292c49e\" x=\"119.946018\" y=\"76.185323\" style=\"fill: #1f77b4; stroke: #1f77b4\"/>\n     <use xlink:href=\"#mdcd292c49e\" x=\"117.590362\" y=\"70.577283\" style=\"fill: #1f77b4; stroke: #1f77b4\"/>\n     <use xlink:href=\"#mdcd292c49e\" x=\"114.572789\" y=\"67.180611\" style=\"fill: #1f77b4; stroke: #1f77b4\"/>\n     <use xlink:href=\"#mdcd292c49e\" x=\"133.685432\" y=\"86.617983\" style=\"fill: #1f77b4; stroke: #1f77b4\"/>\n     <use xlink:href=\"#mdcd292c49e\" x=\"115.883995\" y=\"69.398951\" style=\"fill: #1f77b4; stroke: #1f77b4\"/>\n     <use xlink:href=\"#mdcd292c49e\" x=\"78.697875\" y=\"43.157802\" style=\"fill: #1f77b4; stroke: #1f77b4\"/>\n     <use xlink:href=\"#mdcd292c49e\" x=\"124.499528\" y=\"62.625743\" style=\"fill: #1f77b4; stroke: #1f77b4\"/>\n     <use xlink:href=\"#mdcd292c49e\" x=\"155.13471\" y=\"76.469981\" style=\"fill: #1f77b4; stroke: #1f77b4\"/>\n     <use xlink:href=\"#mdcd292c49e\" x=\"125.013581\" y=\"55.81552\" style=\"fill: #1f77b4; stroke: #1f77b4\"/>\n     <use xlink:href=\"#mdcd292c49e\" x=\"142.495262\" y=\"62.409897\" style=\"fill: #1f77b4; stroke: #1f77b4\"/>\n     <use xlink:href=\"#mdcd292c49e\" x=\"92.564219\" y=\"54.347577\" style=\"fill: #1f77b4; stroke: #1f77b4\"/>\n     <use xlink:href=\"#mdcd292c49e\" x=\"174.680515\" y=\"105.814465\" style=\"fill: #1f77b4; stroke: #1f77b4\"/>\n     <use xlink:href=\"#mdcd292c49e\" x=\"120.423211\" y=\"72.698502\" style=\"fill: #1f77b4; stroke: #1f77b4\"/>\n     <use xlink:href=\"#mdcd292c49e\" x=\"122.028832\" y=\"54.749061\" style=\"fill: #1f77b4; stroke: #1f77b4\"/>\n     <use xlink:href=\"#mdcd292c49e\" x=\"115.03223\" y=\"67.424229\" style=\"fill: #1f77b4; stroke: #1f77b4\"/>\n     <use xlink:href=\"#mdcd292c49e\" x=\"128.730954\" y=\"76.700706\" style=\"fill: #1f77b4; stroke: #1f77b4\"/>\n     <use xlink:href=\"#mdcd292c49e\" x=\"89.499996\" y=\"72.446509\" style=\"fill: #1f77b4; stroke: #1f77b4\"/>\n     <use xlink:href=\"#mdcd292c49e\" x=\"159.639737\" y=\"97.131831\" style=\"fill: #1f77b4; stroke: #1f77b4\"/>\n     <use xlink:href=\"#mdcd292c49e\" x=\"122.78183\" y=\"61.59302\" style=\"fill: #1f77b4; stroke: #1f77b4\"/>\n     <use xlink:href=\"#mdcd292c49e\" x=\"133.983698\" y=\"86.440064\" style=\"fill: #1f77b4; stroke: #1f77b4\"/>\n     <use xlink:href=\"#mdcd292c49e\" x=\"120.975032\" y=\"54.49837\" style=\"fill: #1f77b4; stroke: #1f77b4\"/>\n     <use xlink:href=\"#mdcd292c49e\" x=\"136.06646\" y=\"81.396465\" style=\"fill: #1f77b4; stroke: #1f77b4\"/>\n     <use xlink:href=\"#mdcd292c49e\" x=\"136.743952\" y=\"73.04698\" style=\"fill: #1f77b4; stroke: #1f77b4\"/>\n     <use xlink:href=\"#mdcd292c49e\" x=\"103.192804\" y=\"72.713483\" style=\"fill: #1f77b4; stroke: #1f77b4\"/>\n     <use xlink:href=\"#mdcd292c49e\" x=\"118.902303\" y=\"75.078179\" style=\"fill: #1f77b4; stroke: #1f77b4\"/>\n     <use xlink:href=\"#mdcd292c49e\" x=\"130.495557\" y=\"85.36784\" style=\"fill: #1f77b4; stroke: #1f77b4\"/>\n     <use xlink:href=\"#mdcd292c49e\" x=\"144.145064\" y=\"82.125997\" style=\"fill: #1f77b4; stroke: #1f77b4\"/>\n     <use xlink:href=\"#mdcd292c49e\" x=\"94.788323\" y=\"65.182366\" style=\"fill: #1f77b4; stroke: #1f77b4\"/>\n     <use xlink:href=\"#mdcd292c49e\" x=\"122.165609\" y=\"82.951729\" style=\"fill: #1f77b4; stroke: #1f77b4\"/>\n     <use xlink:href=\"#mdcd292c49e\" x=\"110.183472\" y=\"76.230573\" style=\"fill: #1f77b4; stroke: #1f77b4\"/>\n     <use xlink:href=\"#mdcd292c49e\" x=\"201.574514\" y=\"139.5\" style=\"fill: #1f77b4; stroke: #1f77b4\"/>\n     <use xlink:href=\"#mdcd292c49e\" x=\"74.254511\" y=\"43.235763\" style=\"fill: #1f77b4; stroke: #1f77b4\"/>\n     <use xlink:href=\"#mdcd292c49e\" x=\"69.508141\" y=\"25.38264\" style=\"fill: #1f77b4; stroke: #1f77b4\"/>\n     <use xlink:href=\"#mdcd292c49e\" x=\"117.120501\" y=\"75.336263\" style=\"fill: #1f77b4; stroke: #1f77b4\"/>\n     <use xlink:href=\"#mdcd292c49e\" x=\"162.832475\" y=\"95.138969\" style=\"fill: #1f77b4; stroke: #1f77b4\"/>\n     <use xlink:href=\"#mdcd292c49e\" x=\"108.753999\" y=\"47.39398\" style=\"fill: #1f77b4; stroke: #1f77b4\"/>\n     <use xlink:href=\"#mdcd292c49e\" x=\"128.407566\" y=\"62.473365\" style=\"fill: #1f77b4; stroke: #1f77b4\"/>\n     <use xlink:href=\"#mdcd292c49e\" x=\"112.750919\" y=\"63.62311\" style=\"fill: #1f77b4; stroke: #1f77b4\"/>\n     <use xlink:href=\"#mdcd292c49e\" x=\"122.031056\" y=\"72.124058\" style=\"fill: #1f77b4; stroke: #1f77b4\"/>\n     <use xlink:href=\"#mdcd292c49e\" x=\"170.284928\" y=\"85.591863\" style=\"fill: #1f77b4; stroke: #1f77b4\"/>\n     <use xlink:href=\"#mdcd292c49e\" x=\"125.440222\" y=\"74.273365\" style=\"fill: #1f77b4; stroke: #1f77b4\"/>\n     <use xlink:href=\"#mdcd292c49e\" x=\"167.882035\" y=\"94.786293\" style=\"fill: #1f77b4; stroke: #1f77b4\"/>\n     <use xlink:href=\"#mdcd292c49e\" x=\"98.97444\" y=\"57.857612\" style=\"fill: #1f77b4; stroke: #1f77b4\"/>\n     <use xlink:href=\"#mdcd292c49e\" x=\"127.689754\" y=\"68.743262\" style=\"fill: #1f77b4; stroke: #1f77b4\"/>\n     <use xlink:href=\"#mdcd292c49e\" x=\"91.271425\" y=\"55.158113\" style=\"fill: #1f77b4; stroke: #1f77b4\"/>\n     <use xlink:href=\"#mdcd292c49e\" x=\"64.0819\" y=\"28.314379\" style=\"fill: #1f77b4; stroke: #1f77b4\"/>\n     <use xlink:href=\"#mdcd292c49e\" x=\"140.970305\" y=\"76.633688\" style=\"fill: #1f77b4; stroke: #1f77b4\"/>\n     <use xlink:href=\"#mdcd292c49e\" x=\"108.686003\" y=\"54.156461\" style=\"fill: #1f77b4; stroke: #1f77b4\"/>\n     <use xlink:href=\"#mdcd292c49e\" x=\"90.290822\" y=\"49.111555\" style=\"fill: #1f77b4; stroke: #1f77b4\"/>\n     <use xlink:href=\"#mdcd292c49e\" x=\"82.915927\" y=\"50.77974\" style=\"fill: #1f77b4; stroke: #1f77b4\"/>\n     <use xlink:href=\"#mdcd292c49e\" x=\"130.630447\" y=\"72.7091\" style=\"fill: #1f77b4; stroke: #1f77b4\"/>\n     <use xlink:href=\"#mdcd292c49e\" x=\"165.924134\" y=\"90.640804\" style=\"fill: #1f77b4; stroke: #1f77b4\"/>\n     <use xlink:href=\"#mdcd292c49e\" x=\"104.765323\" y=\"72.446405\" style=\"fill: #1f77b4; stroke: #1f77b4\"/>\n     <use xlink:href=\"#mdcd292c49e\" x=\"95.562718\" y=\"53.113592\" style=\"fill: #1f77b4; stroke: #1f77b4\"/>\n     <use xlink:href=\"#mdcd292c49e\" x=\"83.502289\" y=\"40.283054\" style=\"fill: #1f77b4; stroke: #1f77b4\"/>\n     <use xlink:href=\"#mdcd292c49e\" x=\"116.552335\" y=\"66.711798\" style=\"fill: #1f77b4; stroke: #1f77b4\"/>\n     <use xlink:href=\"#mdcd292c49e\" x=\"110.264875\" y=\"84.557896\" style=\"fill: #1f77b4; stroke: #1f77b4\"/>\n     <use xlink:href=\"#mdcd292c49e\" x=\"138.98319\" y=\"78.674991\" style=\"fill: #1f77b4; stroke: #1f77b4\"/>\n     <use xlink:href=\"#mdcd292c49e\" x=\"85.705415\" y=\"46.167938\" style=\"fill: #1f77b4; stroke: #1f77b4\"/>\n     <use xlink:href=\"#mdcd292c49e\" x=\"121.24421\" y=\"69.516983\" style=\"fill: #1f77b4; stroke: #1f77b4\"/>\n     <use xlink:href=\"#mdcd292c49e\" x=\"125.083967\" y=\"58.267186\" style=\"fill: #1f77b4; stroke: #1f77b4\"/>\n     <use xlink:href=\"#mdcd292c49e\" x=\"122.505476\" y=\"66.690456\" style=\"fill: #1f77b4; stroke: #1f77b4\"/>\n     <use xlink:href=\"#mdcd292c49e\" x=\"103.906138\" y=\"59.771661\" style=\"fill: #1f77b4; stroke: #1f77b4\"/>\n     <use xlink:href=\"#mdcd292c49e\" x=\"126.095958\" y=\"68.862972\" style=\"fill: #1f77b4; stroke: #1f77b4\"/>\n     <use xlink:href=\"#mdcd292c49e\" x=\"143.688532\" y=\"86.256133\" style=\"fill: #1f77b4; stroke: #1f77b4\"/>\n     <use xlink:href=\"#mdcd292c49e\" x=\"100.6143\" y=\"67.317984\" style=\"fill: #1f77b4; stroke: #1f77b4\"/>\n     <use xlink:href=\"#mdcd292c49e\" x=\"136.220282\" y=\"77.302992\" style=\"fill: #1f77b4; stroke: #1f77b4\"/>\n     <use xlink:href=\"#mdcd292c49e\" x=\"92.216089\" y=\"54.742706\" style=\"fill: #1f77b4; stroke: #1f77b4\"/>\n     <use xlink:href=\"#mdcd292c49e\" x=\"159.098099\" y=\"92.700765\" style=\"fill: #1f77b4; stroke: #1f77b4\"/>\n     <use xlink:href=\"#mdcd292c49e\" x=\"148.531463\" y=\"83.533466\" style=\"fill: #1f77b4; stroke: #1f77b4\"/>\n     <use xlink:href=\"#mdcd292c49e\" x=\"103.51059\" y=\"56.986018\" style=\"fill: #1f77b4; stroke: #1f77b4\"/>\n     <use xlink:href=\"#mdcd292c49e\" x=\"154.200717\" y=\"92.3391\" style=\"fill: #1f77b4; stroke: #1f77b4\"/>\n     <use xlink:href=\"#mdcd292c49e\" x=\"118.754229\" y=\"80.693611\" style=\"fill: #1f77b4; stroke: #1f77b4\"/>\n     <use xlink:href=\"#mdcd292c49e\" x=\"140.743207\" y=\"73.381625\" style=\"fill: #1f77b4; stroke: #1f77b4\"/>\n     <use xlink:href=\"#mdcd292c49e\" x=\"100.284399\" y=\"65.603708\" style=\"fill: #1f77b4; stroke: #1f77b4\"/>\n     <use xlink:href=\"#mdcd292c49e\" x=\"121.539741\" y=\"65.140319\" style=\"fill: #1f77b4; stroke: #1f77b4\"/>\n     <use xlink:href=\"#mdcd292c49e\" x=\"127.694305\" y=\"72.710795\" style=\"fill: #1f77b4; stroke: #1f77b4\"/>\n     <use xlink:href=\"#mdcd292c49e\" x=\"111.850833\" y=\"54.970829\" style=\"fill: #1f77b4; stroke: #1f77b4\"/>\n     <use xlink:href=\"#mdcd292c49e\" x=\"119.384352\" y=\"61.892707\" style=\"fill: #1f77b4; stroke: #1f77b4\"/>\n     <use xlink:href=\"#mdcd292c49e\" x=\"115.938801\" y=\"59.990128\" style=\"fill: #1f77b4; stroke: #1f77b4\"/>\n     <use xlink:href=\"#mdcd292c49e\" x=\"69.442722\" y=\"29.872371\" style=\"fill: #1f77b4; stroke: #1f77b4\"/>\n     <use xlink:href=\"#mdcd292c49e\" x=\"118.034397\" y=\"63.856631\" style=\"fill: #1f77b4; stroke: #1f77b4\"/>\n     <use xlink:href=\"#mdcd292c49e\" x=\"98.246809\" y=\"52.938467\" style=\"fill: #1f77b4; stroke: #1f77b4\"/>\n     <use xlink:href=\"#mdcd292c49e\" x=\"59.756584\" y=\"34.08228\" style=\"fill: #1f77b4; stroke: #1f77b4\"/>\n     <use xlink:href=\"#mdcd292c49e\" x=\"131.638075\" y=\"72.429\" style=\"fill: #1f77b4; stroke: #1f77b4\"/>\n     <use xlink:href=\"#mdcd292c49e\" x=\"134.629005\" y=\"81.645\" style=\"fill: #1f77b4; stroke: #1f77b4\"/>\n     <use xlink:href=\"#mdcd292c49e\" x=\"61.462729\" y=\"37.276825\" style=\"fill: #1f77b4; stroke: #1f77b4\"/>\n     <use xlink:href=\"#mdcd292c49e\" x=\"144.851863\" y=\"87.05234\" style=\"fill: #1f77b4; stroke: #1f77b4\"/>\n     <use xlink:href=\"#mdcd292c49e\" x=\"94.133438\" y=\"55.396341\" style=\"fill: #1f77b4; stroke: #1f77b4\"/>\n     <use xlink:href=\"#mdcd292c49e\" x=\"152.187798\" y=\"78.787658\" style=\"fill: #1f77b4; stroke: #1f77b4\"/>\n     <use xlink:href=\"#mdcd292c49e\" x=\"112.66216\" y=\"84.548672\" style=\"fill: #1f77b4; stroke: #1f77b4\"/>\n     <use xlink:href=\"#mdcd292c49e\" x=\"101.87958\" y=\"58.319448\" style=\"fill: #1f77b4; stroke: #1f77b4\"/>\n     <use xlink:href=\"#mdcd292c49e\" x=\"104.034822\" y=\"69.943589\" style=\"fill: #1f77b4; stroke: #1f77b4\"/>\n     <use xlink:href=\"#mdcd292c49e\" x=\"118.984155\" y=\"73.28457\" style=\"fill: #1f77b4; stroke: #1f77b4\"/>\n     <use xlink:href=\"#mdcd292c49e\" x=\"138.971583\" y=\"88.942955\" style=\"fill: #1f77b4; stroke: #1f77b4\"/>\n     <use xlink:href=\"#mdcd292c49e\" x=\"164.076108\" y=\"93.727029\" style=\"fill: #1f77b4; stroke: #1f77b4\"/>\n     <use xlink:href=\"#mdcd292c49e\" x=\"141.25455\" y=\"88.763385\" style=\"fill: #1f77b4; stroke: #1f77b4\"/>\n     <use xlink:href=\"#mdcd292c49e\" x=\"148.061362\" y=\"71.870729\" style=\"fill: #1f77b4; stroke: #1f77b4\"/>\n     <use xlink:href=\"#mdcd292c49e\" x=\"88.840626\" y=\"42.469041\" style=\"fill: #1f77b4; stroke: #1f77b4\"/>\n     <use xlink:href=\"#mdcd292c49e\" x=\"153.342922\" y=\"81.948386\" style=\"fill: #1f77b4; stroke: #1f77b4\"/>\n     <use xlink:href=\"#mdcd292c49e\" x=\"155.459186\" y=\"93.966645\" style=\"fill: #1f77b4; stroke: #1f77b4\"/>\n     <use xlink:href=\"#mdcd292c49e\" x=\"133.148699\" y=\"85.458615\" style=\"fill: #1f77b4; stroke: #1f77b4\"/>\n     <use xlink:href=\"#mdcd292c49e\" x=\"100.395065\" y=\"62.884675\" style=\"fill: #1f77b4; stroke: #1f77b4\"/>\n     <use xlink:href=\"#mdcd292c49e\" x=\"109.59463\" y=\"69.688158\" style=\"fill: #1f77b4; stroke: #1f77b4\"/>\n     <use xlink:href=\"#mdcd292c49e\" x=\"135.430647\" y=\"83.629734\" style=\"fill: #1f77b4; stroke: #1f77b4\"/>\n     <use xlink:href=\"#mdcd292c49e\" x=\"97.465716\" y=\"62.177261\" style=\"fill: #1f77b4; stroke: #1f77b4\"/>\n     <use xlink:href=\"#mdcd292c49e\" x=\"84.768079\" y=\"41.496825\" style=\"fill: #1f77b4; stroke: #1f77b4\"/>\n     <use xlink:href=\"#mdcd292c49e\" x=\"139.141756\" y=\"67.896871\" style=\"fill: #1f77b4; stroke: #1f77b4\"/>\n     <use xlink:href=\"#mdcd292c49e\" x=\"163.195535\" y=\"94.128271\" style=\"fill: #1f77b4; stroke: #1f77b4\"/>\n     <use xlink:href=\"#mdcd292c49e\" x=\"146.170633\" y=\"81.861586\" style=\"fill: #1f77b4; stroke: #1f77b4\"/>\n     <use xlink:href=\"#mdcd292c49e\" x=\"92.124078\" y=\"52.297719\" style=\"fill: #1f77b4; stroke: #1f77b4\"/>\n     <use xlink:href=\"#mdcd292c49e\" x=\"115.51799\" y=\"59.136417\" style=\"fill: #1f77b4; stroke: #1f77b4\"/>\n     <use xlink:href=\"#mdcd292c49e\" x=\"180.537267\" y=\"88.072539\" style=\"fill: #1f77b4; stroke: #1f77b4\"/>\n     <use xlink:href=\"#mdcd292c49e\" x=\"84.469646\" y=\"55.351501\" style=\"fill: #1f77b4; stroke: #1f77b4\"/>\n     <use xlink:href=\"#mdcd292c49e\" x=\"151.154268\" y=\"86.732095\" style=\"fill: #1f77b4; stroke: #1f77b4\"/>\n     <use xlink:href=\"#mdcd292c49e\" x=\"118.529011\" y=\"68.468465\" style=\"fill: #1f77b4; stroke: #1f77b4\"/>\n     <use xlink:href=\"#mdcd292c49e\" x=\"132.113737\" y=\"70.943303\" style=\"fill: #1f77b4; stroke: #1f77b4\"/>\n     <use xlink:href=\"#mdcd292c49e\" x=\"102.720797\" y=\"52.085353\" style=\"fill: #1f77b4; stroke: #1f77b4\"/>\n     <use xlink:href=\"#mdcd292c49e\" x=\"99.286028\" y=\"56.409588\" style=\"fill: #1f77b4; stroke: #1f77b4\"/>\n     <use xlink:href=\"#mdcd292c49e\" x=\"92.408045\" y=\"61.604303\" style=\"fill: #1f77b4; stroke: #1f77b4\"/>\n     <use xlink:href=\"#mdcd292c49e\" x=\"106.460915\" y=\"50.219371\" style=\"fill: #1f77b4; stroke: #1f77b4\"/>\n     <use xlink:href=\"#mdcd292c49e\" x=\"86.879696\" y=\"54.091349\" style=\"fill: #1f77b4; stroke: #1f77b4\"/>\n     <use xlink:href=\"#mdcd292c49e\" x=\"88.434938\" y=\"38.272726\" style=\"fill: #1f77b4; stroke: #1f77b4\"/>\n     <use xlink:href=\"#mdcd292c49e\" x=\"135.246119\" y=\"73.574982\" style=\"fill: #1f77b4; stroke: #1f77b4\"/>\n     <use xlink:href=\"#mdcd292c49e\" x=\"46.889367\" y=\"39.18754\" style=\"fill: #1f77b4; stroke: #1f77b4\"/>\n     <use xlink:href=\"#mdcd292c49e\" x=\"127.612898\" y=\"80.597814\" style=\"fill: #1f77b4; stroke: #1f77b4\"/>\n     <use xlink:href=\"#mdcd292c49e\" x=\"134.973091\" y=\"78.221141\" style=\"fill: #1f77b4; stroke: #1f77b4\"/>\n     <use xlink:href=\"#mdcd292c49e\" x=\"159.085769\" y=\"96.516615\" style=\"fill: #1f77b4; stroke: #1f77b4\"/>\n     <use xlink:href=\"#mdcd292c49e\" x=\"129.026825\" y=\"84.323046\" style=\"fill: #1f77b4; stroke: #1f77b4\"/>\n     <use xlink:href=\"#mdcd292c49e\" x=\"157.54338\" y=\"100.313057\" style=\"fill: #1f77b4; stroke: #1f77b4\"/>\n     <use xlink:href=\"#mdcd292c49e\" x=\"96.535112\" y=\"54.939942\" style=\"fill: #1f77b4; stroke: #1f77b4\"/>\n     <use xlink:href=\"#mdcd292c49e\" x=\"102.640768\" y=\"59.44787\" style=\"fill: #1f77b4; stroke: #1f77b4\"/>\n     <use xlink:href=\"#mdcd292c49e\" x=\"110.1181\" y=\"43.372325\" style=\"fill: #1f77b4; stroke: #1f77b4\"/>\n     <use xlink:href=\"#mdcd292c49e\" x=\"112.580362\" y=\"58.684437\" style=\"fill: #1f77b4; stroke: #1f77b4\"/>\n     <use xlink:href=\"#mdcd292c49e\" x=\"142.2574\" y=\"78.044722\" style=\"fill: #1f77b4; stroke: #1f77b4\"/>\n     <use xlink:href=\"#mdcd292c49e\" x=\"97.574618\" y=\"49.166988\" style=\"fill: #1f77b4; stroke: #1f77b4\"/>\n     <use xlink:href=\"#mdcd292c49e\" x=\"125.960712\" y=\"70.079177\" style=\"fill: #1f77b4; stroke: #1f77b4\"/>\n     <use xlink:href=\"#mdcd292c49e\" x=\"151.310414\" y=\"79.031846\" style=\"fill: #1f77b4; stroke: #1f77b4\"/>\n     <use xlink:href=\"#mdcd292c49e\" x=\"108.868494\" y=\"57.720115\" style=\"fill: #1f77b4; stroke: #1f77b4\"/>\n     <use xlink:href=\"#mdcd292c49e\" x=\"132.967841\" y=\"80.893097\" style=\"fill: #1f77b4; stroke: #1f77b4\"/>\n     <use xlink:href=\"#mdcd292c49e\" x=\"175.245359\" y=\"117.783463\" style=\"fill: #1f77b4; stroke: #1f77b4\"/>\n     <use xlink:href=\"#mdcd292c49e\" x=\"114.130255\" y=\"75.574151\" style=\"fill: #1f77b4; stroke: #1f77b4\"/>\n     <use xlink:href=\"#mdcd292c49e\" x=\"130.263014\" y=\"83.794593\" style=\"fill: #1f77b4; stroke: #1f77b4\"/>\n     <use xlink:href=\"#mdcd292c49e\" x=\"124.602109\" y=\"77.618673\" style=\"fill: #1f77b4; stroke: #1f77b4\"/>\n     <use xlink:href=\"#mdcd292c49e\" x=\"120.078042\" y=\"81.18591\" style=\"fill: #1f77b4; stroke: #1f77b4\"/>\n     <use xlink:href=\"#mdcd292c49e\" x=\"99.244613\" y=\"54.16843\" style=\"fill: #1f77b4; stroke: #1f77b4\"/>\n     <use xlink:href=\"#mdcd292c49e\" x=\"114.773992\" y=\"66.305007\" style=\"fill: #1f77b4; stroke: #1f77b4\"/>\n     <use xlink:href=\"#mdcd292c49e\" x=\"98.024552\" y=\"49.625483\" style=\"fill: #1f77b4; stroke: #1f77b4\"/>\n     <use xlink:href=\"#mdcd292c49e\" x=\"90.018523\" y=\"57.773466\" style=\"fill: #1f77b4; stroke: #1f77b4\"/>\n     <use xlink:href=\"#mdcd292c49e\" x=\"119.976419\" y=\"67.027207\" style=\"fill: #1f77b4; stroke: #1f77b4\"/>\n     <use xlink:href=\"#mdcd292c49e\" x=\"116.320792\" y=\"75.508914\" style=\"fill: #1f77b4; stroke: #1f77b4\"/>\n     <use xlink:href=\"#mdcd292c49e\" x=\"163.287599\" y=\"99.8207\" style=\"fill: #1f77b4; stroke: #1f77b4\"/>\n     <use xlink:href=\"#mdcd292c49e\" x=\"153.297625\" y=\"74.235619\" style=\"fill: #1f77b4; stroke: #1f77b4\"/>\n     <use xlink:href=\"#mdcd292c49e\" x=\"172.014909\" y=\"85.170842\" style=\"fill: #1f77b4; stroke: #1f77b4\"/>\n     <use xlink:href=\"#mdcd292c49e\" x=\"84.131366\" y=\"63.554205\" style=\"fill: #1f77b4; stroke: #1f77b4\"/>\n     <use xlink:href=\"#mdcd292c49e\" x=\"90.840388\" y=\"54.487052\" style=\"fill: #1f77b4; stroke: #1f77b4\"/>\n     <use xlink:href=\"#mdcd292c49e\" x=\"161.449703\" y=\"80.705072\" style=\"fill: #1f77b4; stroke: #1f77b4\"/>\n     <use xlink:href=\"#mdcd292c49e\" x=\"124.064461\" y=\"62.806397\" style=\"fill: #1f77b4; stroke: #1f77b4\"/>\n     <use xlink:href=\"#mdcd292c49e\" x=\"124.542062\" y=\"64.893506\" style=\"fill: #1f77b4; stroke: #1f77b4\"/>\n     <use xlink:href=\"#mdcd292c49e\" x=\"132.472457\" y=\"71.625294\" style=\"fill: #1f77b4; stroke: #1f77b4\"/>\n     <use xlink:href=\"#mdcd292c49e\" x=\"173.134106\" y=\"101.574314\" style=\"fill: #1f77b4; stroke: #1f77b4\"/>\n     <use xlink:href=\"#mdcd292c49e\" x=\"127.85846\" y=\"70.860884\" style=\"fill: #1f77b4; stroke: #1f77b4\"/>\n     <use xlink:href=\"#mdcd292c49e\" x=\"126.638928\" y=\"65.924076\" style=\"fill: #1f77b4; stroke: #1f77b4\"/>\n     <use xlink:href=\"#mdcd292c49e\" x=\"101.47003\" y=\"57.840177\" style=\"fill: #1f77b4; stroke: #1f77b4\"/>\n     <use xlink:href=\"#mdcd292c49e\" x=\"160.931567\" y=\"103.292773\" style=\"fill: #1f77b4; stroke: #1f77b4\"/>\n     <use xlink:href=\"#mdcd292c49e\" x=\"121.101647\" y=\"89.656836\" style=\"fill: #1f77b4; stroke: #1f77b4\"/>\n     <use xlink:href=\"#mdcd292c49e\" x=\"145.837897\" y=\"84.333329\" style=\"fill: #1f77b4; stroke: #1f77b4\"/>\n     <use xlink:href=\"#mdcd292c49e\" x=\"112.350976\" y=\"68.301833\" style=\"fill: #1f77b4; stroke: #1f77b4\"/>\n     <use xlink:href=\"#mdcd292c49e\" x=\"120.633638\" y=\"62.114558\" style=\"fill: #1f77b4; stroke: #1f77b4\"/>\n     <use xlink:href=\"#mdcd292c49e\" x=\"123.152592\" y=\"59.050211\" style=\"fill: #1f77b4; stroke: #1f77b4\"/>\n     <use xlink:href=\"#mdcd292c49e\" x=\"119.063797\" y=\"69.506455\" style=\"fill: #1f77b4; stroke: #1f77b4\"/>\n     <use xlink:href=\"#mdcd292c49e\" x=\"143.656343\" y=\"94.817011\" style=\"fill: #1f77b4; stroke: #1f77b4\"/>\n     <use xlink:href=\"#mdcd292c49e\" x=\"124.030772\" y=\"70.072259\" style=\"fill: #1f77b4; stroke: #1f77b4\"/>\n     <use xlink:href=\"#mdcd292c49e\" x=\"150.237034\" y=\"80.297334\" style=\"fill: #1f77b4; stroke: #1f77b4\"/>\n     <use xlink:href=\"#mdcd292c49e\" x=\"159.282372\" y=\"97.279633\" style=\"fill: #1f77b4; stroke: #1f77b4\"/>\n     <use xlink:href=\"#mdcd292c49e\" x=\"135.557883\" y=\"58.492531\" style=\"fill: #1f77b4; stroke: #1f77b4\"/>\n     <use xlink:href=\"#mdcd292c49e\" x=\"102.734277\" y=\"64.995492\" style=\"fill: #1f77b4; stroke: #1f77b4\"/>\n     <use xlink:href=\"#mdcd292c49e\" x=\"126.155587\" y=\"70.828522\" style=\"fill: #1f77b4; stroke: #1f77b4\"/>\n     <use xlink:href=\"#mdcd292c49e\" x=\"119.925908\" y=\"61.538164\" style=\"fill: #1f77b4; stroke: #1f77b4\"/>\n     <use xlink:href=\"#mdcd292c49e\" x=\"81.537517\" y=\"44.270578\" style=\"fill: #1f77b4; stroke: #1f77b4\"/>\n     <use xlink:href=\"#mdcd292c49e\" x=\"135.405281\" y=\"78.872999\" style=\"fill: #1f77b4; stroke: #1f77b4\"/>\n     <use xlink:href=\"#mdcd292c49e\" x=\"115.381858\" y=\"63.363732\" style=\"fill: #1f77b4; stroke: #1f77b4\"/>\n     <use xlink:href=\"#mdcd292c49e\" x=\"137.384107\" y=\"85.070721\" style=\"fill: #1f77b4; stroke: #1f77b4\"/>\n     <use xlink:href=\"#mdcd292c49e\" x=\"91.009443\" y=\"58.332527\" style=\"fill: #1f77b4; stroke: #1f77b4\"/>\n     <use xlink:href=\"#mdcd292c49e\" x=\"50.525894\" y=\"42.399906\" style=\"fill: #1f77b4; stroke: #1f77b4\"/>\n     <use xlink:href=\"#mdcd292c49e\" x=\"122.040935\" y=\"57.486805\" style=\"fill: #1f77b4; stroke: #1f77b4\"/>\n     <use xlink:href=\"#mdcd292c49e\" x=\"117.618145\" y=\"58.939964\" style=\"fill: #1f77b4; stroke: #1f77b4\"/>\n     <use xlink:href=\"#mdcd292c49e\" x=\"113.538443\" y=\"59.110193\" style=\"fill: #1f77b4; stroke: #1f77b4\"/>\n     <use xlink:href=\"#mdcd292c49e\" x=\"149.003616\" y=\"91.07202\" style=\"fill: #1f77b4; stroke: #1f77b4\"/>\n     <use xlink:href=\"#mdcd292c49e\" x=\"114.099945\" y=\"67.105029\" style=\"fill: #1f77b4; stroke: #1f77b4\"/>\n     <use xlink:href=\"#mdcd292c49e\" x=\"180.97568\" y=\"111.866413\" style=\"fill: #1f77b4; stroke: #1f77b4\"/>\n     <use xlink:href=\"#mdcd292c49e\" x=\"117.460894\" y=\"82.289934\" style=\"fill: #1f77b4; stroke: #1f77b4\"/>\n     <use xlink:href=\"#mdcd292c49e\" x=\"121.812944\" y=\"67.571083\" style=\"fill: #1f77b4; stroke: #1f77b4\"/>\n     <use xlink:href=\"#mdcd292c49e\" x=\"163.799413\" y=\"94.273253\" style=\"fill: #1f77b4; stroke: #1f77b4\"/>\n     <use xlink:href=\"#mdcd292c49e\" x=\"108.470995\" y=\"53.376105\" style=\"fill: #1f77b4; stroke: #1f77b4\"/>\n     <use xlink:href=\"#mdcd292c49e\" x=\"150.503387\" y=\"81.417688\" style=\"fill: #1f77b4; stroke: #1f77b4\"/>\n     <use xlink:href=\"#mdcd292c49e\" x=\"121.998079\" y=\"73.522913\" style=\"fill: #1f77b4; stroke: #1f77b4\"/>\n     <use xlink:href=\"#mdcd292c49e\" x=\"157.348689\" y=\"102.546727\" style=\"fill: #1f77b4; stroke: #1f77b4\"/>\n     <use xlink:href=\"#mdcd292c49e\" x=\"87.074236\" y=\"61.521432\" style=\"fill: #1f77b4; stroke: #1f77b4\"/>\n     <use xlink:href=\"#mdcd292c49e\" x=\"124.436574\" y=\"69.217528\" style=\"fill: #1f77b4; stroke: #1f77b4\"/>\n     <use xlink:href=\"#mdcd292c49e\" x=\"105.955181\" y=\"54.566496\" style=\"fill: #1f77b4; stroke: #1f77b4\"/>\n     <use xlink:href=\"#mdcd292c49e\" x=\"121.675111\" y=\"73.157715\" style=\"fill: #1f77b4; stroke: #1f77b4\"/>\n     <use xlink:href=\"#mdcd292c49e\" x=\"78.707173\" y=\"52.446511\" style=\"fill: #1f77b4; stroke: #1f77b4\"/>\n     <use xlink:href=\"#mdcd292c49e\" x=\"107.478387\" y=\"57.983443\" style=\"fill: #1f77b4; stroke: #1f77b4\"/>\n     <use xlink:href=\"#mdcd292c49e\" x=\"93.957408\" y=\"46.525463\" style=\"fill: #1f77b4; stroke: #1f77b4\"/>\n     <use xlink:href=\"#mdcd292c49e\" x=\"109.829339\" y=\"67.591492\" style=\"fill: #1f77b4; stroke: #1f77b4\"/>\n     <use xlink:href=\"#mdcd292c49e\" x=\"152.733695\" y=\"87.769893\" style=\"fill: #1f77b4; stroke: #1f77b4\"/>\n     <use xlink:href=\"#mdcd292c49e\" x=\"76.739303\" y=\"34.109727\" style=\"fill: #1f77b4; stroke: #1f77b4\"/>\n     <use xlink:href=\"#mdcd292c49e\" x=\"78.190041\" y=\"55.369461\" style=\"fill: #1f77b4; stroke: #1f77b4\"/>\n     <use xlink:href=\"#mdcd292c49e\" x=\"106.248302\" y=\"61.442633\" style=\"fill: #1f77b4; stroke: #1f77b4\"/>\n     <use xlink:href=\"#mdcd292c49e\" x=\"161.790256\" y=\"115.253117\" style=\"fill: #1f77b4; stroke: #1f77b4\"/>\n     <use xlink:href=\"#mdcd292c49e\" x=\"93.273018\" y=\"51.683178\" style=\"fill: #1f77b4; stroke: #1f77b4\"/>\n     <use xlink:href=\"#mdcd292c49e\" x=\"160.255346\" y=\"82.617049\" style=\"fill: #1f77b4; stroke: #1f77b4\"/>\n     <use xlink:href=\"#mdcd292c49e\" x=\"126.240251\" y=\"71.168247\" style=\"fill: #1f77b4; stroke: #1f77b4\"/>\n     <use xlink:href=\"#mdcd292c49e\" x=\"126.772697\" y=\"79.471462\" style=\"fill: #1f77b4; stroke: #1f77b4\"/>\n     <use xlink:href=\"#mdcd292c49e\" x=\"127.775723\" y=\"83.937127\" style=\"fill: #1f77b4; stroke: #1f77b4\"/>\n     <use xlink:href=\"#mdcd292c49e\" x=\"99.250179\" y=\"59.568512\" style=\"fill: #1f77b4; stroke: #1f77b4\"/>\n     <use xlink:href=\"#mdcd292c49e\" x=\"142.610016\" y=\"83.416408\" style=\"fill: #1f77b4; stroke: #1f77b4\"/>\n     <use xlink:href=\"#mdcd292c49e\" x=\"178.703369\" y=\"86.44779\" style=\"fill: #1f77b4; stroke: #1f77b4\"/>\n     <use xlink:href=\"#mdcd292c49e\" x=\"140.153688\" y=\"85.590043\" style=\"fill: #1f77b4; stroke: #1f77b4\"/>\n     <use xlink:href=\"#mdcd292c49e\" x=\"100.04359\" y=\"65.256379\" style=\"fill: #1f77b4; stroke: #1f77b4\"/>\n     <use xlink:href=\"#mdcd292c49e\" x=\"135.884559\" y=\"71.443153\" style=\"fill: #1f77b4; stroke: #1f77b4\"/>\n     <use xlink:href=\"#mdcd292c49e\" x=\"104.159525\" y=\"68.216256\" style=\"fill: #1f77b4; stroke: #1f77b4\"/>\n     <use xlink:href=\"#mdcd292c49e\" x=\"138.981426\" y=\"69.576285\" style=\"fill: #1f77b4; stroke: #1f77b4\"/>\n     <use xlink:href=\"#mdcd292c49e\" x=\"169.360682\" y=\"86.593954\" style=\"fill: #1f77b4; stroke: #1f77b4\"/>\n     <use xlink:href=\"#mdcd292c49e\" x=\"107.951818\" y=\"61.035981\" style=\"fill: #1f77b4; stroke: #1f77b4\"/>\n     <use xlink:href=\"#mdcd292c49e\" x=\"116.892869\" y=\"65.114322\" style=\"fill: #1f77b4; stroke: #1f77b4\"/>\n     <use xlink:href=\"#mdcd292c49e\" x=\"130.355669\" y=\"76.608757\" style=\"fill: #1f77b4; stroke: #1f77b4\"/>\n     <use xlink:href=\"#mdcd292c49e\" x=\"99.658134\" y=\"77.402202\" style=\"fill: #1f77b4; stroke: #1f77b4\"/>\n     <use xlink:href=\"#mdcd292c49e\" x=\"125.639645\" y=\"50.399683\" style=\"fill: #1f77b4; stroke: #1f77b4\"/>\n     <use xlink:href=\"#mdcd292c49e\" x=\"133.882608\" y=\"70.950537\" style=\"fill: #1f77b4; stroke: #1f77b4\"/>\n     <use xlink:href=\"#mdcd292c49e\" x=\"130.692511\" y=\"84.78708\" style=\"fill: #1f77b4; stroke: #1f77b4\"/>\n     <use xlink:href=\"#mdcd292c49e\" x=\"82.202678\" y=\"67.60186\" style=\"fill: #1f77b4; stroke: #1f77b4\"/>\n     <use xlink:href=\"#mdcd292c49e\" x=\"99.834026\" y=\"53.107919\" style=\"fill: #1f77b4; stroke: #1f77b4\"/>\n     <use xlink:href=\"#mdcd292c49e\" x=\"143.878174\" y=\"78.069127\" style=\"fill: #1f77b4; stroke: #1f77b4\"/>\n     <use xlink:href=\"#mdcd292c49e\" x=\"154.502559\" y=\"84.755225\" style=\"fill: #1f77b4; stroke: #1f77b4\"/>\n     <use xlink:href=\"#mdcd292c49e\" x=\"122.351382\" y=\"74.769512\" style=\"fill: #1f77b4; stroke: #1f77b4\"/>\n     <use xlink:href=\"#mdcd292c49e\" x=\"157.323094\" y=\"96.413655\" style=\"fill: #1f77b4; stroke: #1f77b4\"/>\n     <use xlink:href=\"#mdcd292c49e\" x=\"109.994122\" y=\"71.806888\" style=\"fill: #1f77b4; stroke: #1f77b4\"/>\n     <use xlink:href=\"#mdcd292c49e\" x=\"109.373324\" y=\"69.087392\" style=\"fill: #1f77b4; stroke: #1f77b4\"/>\n     <use xlink:href=\"#mdcd292c49e\" x=\"122.413025\" y=\"74.414803\" style=\"fill: #1f77b4; stroke: #1f77b4\"/>\n     <use xlink:href=\"#mdcd292c49e\" x=\"78.460355\" y=\"48.270278\" style=\"fill: #1f77b4; stroke: #1f77b4\"/>\n     <use xlink:href=\"#mdcd292c49e\" x=\"150.355794\" y=\"87.445639\" style=\"fill: #1f77b4; stroke: #1f77b4\"/>\n     <use xlink:href=\"#mdcd292c49e\" x=\"122.614617\" y=\"55.067391\" style=\"fill: #1f77b4; stroke: #1f77b4\"/>\n     <use xlink:href=\"#mdcd292c49e\" x=\"133.013451\" y=\"83.89729\" style=\"fill: #1f77b4; stroke: #1f77b4\"/>\n     <use xlink:href=\"#mdcd292c49e\" x=\"193.333947\" y=\"111.364782\" style=\"fill: #1f77b4; stroke: #1f77b4\"/>\n     <use xlink:href=\"#mdcd292c49e\" x=\"80.047621\" y=\"50.256419\" style=\"fill: #1f77b4; stroke: #1f77b4\"/>\n     <use xlink:href=\"#mdcd292c49e\" x=\"141.666098\" y=\"90.646476\" style=\"fill: #1f77b4; stroke: #1f77b4\"/>\n     <use xlink:href=\"#mdcd292c49e\" x=\"141.416742\" y=\"76.759396\" style=\"fill: #1f77b4; stroke: #1f77b4\"/>\n     <use xlink:href=\"#mdcd292c49e\" x=\"126.253656\" y=\"69.900748\" style=\"fill: #1f77b4; stroke: #1f77b4\"/>\n     <use xlink:href=\"#mdcd292c49e\" x=\"147.029634\" y=\"70.338163\" style=\"fill: #1f77b4; stroke: #1f77b4\"/>\n     <use xlink:href=\"#mdcd292c49e\" x=\"112.537019\" y=\"56.503997\" style=\"fill: #1f77b4; stroke: #1f77b4\"/>\n     <use xlink:href=\"#mdcd292c49e\" x=\"168.551834\" y=\"86.721937\" style=\"fill: #1f77b4; stroke: #1f77b4\"/>\n     <use xlink:href=\"#mdcd292c49e\" x=\"88.939057\" y=\"35.80749\" style=\"fill: #1f77b4; stroke: #1f77b4\"/>\n     <use xlink:href=\"#mdcd292c49e\" x=\"123.165342\" y=\"82.327423\" style=\"fill: #1f77b4; stroke: #1f77b4\"/>\n     <use xlink:href=\"#mdcd292c49e\" x=\"91.74856\" y=\"53.077903\" style=\"fill: #1f77b4; stroke: #1f77b4\"/>\n     <use xlink:href=\"#mdcd292c49e\" x=\"119.961225\" y=\"64.224629\" style=\"fill: #1f77b4; stroke: #1f77b4\"/>\n     <use xlink:href=\"#mdcd292c49e\" x=\"88.162928\" y=\"59.265126\" style=\"fill: #1f77b4; stroke: #1f77b4\"/>\n     <use xlink:href=\"#mdcd292c49e\" x=\"90.976931\" y=\"49.557584\" style=\"fill: #1f77b4; stroke: #1f77b4\"/>\n     <use xlink:href=\"#mdcd292c49e\" x=\"134.902265\" y=\"66.033801\" style=\"fill: #1f77b4; stroke: #1f77b4\"/>\n     <use xlink:href=\"#mdcd292c49e\" x=\"141.604685\" y=\"77.789238\" style=\"fill: #1f77b4; stroke: #1f77b4\"/>\n     <use xlink:href=\"#mdcd292c49e\" x=\"136.187483\" y=\"86.260565\" style=\"fill: #1f77b4; stroke: #1f77b4\"/>\n     <use xlink:href=\"#mdcd292c49e\" x=\"140.306079\" y=\"45.377655\" style=\"fill: #1f77b4; stroke: #1f77b4\"/>\n     <use xlink:href=\"#mdcd292c49e\" x=\"120.843253\" y=\"46.96839\" style=\"fill: #1f77b4; stroke: #1f77b4\"/>\n     <use xlink:href=\"#mdcd292c49e\" x=\"164.026857\" y=\"99.479409\" style=\"fill: #1f77b4; stroke: #1f77b4\"/>\n     <use xlink:href=\"#mdcd292c49e\" x=\"113.251303\" y=\"60.327991\" style=\"fill: #1f77b4; stroke: #1f77b4\"/>\n     <use xlink:href=\"#mdcd292c49e\" x=\"152.599607\" y=\"85.35084\" style=\"fill: #1f77b4; stroke: #1f77b4\"/>\n     <use xlink:href=\"#mdcd292c49e\" x=\"133.839547\" y=\"74.938674\" style=\"fill: #1f77b4; stroke: #1f77b4\"/>\n     <use xlink:href=\"#mdcd292c49e\" x=\"99.283295\" y=\"54.020341\" style=\"fill: #1f77b4; stroke: #1f77b4\"/>\n     <use xlink:href=\"#mdcd292c49e\" x=\"120.574262\" y=\"74.232566\" style=\"fill: #1f77b4; stroke: #1f77b4\"/>\n     <use xlink:href=\"#mdcd292c49e\" x=\"114.467995\" y=\"65.738738\" style=\"fill: #1f77b4; stroke: #1f77b4\"/>\n     <use xlink:href=\"#mdcd292c49e\" x=\"82.093232\" y=\"51.510945\" style=\"fill: #1f77b4; stroke: #1f77b4\"/>\n     <use xlink:href=\"#mdcd292c49e\" x=\"146.834448\" y=\"78.069572\" style=\"fill: #1f77b4; stroke: #1f77b4\"/>\n     <use xlink:href=\"#mdcd292c49e\" x=\"97.172007\" y=\"54.830962\" style=\"fill: #1f77b4; stroke: #1f77b4\"/>\n     <use xlink:href=\"#mdcd292c49e\" x=\"148.035742\" y=\"89.595779\" style=\"fill: #1f77b4; stroke: #1f77b4\"/>\n     <use xlink:href=\"#mdcd292c49e\" x=\"110.738069\" y=\"60.542928\" style=\"fill: #1f77b4; stroke: #1f77b4\"/>\n     <use xlink:href=\"#mdcd292c49e\" x=\"142.853457\" y=\"69.989697\" style=\"fill: #1f77b4; stroke: #1f77b4\"/>\n     <use xlink:href=\"#mdcd292c49e\" x=\"143.824374\" y=\"89.647657\" style=\"fill: #1f77b4; stroke: #1f77b4\"/>\n     <use xlink:href=\"#mdcd292c49e\" x=\"107.357563\" y=\"78.226787\" style=\"fill: #1f77b4; stroke: #1f77b4\"/>\n     <use xlink:href=\"#mdcd292c49e\" x=\"122.090124\" y=\"63.484481\" style=\"fill: #1f77b4; stroke: #1f77b4\"/>\n     <use xlink:href=\"#mdcd292c49e\" x=\"94.450677\" y=\"59.411307\" style=\"fill: #1f77b4; stroke: #1f77b4\"/>\n     <use xlink:href=\"#mdcd292c49e\" x=\"92.238927\" y=\"64.979149\" style=\"fill: #1f77b4; stroke: #1f77b4\"/>\n     <use xlink:href=\"#mdcd292c49e\" x=\"154.803667\" y=\"83.036231\" style=\"fill: #1f77b4; stroke: #1f77b4\"/>\n     <use xlink:href=\"#mdcd292c49e\" x=\"80.610743\" y=\"50.432778\" style=\"fill: #1f77b4; stroke: #1f77b4\"/>\n     <use xlink:href=\"#mdcd292c49e\" x=\"96.020906\" y=\"46.110709\" style=\"fill: #1f77b4; stroke: #1f77b4\"/>\n     <use xlink:href=\"#mdcd292c49e\" x=\"175.449444\" y=\"100.506159\" style=\"fill: #1f77b4; stroke: #1f77b4\"/>\n     <use xlink:href=\"#mdcd292c49e\" x=\"140.157275\" y=\"79.532416\" style=\"fill: #1f77b4; stroke: #1f77b4\"/>\n     <use xlink:href=\"#mdcd292c49e\" x=\"110.162567\" y=\"56.990493\" style=\"fill: #1f77b4; stroke: #1f77b4\"/>\n     <use xlink:href=\"#mdcd292c49e\" x=\"117.836746\" y=\"60.408233\" style=\"fill: #1f77b4; stroke: #1f77b4\"/>\n     <use xlink:href=\"#mdcd292c49e\" x=\"130.808549\" y=\"79.829441\" style=\"fill: #1f77b4; stroke: #1f77b4\"/>\n     <use xlink:href=\"#mdcd292c49e\" x=\"160.185822\" y=\"101.327095\" style=\"fill: #1f77b4; stroke: #1f77b4\"/>\n     <use xlink:href=\"#mdcd292c49e\" x=\"106.10618\" y=\"56.026453\" style=\"fill: #1f77b4; stroke: #1f77b4\"/>\n     <use xlink:href=\"#mdcd292c49e\" x=\"78.954574\" y=\"40.091292\" style=\"fill: #1f77b4; stroke: #1f77b4\"/>\n     <use xlink:href=\"#mdcd292c49e\" x=\"122.178961\" y=\"48.122236\" style=\"fill: #1f77b4; stroke: #1f77b4\"/>\n     <use xlink:href=\"#mdcd292c49e\" x=\"107.089703\" y=\"59.711049\" style=\"fill: #1f77b4; stroke: #1f77b4\"/>\n     <use xlink:href=\"#mdcd292c49e\" x=\"135.582891\" y=\"67.922113\" style=\"fill: #1f77b4; stroke: #1f77b4\"/>\n     <use xlink:href=\"#mdcd292c49e\" x=\"136.090755\" y=\"72.342736\" style=\"fill: #1f77b4; stroke: #1f77b4\"/>\n     <use xlink:href=\"#mdcd292c49e\" x=\"137.740106\" y=\"85.553085\" style=\"fill: #1f77b4; stroke: #1f77b4\"/>\n     <use xlink:href=\"#mdcd292c49e\" x=\"115.450539\" y=\"65.072569\" style=\"fill: #1f77b4; stroke: #1f77b4\"/>\n     <use xlink:href=\"#mdcd292c49e\" x=\"99.026297\" y=\"54.51632\" style=\"fill: #1f77b4; stroke: #1f77b4\"/>\n     <use xlink:href=\"#mdcd292c49e\" x=\"136.721007\" y=\"77.261818\" style=\"fill: #1f77b4; stroke: #1f77b4\"/>\n     <use xlink:href=\"#mdcd292c49e\" x=\"122.927301\" y=\"76.284503\" style=\"fill: #1f77b4; stroke: #1f77b4\"/>\n     <use xlink:href=\"#mdcd292c49e\" x=\"134.623805\" y=\"74.363049\" style=\"fill: #1f77b4; stroke: #1f77b4\"/>\n     <use xlink:href=\"#mdcd292c49e\" x=\"85.703144\" y=\"54.83045\" style=\"fill: #1f77b4; stroke: #1f77b4\"/>\n     <use xlink:href=\"#mdcd292c49e\" x=\"142.738553\" y=\"100.627336\" style=\"fill: #1f77b4; stroke: #1f77b4\"/>\n     <use xlink:href=\"#mdcd292c49e\" x=\"109.578325\" y=\"60.351747\" style=\"fill: #1f77b4; stroke: #1f77b4\"/>\n     <use xlink:href=\"#mdcd292c49e\" x=\"163.612997\" y=\"76.51227\" style=\"fill: #1f77b4; stroke: #1f77b4\"/>\n     <use xlink:href=\"#mdcd292c49e\" x=\"114.834535\" y=\"70.838164\" style=\"fill: #1f77b4; stroke: #1f77b4\"/>\n     <use xlink:href=\"#mdcd292c49e\" x=\"122.827444\" y=\"78.850451\" style=\"fill: #1f77b4; stroke: #1f77b4\"/>\n     <use xlink:href=\"#mdcd292c49e\" x=\"122.369202\" y=\"62.121874\" style=\"fill: #1f77b4; stroke: #1f77b4\"/>\n     <use xlink:href=\"#mdcd292c49e\" x=\"131.317996\" y=\"73.675092\" style=\"fill: #1f77b4; stroke: #1f77b4\"/>\n     <use xlink:href=\"#mdcd292c49e\" x=\"132.878978\" y=\"68.731751\" style=\"fill: #1f77b4; stroke: #1f77b4\"/>\n     <use xlink:href=\"#mdcd292c49e\" x=\"103.697156\" y=\"48.391026\" style=\"fill: #1f77b4; stroke: #1f77b4\"/>\n     <use xlink:href=\"#mdcd292c49e\" x=\"104.177522\" y=\"52.275124\" style=\"fill: #1f77b4; stroke: #1f77b4\"/>\n     <use xlink:href=\"#mdcd292c49e\" x=\"85.914568\" y=\"40.911431\" style=\"fill: #1f77b4; stroke: #1f77b4\"/>\n     <use xlink:href=\"#mdcd292c49e\" x=\"112.43017\" y=\"93.165881\" style=\"fill: #1f77b4; stroke: #1f77b4\"/>\n     <use xlink:href=\"#mdcd292c49e\" x=\"99.091828\" y=\"47.05462\" style=\"fill: #1f77b4; stroke: #1f77b4\"/>\n     <use xlink:href=\"#mdcd292c49e\" x=\"153.549043\" y=\"83.83117\" style=\"fill: #1f77b4; stroke: #1f77b4\"/>\n     <use xlink:href=\"#mdcd292c49e\" x=\"151.84345\" y=\"102.479341\" style=\"fill: #1f77b4; stroke: #1f77b4\"/>\n     <use xlink:href=\"#mdcd292c49e\" x=\"96.578761\" y=\"58.939097\" style=\"fill: #1f77b4; stroke: #1f77b4\"/>\n     <use xlink:href=\"#mdcd292c49e\" x=\"125.682054\" y=\"75.491284\" style=\"fill: #1f77b4; stroke: #1f77b4\"/>\n     <use xlink:href=\"#mdcd292c49e\" x=\"141.009299\" y=\"79.092497\" style=\"fill: #1f77b4; stroke: #1f77b4\"/>\n     <use xlink:href=\"#mdcd292c49e\" x=\"128.626264\" y=\"69.741249\" style=\"fill: #1f77b4; stroke: #1f77b4\"/>\n     <use xlink:href=\"#mdcd292c49e\" x=\"87.266625\" y=\"36.209346\" style=\"fill: #1f77b4; stroke: #1f77b4\"/>\n     <use xlink:href=\"#mdcd292c49e\" x=\"181.29872\" y=\"92.206863\" style=\"fill: #1f77b4; stroke: #1f77b4\"/>\n     <use xlink:href=\"#mdcd292c49e\" x=\"156.490304\" y=\"92.64898\" style=\"fill: #1f77b4; stroke: #1f77b4\"/>\n     <use xlink:href=\"#mdcd292c49e\" x=\"76.187228\" y=\"40.473481\" style=\"fill: #1f77b4; stroke: #1f77b4\"/>\n     <use xlink:href=\"#mdcd292c49e\" x=\"162.769555\" y=\"99.099549\" style=\"fill: #1f77b4; stroke: #1f77b4\"/>\n     <use xlink:href=\"#mdcd292c49e\" x=\"48.806998\" y=\"13.5\" style=\"fill: #1f77b4; stroke: #1f77b4\"/>\n     <use xlink:href=\"#mdcd292c49e\" x=\"104.174587\" y=\"75.381589\" style=\"fill: #1f77b4; stroke: #1f77b4\"/>\n     <use xlink:href=\"#mdcd292c49e\" x=\"186.113921\" y=\"115.593066\" style=\"fill: #1f77b4; stroke: #1f77b4\"/>\n     <use xlink:href=\"#mdcd292c49e\" x=\"115.826983\" y=\"73.227558\" style=\"fill: #1f77b4; stroke: #1f77b4\"/>\n     <use xlink:href=\"#mdcd292c49e\" x=\"137.352546\" y=\"75.693741\" style=\"fill: #1f77b4; stroke: #1f77b4\"/>\n     <use xlink:href=\"#mdcd292c49e\" x=\"82.121645\" y=\"41.91622\" style=\"fill: #1f77b4; stroke: #1f77b4\"/>\n     <use xlink:href=\"#mdcd292c49e\" x=\"129.973586\" y=\"70.846721\" style=\"fill: #1f77b4; stroke: #1f77b4\"/>\n     <use xlink:href=\"#mdcd292c49e\" x=\"125.538628\" y=\"70.316887\" style=\"fill: #1f77b4; stroke: #1f77b4\"/>\n     <use xlink:href=\"#mdcd292c49e\" x=\"163.749406\" y=\"84.19489\" style=\"fill: #1f77b4; stroke: #1f77b4\"/>\n     <use xlink:href=\"#mdcd292c49e\" x=\"121.496058\" y=\"70.213284\" style=\"fill: #1f77b4; stroke: #1f77b4\"/>\n     <use xlink:href=\"#mdcd292c49e\" x=\"108.670542\" y=\"63.215481\" style=\"fill: #1f77b4; stroke: #1f77b4\"/>\n     <use xlink:href=\"#mdcd292c49e\" x=\"53.927829\" y=\"37.458443\" style=\"fill: #1f77b4; stroke: #1f77b4\"/>\n     <use xlink:href=\"#mdcd292c49e\" x=\"150.116079\" y=\"88.789768\" style=\"fill: #1f77b4; stroke: #1f77b4\"/>\n     <use xlink:href=\"#mdcd292c49e\" x=\"103.83514\" y=\"53.291625\" style=\"fill: #1f77b4; stroke: #1f77b4\"/>\n     <use xlink:href=\"#mdcd292c49e\" x=\"144.784559\" y=\"71.621979\" style=\"fill: #1f77b4; stroke: #1f77b4\"/>\n     <use xlink:href=\"#mdcd292c49e\" x=\"128.021569\" y=\"77.35631\" style=\"fill: #1f77b4; stroke: #1f77b4\"/>\n     <use xlink:href=\"#mdcd292c49e\" x=\"114.110806\" y=\"73.009136\" style=\"fill: #1f77b4; stroke: #1f77b4\"/>\n     <use xlink:href=\"#mdcd292c49e\" x=\"86.767345\" y=\"39.031108\" style=\"fill: #1f77b4; stroke: #1f77b4\"/>\n     <use xlink:href=\"#mdcd292c49e\" x=\"123.994005\" y=\"60.017303\" style=\"fill: #1f77b4; stroke: #1f77b4\"/>\n     <use xlink:href=\"#mdcd292c49e\" x=\"88.710907\" y=\"61.252855\" style=\"fill: #1f77b4; stroke: #1f77b4\"/>\n     <use xlink:href=\"#mdcd292c49e\" x=\"132.729323\" y=\"87.382383\" style=\"fill: #1f77b4; stroke: #1f77b4\"/>\n     <use xlink:href=\"#mdcd292c49e\" x=\"94.460918\" y=\"56.463901\" style=\"fill: #1f77b4; stroke: #1f77b4\"/>\n     <use xlink:href=\"#mdcd292c49e\" x=\"117.330991\" y=\"59.270503\" style=\"fill: #1f77b4; stroke: #1f77b4\"/>\n     <use xlink:href=\"#mdcd292c49e\" x=\"104.259209\" y=\"49.800628\" style=\"fill: #1f77b4; stroke: #1f77b4\"/>\n     <use xlink:href=\"#mdcd292c49e\" x=\"128.08073\" y=\"68.705661\" style=\"fill: #1f77b4; stroke: #1f77b4\"/>\n     <use xlink:href=\"#mdcd292c49e\" x=\"134.287327\" y=\"67.305721\" style=\"fill: #1f77b4; stroke: #1f77b4\"/>\n     <use xlink:href=\"#mdcd292c49e\" x=\"147.062921\" y=\"68.06045\" style=\"fill: #1f77b4; stroke: #1f77b4\"/>\n     <use xlink:href=\"#mdcd292c49e\" x=\"123.220248\" y=\"71.132186\" style=\"fill: #1f77b4; stroke: #1f77b4\"/>\n     <use xlink:href=\"#mdcd292c49e\" x=\"132.628293\" y=\"76.019378\" style=\"fill: #1f77b4; stroke: #1f77b4\"/>\n     <use xlink:href=\"#mdcd292c49e\" x=\"117.165073\" y=\"69.457054\" style=\"fill: #1f77b4; stroke: #1f77b4\"/>\n     <use xlink:href=\"#mdcd292c49e\" x=\"134.067845\" y=\"83.500303\" style=\"fill: #1f77b4; stroke: #1f77b4\"/>\n     <use xlink:href=\"#mdcd292c49e\" x=\"117.23157\" y=\"61.672789\" style=\"fill: #1f77b4; stroke: #1f77b4\"/>\n     <use xlink:href=\"#mdcd292c49e\" x=\"126.267741\" y=\"70.339629\" style=\"fill: #1f77b4; stroke: #1f77b4\"/>\n     <use xlink:href=\"#mdcd292c49e\" x=\"114.705334\" y=\"68.125563\" style=\"fill: #1f77b4; stroke: #1f77b4\"/>\n     <use xlink:href=\"#mdcd292c49e\" x=\"98.002525\" y=\"62.704446\" style=\"fill: #1f77b4; stroke: #1f77b4\"/>\n     <use xlink:href=\"#mdcd292c49e\" x=\"92.146888\" y=\"48.720205\" style=\"fill: #1f77b4; stroke: #1f77b4\"/>\n     <use xlink:href=\"#mdcd292c49e\" x=\"88.912888\" y=\"36.692194\" style=\"fill: #1f77b4; stroke: #1f77b4\"/>\n     <use xlink:href=\"#mdcd292c49e\" x=\"140.724566\" y=\"71.459334\" style=\"fill: #1f77b4; stroke: #1f77b4\"/>\n     <use xlink:href=\"#mdcd292c49e\" x=\"57.745035\" y=\"32.132279\" style=\"fill: #1f77b4; stroke: #1f77b4\"/>\n     <use xlink:href=\"#mdcd292c49e\" x=\"147.966756\" y=\"87.866813\" style=\"fill: #1f77b4; stroke: #1f77b4\"/>\n     <use xlink:href=\"#mdcd292c49e\" x=\"108.963221\" y=\"61.076884\" style=\"fill: #1f77b4; stroke: #1f77b4\"/>\n     <use xlink:href=\"#mdcd292c49e\" x=\"83.031238\" y=\"51.715833\" style=\"fill: #1f77b4; stroke: #1f77b4\"/>\n     <use xlink:href=\"#mdcd292c49e\" x=\"118.075524\" y=\"65.322454\" style=\"fill: #1f77b4; stroke: #1f77b4\"/>\n     <use xlink:href=\"#mdcd292c49e\" x=\"78.178887\" y=\"26.352662\" style=\"fill: #1f77b4; stroke: #1f77b4\"/>\n     <use xlink:href=\"#mdcd292c49e\" x=\"142.927842\" y=\"69.399162\" style=\"fill: #1f77b4; stroke: #1f77b4\"/>\n     <use xlink:href=\"#mdcd292c49e\" x=\"149.066484\" y=\"84.21273\" style=\"fill: #1f77b4; stroke: #1f77b4\"/>\n     <use xlink:href=\"#mdcd292c49e\" x=\"121.676233\" y=\"70.08468\" style=\"fill: #1f77b4; stroke: #1f77b4\"/>\n     <use xlink:href=\"#mdcd292c49e\" x=\"131.520276\" y=\"72.638348\" style=\"fill: #1f77b4; stroke: #1f77b4\"/>\n     <use xlink:href=\"#mdcd292c49e\" x=\"97.640974\" y=\"64.902348\" style=\"fill: #1f77b4; stroke: #1f77b4\"/>\n     <use xlink:href=\"#mdcd292c49e\" x=\"96.061116\" y=\"57.898921\" style=\"fill: #1f77b4; stroke: #1f77b4\"/>\n     <use xlink:href=\"#mdcd292c49e\" x=\"153.812653\" y=\"92.142321\" style=\"fill: #1f77b4; stroke: #1f77b4\"/>\n     <use xlink:href=\"#mdcd292c49e\" x=\"111.335997\" y=\"59.260535\" style=\"fill: #1f77b4; stroke: #1f77b4\"/>\n     <use xlink:href=\"#mdcd292c49e\" x=\"124.525412\" y=\"70.919123\" style=\"fill: #1f77b4; stroke: #1f77b4\"/>\n     <use xlink:href=\"#mdcd292c49e\" x=\"53.083264\" y=\"35.224709\" style=\"fill: #1f77b4; stroke: #1f77b4\"/>\n     <use xlink:href=\"#mdcd292c49e\" x=\"141.871929\" y=\"71.581152\" style=\"fill: #1f77b4; stroke: #1f77b4\"/>\n     <use xlink:href=\"#mdcd292c49e\" x=\"155.970291\" y=\"92.510191\" style=\"fill: #1f77b4; stroke: #1f77b4\"/>\n     <use xlink:href=\"#mdcd292c49e\" x=\"185.575099\" y=\"120.501018\" style=\"fill: #1f77b4; stroke: #1f77b4\"/>\n     <use xlink:href=\"#mdcd292c49e\" x=\"123.287283\" y=\"78.043968\" style=\"fill: #1f77b4; stroke: #1f77b4\"/>\n     <use xlink:href=\"#mdcd292c49e\" x=\"115.051047\" y=\"61.436682\" style=\"fill: #1f77b4; stroke: #1f77b4\"/>\n     <use xlink:href=\"#mdcd292c49e\" x=\"81.620512\" y=\"37.497391\" style=\"fill: #1f77b4; stroke: #1f77b4\"/>\n     <use xlink:href=\"#mdcd292c49e\" x=\"135.304786\" y=\"64.633168\" style=\"fill: #1f77b4; stroke: #1f77b4\"/>\n     <use xlink:href=\"#mdcd292c49e\" x=\"119.397994\" y=\"57.689029\" style=\"fill: #1f77b4; stroke: #1f77b4\"/>\n     <use xlink:href=\"#mdcd292c49e\" x=\"62.739498\" y=\"44.241111\" style=\"fill: #1f77b4; stroke: #1f77b4\"/>\n     <use xlink:href=\"#mdcd292c49e\" x=\"219.781047\" y=\"125.34224\" style=\"fill: #1f77b4; stroke: #1f77b4\"/>\n     <use xlink:href=\"#mdcd292c49e\" x=\"90.386578\" y=\"52.41877\" style=\"fill: #1f77b4; stroke: #1f77b4\"/>\n     <use xlink:href=\"#mdcd292c49e\" x=\"138.482339\" y=\"79.37575\" style=\"fill: #1f77b4; stroke: #1f77b4\"/>\n     <use xlink:href=\"#mdcd292c49e\" x=\"133.285312\" y=\"87.081847\" style=\"fill: #1f77b4; stroke: #1f77b4\"/>\n     <use xlink:href=\"#mdcd292c49e\" x=\"85.677992\" y=\"46.760685\" style=\"fill: #1f77b4; stroke: #1f77b4\"/>\n     <use xlink:href=\"#mdcd292c49e\" x=\"71.113561\" y=\"32.442176\" style=\"fill: #1f77b4; stroke: #1f77b4\"/>\n     <use xlink:href=\"#mdcd292c49e\" x=\"131.583561\" y=\"78.644458\" style=\"fill: #1f77b4; stroke: #1f77b4\"/>\n     <use xlink:href=\"#mdcd292c49e\" x=\"113.838806\" y=\"67.924919\" style=\"fill: #1f77b4; stroke: #1f77b4\"/>\n     <use xlink:href=\"#mdcd292c49e\" x=\"112.229197\" y=\"51.716182\" style=\"fill: #1f77b4; stroke: #1f77b4\"/>\n     <use xlink:href=\"#mdcd292c49e\" x=\"166.470711\" y=\"97.222103\" style=\"fill: #1f77b4; stroke: #1f77b4\"/>\n     <use xlink:href=\"#mdcd292c49e\" x=\"81.298388\" y=\"34.254787\" style=\"fill: #1f77b4; stroke: #1f77b4\"/>\n     <use xlink:href=\"#mdcd292c49e\" x=\"144.51513\" y=\"71.89851\" style=\"fill: #1f77b4; stroke: #1f77b4\"/>\n     <use xlink:href=\"#mdcd292c49e\" x=\"112.692466\" y=\"69.408734\" style=\"fill: #1f77b4; stroke: #1f77b4\"/>\n     <use xlink:href=\"#mdcd292c49e\" x=\"164.429318\" y=\"84.793682\" style=\"fill: #1f77b4; stroke: #1f77b4\"/>\n     <use xlink:href=\"#mdcd292c49e\" x=\"112.000147\" y=\"67.945322\" style=\"fill: #1f77b4; stroke: #1f77b4\"/>\n     <use xlink:href=\"#mdcd292c49e\" x=\"106.326301\" y=\"54.911442\" style=\"fill: #1f77b4; stroke: #1f77b4\"/>\n     <use xlink:href=\"#mdcd292c49e\" x=\"160.239843\" y=\"88.069323\" style=\"fill: #1f77b4; stroke: #1f77b4\"/>\n     <use xlink:href=\"#mdcd292c49e\" x=\"106.71796\" y=\"67.270496\" style=\"fill: #1f77b4; stroke: #1f77b4\"/>\n     <use xlink:href=\"#mdcd292c49e\" x=\"107.248699\" y=\"65.237191\" style=\"fill: #1f77b4; stroke: #1f77b4\"/>\n     <use xlink:href=\"#mdcd292c49e\" x=\"77.399387\" y=\"45.097075\" style=\"fill: #1f77b4; stroke: #1f77b4\"/>\n     <use xlink:href=\"#mdcd292c49e\" x=\"115.951278\" y=\"60.192064\" style=\"fill: #1f77b4; stroke: #1f77b4\"/>\n     <use xlink:href=\"#mdcd292c49e\" x=\"102.041457\" y=\"63.015302\" style=\"fill: #1f77b4; stroke: #1f77b4\"/>\n     <use xlink:href=\"#mdcd292c49e\" x=\"99.222485\" y=\"55.039662\" style=\"fill: #1f77b4; stroke: #1f77b4\"/>\n     <use xlink:href=\"#mdcd292c49e\" x=\"162.187894\" y=\"106.015349\" style=\"fill: #1f77b4; stroke: #1f77b4\"/>\n     <use xlink:href=\"#mdcd292c49e\" x=\"124.997582\" y=\"79.993575\" style=\"fill: #1f77b4; stroke: #1f77b4\"/>\n     <use xlink:href=\"#mdcd292c49e\" x=\"119.525973\" y=\"64.092461\" style=\"fill: #1f77b4; stroke: #1f77b4\"/>\n     <use xlink:href=\"#mdcd292c49e\" x=\"127.451127\" y=\"60.713363\" style=\"fill: #1f77b4; stroke: #1f77b4\"/>\n     <use xlink:href=\"#mdcd292c49e\" x=\"131.173151\" y=\"63.802337\" style=\"fill: #1f77b4; stroke: #1f77b4\"/>\n     <use xlink:href=\"#mdcd292c49e\" x=\"44.18196\" y=\"27.02383\" style=\"fill: #1f77b4; stroke: #1f77b4\"/>\n     <use xlink:href=\"#mdcd292c49e\" x=\"119.407627\" y=\"60.796757\" style=\"fill: #1f77b4; stroke: #1f77b4\"/>\n     <use xlink:href=\"#mdcd292c49e\" x=\"169.783786\" y=\"98.88419\" style=\"fill: #1f77b4; stroke: #1f77b4\"/>\n     <use xlink:href=\"#mdcd292c49e\" x=\"122.743946\" y=\"68.830805\" style=\"fill: #1f77b4; stroke: #1f77b4\"/>\n     <use xlink:href=\"#mdcd292c49e\" x=\"128.661024\" y=\"59.748548\" style=\"fill: #1f77b4; stroke: #1f77b4\"/>\n     <use xlink:href=\"#mdcd292c49e\" x=\"122.494434\" y=\"76.005118\" style=\"fill: #1f77b4; stroke: #1f77b4\"/>\n     <use xlink:href=\"#mdcd292c49e\" x=\"104.714974\" y=\"51.952017\" style=\"fill: #1f77b4; stroke: #1f77b4\"/>\n     <use xlink:href=\"#mdcd292c49e\" x=\"102.288885\" y=\"63.801265\" style=\"fill: #1f77b4; stroke: #1f77b4\"/>\n     <use xlink:href=\"#mdcd292c49e\" x=\"136.874987\" y=\"85.098655\" style=\"fill: #1f77b4; stroke: #1f77b4\"/>\n     <use xlink:href=\"#mdcd292c49e\" x=\"81.507858\" y=\"56.892586\" style=\"fill: #1f77b4; stroke: #1f77b4\"/>\n     <use xlink:href=\"#mdcd292c49e\" x=\"93.529557\" y=\"54.97309\" style=\"fill: #1f77b4; stroke: #1f77b4\"/>\n     <use xlink:href=\"#mdcd292c49e\" x=\"90.139305\" y=\"35.632184\" style=\"fill: #1f77b4; stroke: #1f77b4\"/>\n     <use xlink:href=\"#mdcd292c49e\" x=\"145.745773\" y=\"70.995895\" style=\"fill: #1f77b4; stroke: #1f77b4\"/>\n     <use xlink:href=\"#mdcd292c49e\" x=\"147.323537\" y=\"100.989572\" style=\"fill: #1f77b4; stroke: #1f77b4\"/>\n     <use xlink:href=\"#mdcd292c49e\" x=\"120.059825\" y=\"60.621086\" style=\"fill: #1f77b4; stroke: #1f77b4\"/>\n     <use xlink:href=\"#mdcd292c49e\" x=\"110.41617\" y=\"78.128833\" style=\"fill: #1f77b4; stroke: #1f77b4\"/>\n     <use xlink:href=\"#mdcd292c49e\" x=\"141.770898\" y=\"80.537836\" style=\"fill: #1f77b4; stroke: #1f77b4\"/>\n     <use xlink:href=\"#mdcd292c49e\" x=\"121.777259\" y=\"74.636115\" style=\"fill: #1f77b4; stroke: #1f77b4\"/>\n     <use xlink:href=\"#mdcd292c49e\" x=\"123.114853\" y=\"82.313277\" style=\"fill: #1f77b4; stroke: #1f77b4\"/>\n     <use xlink:href=\"#mdcd292c49e\" x=\"153.076177\" y=\"83.853778\" style=\"fill: #1f77b4; stroke: #1f77b4\"/>\n     <use xlink:href=\"#mdcd292c49e\" x=\"86.148133\" y=\"69.644421\" style=\"fill: #1f77b4; stroke: #1f77b4\"/>\n     <use xlink:href=\"#mdcd292c49e\" x=\"152.49927\" y=\"72.522578\" style=\"fill: #1f77b4; stroke: #1f77b4\"/>\n     <use xlink:href=\"#mdcd292c49e\" x=\"139.14269\" y=\"76.078243\" style=\"fill: #1f77b4; stroke: #1f77b4\"/>\n     <use xlink:href=\"#mdcd292c49e\" x=\"99.414594\" y=\"41.288478\" style=\"fill: #1f77b4; stroke: #1f77b4\"/>\n     <use xlink:href=\"#mdcd292c49e\" x=\"152.922032\" y=\"77.069812\" style=\"fill: #1f77b4; stroke: #1f77b4\"/>\n     <use xlink:href=\"#mdcd292c49e\" x=\"110.487888\" y=\"75.127203\" style=\"fill: #1f77b4; stroke: #1f77b4\"/>\n     <use xlink:href=\"#mdcd292c49e\" x=\"170.799699\" y=\"105.585416\" style=\"fill: #1f77b4; stroke: #1f77b4\"/>\n     <use xlink:href=\"#mdcd292c49e\" x=\"173.137477\" y=\"110.301624\" style=\"fill: #1f77b4; stroke: #1f77b4\"/>\n     <use xlink:href=\"#mdcd292c49e\" x=\"120.47787\" y=\"77.709079\" style=\"fill: #1f77b4; stroke: #1f77b4\"/>\n     <use xlink:href=\"#mdcd292c49e\" x=\"158.94434\" y=\"97.337305\" style=\"fill: #1f77b4; stroke: #1f77b4\"/>\n     <use xlink:href=\"#mdcd292c49e\" x=\"117.431629\" y=\"64.149557\" style=\"fill: #1f77b4; stroke: #1f77b4\"/>\n     <use xlink:href=\"#mdcd292c49e\" x=\"125.438267\" y=\"82.1534\" style=\"fill: #1f77b4; stroke: #1f77b4\"/>\n     <use xlink:href=\"#mdcd292c49e\" x=\"82.970397\" y=\"49.605651\" style=\"fill: #1f77b4; stroke: #1f77b4\"/>\n     <use xlink:href=\"#mdcd292c49e\" x=\"166.772678\" y=\"81.538135\" style=\"fill: #1f77b4; stroke: #1f77b4\"/>\n     <use xlink:href=\"#mdcd292c49e\" x=\"104.727304\" y=\"60.642596\" style=\"fill: #1f77b4; stroke: #1f77b4\"/>\n     <use xlink:href=\"#mdcd292c49e\" x=\"120.79506\" y=\"79.442365\" style=\"fill: #1f77b4; stroke: #1f77b4\"/>\n     <use xlink:href=\"#mdcd292c49e\" x=\"122.569484\" y=\"73.395963\" style=\"fill: #1f77b4; stroke: #1f77b4\"/>\n     <use xlink:href=\"#mdcd292c49e\" x=\"151.18388\" y=\"88.153346\" style=\"fill: #1f77b4; stroke: #1f77b4\"/>\n     <use xlink:href=\"#mdcd292c49e\" x=\"114.411887\" y=\"54.313754\" style=\"fill: #1f77b4; stroke: #1f77b4\"/>\n     <use xlink:href=\"#mdcd292c49e\" x=\"107.963428\" y=\"67.261967\" style=\"fill: #1f77b4; stroke: #1f77b4\"/>\n     <use xlink:href=\"#mdcd292c49e\" x=\"167.377672\" y=\"112.872243\" style=\"fill: #1f77b4; stroke: #1f77b4\"/>\n     <use xlink:href=\"#mdcd292c49e\" x=\"132.694299\" y=\"57.168658\" style=\"fill: #1f77b4; stroke: #1f77b4\"/>\n     <use xlink:href=\"#mdcd292c49e\" x=\"141.819724\" y=\"75.21902\" style=\"fill: #1f77b4; stroke: #1f77b4\"/>\n     <use xlink:href=\"#mdcd292c49e\" x=\"107.382244\" y=\"52.131259\" style=\"fill: #1f77b4; stroke: #1f77b4\"/>\n     <use xlink:href=\"#mdcd292c49e\" x=\"138.674997\" y=\"87.906488\" style=\"fill: #1f77b4; stroke: #1f77b4\"/>\n     <use xlink:href=\"#mdcd292c49e\" x=\"77.888955\" y=\"43.404562\" style=\"fill: #1f77b4; stroke: #1f77b4\"/>\n     <use xlink:href=\"#mdcd292c49e\" x=\"123.622057\" y=\"64.130386\" style=\"fill: #1f77b4; stroke: #1f77b4\"/>\n     <use xlink:href=\"#mdcd292c49e\" x=\"162.014988\" y=\"89.213553\" style=\"fill: #1f77b4; stroke: #1f77b4\"/>\n     <use xlink:href=\"#mdcd292c49e\" x=\"78.163039\" y=\"52.65349\" style=\"fill: #1f77b4; stroke: #1f77b4\"/>\n     <use xlink:href=\"#mdcd292c49e\" x=\"101.76693\" y=\"54.042707\" style=\"fill: #1f77b4; stroke: #1f77b4\"/>\n     <use xlink:href=\"#mdcd292c49e\" x=\"145.710929\" y=\"73.468281\" style=\"fill: #1f77b4; stroke: #1f77b4\"/>\n     <use xlink:href=\"#mdcd292c49e\" x=\"102.787183\" y=\"63.708129\" style=\"fill: #1f77b4; stroke: #1f77b4\"/>\n     <use xlink:href=\"#mdcd292c49e\" x=\"154.766865\" y=\"89.552285\" style=\"fill: #1f77b4; stroke: #1f77b4\"/>\n     <use xlink:href=\"#mdcd292c49e\" x=\"111.840866\" y=\"62.931527\" style=\"fill: #1f77b4; stroke: #1f77b4\"/>\n     <use xlink:href=\"#mdcd292c49e\" x=\"113.651058\" y=\"58.070482\" style=\"fill: #1f77b4; stroke: #1f77b4\"/>\n     <use xlink:href=\"#mdcd292c49e\" x=\"143.207635\" y=\"79.237512\" style=\"fill: #1f77b4; stroke: #1f77b4\"/>\n     <use xlink:href=\"#mdcd292c49e\" x=\"73.038128\" y=\"45.272833\" style=\"fill: #1f77b4; stroke: #1f77b4\"/>\n     <use xlink:href=\"#mdcd292c49e\" x=\"166.47258\" y=\"87.080974\" style=\"fill: #1f77b4; stroke: #1f77b4\"/>\n     <use xlink:href=\"#mdcd292c49e\" x=\"124.332426\" y=\"63.865059\" style=\"fill: #1f77b4; stroke: #1f77b4\"/>\n     <use xlink:href=\"#mdcd292c49e\" x=\"91.659574\" y=\"56.410171\" style=\"fill: #1f77b4; stroke: #1f77b4\"/>\n     <use xlink:href=\"#mdcd292c49e\" x=\"127.287836\" y=\"76.042267\" style=\"fill: #1f77b4; stroke: #1f77b4\"/>\n     <use xlink:href=\"#mdcd292c49e\" x=\"163.916724\" y=\"105.192445\" style=\"fill: #1f77b4; stroke: #1f77b4\"/>\n     <use xlink:href=\"#mdcd292c49e\" x=\"116.705329\" y=\"68.644969\" style=\"fill: #1f77b4; stroke: #1f77b4\"/>\n     <use xlink:href=\"#mdcd292c49e\" x=\"137.051709\" y=\"78.531561\" style=\"fill: #1f77b4; stroke: #1f77b4\"/>\n     <use xlink:href=\"#mdcd292c49e\" x=\"176.693927\" y=\"99.754374\" style=\"fill: #1f77b4; stroke: #1f77b4\"/>\n     <use xlink:href=\"#mdcd292c49e\" x=\"135.138784\" y=\"73.301848\" style=\"fill: #1f77b4; stroke: #1f77b4\"/>\n     <use xlink:href=\"#mdcd292c49e\" x=\"138.741663\" y=\"81.822358\" style=\"fill: #1f77b4; stroke: #1f77b4\"/>\n     <use xlink:href=\"#mdcd292c49e\" x=\"117.027719\" y=\"72.944999\" style=\"fill: #1f77b4; stroke: #1f77b4\"/>\n     <use xlink:href=\"#mdcd292c49e\" x=\"87.983082\" y=\"36.175674\" style=\"fill: #1f77b4; stroke: #1f77b4\"/>\n     <use xlink:href=\"#mdcd292c49e\" x=\"107.749107\" y=\"76.970865\" style=\"fill: #1f77b4; stroke: #1f77b4\"/>\n     <use xlink:href=\"#mdcd292c49e\" x=\"123.994519\" y=\"60.172673\" style=\"fill: #1f77b4; stroke: #1f77b4\"/>\n     <use xlink:href=\"#mdcd292c49e\" x=\"106.658675\" y=\"51.464255\" style=\"fill: #1f77b4; stroke: #1f77b4\"/>\n     <use xlink:href=\"#mdcd292c49e\" x=\"160.40574\" y=\"103.847652\" style=\"fill: #1f77b4; stroke: #1f77b4\"/>\n     <use xlink:href=\"#mdcd292c49e\" x=\"121.774383\" y=\"62.067138\" style=\"fill: #1f77b4; stroke: #1f77b4\"/>\n     <use xlink:href=\"#mdcd292c49e\" x=\"94.95095\" y=\"47.480202\" style=\"fill: #1f77b4; stroke: #1f77b4\"/>\n     <use xlink:href=\"#mdcd292c49e\" x=\"160.148603\" y=\"96.605224\" style=\"fill: #1f77b4; stroke: #1f77b4\"/>\n     <use xlink:href=\"#mdcd292c49e\" x=\"149.680074\" y=\"93.848818\" style=\"fill: #1f77b4; stroke: #1f77b4\"/>\n     <use xlink:href=\"#mdcd292c49e\" x=\"122.086764\" y=\"78.132752\" style=\"fill: #1f77b4; stroke: #1f77b4\"/>\n     <use xlink:href=\"#mdcd292c49e\" x=\"131.724356\" y=\"73.579371\" style=\"fill: #1f77b4; stroke: #1f77b4\"/>\n     <use xlink:href=\"#mdcd292c49e\" x=\"140.459611\" y=\"85.030387\" style=\"fill: #1f77b4; stroke: #1f77b4\"/>\n     <use xlink:href=\"#mdcd292c49e\" x=\"156.913559\" y=\"93.211714\" style=\"fill: #1f77b4; stroke: #1f77b4\"/>\n     <use xlink:href=\"#mdcd292c49e\" x=\"146.134182\" y=\"85.093924\" style=\"fill: #1f77b4; stroke: #1f77b4\"/>\n     <use xlink:href=\"#mdcd292c49e\" x=\"89.4759\" y=\"40.903974\" style=\"fill: #1f77b4; stroke: #1f77b4\"/>\n     <use xlink:href=\"#mdcd292c49e\" x=\"128.809252\" y=\"68.113326\" style=\"fill: #1f77b4; stroke: #1f77b4\"/>\n     <use xlink:href=\"#mdcd292c49e\" x=\"142.520369\" y=\"74.745434\" style=\"fill: #1f77b4; stroke: #1f77b4\"/>\n     <use xlink:href=\"#mdcd292c49e\" x=\"118.128655\" y=\"66.17688\" style=\"fill: #1f77b4; stroke: #1f77b4\"/>\n     <use xlink:href=\"#mdcd292c49e\" x=\"110.720229\" y=\"59.272539\" style=\"fill: #1f77b4; stroke: #1f77b4\"/>\n     <use xlink:href=\"#mdcd292c49e\" x=\"133.108017\" y=\"93.406961\" style=\"fill: #1f77b4; stroke: #1f77b4\"/>\n     <use xlink:href=\"#mdcd292c49e\" x=\"165.589798\" y=\"96.131164\" style=\"fill: #1f77b4; stroke: #1f77b4\"/>\n     <use xlink:href=\"#mdcd292c49e\" x=\"71.708884\" y=\"40.173831\" style=\"fill: #1f77b4; stroke: #1f77b4\"/>\n     <use xlink:href=\"#mdcd292c49e\" x=\"114.2503\" y=\"70.50989\" style=\"fill: #1f77b4; stroke: #1f77b4\"/>\n     <use xlink:href=\"#mdcd292c49e\" x=\"67.159466\" y=\"16.14729\" style=\"fill: #1f77b4; stroke: #1f77b4\"/>\n     <use xlink:href=\"#mdcd292c49e\" x=\"161.988904\" y=\"68.76836\" style=\"fill: #1f77b4; stroke: #1f77b4\"/>\n     <use xlink:href=\"#mdcd292c49e\" x=\"119.88687\" y=\"42.466644\" style=\"fill: #1f77b4; stroke: #1f77b4\"/>\n     <use xlink:href=\"#mdcd292c49e\" x=\"159.058067\" y=\"87.122145\" style=\"fill: #1f77b4; stroke: #1f77b4\"/>\n     <use xlink:href=\"#mdcd292c49e\" x=\"78.164904\" y=\"47.190805\" style=\"fill: #1f77b4; stroke: #1f77b4\"/>\n     <use xlink:href=\"#mdcd292c49e\" x=\"110.944096\" y=\"62.271504\" style=\"fill: #1f77b4; stroke: #1f77b4\"/>\n     <use xlink:href=\"#mdcd292c49e\" x=\"113.570833\" y=\"80.289271\" style=\"fill: #1f77b4; stroke: #1f77b4\"/>\n     <use xlink:href=\"#mdcd292c49e\" x=\"57.936038\" y=\"17.790412\" style=\"fill: #1f77b4; stroke: #1f77b4\"/>\n     <use xlink:href=\"#mdcd292c49e\" x=\"123.078764\" y=\"78.170809\" style=\"fill: #1f77b4; stroke: #1f77b4\"/>\n     <use xlink:href=\"#mdcd292c49e\" x=\"99.791426\" y=\"59.485979\" style=\"fill: #1f77b4; stroke: #1f77b4\"/>\n     <use xlink:href=\"#mdcd292c49e\" x=\"124.412115\" y=\"75.871915\" style=\"fill: #1f77b4; stroke: #1f77b4\"/>\n     <use xlink:href=\"#mdcd292c49e\" x=\"94.501289\" y=\"44.502391\" style=\"fill: #1f77b4; stroke: #1f77b4\"/>\n     <use xlink:href=\"#mdcd292c49e\" x=\"116.8685\" y=\"59.813055\" style=\"fill: #1f77b4; stroke: #1f77b4\"/>\n     <use xlink:href=\"#mdcd292c49e\" x=\"83.435963\" y=\"48.941114\" style=\"fill: #1f77b4; stroke: #1f77b4\"/>\n     <use xlink:href=\"#mdcd292c49e\" x=\"100.560356\" y=\"53.302342\" style=\"fill: #1f77b4; stroke: #1f77b4\"/>\n     <use xlink:href=\"#mdcd292c49e\" x=\"109.879758\" y=\"54.209074\" style=\"fill: #1f77b4; stroke: #1f77b4\"/>\n     <use xlink:href=\"#mdcd292c49e\" x=\"151.937268\" y=\"94.752602\" style=\"fill: #1f77b4; stroke: #1f77b4\"/>\n     <use xlink:href=\"#mdcd292c49e\" x=\"159.756879\" y=\"92.549636\" style=\"fill: #1f77b4; stroke: #1f77b4\"/>\n     <use xlink:href=\"#mdcd292c49e\" x=\"119.030904\" y=\"48.411277\" style=\"fill: #1f77b4; stroke: #1f77b4\"/>\n     <use xlink:href=\"#mdcd292c49e\" x=\"154.968674\" y=\"86.563934\" style=\"fill: #1f77b4; stroke: #1f77b4\"/>\n     <use xlink:href=\"#mdcd292c49e\" x=\"91.772408\" y=\"67.371915\" style=\"fill: #1f77b4; stroke: #1f77b4\"/>\n     <use xlink:href=\"#mdcd292c49e\" x=\"121.358113\" y=\"62.924601\" style=\"fill: #1f77b4; stroke: #1f77b4\"/>\n     <use xlink:href=\"#mdcd292c49e\" x=\"99.699739\" y=\"73.026894\" style=\"fill: #1f77b4; stroke: #1f77b4\"/>\n     <use xlink:href=\"#mdcd292c49e\" x=\"154.684929\" y=\"95.687408\" style=\"fill: #1f77b4; stroke: #1f77b4\"/>\n     <use xlink:href=\"#mdcd292c49e\" x=\"121.146468\" y=\"82.871072\" style=\"fill: #1f77b4; stroke: #1f77b4\"/>\n     <use xlink:href=\"#mdcd292c49e\" x=\"86.566414\" y=\"61.567093\" style=\"fill: #1f77b4; stroke: #1f77b4\"/>\n     <use xlink:href=\"#mdcd292c49e\" x=\"109.162103\" y=\"60.048248\" style=\"fill: #1f77b4; stroke: #1f77b4\"/>\n     <use xlink:href=\"#mdcd292c49e\" x=\"165.709681\" y=\"83.255514\" style=\"fill: #1f77b4; stroke: #1f77b4\"/>\n     <use xlink:href=\"#mdcd292c49e\" x=\"116.859654\" y=\"55.855191\" style=\"fill: #1f77b4; stroke: #1f77b4\"/>\n     <use xlink:href=\"#mdcd292c49e\" x=\"96.868149\" y=\"55.977916\" style=\"fill: #1f77b4; stroke: #1f77b4\"/>\n     <use xlink:href=\"#mdcd292c49e\" x=\"131.678633\" y=\"77.487867\" style=\"fill: #1f77b4; stroke: #1f77b4\"/>\n     <use xlink:href=\"#mdcd292c49e\" x=\"110.09507\" y=\"65.084546\" style=\"fill: #1f77b4; stroke: #1f77b4\"/>\n     <use xlink:href=\"#mdcd292c49e\" x=\"102.717294\" y=\"66.562466\" style=\"fill: #1f77b4; stroke: #1f77b4\"/>\n     <use xlink:href=\"#mdcd292c49e\" x=\"113.784717\" y=\"60.058629\" style=\"fill: #1f77b4; stroke: #1f77b4\"/>\n     <use xlink:href=\"#mdcd292c49e\" x=\"120.252455\" y=\"73.53664\" style=\"fill: #1f77b4; stroke: #1f77b4\"/>\n     <use xlink:href=\"#mdcd292c49e\" x=\"87.103894\" y=\"59.34043\" style=\"fill: #1f77b4; stroke: #1f77b4\"/>\n     <use xlink:href=\"#mdcd292c49e\" x=\"74.282065\" y=\"32.545465\" style=\"fill: #1f77b4; stroke: #1f77b4\"/>\n     <use xlink:href=\"#mdcd292c49e\" x=\"117.012029\" y=\"71.112303\" style=\"fill: #1f77b4; stroke: #1f77b4\"/>\n     <use xlink:href=\"#mdcd292c49e\" x=\"124.524357\" y=\"58.965569\" style=\"fill: #1f77b4; stroke: #1f77b4\"/>\n     <use xlink:href=\"#mdcd292c49e\" x=\"146.93555\" y=\"88.885644\" style=\"fill: #1f77b4; stroke: #1f77b4\"/>\n     <use xlink:href=\"#mdcd292c49e\" x=\"100.0813\" y=\"59.402239\" style=\"fill: #1f77b4; stroke: #1f77b4\"/>\n     <use xlink:href=\"#mdcd292c49e\" x=\"140.377007\" y=\"73.626691\" style=\"fill: #1f77b4; stroke: #1f77b4\"/>\n     <use xlink:href=\"#mdcd292c49e\" x=\"152.529659\" y=\"94.095949\" style=\"fill: #1f77b4; stroke: #1f77b4\"/>\n     <use xlink:href=\"#mdcd292c49e\" x=\"92.558982\" y=\"44.12485\" style=\"fill: #1f77b4; stroke: #1f77b4\"/>\n     <use xlink:href=\"#mdcd292c49e\" x=\"134.801513\" y=\"67.837378\" style=\"fill: #1f77b4; stroke: #1f77b4\"/>\n     <use xlink:href=\"#mdcd292c49e\" x=\"119.73981\" y=\"92.788583\" style=\"fill: #1f77b4; stroke: #1f77b4\"/>\n     <use xlink:href=\"#mdcd292c49e\" x=\"155.855259\" y=\"87.415031\" style=\"fill: #1f77b4; stroke: #1f77b4\"/>\n     <use xlink:href=\"#mdcd292c49e\" x=\"129.690002\" y=\"83.158464\" style=\"fill: #1f77b4; stroke: #1f77b4\"/>\n     <use xlink:href=\"#mdcd292c49e\" x=\"116.083893\" y=\"63.002437\" style=\"fill: #1f77b4; stroke: #1f77b4\"/>\n     <use xlink:href=\"#mdcd292c49e\" x=\"85.961191\" y=\"37.200465\" style=\"fill: #1f77b4; stroke: #1f77b4\"/>\n     <use xlink:href=\"#mdcd292c49e\" x=\"152.09007\" y=\"98.874851\" style=\"fill: #1f77b4; stroke: #1f77b4\"/>\n     <use xlink:href=\"#mdcd292c49e\" x=\"113.633629\" y=\"49.594238\" style=\"fill: #1f77b4; stroke: #1f77b4\"/>\n     <use xlink:href=\"#mdcd292c49e\" x=\"136.09931\" y=\"70.477845\" style=\"fill: #1f77b4; stroke: #1f77b4\"/>\n     <use xlink:href=\"#mdcd292c49e\" x=\"107.055811\" y=\"55.991421\" style=\"fill: #1f77b4; stroke: #1f77b4\"/>\n     <use xlink:href=\"#mdcd292c49e\" x=\"119.115475\" y=\"78.193562\" style=\"fill: #1f77b4; stroke: #1f77b4\"/>\n     <use xlink:href=\"#mdcd292c49e\" x=\"77.122356\" y=\"29.62197\" style=\"fill: #1f77b4; stroke: #1f77b4\"/>\n     <use xlink:href=\"#mdcd292c49e\" x=\"131.052593\" y=\"76.00591\" style=\"fill: #1f77b4; stroke: #1f77b4\"/>\n     <use xlink:href=\"#mdcd292c49e\" x=\"122.005035\" y=\"71.03262\" style=\"fill: #1f77b4; stroke: #1f77b4\"/>\n     <use xlink:href=\"#mdcd292c49e\" x=\"115.303942\" y=\"72.422972\" style=\"fill: #1f77b4; stroke: #1f77b4\"/>\n     <use xlink:href=\"#mdcd292c49e\" x=\"114.241568\" y=\"69.174502\" style=\"fill: #1f77b4; stroke: #1f77b4\"/>\n     <use xlink:href=\"#mdcd292c49e\" x=\"68.110674\" y=\"47.751555\" style=\"fill: #1f77b4; stroke: #1f77b4\"/>\n     <use xlink:href=\"#mdcd292c49e\" x=\"99.821525\" y=\"59.81562\" style=\"fill: #1f77b4; stroke: #1f77b4\"/>\n     <use xlink:href=\"#mdcd292c49e\" x=\"162.72068\" y=\"87.527858\" style=\"fill: #1f77b4; stroke: #1f77b4\"/>\n     <use xlink:href=\"#mdcd292c49e\" x=\"120.88603\" y=\"65.245731\" style=\"fill: #1f77b4; stroke: #1f77b4\"/>\n     <use xlink:href=\"#mdcd292c49e\" x=\"106.804006\" y=\"57.283599\" style=\"fill: #1f77b4; stroke: #1f77b4\"/>\n     <use xlink:href=\"#mdcd292c49e\" x=\"134.489315\" y=\"77.623304\" style=\"fill: #1f77b4; stroke: #1f77b4\"/>\n     <use xlink:href=\"#mdcd292c49e\" x=\"130.456094\" y=\"86.484826\" style=\"fill: #1f77b4; stroke: #1f77b4\"/>\n     <use xlink:href=\"#mdcd292c49e\" x=\"127.516867\" y=\"68.373492\" style=\"fill: #1f77b4; stroke: #1f77b4\"/>\n     <use xlink:href=\"#mdcd292c49e\" x=\"115.268741\" y=\"48.767198\" style=\"fill: #1f77b4; stroke: #1f77b4\"/>\n     <use xlink:href=\"#mdcd292c49e\" x=\"108.421619\" y=\"55.334171\" style=\"fill: #1f77b4; stroke: #1f77b4\"/>\n     <use xlink:href=\"#mdcd292c49e\" x=\"118.146136\" y=\"55.492743\" style=\"fill: #1f77b4; stroke: #1f77b4\"/>\n     <use xlink:href=\"#mdcd292c49e\" x=\"101.80117\" y=\"55.092585\" style=\"fill: #1f77b4; stroke: #1f77b4\"/>\n     <use xlink:href=\"#mdcd292c49e\" x=\"157.512451\" y=\"89.897543\" style=\"fill: #1f77b4; stroke: #1f77b4\"/>\n     <use xlink:href=\"#mdcd292c49e\" x=\"81.282261\" y=\"40.260377\" style=\"fill: #1f77b4; stroke: #1f77b4\"/>\n     <use xlink:href=\"#mdcd292c49e\" x=\"143.417369\" y=\"90.778989\" style=\"fill: #1f77b4; stroke: #1f77b4\"/>\n     <use xlink:href=\"#mdcd292c49e\" x=\"152.991111\" y=\"63.10491\" style=\"fill: #1f77b4; stroke: #1f77b4\"/>\n     <use xlink:href=\"#mdcd292c49e\" x=\"93.831311\" y=\"66.529116\" style=\"fill: #1f77b4; stroke: #1f77b4\"/>\n     <use xlink:href=\"#mdcd292c49e\" x=\"128.020923\" y=\"69.898662\" style=\"fill: #1f77b4; stroke: #1f77b4\"/>\n     <use xlink:href=\"#mdcd292c49e\" x=\"127.701726\" y=\"66.246262\" style=\"fill: #1f77b4; stroke: #1f77b4\"/>\n     <use xlink:href=\"#mdcd292c49e\" x=\"133.080962\" y=\"63.188171\" style=\"fill: #1f77b4; stroke: #1f77b4\"/>\n     <use xlink:href=\"#mdcd292c49e\" x=\"109.137281\" y=\"44.247614\" style=\"fill: #1f77b4; stroke: #1f77b4\"/>\n     <use xlink:href=\"#mdcd292c49e\" x=\"102.038847\" y=\"60.223788\" style=\"fill: #1f77b4; stroke: #1f77b4\"/>\n     <use xlink:href=\"#mdcd292c49e\" x=\"107.239222\" y=\"58.272321\" style=\"fill: #1f77b4; stroke: #1f77b4\"/>\n     <use xlink:href=\"#mdcd292c49e\" x=\"119.817038\" y=\"71.285895\" style=\"fill: #1f77b4; stroke: #1f77b4\"/>\n     <use xlink:href=\"#mdcd292c49e\" x=\"106.490284\" y=\"69.196327\" style=\"fill: #1f77b4; stroke: #1f77b4\"/>\n     <use xlink:href=\"#mdcd292c49e\" x=\"153.026788\" y=\"79.810654\" style=\"fill: #1f77b4; stroke: #1f77b4\"/>\n     <use xlink:href=\"#mdcd292c49e\" x=\"60.335714\" y=\"46.711307\" style=\"fill: #1f77b4; stroke: #1f77b4\"/>\n     <use xlink:href=\"#mdcd292c49e\" x=\"101.851865\" y=\"67.539684\" style=\"fill: #1f77b4; stroke: #1f77b4\"/>\n     <use xlink:href=\"#mdcd292c49e\" x=\"82.384722\" y=\"51.443468\" style=\"fill: #1f77b4; stroke: #1f77b4\"/>\n     <use xlink:href=\"#mdcd292c49e\" x=\"128.905048\" y=\"69.858732\" style=\"fill: #1f77b4; stroke: #1f77b4\"/>\n     <use xlink:href=\"#mdcd292c49e\" x=\"116.646807\" y=\"62.047936\" style=\"fill: #1f77b4; stroke: #1f77b4\"/>\n     <use xlink:href=\"#mdcd292c49e\" x=\"95.444243\" y=\"67.147601\" style=\"fill: #1f77b4; stroke: #1f77b4\"/>\n     <use xlink:href=\"#mdcd292c49e\" x=\"134.718805\" y=\"60.944172\" style=\"fill: #1f77b4; stroke: #1f77b4\"/>\n     <use xlink:href=\"#mdcd292c49e\" x=\"146.394344\" y=\"80.600416\" style=\"fill: #1f77b4; stroke: #1f77b4\"/>\n     <use xlink:href=\"#mdcd292c49e\" x=\"91.63413\" y=\"65.13031\" style=\"fill: #1f77b4; stroke: #1f77b4\"/>\n     <use xlink:href=\"#mdcd292c49e\" x=\"95.39492\" y=\"65.711397\" style=\"fill: #1f77b4; stroke: #1f77b4\"/>\n     <use xlink:href=\"#mdcd292c49e\" x=\"135.620531\" y=\"76.974787\" style=\"fill: #1f77b4; stroke: #1f77b4\"/>\n     <use xlink:href=\"#mdcd292c49e\" x=\"114.901165\" y=\"69.967231\" style=\"fill: #1f77b4; stroke: #1f77b4\"/>\n     <use xlink:href=\"#mdcd292c49e\" x=\"61.347394\" y=\"47.024561\" style=\"fill: #1f77b4; stroke: #1f77b4\"/>\n     <use xlink:href=\"#mdcd292c49e\" x=\"135.555834\" y=\"76.790344\" style=\"fill: #1f77b4; stroke: #1f77b4\"/>\n     <use xlink:href=\"#mdcd292c49e\" x=\"60.085714\" y=\"34.828369\" style=\"fill: #1f77b4; stroke: #1f77b4\"/>\n     <use xlink:href=\"#mdcd292c49e\" x=\"102.556322\" y=\"47.325874\" style=\"fill: #1f77b4; stroke: #1f77b4\"/>\n     <use xlink:href=\"#mdcd292c49e\" x=\"148.532628\" y=\"82.525805\" style=\"fill: #1f77b4; stroke: #1f77b4\"/>\n     <use xlink:href=\"#mdcd292c49e\" x=\"124.571717\" y=\"61.21566\" style=\"fill: #1f77b4; stroke: #1f77b4\"/>\n     <use xlink:href=\"#mdcd292c49e\" x=\"185.401387\" y=\"113.36582\" style=\"fill: #1f77b4; stroke: #1f77b4\"/>\n     <use xlink:href=\"#mdcd292c49e\" x=\"98.657249\" y=\"62.447525\" style=\"fill: #1f77b4; stroke: #1f77b4\"/>\n     <use xlink:href=\"#mdcd292c49e\" x=\"133.487723\" y=\"74.750075\" style=\"fill: #1f77b4; stroke: #1f77b4\"/>\n     <use xlink:href=\"#mdcd292c49e\" x=\"113.707522\" y=\"61.586559\" style=\"fill: #1f77b4; stroke: #1f77b4\"/>\n     <use xlink:href=\"#mdcd292c49e\" x=\"124.137685\" y=\"66.479315\" style=\"fill: #1f77b4; stroke: #1f77b4\"/>\n     <use xlink:href=\"#mdcd292c49e\" x=\"95.300334\" y=\"53.731348\" style=\"fill: #1f77b4; stroke: #1f77b4\"/>\n     <use xlink:href=\"#mdcd292c49e\" x=\"131.379503\" y=\"80.446123\" style=\"fill: #1f77b4; stroke: #1f77b4\"/>\n     <use xlink:href=\"#mdcd292c49e\" x=\"182.30483\" y=\"101.591372\" style=\"fill: #1f77b4; stroke: #1f77b4\"/>\n     <use xlink:href=\"#mdcd292c49e\" x=\"101.196047\" y=\"66.689748\" style=\"fill: #1f77b4; stroke: #1f77b4\"/>\n     <use xlink:href=\"#mdcd292c49e\" x=\"145.082468\" y=\"79.429884\" style=\"fill: #1f77b4; stroke: #1f77b4\"/>\n     <use xlink:href=\"#mdcd292c49e\" x=\"152.345075\" y=\"89.111462\" style=\"fill: #1f77b4; stroke: #1f77b4\"/>\n     <use xlink:href=\"#mdcd292c49e\" x=\"140.407409\" y=\"79.375162\" style=\"fill: #1f77b4; stroke: #1f77b4\"/>\n     <use xlink:href=\"#mdcd292c49e\" x=\"126.232432\" y=\"66.632839\" style=\"fill: #1f77b4; stroke: #1f77b4\"/>\n     <use xlink:href=\"#mdcd292c49e\" x=\"161.331774\" y=\"86.389074\" style=\"fill: #1f77b4; stroke: #1f77b4\"/>\n     <use xlink:href=\"#mdcd292c49e\" x=\"107.835066\" y=\"67.24634\" style=\"fill: #1f77b4; stroke: #1f77b4\"/>\n     <use xlink:href=\"#mdcd292c49e\" x=\"137.787799\" y=\"75.009485\" style=\"fill: #1f77b4; stroke: #1f77b4\"/>\n     <use xlink:href=\"#mdcd292c49e\" x=\"135.445346\" y=\"80.448116\" style=\"fill: #1f77b4; stroke: #1f77b4\"/>\n     <use xlink:href=\"#mdcd292c49e\" x=\"140.809686\" y=\"74.366921\" style=\"fill: #1f77b4; stroke: #1f77b4\"/>\n     <use xlink:href=\"#mdcd292c49e\" x=\"107.793393\" y=\"58.549594\" style=\"fill: #1f77b4; stroke: #1f77b4\"/>\n     <use xlink:href=\"#mdcd292c49e\" x=\"192.332133\" y=\"95.606316\" style=\"fill: #1f77b4; stroke: #1f77b4\"/>\n     <use xlink:href=\"#mdcd292c49e\" x=\"103.516174\" y=\"66.475734\" style=\"fill: #1f77b4; stroke: #1f77b4\"/>\n     <use xlink:href=\"#mdcd292c49e\" x=\"117.534686\" y=\"63.933647\" style=\"fill: #1f77b4; stroke: #1f77b4\"/>\n     <use xlink:href=\"#mdcd292c49e\" x=\"79.085485\" y=\"46.620586\" style=\"fill: #1f77b4; stroke: #1f77b4\"/>\n     <use xlink:href=\"#mdcd292c49e\" x=\"109.544469\" y=\"66.493109\" style=\"fill: #1f77b4; stroke: #1f77b4\"/>\n     <use xlink:href=\"#mdcd292c49e\" x=\"108.303668\" y=\"70.720326\" style=\"fill: #1f77b4; stroke: #1f77b4\"/>\n     <use xlink:href=\"#mdcd292c49e\" x=\"119.493624\" y=\"68.773229\" style=\"fill: #1f77b4; stroke: #1f77b4\"/>\n     <use xlink:href=\"#mdcd292c49e\" x=\"119.551051\" y=\"74.964089\" style=\"fill: #1f77b4; stroke: #1f77b4\"/>\n     <use xlink:href=\"#mdcd292c49e\" x=\"116.910159\" y=\"80.904697\" style=\"fill: #1f77b4; stroke: #1f77b4\"/>\n     <use xlink:href=\"#mdcd292c49e\" x=\"93.675874\" y=\"59.468727\" style=\"fill: #1f77b4; stroke: #1f77b4\"/>\n     <use xlink:href=\"#mdcd292c49e\" x=\"163.775245\" y=\"105.877364\" style=\"fill: #1f77b4; stroke: #1f77b4\"/>\n     <use xlink:href=\"#mdcd292c49e\" x=\"127.702203\" y=\"74.71312\" style=\"fill: #1f77b4; stroke: #1f77b4\"/>\n     <use xlink:href=\"#mdcd292c49e\" x=\"113.147354\" y=\"63.673456\" style=\"fill: #1f77b4; stroke: #1f77b4\"/>\n     <use xlink:href=\"#mdcd292c49e\" x=\"87.566353\" y=\"42.126102\" style=\"fill: #1f77b4; stroke: #1f77b4\"/>\n     <use xlink:href=\"#mdcd292c49e\" x=\"114.678915\" y=\"59.281734\" style=\"fill: #1f77b4; stroke: #1f77b4\"/>\n     <use xlink:href=\"#mdcd292c49e\" x=\"127.602692\" y=\"65.63349\" style=\"fill: #1f77b4; stroke: #1f77b4\"/>\n     <use xlink:href=\"#mdcd292c49e\" x=\"93.977302\" y=\"51.587719\" style=\"fill: #1f77b4; stroke: #1f77b4\"/>\n     <use xlink:href=\"#mdcd292c49e\" x=\"118.456818\" y=\"72.025596\" style=\"fill: #1f77b4; stroke: #1f77b4\"/>\n     <use xlink:href=\"#mdcd292c49e\" x=\"90.386882\" y=\"61.680312\" style=\"fill: #1f77b4; stroke: #1f77b4\"/>\n     <use xlink:href=\"#mdcd292c49e\" x=\"126.695602\" y=\"61.993238\" style=\"fill: #1f77b4; stroke: #1f77b4\"/>\n     <use xlink:href=\"#mdcd292c49e\" x=\"139.197591\" y=\"73.751122\" style=\"fill: #1f77b4; stroke: #1f77b4\"/>\n     <use xlink:href=\"#mdcd292c49e\" x=\"114.100504\" y=\"65.403848\" style=\"fill: #1f77b4; stroke: #1f77b4\"/>\n     <use xlink:href=\"#mdcd292c49e\" x=\"122.010284\" y=\"65.422982\" style=\"fill: #1f77b4; stroke: #1f77b4\"/>\n     <use xlink:href=\"#mdcd292c49e\" x=\"118.285609\" y=\"67.052601\" style=\"fill: #1f77b4; stroke: #1f77b4\"/>\n     <use xlink:href=\"#mdcd292c49e\" x=\"128.270794\" y=\"73.31605\" style=\"fill: #1f77b4; stroke: #1f77b4\"/>\n     <use xlink:href=\"#mdcd292c49e\" x=\"147.045973\" y=\"90.114693\" style=\"fill: #1f77b4; stroke: #1f77b4\"/>\n     <use xlink:href=\"#mdcd292c49e\" x=\"140.903477\" y=\"90.415022\" style=\"fill: #1f77b4; stroke: #1f77b4\"/>\n     <use xlink:href=\"#mdcd292c49e\" x=\"164.545002\" y=\"98.908895\" style=\"fill: #1f77b4; stroke: #1f77b4\"/>\n     <use xlink:href=\"#mdcd292c49e\" x=\"155.649653\" y=\"78.231187\" style=\"fill: #1f77b4; stroke: #1f77b4\"/>\n     <use xlink:href=\"#mdcd292c49e\" x=\"112.366492\" y=\"69.134557\" style=\"fill: #1f77b4; stroke: #1f77b4\"/>\n     <use xlink:href=\"#mdcd292c49e\" x=\"125.415227\" y=\"70.612229\" style=\"fill: #1f77b4; stroke: #1f77b4\"/>\n     <use xlink:href=\"#mdcd292c49e\" x=\"122.498894\" y=\"68.071045\" style=\"fill: #1f77b4; stroke: #1f77b4\"/>\n     <use xlink:href=\"#mdcd292c49e\" x=\"68.816774\" y=\"39.927064\" style=\"fill: #1f77b4; stroke: #1f77b4\"/>\n     <use xlink:href=\"#mdcd292c49e\" x=\"155.161681\" y=\"88.006711\" style=\"fill: #1f77b4; stroke: #1f77b4\"/>\n     <use xlink:href=\"#mdcd292c49e\" x=\"108.668341\" y=\"65.246233\" style=\"fill: #1f77b4; stroke: #1f77b4\"/>\n     <use xlink:href=\"#mdcd292c49e\" x=\"138.61123\" y=\"80.046496\" style=\"fill: #1f77b4; stroke: #1f77b4\"/>\n     <use xlink:href=\"#mdcd292c49e\" x=\"166.08058\" y=\"99.614555\" style=\"fill: #1f77b4; stroke: #1f77b4\"/>\n     <use xlink:href=\"#mdcd292c49e\" x=\"123.488461\" y=\"96.473688\" style=\"fill: #1f77b4; stroke: #1f77b4\"/>\n     <use xlink:href=\"#mdcd292c49e\" x=\"92.842209\" y=\"71.102628\" style=\"fill: #1f77b4; stroke: #1f77b4\"/>\n     <use xlink:href=\"#mdcd292c49e\" x=\"132.338661\" y=\"73.027103\" style=\"fill: #1f77b4; stroke: #1f77b4\"/>\n     <use xlink:href=\"#mdcd292c49e\" x=\"127.234982\" y=\"66.520794\" style=\"fill: #1f77b4; stroke: #1f77b4\"/>\n     <use xlink:href=\"#mdcd292c49e\" x=\"150.43916\" y=\"84.256375\" style=\"fill: #1f77b4; stroke: #1f77b4\"/>\n     <use xlink:href=\"#mdcd292c49e\" x=\"145.380233\" y=\"87.158987\" style=\"fill: #1f77b4; stroke: #1f77b4\"/>\n     <use xlink:href=\"#mdcd292c49e\" x=\"110.622867\" y=\"57.083129\" style=\"fill: #1f77b4; stroke: #1f77b4\"/>\n     <use xlink:href=\"#mdcd292c49e\" x=\"103.222675\" y=\"58.091047\" style=\"fill: #1f77b4; stroke: #1f77b4\"/>\n     <use xlink:href=\"#mdcd292c49e\" x=\"130.129402\" y=\"86.624506\" style=\"fill: #1f77b4; stroke: #1f77b4\"/>\n     <use xlink:href=\"#mdcd292c49e\" x=\"166.694044\" y=\"86.607435\" style=\"fill: #1f77b4; stroke: #1f77b4\"/>\n     <use xlink:href=\"#mdcd292c49e\" x=\"106.842054\" y=\"59.426793\" style=\"fill: #1f77b4; stroke: #1f77b4\"/>\n     <use xlink:href=\"#mdcd292c49e\" x=\"110.90525\" y=\"62.898815\" style=\"fill: #1f77b4; stroke: #1f77b4\"/>\n     <use xlink:href=\"#mdcd292c49e\" x=\"144.664834\" y=\"81.019702\" style=\"fill: #1f77b4; stroke: #1f77b4\"/>\n     <use xlink:href=\"#mdcd292c49e\" x=\"113.027952\" y=\"78.684738\" style=\"fill: #1f77b4; stroke: #1f77b4\"/>\n     <use xlink:href=\"#mdcd292c49e\" x=\"160.169735\" y=\"90.134812\" style=\"fill: #1f77b4; stroke: #1f77b4\"/>\n     <use xlink:href=\"#mdcd292c49e\" x=\"115.343435\" y=\"61.049615\" style=\"fill: #1f77b4; stroke: #1f77b4\"/>\n     <use xlink:href=\"#mdcd292c49e\" x=\"221.727415\" y=\"112.096602\" style=\"fill: #1f77b4; stroke: #1f77b4\"/>\n     <use xlink:href=\"#mdcd292c49e\" x=\"139.187307\" y=\"62.925088\" style=\"fill: #1f77b4; stroke: #1f77b4\"/>\n     <use xlink:href=\"#mdcd292c49e\" x=\"107.112199\" y=\"57.111355\" style=\"fill: #1f77b4; stroke: #1f77b4\"/>\n     <use xlink:href=\"#mdcd292c49e\" x=\"135.04546\" y=\"68.358761\" style=\"fill: #1f77b4; stroke: #1f77b4\"/>\n     <use xlink:href=\"#mdcd292c49e\" x=\"169.143972\" y=\"91.483658\" style=\"fill: #1f77b4; stroke: #1f77b4\"/>\n     <use xlink:href=\"#mdcd292c49e\" x=\"167.032268\" y=\"97.082313\" style=\"fill: #1f77b4; stroke: #1f77b4\"/>\n     <use xlink:href=\"#mdcd292c49e\" x=\"109.921328\" y=\"68.400043\" style=\"fill: #1f77b4; stroke: #1f77b4\"/>\n     <use xlink:href=\"#mdcd292c49e\" x=\"114.122889\" y=\"61.208724\" style=\"fill: #1f77b4; stroke: #1f77b4\"/>\n     <use xlink:href=\"#mdcd292c49e\" x=\"111.236225\" y=\"77.55397\" style=\"fill: #1f77b4; stroke: #1f77b4\"/>\n     <use xlink:href=\"#mdcd292c49e\" x=\"181.726189\" y=\"88.364944\" style=\"fill: #1f77b4; stroke: #1f77b4\"/>\n     <use xlink:href=\"#mdcd292c49e\" x=\"131.271563\" y=\"75.946841\" style=\"fill: #1f77b4; stroke: #1f77b4\"/>\n     <use xlink:href=\"#mdcd292c49e\" x=\"141.373133\" y=\"71.37881\" style=\"fill: #1f77b4; stroke: #1f77b4\"/>\n     <use xlink:href=\"#mdcd292c49e\" x=\"98.430309\" y=\"58.807468\" style=\"fill: #1f77b4; stroke: #1f77b4\"/>\n     <use xlink:href=\"#mdcd292c49e\" x=\"102.977014\" y=\"60.169706\" style=\"fill: #1f77b4; stroke: #1f77b4\"/>\n     <use xlink:href=\"#mdcd292c49e\" x=\"69.434914\" y=\"22.783604\" style=\"fill: #1f77b4; stroke: #1f77b4\"/>\n     <use xlink:href=\"#mdcd292c49e\" x=\"137.573526\" y=\"80.268693\" style=\"fill: #1f77b4; stroke: #1f77b4\"/>\n     <use xlink:href=\"#mdcd292c49e\" x=\"156.637023\" y=\"91.878311\" style=\"fill: #1f77b4; stroke: #1f77b4\"/>\n     <use xlink:href=\"#mdcd292c49e\" x=\"180.86037\" y=\"104.096319\" style=\"fill: #1f77b4; stroke: #1f77b4\"/>\n     <use xlink:href=\"#mdcd292c49e\" x=\"129.822423\" y=\"66.670893\" style=\"fill: #1f77b4; stroke: #1f77b4\"/>\n     <use xlink:href=\"#mdcd292c49e\" x=\"129.10026\" y=\"70.224875\" style=\"fill: #1f77b4; stroke: #1f77b4\"/>\n     <use xlink:href=\"#mdcd292c49e\" x=\"61.911321\" y=\"39.320253\" style=\"fill: #1f77b4; stroke: #1f77b4\"/>\n     <use xlink:href=\"#mdcd292c49e\" x=\"121.455674\" y=\"63.256504\" style=\"fill: #1f77b4; stroke: #1f77b4\"/>\n     <use xlink:href=\"#mdcd292c49e\" x=\"114.430391\" y=\"50.317654\" style=\"fill: #1f77b4; stroke: #1f77b4\"/>\n     <use xlink:href=\"#mdcd292c49e\" x=\"172.561338\" y=\"104.009131\" style=\"fill: #1f77b4; stroke: #1f77b4\"/>\n     <use xlink:href=\"#mdcd292c49e\" x=\"150.891568\" y=\"98.855932\" style=\"fill: #1f77b4; stroke: #1f77b4\"/>\n     <use xlink:href=\"#mdcd292c49e\" x=\"136.842031\" y=\"73.008221\" style=\"fill: #1f77b4; stroke: #1f77b4\"/>\n     <use xlink:href=\"#mdcd292c49e\" x=\"111.490249\" y=\"58.941556\" style=\"fill: #1f77b4; stroke: #1f77b4\"/>\n     <use xlink:href=\"#mdcd292c49e\" x=\"131.276632\" y=\"78.933947\" style=\"fill: #1f77b4; stroke: #1f77b4\"/>\n     <use xlink:href=\"#mdcd292c49e\" x=\"128.032345\" y=\"66.465446\" style=\"fill: #1f77b4; stroke: #1f77b4\"/>\n     <use xlink:href=\"#mdcd292c49e\" x=\"188.511847\" y=\"109.680941\" style=\"fill: #1f77b4; stroke: #1f77b4\"/>\n     <use xlink:href=\"#mdcd292c49e\" x=\"134.672963\" y=\"82.278551\" style=\"fill: #1f77b4; stroke: #1f77b4\"/>\n     <use xlink:href=\"#mdcd292c49e\" x=\"129.700752\" y=\"73.565044\" style=\"fill: #1f77b4; stroke: #1f77b4\"/>\n     <use xlink:href=\"#mdcd292c49e\" x=\"151.020676\" y=\"77.358538\" style=\"fill: #1f77b4; stroke: #1f77b4\"/>\n     <use xlink:href=\"#mdcd292c49e\" x=\"131.929834\" y=\"66.896257\" style=\"fill: #1f77b4; stroke: #1f77b4\"/>\n     <use xlink:href=\"#mdcd292c49e\" x=\"138.334542\" y=\"83.162301\" style=\"fill: #1f77b4; stroke: #1f77b4\"/>\n     <use xlink:href=\"#mdcd292c49e\" x=\"103.276708\" y=\"57.184866\" style=\"fill: #1f77b4; stroke: #1f77b4\"/>\n     <use xlink:href=\"#mdcd292c49e\" x=\"107.656853\" y=\"61.546502\" style=\"fill: #1f77b4; stroke: #1f77b4\"/>\n     <use xlink:href=\"#mdcd292c49e\" x=\"66.275973\" y=\"31.521881\" style=\"fill: #1f77b4; stroke: #1f77b4\"/>\n     <use xlink:href=\"#mdcd292c49e\" x=\"87.676104\" y=\"40.148143\" style=\"fill: #1f77b4; stroke: #1f77b4\"/>\n     <use xlink:href=\"#mdcd292c49e\" x=\"158.806734\" y=\"97.505123\" style=\"fill: #1f77b4; stroke: #1f77b4\"/>\n     <use xlink:href=\"#mdcd292c49e\" x=\"106.357717\" y=\"60.980608\" style=\"fill: #1f77b4; stroke: #1f77b4\"/>\n     <use xlink:href=\"#mdcd292c49e\" x=\"93.948302\" y=\"49.506187\" style=\"fill: #1f77b4; stroke: #1f77b4\"/>\n     <use xlink:href=\"#mdcd292c49e\" x=\"168.488052\" y=\"94.915252\" style=\"fill: #1f77b4; stroke: #1f77b4\"/>\n     <use xlink:href=\"#mdcd292c49e\" x=\"172.067791\" y=\"88.839075\" style=\"fill: #1f77b4; stroke: #1f77b4\"/>\n     <use xlink:href=\"#mdcd292c49e\" x=\"133.196404\" y=\"80.993582\" style=\"fill: #1f77b4; stroke: #1f77b4\"/>\n     <use xlink:href=\"#mdcd292c49e\" x=\"69.343599\" y=\"32.000897\" style=\"fill: #1f77b4; stroke: #1f77b4\"/>\n     <use xlink:href=\"#mdcd292c49e\" x=\"103.132804\" y=\"45.709762\" style=\"fill: #1f77b4; stroke: #1f77b4\"/>\n     <use xlink:href=\"#mdcd292c49e\" x=\"162.811873\" y=\"89.371595\" style=\"fill: #1f77b4; stroke: #1f77b4\"/>\n     <use xlink:href=\"#mdcd292c49e\" x=\"99.68504\" y=\"66.908839\" style=\"fill: #1f77b4; stroke: #1f77b4\"/>\n     <use xlink:href=\"#mdcd292c49e\" x=\"147.902084\" y=\"79.511177\" style=\"fill: #1f77b4; stroke: #1f77b4\"/>\n     <use xlink:href=\"#mdcd292c49e\" x=\"172.072583\" y=\"103.356542\" style=\"fill: #1f77b4; stroke: #1f77b4\"/>\n     <use xlink:href=\"#mdcd292c49e\" x=\"154.155198\" y=\"71.673318\" style=\"fill: #1f77b4; stroke: #1f77b4\"/>\n     <use xlink:href=\"#mdcd292c49e\" x=\"142.567441\" y=\"78.661727\" style=\"fill: #1f77b4; stroke: #1f77b4\"/>\n     <use xlink:href=\"#mdcd292c49e\" x=\"126.527972\" y=\"70.577574\" style=\"fill: #1f77b4; stroke: #1f77b4\"/>\n     <use xlink:href=\"#mdcd292c49e\" x=\"108.157601\" y=\"66.45012\" style=\"fill: #1f77b4; stroke: #1f77b4\"/>\n     <use xlink:href=\"#mdcd292c49e\" x=\"98.391406\" y=\"58.4751\" style=\"fill: #1f77b4; stroke: #1f77b4\"/>\n     <use xlink:href=\"#mdcd292c49e\" x=\"108.038655\" y=\"51.802474\" style=\"fill: #1f77b4; stroke: #1f77b4\"/>\n     <use xlink:href=\"#mdcd292c49e\" x=\"122.989565\" y=\"64.814321\" style=\"fill: #1f77b4; stroke: #1f77b4\"/>\n     <use xlink:href=\"#mdcd292c49e\" x=\"118.441771\" y=\"68.54408\" style=\"fill: #1f77b4; stroke: #1f77b4\"/>\n     <use xlink:href=\"#mdcd292c49e\" x=\"96.029203\" y=\"40.633467\" style=\"fill: #1f77b4; stroke: #1f77b4\"/>\n     <use xlink:href=\"#mdcd292c49e\" x=\"192.601105\" y=\"117.106907\" style=\"fill: #1f77b4; stroke: #1f77b4\"/>\n     <use xlink:href=\"#mdcd292c49e\" x=\"98.379037\" y=\"57.271571\" style=\"fill: #1f77b4; stroke: #1f77b4\"/>\n     <use xlink:href=\"#mdcd292c49e\" x=\"99.363439\" y=\"62.587534\" style=\"fill: #1f77b4; stroke: #1f77b4\"/>\n     <use xlink:href=\"#mdcd292c49e\" x=\"119.836185\" y=\"70.556393\" style=\"fill: #1f77b4; stroke: #1f77b4\"/>\n     <use xlink:href=\"#mdcd292c49e\" x=\"97.531549\" y=\"53.438439\" style=\"fill: #1f77b4; stroke: #1f77b4\"/>\n     <use xlink:href=\"#mdcd292c49e\" x=\"109.018498\" y=\"52.757856\" style=\"fill: #1f77b4; stroke: #1f77b4\"/>\n     <use xlink:href=\"#mdcd292c49e\" x=\"131.027578\" y=\"71.460934\" style=\"fill: #1f77b4; stroke: #1f77b4\"/>\n     <use xlink:href=\"#mdcd292c49e\" x=\"137.480328\" y=\"83.353608\" style=\"fill: #1f77b4; stroke: #1f77b4\"/>\n     <use xlink:href=\"#mdcd292c49e\" x=\"48.105101\" y=\"21.621388\" style=\"fill: #1f77b4; stroke: #1f77b4\"/>\n     <use xlink:href=\"#mdcd292c49e\" x=\"146.644374\" y=\"94.976328\" style=\"fill: #1f77b4; stroke: #1f77b4\"/>\n     <use xlink:href=\"#mdcd292c49e\" x=\"116.422011\" y=\"75.578049\" style=\"fill: #1f77b4; stroke: #1f77b4\"/>\n     <use xlink:href=\"#mdcd292c49e\" x=\"147.753923\" y=\"78.782053\" style=\"fill: #1f77b4; stroke: #1f77b4\"/>\n     <use xlink:href=\"#mdcd292c49e\" x=\"137.544234\" y=\"72.804607\" style=\"fill: #1f77b4; stroke: #1f77b4\"/>\n     <use xlink:href=\"#mdcd292c49e\" x=\"95.631135\" y=\"62.811519\" style=\"fill: #1f77b4; stroke: #1f77b4\"/>\n     <use xlink:href=\"#mdcd292c49e\" x=\"119.117434\" y=\"74.522223\" style=\"fill: #1f77b4; stroke: #1f77b4\"/>\n     <use xlink:href=\"#mdcd292c49e\" x=\"124.794261\" y=\"75.065305\" style=\"fill: #1f77b4; stroke: #1f77b4\"/>\n     <use xlink:href=\"#mdcd292c49e\" x=\"145.361061\" y=\"79.596848\" style=\"fill: #1f77b4; stroke: #1f77b4\"/>\n     <use xlink:href=\"#mdcd292c49e\" x=\"111.155164\" y=\"46.695116\" style=\"fill: #1f77b4; stroke: #1f77b4\"/>\n     <use xlink:href=\"#mdcd292c49e\" x=\"110.460708\" y=\"56.663295\" style=\"fill: #1f77b4; stroke: #1f77b4\"/>\n     <use xlink:href=\"#mdcd292c49e\" x=\"150.464657\" y=\"87.684779\" style=\"fill: #1f77b4; stroke: #1f77b4\"/>\n     <use xlink:href=\"#mdcd292c49e\" x=\"126.727145\" y=\"66.589627\" style=\"fill: #1f77b4; stroke: #1f77b4\"/>\n     <use xlink:href=\"#mdcd292c49e\" x=\"117.325229\" y=\"76.7464\" style=\"fill: #1f77b4; stroke: #1f77b4\"/>\n     <use xlink:href=\"#mdcd292c49e\" x=\"138.314493\" y=\"84.087426\" style=\"fill: #1f77b4; stroke: #1f77b4\"/>\n     <use xlink:href=\"#mdcd292c49e\" x=\"76.706803\" y=\"44.72556\" style=\"fill: #1f77b4; stroke: #1f77b4\"/>\n     <use xlink:href=\"#mdcd292c49e\" x=\"114.252753\" y=\"69.445888\" style=\"fill: #1f77b4; stroke: #1f77b4\"/>\n     <use xlink:href=\"#mdcd292c49e\" x=\"125.265551\" y=\"79.514158\" style=\"fill: #1f77b4; stroke: #1f77b4\"/>\n     <use xlink:href=\"#mdcd292c49e\" x=\"109.836949\" y=\"69.597486\" style=\"fill: #1f77b4; stroke: #1f77b4\"/>\n     <use xlink:href=\"#mdcd292c49e\" x=\"113.220586\" y=\"57.796929\" style=\"fill: #1f77b4; stroke: #1f77b4\"/>\n     <use xlink:href=\"#mdcd292c49e\" x=\"126.978531\" y=\"72.90188\" style=\"fill: #1f77b4; stroke: #1f77b4\"/>\n     <use xlink:href=\"#mdcd292c49e\" x=\"86.699179\" y=\"55.214843\" style=\"fill: #1f77b4; stroke: #1f77b4\"/>\n     <use xlink:href=\"#mdcd292c49e\" x=\"106.339523\" y=\"63.650443\" style=\"fill: #1f77b4; stroke: #1f77b4\"/>\n     <use xlink:href=\"#mdcd292c49e\" x=\"127.607674\" y=\"85.246516\" style=\"fill: #1f77b4; stroke: #1f77b4\"/>\n     <use xlink:href=\"#mdcd292c49e\" x=\"157.929744\" y=\"83.147353\" style=\"fill: #1f77b4; stroke: #1f77b4\"/>\n     <use xlink:href=\"#mdcd292c49e\" x=\"109.478937\" y=\"50.503411\" style=\"fill: #1f77b4; stroke: #1f77b4\"/>\n     <use xlink:href=\"#mdcd292c49e\" x=\"130.691097\" y=\"67.561133\" style=\"fill: #1f77b4; stroke: #1f77b4\"/>\n     <use xlink:href=\"#mdcd292c49e\" x=\"165.732036\" y=\"105.733634\" style=\"fill: #1f77b4; stroke: #1f77b4\"/>\n     <use xlink:href=\"#mdcd292c49e\" x=\"139.216207\" y=\"69.874228\" style=\"fill: #1f77b4; stroke: #1f77b4\"/>\n     <use xlink:href=\"#mdcd292c49e\" x=\"133.594486\" y=\"89.965206\" style=\"fill: #1f77b4; stroke: #1f77b4\"/>\n     <use xlink:href=\"#mdcd292c49e\" x=\"155.611521\" y=\"99.047115\" style=\"fill: #1f77b4; stroke: #1f77b4\"/>\n     <use xlink:href=\"#mdcd292c49e\" x=\"97.483889\" y=\"51.324483\" style=\"fill: #1f77b4; stroke: #1f77b4\"/>\n     <use xlink:href=\"#mdcd292c49e\" x=\"164.978783\" y=\"95.094291\" style=\"fill: #1f77b4; stroke: #1f77b4\"/>\n     <use xlink:href=\"#mdcd292c49e\" x=\"83.701649\" y=\"39.61751\" style=\"fill: #1f77b4; stroke: #1f77b4\"/>\n     <use xlink:href=\"#mdcd292c49e\" x=\"175.568794\" y=\"98.671595\" style=\"fill: #1f77b4; stroke: #1f77b4\"/>\n     <use xlink:href=\"#mdcd292c49e\" x=\"84.800867\" y=\"56.695299\" style=\"fill: #1f77b4; stroke: #1f77b4\"/>\n     <use xlink:href=\"#mdcd292c49e\" x=\"147.1503\" y=\"75.696455\" style=\"fill: #1f77b4; stroke: #1f77b4\"/>\n     <use xlink:href=\"#mdcd292c49e\" x=\"133.964823\" y=\"76.140287\" style=\"fill: #1f77b4; stroke: #1f77b4\"/>\n     <use xlink:href=\"#mdcd292c49e\" x=\"164.35667\" y=\"98.407977\" style=\"fill: #1f77b4; stroke: #1f77b4\"/>\n     <use xlink:href=\"#mdcd292c49e\" x=\"138.15746\" y=\"82.786502\" style=\"fill: #1f77b4; stroke: #1f77b4\"/>\n     <use xlink:href=\"#mdcd292c49e\" x=\"102.797938\" y=\"48.469032\" style=\"fill: #1f77b4; stroke: #1f77b4\"/>\n     <use xlink:href=\"#mdcd292c49e\" x=\"136.000616\" y=\"81.03633\" style=\"fill: #1f77b4; stroke: #1f77b4\"/>\n     <use xlink:href=\"#mdcd292c49e\" x=\"158.173244\" y=\"97.25595\" style=\"fill: #1f77b4; stroke: #1f77b4\"/>\n     <use xlink:href=\"#mdcd292c49e\" x=\"126.847748\" y=\"77.345164\" style=\"fill: #1f77b4; stroke: #1f77b4\"/>\n     <use xlink:href=\"#mdcd292c49e\" x=\"172.676292\" y=\"109.948825\" style=\"fill: #1f77b4; stroke: #1f77b4\"/>\n     <use xlink:href=\"#mdcd292c49e\" x=\"109.480511\" y=\"53.584293\" style=\"fill: #1f77b4; stroke: #1f77b4\"/>\n     <use xlink:href=\"#mdcd292c49e\" x=\"78.067863\" y=\"54.284179\" style=\"fill: #1f77b4; stroke: #1f77b4\"/>\n     <use xlink:href=\"#mdcd292c49e\" x=\"122.969443\" y=\"72.02144\" style=\"fill: #1f77b4; stroke: #1f77b4\"/>\n     <use xlink:href=\"#mdcd292c49e\" x=\"108.660915\" y=\"68.299898\" style=\"fill: #1f77b4; stroke: #1f77b4\"/>\n     <use xlink:href=\"#mdcd292c49e\" x=\"155.7086\" y=\"81.199692\" style=\"fill: #1f77b4; stroke: #1f77b4\"/>\n     <use xlink:href=\"#mdcd292c49e\" x=\"215.009723\" y=\"133.877051\" style=\"fill: #1f77b4; stroke: #1f77b4\"/>\n     <use xlink:href=\"#mdcd292c49e\" x=\"135.821945\" y=\"77.803198\" style=\"fill: #1f77b4; stroke: #1f77b4\"/>\n     <use xlink:href=\"#mdcd292c49e\" x=\"97.697712\" y=\"45.444377\" style=\"fill: #1f77b4; stroke: #1f77b4\"/>\n     <use xlink:href=\"#mdcd292c49e\" x=\"148.709537\" y=\"81.912447\" style=\"fill: #1f77b4; stroke: #1f77b4\"/>\n     <use xlink:href=\"#mdcd292c49e\" x=\"127.202449\" y=\"80.588074\" style=\"fill: #1f77b4; stroke: #1f77b4\"/>\n     <use xlink:href=\"#mdcd292c49e\" x=\"106.501855\" y=\"68.581375\" style=\"fill: #1f77b4; stroke: #1f77b4\"/>\n     <use xlink:href=\"#mdcd292c49e\" x=\"169.255974\" y=\"88.480022\" style=\"fill: #1f77b4; stroke: #1f77b4\"/>\n     <use xlink:href=\"#mdcd292c49e\" x=\"127.380143\" y=\"76.747415\" style=\"fill: #1f77b4; stroke: #1f77b4\"/>\n     <use xlink:href=\"#mdcd292c49e\" x=\"133.247081\" y=\"99.782428\" style=\"fill: #1f77b4; stroke: #1f77b4\"/>\n     <use xlink:href=\"#mdcd292c49e\" x=\"144.931364\" y=\"75.259402\" style=\"fill: #1f77b4; stroke: #1f77b4\"/>\n     <use xlink:href=\"#mdcd292c49e\" x=\"119.301924\" y=\"61.771138\" style=\"fill: #1f77b4; stroke: #1f77b4\"/>\n     <use xlink:href=\"#mdcd292c49e\" x=\"154.840181\" y=\"71.75017\" style=\"fill: #1f77b4; stroke: #1f77b4\"/>\n     <use xlink:href=\"#mdcd292c49e\" x=\"96.176838\" y=\"56.054425\" style=\"fill: #1f77b4; stroke: #1f77b4\"/>\n     <use xlink:href=\"#mdcd292c49e\" x=\"131.030595\" y=\"70.171668\" style=\"fill: #1f77b4; stroke: #1f77b4\"/>\n     <use xlink:href=\"#mdcd292c49e\" x=\"77.037933\" y=\"52.554175\" style=\"fill: #1f77b4; stroke: #1f77b4\"/>\n     <use xlink:href=\"#mdcd292c49e\" x=\"130.402183\" y=\"76.744551\" style=\"fill: #1f77b4; stroke: #1f77b4\"/>\n     <use xlink:href=\"#mdcd292c49e\" x=\"156.047413\" y=\"92.172492\" style=\"fill: #1f77b4; stroke: #1f77b4\"/>\n     <use xlink:href=\"#mdcd292c49e\" x=\"151.07316\" y=\"83.263904\" style=\"fill: #1f77b4; stroke: #1f77b4\"/>\n     <use xlink:href=\"#mdcd292c49e\" x=\"76.653196\" y=\"37.456726\" style=\"fill: #1f77b4; stroke: #1f77b4\"/>\n     <use xlink:href=\"#mdcd292c49e\" x=\"127.824027\" y=\"74.01083\" style=\"fill: #1f77b4; stroke: #1f77b4\"/>\n     <use xlink:href=\"#mdcd292c49e\" x=\"186.518216\" y=\"105.408509\" style=\"fill: #1f77b4; stroke: #1f77b4\"/>\n     <use xlink:href=\"#mdcd292c49e\" x=\"122.702632\" y=\"65.046841\" style=\"fill: #1f77b4; stroke: #1f77b4\"/>\n     <use xlink:href=\"#mdcd292c49e\" x=\"103.271514\" y=\"63.869181\" style=\"fill: #1f77b4; stroke: #1f77b4\"/>\n     <use xlink:href=\"#mdcd292c49e\" x=\"98.011434\" y=\"60.57445\" style=\"fill: #1f77b4; stroke: #1f77b4\"/>\n     <use xlink:href=\"#mdcd292c49e\" x=\"162.977636\" y=\"100.502938\" style=\"fill: #1f77b4; stroke: #1f77b4\"/>\n     <use xlink:href=\"#mdcd292c49e\" x=\"155.506487\" y=\"94.878488\" style=\"fill: #1f77b4; stroke: #1f77b4\"/>\n     <use xlink:href=\"#mdcd292c49e\" x=\"90.549694\" y=\"51.197625\" style=\"fill: #1f77b4; stroke: #1f77b4\"/>\n     <use xlink:href=\"#mdcd292c49e\" x=\"114.8417\" y=\"83.296849\" style=\"fill: #1f77b4; stroke: #1f77b4\"/>\n     <use xlink:href=\"#mdcd292c49e\" x=\"128.751601\" y=\"65.388881\" style=\"fill: #1f77b4; stroke: #1f77b4\"/>\n     <use xlink:href=\"#mdcd292c49e\" x=\"122.104928\" y=\"70.800741\" style=\"fill: #1f77b4; stroke: #1f77b4\"/>\n     <use xlink:href=\"#mdcd292c49e\" x=\"129.061458\" y=\"74.831079\" style=\"fill: #1f77b4; stroke: #1f77b4\"/>\n     <use xlink:href=\"#mdcd292c49e\" x=\"122.703457\" y=\"77.711003\" style=\"fill: #1f77b4; stroke: #1f77b4\"/>\n     <use xlink:href=\"#mdcd292c49e\" x=\"123.807667\" y=\"61.471104\" style=\"fill: #1f77b4; stroke: #1f77b4\"/>\n     <use xlink:href=\"#mdcd292c49e\" x=\"132.58863\" y=\"74.407697\" style=\"fill: #1f77b4; stroke: #1f77b4\"/>\n     <use xlink:href=\"#mdcd292c49e\" x=\"125.971419\" y=\"53.548112\" style=\"fill: #1f77b4; stroke: #1f77b4\"/>\n     <use xlink:href=\"#mdcd292c49e\" x=\"111.982667\" y=\"73.178152\" style=\"fill: #1f77b4; stroke: #1f77b4\"/>\n     <use xlink:href=\"#mdcd292c49e\" x=\"153.394958\" y=\"83.851404\" style=\"fill: #1f77b4; stroke: #1f77b4\"/>\n     <use xlink:href=\"#mdcd292c49e\" x=\"85.063982\" y=\"42.150616\" style=\"fill: #1f77b4; stroke: #1f77b4\"/>\n     <use xlink:href=\"#mdcd292c49e\" x=\"123.577525\" y=\"72.124271\" style=\"fill: #1f77b4; stroke: #1f77b4\"/>\n     <use xlink:href=\"#mdcd292c49e\" x=\"120.280787\" y=\"65.928337\" style=\"fill: #1f77b4; stroke: #1f77b4\"/>\n     <use xlink:href=\"#mdcd292c49e\" x=\"94.528815\" y=\"45.584642\" style=\"fill: #1f77b4; stroke: #1f77b4\"/>\n     <use xlink:href=\"#mdcd292c49e\" x=\"130.918587\" y=\"64.504562\" style=\"fill: #1f77b4; stroke: #1f77b4\"/>\n     <use xlink:href=\"#mdcd292c49e\" x=\"90.997524\" y=\"55.2915\" style=\"fill: #1f77b4; stroke: #1f77b4\"/>\n     <use xlink:href=\"#mdcd292c49e\" x=\"105.112101\" y=\"57.888642\" style=\"fill: #1f77b4; stroke: #1f77b4\"/>\n     <use xlink:href=\"#mdcd292c49e\" x=\"132.962112\" y=\"59.904708\" style=\"fill: #1f77b4; stroke: #1f77b4\"/>\n     <use xlink:href=\"#mdcd292c49e\" x=\"107.735137\" y=\"75.891178\" style=\"fill: #1f77b4; stroke: #1f77b4\"/>\n     <use xlink:href=\"#mdcd292c49e\" x=\"101.82625\" y=\"68.870825\" style=\"fill: #1f77b4; stroke: #1f77b4\"/>\n     <use xlink:href=\"#mdcd292c49e\" x=\"161.64657\" y=\"109.783168\" style=\"fill: #1f77b4; stroke: #1f77b4\"/>\n     <use xlink:href=\"#mdcd292c49e\" x=\"105.210315\" y=\"58.76122\" style=\"fill: #1f77b4; stroke: #1f77b4\"/>\n     <use xlink:href=\"#mdcd292c49e\" x=\"162.949877\" y=\"85.17817\" style=\"fill: #1f77b4; stroke: #1f77b4\"/>\n     <use xlink:href=\"#mdcd292c49e\" x=\"155.684837\" y=\"76.054679\" style=\"fill: #1f77b4; stroke: #1f77b4\"/>\n     <use xlink:href=\"#mdcd292c49e\" x=\"123.187226\" y=\"72.282185\" style=\"fill: #1f77b4; stroke: #1f77b4\"/>\n     <use xlink:href=\"#mdcd292c49e\" x=\"112.188145\" y=\"66.533692\" style=\"fill: #1f77b4; stroke: #1f77b4\"/>\n     <use xlink:href=\"#mdcd292c49e\" x=\"107.259886\" y=\"57.846232\" style=\"fill: #1f77b4; stroke: #1f77b4\"/>\n     <use xlink:href=\"#mdcd292c49e\" x=\"134.662975\" y=\"90.24551\" style=\"fill: #1f77b4; stroke: #1f77b4\"/>\n     <use xlink:href=\"#mdcd292c49e\" x=\"83.640403\" y=\"55.141998\" style=\"fill: #1f77b4; stroke: #1f77b4\"/>\n     <use xlink:href=\"#mdcd292c49e\" x=\"137.381786\" y=\"94.843291\" style=\"fill: #1f77b4; stroke: #1f77b4\"/>\n     <use xlink:href=\"#mdcd292c49e\" x=\"131.020391\" y=\"82.600952\" style=\"fill: #1f77b4; stroke: #1f77b4\"/>\n     <use xlink:href=\"#mdcd292c49e\" x=\"129.295325\" y=\"79.207451\" style=\"fill: #1f77b4; stroke: #1f77b4\"/>\n     <use xlink:href=\"#mdcd292c49e\" x=\"174.953297\" y=\"107.850954\" style=\"fill: #1f77b4; stroke: #1f77b4\"/>\n     <use xlink:href=\"#mdcd292c49e\" x=\"90.638597\" y=\"37.447092\" style=\"fill: #1f77b4; stroke: #1f77b4\"/>\n     <use xlink:href=\"#mdcd292c49e\" x=\"133.52627\" y=\"88.482637\" style=\"fill: #1f77b4; stroke: #1f77b4\"/>\n     <use xlink:href=\"#mdcd292c49e\" x=\"123.700419\" y=\"82.668595\" style=\"fill: #1f77b4; stroke: #1f77b4\"/>\n     <use xlink:href=\"#mdcd292c49e\" x=\"129.081239\" y=\"77.484532\" style=\"fill: #1f77b4; stroke: #1f77b4\"/>\n     <use xlink:href=\"#mdcd292c49e\" x=\"133.112123\" y=\"78.686249\" style=\"fill: #1f77b4; stroke: #1f77b4\"/>\n     <use xlink:href=\"#mdcd292c49e\" x=\"78.102479\" y=\"53.854211\" style=\"fill: #1f77b4; stroke: #1f77b4\"/>\n     <use xlink:href=\"#mdcd292c49e\" x=\"80.193277\" y=\"43.348706\" style=\"fill: #1f77b4; stroke: #1f77b4\"/>\n     <use xlink:href=\"#mdcd292c49e\" x=\"109.80256\" y=\"70.47072\" style=\"fill: #1f77b4; stroke: #1f77b4\"/>\n     <use xlink:href=\"#mdcd292c49e\" x=\"91.33169\" y=\"58.895909\" style=\"fill: #1f77b4; stroke: #1f77b4\"/>\n     <use xlink:href=\"#mdcd292c49e\" x=\"146.375462\" y=\"95.003046\" style=\"fill: #1f77b4; stroke: #1f77b4\"/>\n     <use xlink:href=\"#mdcd292c49e\" x=\"109.73998\" y=\"75.34244\" style=\"fill: #1f77b4; stroke: #1f77b4\"/>\n     <use xlink:href=\"#mdcd292c49e\" x=\"135.726288\" y=\"88.288846\" style=\"fill: #1f77b4; stroke: #1f77b4\"/>\n     <use xlink:href=\"#mdcd292c49e\" x=\"54.623041\" y=\"27.095914\" style=\"fill: #1f77b4; stroke: #1f77b4\"/>\n     <use xlink:href=\"#mdcd292c49e\" x=\"118.296354\" y=\"64.650325\" style=\"fill: #1f77b4; stroke: #1f77b4\"/>\n     <use xlink:href=\"#mdcd292c49e\" x=\"113.900952\" y=\"66.683919\" style=\"fill: #1f77b4; stroke: #1f77b4\"/>\n     <use xlink:href=\"#mdcd292c49e\" x=\"157.504436\" y=\"91.770998\" style=\"fill: #1f77b4; stroke: #1f77b4\"/>\n     <use xlink:href=\"#mdcd292c49e\" x=\"153.151609\" y=\"86.647606\" style=\"fill: #1f77b4; stroke: #1f77b4\"/>\n     <use xlink:href=\"#mdcd292c49e\" x=\"152.466987\" y=\"82.390183\" style=\"fill: #1f77b4; stroke: #1f77b4\"/>\n     <use xlink:href=\"#mdcd292c49e\" x=\"83.770994\" y=\"35.104239\" style=\"fill: #1f77b4; stroke: #1f77b4\"/>\n     <use xlink:href=\"#mdcd292c49e\" x=\"131.682603\" y=\"74.079448\" style=\"fill: #1f77b4; stroke: #1f77b4\"/>\n     <use xlink:href=\"#mdcd292c49e\" x=\"85.581173\" y=\"41.567603\" style=\"fill: #1f77b4; stroke: #1f77b4\"/>\n     <use xlink:href=\"#mdcd292c49e\" x=\"149.701159\" y=\"77.221341\" style=\"fill: #1f77b4; stroke: #1f77b4\"/>\n     <use xlink:href=\"#mdcd292c49e\" x=\"131.132367\" y=\"71.050021\" style=\"fill: #1f77b4; stroke: #1f77b4\"/>\n     <use xlink:href=\"#mdcd292c49e\" x=\"131.624029\" y=\"89.026013\" style=\"fill: #1f77b4; stroke: #1f77b4\"/>\n     <use xlink:href=\"#mdcd292c49e\" x=\"118.689872\" y=\"58.886099\" style=\"fill: #1f77b4; stroke: #1f77b4\"/>\n     <use xlink:href=\"#mdcd292c49e\" x=\"62.439758\" y=\"31.795606\" style=\"fill: #1f77b4; stroke: #1f77b4\"/>\n     <use xlink:href=\"#mdcd292c49e\" x=\"133.814376\" y=\"78.919794\" style=\"fill: #1f77b4; stroke: #1f77b4\"/>\n     <use xlink:href=\"#mdcd292c49e\" x=\"154.012574\" y=\"88.650786\" style=\"fill: #1f77b4; stroke: #1f77b4\"/>\n     <use xlink:href=\"#mdcd292c49e\" x=\"99.375333\" y=\"54.573413\" style=\"fill: #1f77b4; stroke: #1f77b4\"/>\n     <use xlink:href=\"#mdcd292c49e\" x=\"123.394766\" y=\"84.53851\" style=\"fill: #1f77b4; stroke: #1f77b4\"/>\n     <use xlink:href=\"#mdcd292c49e\" x=\"129.19657\" y=\"73.308521\" style=\"fill: #1f77b4; stroke: #1f77b4\"/>\n     <use xlink:href=\"#mdcd292c49e\" x=\"133.674828\" y=\"73.92809\" style=\"fill: #1f77b4; stroke: #1f77b4\"/>\n     <use xlink:href=\"#mdcd292c49e\" x=\"95.3485\" y=\"56.971521\" style=\"fill: #1f77b4; stroke: #1f77b4\"/>\n     <use xlink:href=\"#mdcd292c49e\" x=\"88.535369\" y=\"50.021483\" style=\"fill: #1f77b4; stroke: #1f77b4\"/>\n     <use xlink:href=\"#mdcd292c49e\" x=\"110.274069\" y=\"72.780103\" style=\"fill: #1f77b4; stroke: #1f77b4\"/>\n     <use xlink:href=\"#mdcd292c49e\" x=\"189.540912\" y=\"108.711016\" style=\"fill: #1f77b4; stroke: #1f77b4\"/>\n     <use xlink:href=\"#mdcd292c49e\" x=\"157.126854\" y=\"94.733495\" style=\"fill: #1f77b4; stroke: #1f77b4\"/>\n     <use xlink:href=\"#mdcd292c49e\" x=\"117.598651\" y=\"63.98712\" style=\"fill: #1f77b4; stroke: #1f77b4\"/>\n     <use xlink:href=\"#mdcd292c49e\" x=\"130.33271\" y=\"73.219347\" style=\"fill: #1f77b4; stroke: #1f77b4\"/>\n     <use xlink:href=\"#mdcd292c49e\" x=\"119.304389\" y=\"68.474221\" style=\"fill: #1f77b4; stroke: #1f77b4\"/>\n     <use xlink:href=\"#mdcd292c49e\" x=\"98.707572\" y=\"61.168698\" style=\"fill: #1f77b4; stroke: #1f77b4\"/>\n     <use xlink:href=\"#mdcd292c49e\" x=\"132.379234\" y=\"80.274108\" style=\"fill: #1f77b4; stroke: #1f77b4\"/>\n     <use xlink:href=\"#mdcd292c49e\" x=\"102.857243\" y=\"74.615642\" style=\"fill: #1f77b4; stroke: #1f77b4\"/>\n     <use xlink:href=\"#mdcd292c49e\" x=\"116.403849\" y=\"70.123258\" style=\"fill: #1f77b4; stroke: #1f77b4\"/>\n     <use xlink:href=\"#mdcd292c49e\" x=\"112.966159\" y=\"68.540039\" style=\"fill: #1f77b4; stroke: #1f77b4\"/>\n     <use xlink:href=\"#mdcd292c49e\" x=\"103.209374\" y=\"59.754661\" style=\"fill: #1f77b4; stroke: #1f77b4\"/>\n     <use xlink:href=\"#mdcd292c49e\" x=\"170.246091\" y=\"90.463192\" style=\"fill: #1f77b4; stroke: #1f77b4\"/>\n     <use xlink:href=\"#mdcd292c49e\" x=\"87.851271\" y=\"56.867219\" style=\"fill: #1f77b4; stroke: #1f77b4\"/>\n     <use xlink:href=\"#mdcd292c49e\" x=\"150.156484\" y=\"92.09566\" style=\"fill: #1f77b4; stroke: #1f77b4\"/>\n     <use xlink:href=\"#mdcd292c49e\" x=\"126.096381\" y=\"63.450041\" style=\"fill: #1f77b4; stroke: #1f77b4\"/>\n     <use xlink:href=\"#mdcd292c49e\" x=\"176.721027\" y=\"86.042072\" style=\"fill: #1f77b4; stroke: #1f77b4\"/>\n     <use xlink:href=\"#mdcd292c49e\" x=\"106.970937\" y=\"57.35894\" style=\"fill: #1f77b4; stroke: #1f77b4\"/>\n     <use xlink:href=\"#mdcd292c49e\" x=\"104.612222\" y=\"60.886714\" style=\"fill: #1f77b4; stroke: #1f77b4\"/>\n     <use xlink:href=\"#mdcd292c49e\" x=\"109.323974\" y=\"59.349077\" style=\"fill: #1f77b4; stroke: #1f77b4\"/>\n     <use xlink:href=\"#mdcd292c49e\" x=\"161.723839\" y=\"92.20569\" style=\"fill: #1f77b4; stroke: #1f77b4\"/>\n     <use xlink:href=\"#mdcd292c49e\" x=\"87.102947\" y=\"50.879773\" style=\"fill: #1f77b4; stroke: #1f77b4\"/>\n     <use xlink:href=\"#mdcd292c49e\" x=\"107.883482\" y=\"61.120725\" style=\"fill: #1f77b4; stroke: #1f77b4\"/>\n     <use xlink:href=\"#mdcd292c49e\" x=\"103.036035\" y=\"53.665346\" style=\"fill: #1f77b4; stroke: #1f77b4\"/>\n     <use xlink:href=\"#mdcd292c49e\" x=\"114.462077\" y=\"67.575371\" style=\"fill: #1f77b4; stroke: #1f77b4\"/>\n     <use xlink:href=\"#mdcd292c49e\" x=\"108.461627\" y=\"69.556042\" style=\"fill: #1f77b4; stroke: #1f77b4\"/>\n     <use xlink:href=\"#mdcd292c49e\" x=\"151.184259\" y=\"71.634164\" style=\"fill: #1f77b4; stroke: #1f77b4\"/>\n     <use xlink:href=\"#mdcd292c49e\" x=\"79.280232\" y=\"43.089994\" style=\"fill: #1f77b4; stroke: #1f77b4\"/>\n     <use xlink:href=\"#mdcd292c49e\" x=\"147.408009\" y=\"67.795439\" style=\"fill: #1f77b4; stroke: #1f77b4\"/>\n     <use xlink:href=\"#mdcd292c49e\" x=\"110.960306\" y=\"61.162695\" style=\"fill: #1f77b4; stroke: #1f77b4\"/>\n     <use xlink:href=\"#mdcd292c49e\" x=\"132.252693\" y=\"70.652701\" style=\"fill: #1f77b4; stroke: #1f77b4\"/>\n     <use xlink:href=\"#mdcd292c49e\" x=\"145.992829\" y=\"85.887823\" style=\"fill: #1f77b4; stroke: #1f77b4\"/>\n     <use xlink:href=\"#mdcd292c49e\" x=\"98.544429\" y=\"58.771963\" style=\"fill: #1f77b4; stroke: #1f77b4\"/>\n     <use xlink:href=\"#mdcd292c49e\" x=\"136.161222\" y=\"89.873467\" style=\"fill: #1f77b4; stroke: #1f77b4\"/>\n    </g>\n   </g>\n   <g id=\"matplotlib.axis_1\">\n    <g id=\"xtick_1\">\n     <g id=\"line2d_1\">\n      <defs>\n       <path id=\"m7f319cdcfe\" d=\"M 0 0 \nL 0 3.5 \n\" style=\"stroke: #000000; stroke-width: 0.8\"/>\n      </defs>\n      <g>\n       <use xlink:href=\"#m7f319cdcfe\" x=\"70.143936\" y=\"145.8\" style=\"stroke: #000000; stroke-width: 0.8\"/>\n      </g>\n     </g>\n     <g id=\"text_1\">\n      <!-- −2 -->\n      <g transform=\"translate(62.772842 160.398438) scale(0.1 -0.1)\">\n       <defs>\n        <path id=\"DejaVuSans-2212\" d=\"M 678 2272 \nL 4684 2272 \nL 4684 1741 \nL 678 1741 \nL 678 2272 \nz\n\" transform=\"scale(0.015625)\"/>\n        <path id=\"DejaVuSans-32\" d=\"M 1228 531 \nL 3431 531 \nL 3431 0 \nL 469 0 \nL 469 531 \nQ 828 903 1448 1529 \nQ 2069 2156 2228 2338 \nQ 2531 2678 2651 2914 \nQ 2772 3150 2772 3378 \nQ 2772 3750 2511 3984 \nQ 2250 4219 1831 4219 \nQ 1534 4219 1204 4116 \nQ 875 4013 500 3803 \nL 500 4441 \nQ 881 4594 1212 4672 \nQ 1544 4750 1819 4750 \nQ 2544 4750 2975 4387 \nQ 3406 4025 3406 3419 \nQ 3406 3131 3298 2873 \nQ 3191 2616 2906 2266 \nQ 2828 2175 2409 1742 \nQ 1991 1309 1228 531 \nz\n\" transform=\"scale(0.015625)\"/>\n       </defs>\n       <use xlink:href=\"#DejaVuSans-2212\"/>\n       <use xlink:href=\"#DejaVuSans-32\" transform=\"translate(83.789062 0)\"/>\n      </g>\n     </g>\n    </g>\n    <g id=\"xtick_2\">\n     <g id=\"line2d_2\">\n      <g>\n       <use xlink:href=\"#m7f319cdcfe\" x=\"122.754319\" y=\"145.8\" style=\"stroke: #000000; stroke-width: 0.8\"/>\n      </g>\n     </g>\n     <g id=\"text_2\">\n      <!-- 0 -->\n      <g transform=\"translate(119.573069 160.398438) scale(0.1 -0.1)\">\n       <defs>\n        <path id=\"DejaVuSans-30\" d=\"M 2034 4250 \nQ 1547 4250 1301 3770 \nQ 1056 3291 1056 2328 \nQ 1056 1369 1301 889 \nQ 1547 409 2034 409 \nQ 2525 409 2770 889 \nQ 3016 1369 3016 2328 \nQ 3016 3291 2770 3770 \nQ 2525 4250 2034 4250 \nz\nM 2034 4750 \nQ 2819 4750 3233 4129 \nQ 3647 3509 3647 2328 \nQ 3647 1150 3233 529 \nQ 2819 -91 2034 -91 \nQ 1250 -91 836 529 \nQ 422 1150 422 2328 \nQ 422 3509 836 4129 \nQ 1250 4750 2034 4750 \nz\n\" transform=\"scale(0.015625)\"/>\n       </defs>\n       <use xlink:href=\"#DejaVuSans-30\"/>\n      </g>\n     </g>\n    </g>\n    <g id=\"xtick_3\">\n     <g id=\"line2d_3\">\n      <g>\n       <use xlink:href=\"#m7f319cdcfe\" x=\"175.364702\" y=\"145.8\" style=\"stroke: #000000; stroke-width: 0.8\"/>\n      </g>\n     </g>\n     <g id=\"text_3\">\n      <!-- 2 -->\n      <g transform=\"translate(172.183452 160.398438) scale(0.1 -0.1)\">\n       <use xlink:href=\"#DejaVuSans-32\"/>\n      </g>\n     </g>\n    </g>\n    <g id=\"xtick_4\">\n     <g id=\"line2d_4\">\n      <g>\n       <use xlink:href=\"#m7f319cdcfe\" x=\"227.975085\" y=\"145.8\" style=\"stroke: #000000; stroke-width: 0.8\"/>\n      </g>\n     </g>\n     <g id=\"text_4\">\n      <!-- 4 -->\n      <g transform=\"translate(224.793835 160.398438) scale(0.1 -0.1)\">\n       <defs>\n        <path id=\"DejaVuSans-34\" d=\"M 2419 4116 \nL 825 1625 \nL 2419 1625 \nL 2419 4116 \nz\nM 2253 4666 \nL 3047 4666 \nL 3047 1625 \nL 3713 1625 \nL 3713 1100 \nL 3047 1100 \nL 3047 0 \nL 2419 0 \nL 2419 1100 \nL 313 1100 \nL 313 1709 \nL 2253 4666 \nz\n\" transform=\"scale(0.015625)\"/>\n       </defs>\n       <use xlink:href=\"#DejaVuSans-34\"/>\n      </g>\n     </g>\n    </g>\n   </g>\n   <g id=\"matplotlib.axis_2\">\n    <g id=\"ytick_1\">\n     <g id=\"line2d_5\">\n      <defs>\n       <path id=\"mabe29cde47\" d=\"M 0 0 \nL -3.5 0 \n\" style=\"stroke: #000000; stroke-width: 0.8\"/>\n      </defs>\n      <g>\n       <use xlink:href=\"#mabe29cde47\" x=\"35.304688\" y=\"131.381602\" style=\"stroke: #000000; stroke-width: 0.8\"/>\n      </g>\n     </g>\n     <g id=\"text_5\">\n      <!-- −10 -->\n      <g transform=\"translate(7.2 135.180821) scale(0.1 -0.1)\">\n       <defs>\n        <path id=\"DejaVuSans-31\" d=\"M 794 531 \nL 1825 531 \nL 1825 4091 \nL 703 3866 \nL 703 4441 \nL 1819 4666 \nL 2450 4666 \nL 2450 531 \nL 3481 531 \nL 3481 0 \nL 794 0 \nL 794 531 \nz\n\" transform=\"scale(0.015625)\"/>\n       </defs>\n       <use xlink:href=\"#DejaVuSans-2212\"/>\n       <use xlink:href=\"#DejaVuSans-31\" transform=\"translate(83.789062 0)\"/>\n       <use xlink:href=\"#DejaVuSans-30\" transform=\"translate(147.412109 0)\"/>\n      </g>\n     </g>\n    </g>\n    <g id=\"ytick_2\">\n     <g id=\"line2d_6\">\n      <g>\n       <use xlink:href=\"#mabe29cde47\" x=\"35.304688\" y=\"87.89412\" style=\"stroke: #000000; stroke-width: 0.8\"/>\n      </g>\n     </g>\n     <g id=\"text_6\">\n      <!-- 0 -->\n      <g transform=\"translate(21.942187 91.693339) scale(0.1 -0.1)\">\n       <use xlink:href=\"#DejaVuSans-30\"/>\n      </g>\n     </g>\n    </g>\n    <g id=\"ytick_3\">\n     <g id=\"line2d_7\">\n      <g>\n       <use xlink:href=\"#mabe29cde47\" x=\"35.304688\" y=\"44.406638\" style=\"stroke: #000000; stroke-width: 0.8\"/>\n      </g>\n     </g>\n     <g id=\"text_7\">\n      <!-- 10 -->\n      <g transform=\"translate(15.579687 48.205857) scale(0.1 -0.1)\">\n       <use xlink:href=\"#DejaVuSans-31\"/>\n       <use xlink:href=\"#DejaVuSans-30\" transform=\"translate(63.623047 0)\"/>\n      </g>\n     </g>\n    </g>\n   </g>\n   <g id=\"patch_3\">\n    <path d=\"M 35.304688 145.8 \nL 35.304688 7.2 \n\" style=\"fill: none; stroke: #000000; stroke-width: 0.8; stroke-linejoin: miter; stroke-linecap: square\"/>\n   </g>\n   <g id=\"patch_4\">\n    <path d=\"M 230.604688 145.8 \nL 230.604688 7.2 \n\" style=\"fill: none; stroke: #000000; stroke-width: 0.8; stroke-linejoin: miter; stroke-linecap: square\"/>\n   </g>\n   <g id=\"patch_5\">\n    <path d=\"M 35.304688 145.8 \nL 230.604688 145.8 \n\" style=\"fill: none; stroke: #000000; stroke-width: 0.8; stroke-linejoin: miter; stroke-linecap: square\"/>\n   </g>\n   <g id=\"patch_6\">\n    <path d=\"M 35.304688 7.2 \nL 230.604688 7.2 \n\" style=\"fill: none; stroke: #000000; stroke-width: 0.8; stroke-linejoin: miter; stroke-linecap: square\"/>\n   </g>\n  </g>\n </g>\n <defs>\n  <clipPath id=\"pccf1d9fa98\">\n   <rect x=\"35.304688\" y=\"7.2\" width=\"195.3\" height=\"138.6\"/>\n  </clipPath>\n </defs>\n</svg>\n"
          },
          "metadata": {}
        }
      ],
      "source": [
        "d2l.set_figsize()\n",
        "d2l.plt.scatter(features[:, (1)].detach().numpy(), labels.detach().numpy(), 1);"
      ]
    },
    {
      "cell_type": "markdown",
      "id": "b032f500",
      "metadata": {
        "origin_pos": 13,
        "id": "b032f500"
      },
      "source": [
        "## 读取数据集\n",
        "\n",
        "回想一下，训练模型时要对数据集进行遍历，每次抽取一小批量样本，并使用它们来更新我们的模型。\n",
        "由于这个过程是训练机器学习算法的基础，所以有必要定义一个函数，\n",
        "该函数能打乱数据集中的样本并以小批量方式获取数据。\n",
        "\n",
        "在下面的代码中，我们[**定义一个`data_iter`函数，\n",
        "该函数接收批量大小、特征矩阵和标签向量作为输入，生成大小为`batch_size`的小批量**]。\n",
        "每个小批量包含一组特征和标签。\n"
      ]
    },
    {
      "cell_type": "code",
      "source": [
        "num_examples=len(features)\n",
        "indices=list(range(num_examples))\n",
        "random.shuffle(indices)  #将索引打乱\n",
        "indices[:5]"
      ],
      "metadata": {
        "id": "ae00bgSkSUoP",
        "outputId": "2140aeb3-71cc-47b0-affc-414a87c132cd",
        "colab": {
          "base_uri": "https://localhost:8080/"
        }
      },
      "id": "ae00bgSkSUoP",
      "execution_count": 9,
      "outputs": [
        {
          "output_type": "execute_result",
          "data": {
            "text/plain": [
              "[210, 601, 480, 557, 220]"
            ]
          },
          "metadata": {},
          "execution_count": 9
        }
      ]
    },
    {
      "cell_type": "code",
      "execution_count": 10,
      "id": "3da34ac6",
      "metadata": {
        "execution": {
          "iopub.execute_input": "2023-08-18T07:02:04.839342Z",
          "iopub.status.busy": "2023-08-18T07:02:04.838682Z",
          "iopub.status.idle": "2023-08-18T07:02:04.846329Z",
          "shell.execute_reply": "2023-08-18T07:02:04.845247Z"
        },
        "origin_pos": 14,
        "tab": [
          "pytorch"
        ],
        "id": "3da34ac6"
      },
      "outputs": [],
      "source": [
        "def data_iter(batch_size, features, labels):\n",
        "    num_examples = len(features)  #数据集的大小\n",
        "    indices = list(range(num_examples))\n",
        "    # 这些样本是随机读取的，没有特定的顺序\n",
        "    random.shuffle(indices)\n",
        "    for i in range(0, num_examples, batch_size):\n",
        "        batch_indices = torch.tensor(\n",
        "            indices[i: min(i + batch_size, num_examples)])  #每次选取batch_size大小的数据，如果i+batch_size>数据集的数量，则将剩余的部分作为一个batch\n",
        "        yield features[batch_indices], labels[batch_indices]"
      ]
    },
    {
      "cell_type": "markdown",
      "id": "52e08a78",
      "metadata": {
        "origin_pos": 16,
        "id": "52e08a78"
      },
      "source": [
        "通常，我们利用GPU并行运算的优势，处理合理大小的“小批量”。\n",
        "每个样本都可以并行地进行模型计算，且每个样本损失函数的梯度也可以被并行计算。\n",
        "GPU可以在处理几百个样本时，所花费的时间不比处理一个样本时多太多。\n",
        "\n",
        "我们直观感受一下小批量运算：读取第一个小批量数据样本并打印。\n",
        "每个批量的特征维度显示批量大小和输入特征数。\n",
        "同样的，批量的标签形状与`batch_size`相等。\n"
      ]
    },
    {
      "cell_type": "code",
      "execution_count": 11,
      "id": "1dce0726",
      "metadata": {
        "execution": {
          "iopub.execute_input": "2023-08-18T07:02:04.851066Z",
          "iopub.status.busy": "2023-08-18T07:02:04.850456Z",
          "iopub.status.idle": "2023-08-18T07:02:04.859860Z",
          "shell.execute_reply": "2023-08-18T07:02:04.858756Z"
        },
        "origin_pos": 17,
        "tab": [
          "pytorch"
        ],
        "id": "1dce0726",
        "outputId": "f89ca16b-5dd5-43e1-a430-c355a09132dd",
        "colab": {
          "base_uri": "https://localhost:8080/"
        }
      },
      "outputs": [
        {
          "output_type": "stream",
          "name": "stdout",
          "text": [
            "tensor([[-2.4692, -1.2642],\n",
            "        [-0.3657,  0.1021],\n",
            "        [ 1.8066,  0.9372],\n",
            "        [ 0.3724,  0.2232],\n",
            "        [ 0.1899,  0.1940],\n",
            "        [ 0.8415,  1.7678],\n",
            "        [-0.1037,  0.5435],\n",
            "        [-0.3528,  0.4205],\n",
            "        [-0.8062, -0.5087],\n",
            "        [-1.8044, -0.5704]]) \n",
            " tensor([[ 3.5522],\n",
            "        [ 3.1321],\n",
            "        [ 4.6217],\n",
            "        [ 4.1743],\n",
            "        [ 3.9168],\n",
            "        [-0.1347],\n",
            "        [ 2.1529],\n",
            "        [ 2.0637],\n",
            "        [ 4.3246],\n",
            "        [ 2.5118]])\n"
          ]
        }
      ],
      "source": [
        "batch_size = 10\n",
        "for X, y in data_iter(batch_size, features, labels):\n",
        "    print(X, '\\n', y)\n",
        "    break"
      ]
    },
    {
      "cell_type": "markdown",
      "id": "d86e62d7",
      "metadata": {
        "origin_pos": 18,
        "id": "d86e62d7"
      },
      "source": [
        "当我们运行迭代时，我们会连续地获得不同的小批量，直至遍历完整个数据集。\n",
        "上面实现的迭代对教学来说很好，但它的执行效率很低，可能会在实际问题上陷入麻烦。\n",
        "例如，它要求我们将所有数据加载到内存中，并执行大量的随机内存访问。\n",
        "在深度学习框架中实现的内置迭代器效率要高得多，\n",
        "它可以处理存储在文件中的数据和数据流提供的数据。\n",
        "\n",
        "## 初始化模型参数\n",
        "\n",
        "[**在我们开始用小批量随机梯度下降优化我们的模型参数之前**]，\n",
        "(**我们需要先有一些参数**)。\n",
        "在下面的代码中，我们通过从均值为0、标准差为0.01的正态分布中采样随机数来初始化权重，\n",
        "并将偏置初始化为0。\n"
      ]
    },
    {
      "cell_type": "code",
      "execution_count": 12,
      "id": "12c51289",
      "metadata": {
        "execution": {
          "iopub.execute_input": "2023-08-18T07:02:04.864457Z",
          "iopub.status.busy": "2023-08-18T07:02:04.863853Z",
          "iopub.status.idle": "2023-08-18T07:02:04.869983Z",
          "shell.execute_reply": "2023-08-18T07:02:04.868859Z"
        },
        "origin_pos": 20,
        "tab": [
          "pytorch"
        ],
        "id": "12c51289"
      },
      "outputs": [],
      "source": [
        "w = torch.normal(0, 0.01, size=(2,1), requires_grad=True)\n",
        "b = torch.zeros(1, requires_grad=True)"
      ]
    },
    {
      "cell_type": "markdown",
      "id": "c59d5d68",
      "metadata": {
        "origin_pos": 23,
        "id": "c59d5d68"
      },
      "source": [
        "在初始化参数之后，我们的任务是更新这些参数，直到这些参数足够拟合我们的数据。\n",
        "每次更新都需要计算损失函数关于模型参数的梯度。\n",
        "有了这个梯度，我们就可以向减小损失的方向更新每个参数。\n",
        "因为手动计算梯度很枯燥而且容易出错，所以没有人会手动计算梯度。\n",
        "我们使用 :numref:`sec_autograd`中引入的自动微分来计算梯度。\n",
        "\n",
        "## 定义模型\n",
        "\n",
        "接下来，我们必须[**定义模型，将模型的输入和参数同模型的输出关联起来。**]\n",
        "回想一下，要计算线性模型的输出，\n",
        "我们只需计算输入特征$\\mathbf{X}$和模型权重$\\mathbf{w}$的矩阵-向量乘法后加上偏置$b$。\n",
        "注意，上面的$\\mathbf{Xw}$是一个向量，而$b$是一个标量。\n",
        "回想一下 :numref:`subsec_broadcasting`中描述的广播机制：\n",
        "当我们用一个向量加一个标量时，标量会被加到向量的每个分量上。\n"
      ]
    },
    {
      "cell_type": "code",
      "execution_count": 13,
      "id": "b8b29b19",
      "metadata": {
        "execution": {
          "iopub.execute_input": "2023-08-18T07:02:04.874642Z",
          "iopub.status.busy": "2023-08-18T07:02:04.874004Z",
          "iopub.status.idle": "2023-08-18T07:02:04.879521Z",
          "shell.execute_reply": "2023-08-18T07:02:04.878471Z"
        },
        "origin_pos": 24,
        "tab": [
          "pytorch"
        ],
        "id": "b8b29b19"
      },
      "outputs": [],
      "source": [
        "def linreg(X, w, b):\n",
        "    \"\"\"线性回归模型\"\"\"\n",
        "    return torch.matmul(X, w) + b"
      ]
    },
    {
      "cell_type": "markdown",
      "id": "6b7765ef",
      "metadata": {
        "origin_pos": 25,
        "id": "6b7765ef"
      },
      "source": [
        "## [**定义损失函数**]\n",
        "\n",
        "因为需要计算损失函数的梯度，所以我们应该先定义损失函数。\n",
        "这里我们使用 :numref:`sec_linear_regression`中描述的平方损失函数。\n",
        "在实现中，我们需要将真实值`y`的形状转换为和预测值`y_hat`的形状相同。\n"
      ]
    },
    {
      "cell_type": "code",
      "execution_count": 14,
      "id": "3dda15c7",
      "metadata": {
        "execution": {
          "iopub.execute_input": "2023-08-18T07:02:04.884156Z",
          "iopub.status.busy": "2023-08-18T07:02:04.883559Z",
          "iopub.status.idle": "2023-08-18T07:02:04.889065Z",
          "shell.execute_reply": "2023-08-18T07:02:04.887964Z"
        },
        "origin_pos": 26,
        "tab": [
          "pytorch"
        ],
        "id": "3dda15c7"
      },
      "outputs": [],
      "source": [
        "def squared_loss(y_hat, y):\n",
        "    \"\"\"均方损失\"\"\"\n",
        "    return (y_hat - y.reshape(y_hat.shape)) ** 2 / 2"
      ]
    },
    {
      "cell_type": "markdown",
      "id": "56969029",
      "metadata": {
        "origin_pos": 27,
        "id": "56969029"
      },
      "source": [
        "## (**定义优化算法**)\n",
        "\n",
        "正如我们在 :numref:`sec_linear_regression`中讨论的，线性回归有解析解。\n",
        "尽管线性回归有解析解，但本书中的其他模型却没有。\n",
        "这里我们介绍小批量随机梯度下降。\n",
        "\n",
        "在每一步中，使用从数据集中随机抽取的一个小批量，然后根据参数计算损失的梯度。\n",
        "接下来，朝着减少损失的方向更新我们的参数。\n",
        "下面的函数实现小批量随机梯度下降更新。\n",
        "该函数接受模型参数集合、学习速率和批量大小作为输入。每\n",
        "一步更新的大小由学习速率`lr`决定。\n",
        "因为我们计算的损失是一个批量样本的总和，所以我们用批量大小（`batch_size`）\n",
        "来规范化步长，这样步长大小就不会取决于我们对批量大小的选择。\n"
      ]
    },
    {
      "cell_type": "code",
      "execution_count": 15,
      "id": "8f92242d",
      "metadata": {
        "execution": {
          "iopub.execute_input": "2023-08-18T07:02:04.893665Z",
          "iopub.status.busy": "2023-08-18T07:02:04.892999Z",
          "iopub.status.idle": "2023-08-18T07:02:04.899100Z",
          "shell.execute_reply": "2023-08-18T07:02:04.898003Z"
        },
        "origin_pos": 29,
        "tab": [
          "pytorch"
        ],
        "id": "8f92242d"
      },
      "outputs": [],
      "source": [
        "def sgd(params, lr, batch_size):\n",
        "    \"\"\"小批量随机梯度下降\"\"\"\n",
        "    with torch.no_grad():\n",
        "        for param in params:\n",
        "            param -= lr * param.grad / batch_size  #平均梯度的变化代替梯度变化\n",
        "            param.grad.zero_()   #梯度清零"
      ]
    },
    {
      "cell_type": "markdown",
      "id": "89067f86",
      "metadata": {
        "origin_pos": 32,
        "id": "89067f86"
      },
      "source": [
        "## 训练\n",
        "\n",
        "现在我们已经准备好了模型训练所有需要的要素，可以实现主要的[**训练过程**]部分了。\n",
        "理解这段代码至关重要，因为从事深度学习后，\n",
        "相同的训练过程几乎一遍又一遍地出现。\n",
        "在每次迭代中，我们读取一小批量训练样本，并通过我们的模型来获得一组预测。\n",
        "计算完损失后，我们开始反向传播，存储每个参数的梯度。\n",
        "最后，我们调用优化算法`sgd`来更新模型参数。\n",
        "\n",
        "概括一下，我们将执行以下循环：\n",
        "\n",
        "* 初始化参数\n",
        "* 重复以下训练，直到完成\n",
        "    * 计算梯度$\\mathbf{g} \\leftarrow \\partial_{(\\mathbf{w},b)} \\frac{1}{|\\mathcal{B}|} \\sum_{i \\in \\mathcal{B}} l(\\mathbf{x}^{(i)}, y^{(i)}, \\mathbf{w}, b)$\n",
        "    * 更新参数$(\\mathbf{w}, b) \\leftarrow (\\mathbf{w}, b) - \\eta \\mathbf{g}$\n",
        "\n",
        "在每个*迭代周期*（epoch）中，我们使用`data_iter`函数遍历整个数据集，\n",
        "并将训练数据集中所有样本都使用一次（假设样本数能够被批量大小整除）。\n",
        "这里的迭代周期个数`num_epochs`和学习率`lr`都是超参数，分别设为3和0.03。\n",
        "设置超参数很棘手，需要通过反复试验进行调整。\n",
        "我们现在忽略这些细节，以后会在 :numref:`chap_optimization`中详细介绍。\n"
      ]
    },
    {
      "cell_type": "code",
      "execution_count": 16,
      "id": "9163db58",
      "metadata": {
        "execution": {
          "iopub.execute_input": "2023-08-18T07:02:04.903791Z",
          "iopub.status.busy": "2023-08-18T07:02:04.903216Z",
          "iopub.status.idle": "2023-08-18T07:02:04.908499Z",
          "shell.execute_reply": "2023-08-18T07:02:04.907341Z"
        },
        "origin_pos": 33,
        "tab": [
          "pytorch"
        ],
        "id": "9163db58"
      },
      "outputs": [],
      "source": [
        "lr = 0.03   #超参数设计\n",
        "num_epochs = 3\n",
        "net = linreg\n",
        "loss = squared_loss"
      ]
    },
    {
      "cell_type": "code",
      "execution_count": null,
      "id": "ad5c2cd1",
      "metadata": {
        "execution": {
          "iopub.execute_input": "2023-08-18T07:02:04.913061Z",
          "iopub.status.busy": "2023-08-18T07:02:04.912436Z",
          "iopub.status.idle": "2023-08-18T07:02:05.067276Z",
          "shell.execute_reply": "2023-08-18T07:02:05.066107Z"
        },
        "origin_pos": 35,
        "tab": [
          "pytorch"
        ],
        "id": "ad5c2cd1",
        "outputId": "14d7d77b-191c-4b48-cbd0-94b23c7f75f9",
        "colab": {
          "base_uri": "https://localhost:8080/"
        }
      },
      "outputs": [
        {
          "output_type": "stream",
          "name": "stdout",
          "text": [
            "epoch 1, loss 0.058125\n",
            "epoch 2, loss 0.000287\n",
            "epoch 3, loss 0.000051\n"
          ]
        }
      ],
      "source": [
        "for epoch in range(num_epochs):\n",
        "    for X, y in data_iter(batch_size, features, labels):\n",
        "        l = loss(net(X, w, b), y)  # X和y的小批量损失\n",
        "        # 因为l形状是(batch_size,1)，而不是一个标量。l中的所有元素被加到一起，\n",
        "        # 并以此计算关于[w,b]的梯度\n",
        "        l.sum().backward()\n",
        "        sgd([w, b], lr, batch_size)  # 使用参数的梯度更新参数\n",
        "    with torch.no_grad():\n",
        "        train_l = loss(net(features, w, b), labels)\n",
        "        print(f'epoch {epoch + 1}, loss {float(train_l.mean()):f}')"
      ]
    },
    {
      "cell_type": "code",
      "source": [
        "num_epochs=5\n",
        "model=linreg  #定义模型\n",
        "loss=squared_loss  #定义损失函数\n",
        "batch_size=10\n",
        "lr=0.03\n",
        "\n",
        "for epochs in range(num_epochs):\n",
        "  for X,y in data_iter(batch_size,features,labels):  #数据集的批量读取\n",
        "    l=loss(model(X,w,b),y)  #(bacth,1)维度的loss损失\n",
        "    l.sum().backward()\n",
        "    sgd([w,b],lr,batch_size)\n",
        "  with torch.no_grad():\n",
        "    train_l=loss(model(features,w,b),labels)\n",
        "    print(f'epoch{epochs+1},loss{float(train_l.mean()):f}')"
      ],
      "metadata": {
        "id": "9gMQmbUNd0s9",
        "outputId": "ce818cff-a8f4-47bb-dec7-eeff91cb0fb7",
        "colab": {
          "base_uri": "https://localhost:8080/"
        }
      },
      "id": "9gMQmbUNd0s9",
      "execution_count": 20,
      "outputs": [
        {
          "output_type": "stream",
          "name": "stdout",
          "text": [
            "epoch1,loss0.038638\n",
            "epoch2,loss0.000156\n",
            "epoch3,loss0.000052\n",
            "epoch4,loss0.000051\n",
            "epoch5,loss0.000051\n"
          ]
        }
      ]
    },
    {
      "cell_type": "markdown",
      "id": "427d8cda",
      "metadata": {
        "origin_pos": 38,
        "id": "427d8cda"
      },
      "source": [
        "因为我们使用的是自己合成的数据集，所以我们知道真正的参数是什么。\n",
        "因此，我们可以通过[**比较真实参数和通过训练学到的参数来评估训练的成功程度**]。\n",
        "事实上，真实参数和通过训练学到的参数确实非常接近。\n"
      ]
    },
    {
      "cell_type": "code",
      "execution_count": 21,
      "id": "a4c3d525",
      "metadata": {
        "execution": {
          "iopub.execute_input": "2023-08-18T07:02:05.072546Z",
          "iopub.status.busy": "2023-08-18T07:02:05.071769Z",
          "iopub.status.idle": "2023-08-18T07:02:05.079203Z",
          "shell.execute_reply": "2023-08-18T07:02:05.078107Z"
        },
        "origin_pos": 39,
        "tab": [
          "pytorch"
        ],
        "id": "a4c3d525",
        "outputId": "54779643-c3b4-4a51-fd70-d56fb5d2259c",
        "colab": {
          "base_uri": "https://localhost:8080/"
        }
      },
      "outputs": [
        {
          "output_type": "stream",
          "name": "stdout",
          "text": [
            "w的估计误差: tensor([0.0010, 0.0001], grad_fn=<SubBackward0>)\n",
            "b的估计误差: tensor([0.0001], grad_fn=<RsubBackward1>)\n"
          ]
        }
      ],
      "source": [
        "print(f'w的估计误差: {true_w - w.reshape(true_w.shape)}')\n",
        "print(f'b的估计误差: {true_b - b}')"
      ]
    },
    {
      "cell_type": "markdown",
      "id": "9f3d71ee",
      "metadata": {
        "origin_pos": 40,
        "id": "9f3d71ee"
      },
      "source": [
        "注意，我们不应该想当然地认为我们能够完美地求解参数。\n",
        "在机器学习中，我们通常不太关心恢复真正的参数，而更关心如何高度准确预测参数。\n",
        "幸运的是，即使是在复杂的优化问题上，随机梯度下降通常也能找到非常好的解。\n",
        "其中一个原因是，在深度网络中存在许多参数组合能够实现高度精确的预测。\n",
        "\n",
        "## 小结\n",
        "\n",
        "* 我们学习了深度网络是如何实现和优化的。在这一过程中只使用张量和自动微分，不需要定义层或复杂的优化器。\n",
        "* 这一节只触及到了表面知识。在下面的部分中，我们将基于刚刚介绍的概念描述其他模型，并学习如何更简洁地实现其他模型。\n",
        "\n",
        "## 练习\n",
        "\n",
        "1. 如果我们将权重初始化为零，会发生什么。算法仍然有效吗？\n",
        "1. 假设试图为电压和电流的关系建立一个模型。自动微分可以用来学习模型的参数吗?\n",
        "1. 能基于[普朗克定律](https://en.wikipedia.org/wiki/Planck%27s_law)使用光谱能量密度来确定物体的温度吗？\n",
        "1. 计算二阶导数时可能会遇到什么问题？这些问题可以如何解决？\n",
        "1. 为什么在`squared_loss`函数中需要使用`reshape`函数？\n",
        "1. 尝试使用不同的学习率，观察损失函数值下降的快慢。\n",
        "1. 如果样本个数不能被批量大小整除，`data_iter`函数的行为会有什么变化？\n"
      ]
    },
    {
      "cell_type": "markdown",
      "id": "193224b1",
      "metadata": {
        "origin_pos": 42,
        "tab": [
          "pytorch"
        ],
        "id": "193224b1"
      },
      "source": [
        "[Discussions](https://discuss.d2l.ai/t/1778)\n"
      ]
    }
  ],
  "metadata": {
    "kernelspec": {
      "display_name": "Python 3",
      "name": "python3"
    },
    "language_info": {
      "name": "python"
    },
    "required_libs": [],
    "colab": {
      "provenance": [],
      "gpuType": "T4"
    },
    "accelerator": "GPU"
  },
  "nbformat": 4,
  "nbformat_minor": 5
}